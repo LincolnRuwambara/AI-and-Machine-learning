{
 "cells": [
  {
   "cell_type": "code",
   "execution_count": 1,
   "id": "b71e2e71",
   "metadata": {
    "_cell_guid": "b1076dfc-b9ad-4769-8c92-a6c4dae69d19",
    "_uuid": "8f2839f25d086af736a60e9eeb907d3b93b6e0e5",
    "execution": {
     "iopub.execute_input": "2023-04-19T18:55:46.232005Z",
     "iopub.status.busy": "2023-04-19T18:55:46.231498Z",
     "iopub.status.idle": "2023-04-19T18:55:46.248851Z",
     "shell.execute_reply": "2023-04-19T18:55:46.247825Z"
    },
    "papermill": {
     "duration": 0.028856,
     "end_time": "2023-04-19T18:55:46.251974",
     "exception": false,
     "start_time": "2023-04-19T18:55:46.223118",
     "status": "completed"
    },
    "tags": []
   },
   "outputs": [
    {
     "name": "stdout",
     "output_type": "stream",
     "text": [
      "/kaggle/input/iris-dataset/iris.data\n"
     ]
    }
   ],
   "source": [
    "# This Python 3 environment comes with many helpful analytics libraries installed\n",
    "# It is defined by the kaggle/python Docker image: https://github.com/kaggle/docker-python\n",
    "# For example, here's several helpful packages to load\n",
    "\n",
    "import numpy as np # linear algebra\n",
    "import pandas as pd # data processing, CSV file I/O (e.g. pd.read_csv)\n",
    "\n",
    "# Input data files are available in the read-only \"../input/\" directory\n",
    "# For example, running this (by clicking run or pressing Shift+Enter) will list all files under the input directory\n",
    "\n",
    "import os\n",
    "for dirname, _, filenames in os.walk('/kaggle/input'):\n",
    "    for filename in filenames:\n",
    "        print(os.path.join(dirname, filename))\n",
    "\n",
    "# You can write up to 20GB to the current directory (/kaggle/working/) that gets preserved as output when you create a version using \"Save & Run All\" \n",
    "# You can also write temporary files to /kaggle/temp/, but they won't be saved outside of the current session"
   ]
  },
  {
   "cell_type": "code",
   "execution_count": 2,
   "id": "49fb3c86",
   "metadata": {
    "execution": {
     "iopub.execute_input": "2023-04-19T18:55:46.270142Z",
     "iopub.status.busy": "2023-04-19T18:55:46.269327Z",
     "iopub.status.idle": "2023-04-19T18:55:46.284291Z",
     "shell.execute_reply": "2023-04-19T18:55:46.283301Z"
    },
    "papermill": {
     "duration": 0.027038,
     "end_time": "2023-04-19T18:55:46.286849",
     "exception": false,
     "start_time": "2023-04-19T18:55:46.259811",
     "status": "completed"
    },
    "tags": []
   },
   "outputs": [],
   "source": [
    "data = pd.read_csv(\"/kaggle/input/iris-dataset/iris.data\")"
   ]
  },
  {
   "cell_type": "code",
   "execution_count": 3,
   "id": "d2aac666",
   "metadata": {
    "execution": {
     "iopub.execute_input": "2023-04-19T18:55:46.302988Z",
     "iopub.status.busy": "2023-04-19T18:55:46.301951Z",
     "iopub.status.idle": "2023-04-19T18:55:46.340777Z",
     "shell.execute_reply": "2023-04-19T18:55:46.339791Z"
    },
    "papermill": {
     "duration": 0.049805,
     "end_time": "2023-04-19T18:55:46.344154",
     "exception": false,
     "start_time": "2023-04-19T18:55:46.294349",
     "status": "completed"
    },
    "tags": []
   },
   "outputs": [
    {
     "data": {
      "text/html": [
       "<div>\n",
       "<style scoped>\n",
       "    .dataframe tbody tr th:only-of-type {\n",
       "        vertical-align: middle;\n",
       "    }\n",
       "\n",
       "    .dataframe tbody tr th {\n",
       "        vertical-align: top;\n",
       "    }\n",
       "\n",
       "    .dataframe thead th {\n",
       "        text-align: right;\n",
       "    }\n",
       "</style>\n",
       "<table border=\"1\" class=\"dataframe\">\n",
       "  <thead>\n",
       "    <tr style=\"text-align: right;\">\n",
       "      <th></th>\n",
       "      <th>5.1</th>\n",
       "      <th>3.5</th>\n",
       "      <th>1.4</th>\n",
       "      <th>0.2</th>\n",
       "      <th>Iris-setosa</th>\n",
       "    </tr>\n",
       "  </thead>\n",
       "  <tbody>\n",
       "    <tr>\n",
       "      <th>0</th>\n",
       "      <td>4.9</td>\n",
       "      <td>3.0</td>\n",
       "      <td>1.4</td>\n",
       "      <td>0.2</td>\n",
       "      <td>Iris-setosa</td>\n",
       "    </tr>\n",
       "    <tr>\n",
       "      <th>1</th>\n",
       "      <td>4.7</td>\n",
       "      <td>3.2</td>\n",
       "      <td>1.3</td>\n",
       "      <td>0.2</td>\n",
       "      <td>Iris-setosa</td>\n",
       "    </tr>\n",
       "    <tr>\n",
       "      <th>2</th>\n",
       "      <td>4.6</td>\n",
       "      <td>3.1</td>\n",
       "      <td>1.5</td>\n",
       "      <td>0.2</td>\n",
       "      <td>Iris-setosa</td>\n",
       "    </tr>\n",
       "    <tr>\n",
       "      <th>3</th>\n",
       "      <td>5.0</td>\n",
       "      <td>3.6</td>\n",
       "      <td>1.4</td>\n",
       "      <td>0.2</td>\n",
       "      <td>Iris-setosa</td>\n",
       "    </tr>\n",
       "    <tr>\n",
       "      <th>4</th>\n",
       "      <td>5.4</td>\n",
       "      <td>3.9</td>\n",
       "      <td>1.7</td>\n",
       "      <td>0.4</td>\n",
       "      <td>Iris-setosa</td>\n",
       "    </tr>\n",
       "  </tbody>\n",
       "</table>\n",
       "</div>"
      ],
      "text/plain": [
       "   5.1  3.5  1.4  0.2  Iris-setosa\n",
       "0  4.9  3.0  1.4  0.2  Iris-setosa\n",
       "1  4.7  3.2  1.3  0.2  Iris-setosa\n",
       "2  4.6  3.1  1.5  0.2  Iris-setosa\n",
       "3  5.0  3.6  1.4  0.2  Iris-setosa\n",
       "4  5.4  3.9  1.7  0.4  Iris-setosa"
      ]
     },
     "execution_count": 3,
     "metadata": {},
     "output_type": "execute_result"
    }
   ],
   "source": [
    "data.head()"
   ]
  },
  {
   "cell_type": "code",
   "execution_count": 4,
   "id": "6796902e",
   "metadata": {
    "execution": {
     "iopub.execute_input": "2023-04-19T18:55:46.361586Z",
     "iopub.status.busy": "2023-04-19T18:55:46.361048Z",
     "iopub.status.idle": "2023-04-19T18:55:46.369604Z",
     "shell.execute_reply": "2023-04-19T18:55:46.368338Z"
    },
    "papermill": {
     "duration": 0.020602,
     "end_time": "2023-04-19T18:55:46.373333",
     "exception": false,
     "start_time": "2023-04-19T18:55:46.352731",
     "status": "completed"
    },
    "tags": []
   },
   "outputs": [
    {
     "data": {
      "text/plain": [
       "Index(['5.1', '3.5', '1.4', '0.2', 'Iris-setosa'], dtype='object')"
      ]
     },
     "execution_count": 4,
     "metadata": {},
     "output_type": "execute_result"
    }
   ],
   "source": [
    "data.columns"
   ]
  },
  {
   "cell_type": "code",
   "execution_count": 5,
   "id": "36dee323",
   "metadata": {
    "execution": {
     "iopub.execute_input": "2023-04-19T18:55:46.387661Z",
     "iopub.status.busy": "2023-04-19T18:55:46.386586Z",
     "iopub.status.idle": "2023-04-19T18:55:46.394182Z",
     "shell.execute_reply": "2023-04-19T18:55:46.392967Z"
    },
    "papermill": {
     "duration": 0.018258,
     "end_time": "2023-04-19T18:55:46.397173",
     "exception": false,
     "start_time": "2023-04-19T18:55:46.378915",
     "status": "completed"
    },
    "tags": []
   },
   "outputs": [],
   "source": [
    "df=data.rename(columns={\"5.1\": \"Sepal Lengt(cm)\",\"3.5\":\"Sepal Width(cm)\",\"1.4\":\"Petal Length (cm)\",\"0.2\":\"Petal Width(cm)\",\"Iris-setosa\":\"Type\"})"
   ]
  },
  {
   "cell_type": "code",
   "execution_count": 6,
   "id": "b9accf54",
   "metadata": {
    "execution": {
     "iopub.execute_input": "2023-04-19T18:55:46.411688Z",
     "iopub.status.busy": "2023-04-19T18:55:46.410463Z",
     "iopub.status.idle": "2023-04-19T18:55:46.430237Z",
     "shell.execute_reply": "2023-04-19T18:55:46.428671Z"
    },
    "papermill": {
     "duration": 0.030333,
     "end_time": "2023-04-19T18:55:46.433211",
     "exception": false,
     "start_time": "2023-04-19T18:55:46.402878",
     "status": "completed"
    },
    "tags": []
   },
   "outputs": [
    {
     "data": {
      "text/html": [
       "<div>\n",
       "<style scoped>\n",
       "    .dataframe tbody tr th:only-of-type {\n",
       "        vertical-align: middle;\n",
       "    }\n",
       "\n",
       "    .dataframe tbody tr th {\n",
       "        vertical-align: top;\n",
       "    }\n",
       "\n",
       "    .dataframe thead th {\n",
       "        text-align: right;\n",
       "    }\n",
       "</style>\n",
       "<table border=\"1\" class=\"dataframe\">\n",
       "  <thead>\n",
       "    <tr style=\"text-align: right;\">\n",
       "      <th></th>\n",
       "      <th>Sepal Lengt(cm)</th>\n",
       "      <th>Sepal Width(cm)</th>\n",
       "      <th>Petal Length (cm)</th>\n",
       "      <th>Petal Width(cm)</th>\n",
       "      <th>Type</th>\n",
       "    </tr>\n",
       "  </thead>\n",
       "  <tbody>\n",
       "    <tr>\n",
       "      <th>0</th>\n",
       "      <td>4.9</td>\n",
       "      <td>3.0</td>\n",
       "      <td>1.4</td>\n",
       "      <td>0.2</td>\n",
       "      <td>Iris-setosa</td>\n",
       "    </tr>\n",
       "    <tr>\n",
       "      <th>1</th>\n",
       "      <td>4.7</td>\n",
       "      <td>3.2</td>\n",
       "      <td>1.3</td>\n",
       "      <td>0.2</td>\n",
       "      <td>Iris-setosa</td>\n",
       "    </tr>\n",
       "    <tr>\n",
       "      <th>2</th>\n",
       "      <td>4.6</td>\n",
       "      <td>3.1</td>\n",
       "      <td>1.5</td>\n",
       "      <td>0.2</td>\n",
       "      <td>Iris-setosa</td>\n",
       "    </tr>\n",
       "    <tr>\n",
       "      <th>3</th>\n",
       "      <td>5.0</td>\n",
       "      <td>3.6</td>\n",
       "      <td>1.4</td>\n",
       "      <td>0.2</td>\n",
       "      <td>Iris-setosa</td>\n",
       "    </tr>\n",
       "    <tr>\n",
       "      <th>4</th>\n",
       "      <td>5.4</td>\n",
       "      <td>3.9</td>\n",
       "      <td>1.7</td>\n",
       "      <td>0.4</td>\n",
       "      <td>Iris-setosa</td>\n",
       "    </tr>\n",
       "  </tbody>\n",
       "</table>\n",
       "</div>"
      ],
      "text/plain": [
       "   Sepal Lengt(cm)  Sepal Width(cm)  Petal Length (cm)  Petal Width(cm)  \\\n",
       "0              4.9              3.0                1.4              0.2   \n",
       "1              4.7              3.2                1.3              0.2   \n",
       "2              4.6              3.1                1.5              0.2   \n",
       "3              5.0              3.6                1.4              0.2   \n",
       "4              5.4              3.9                1.7              0.4   \n",
       "\n",
       "          Type  \n",
       "0  Iris-setosa  \n",
       "1  Iris-setosa  \n",
       "2  Iris-setosa  \n",
       "3  Iris-setosa  \n",
       "4  Iris-setosa  "
      ]
     },
     "execution_count": 6,
     "metadata": {},
     "output_type": "execute_result"
    }
   ],
   "source": [
    "df.head()"
   ]
  },
  {
   "cell_type": "code",
   "execution_count": 7,
   "id": "b18ce623",
   "metadata": {
    "execution": {
     "iopub.execute_input": "2023-04-19T18:55:46.447205Z",
     "iopub.status.busy": "2023-04-19T18:55:46.446820Z",
     "iopub.status.idle": "2023-04-19T18:55:46.455059Z",
     "shell.execute_reply": "2023-04-19T18:55:46.453788Z"
    },
    "papermill": {
     "duration": 0.018234,
     "end_time": "2023-04-19T18:55:46.457807",
     "exception": false,
     "start_time": "2023-04-19T18:55:46.439573",
     "status": "completed"
    },
    "tags": []
   },
   "outputs": [
    {
     "data": {
      "text/plain": [
       "(149, 5)"
      ]
     },
     "execution_count": 7,
     "metadata": {},
     "output_type": "execute_result"
    }
   ],
   "source": [
    "df.shape\n"
   ]
  },
  {
   "cell_type": "code",
   "execution_count": 8,
   "id": "d8bfb856",
   "metadata": {
    "execution": {
     "iopub.execute_input": "2023-04-19T18:55:46.472485Z",
     "iopub.status.busy": "2023-04-19T18:55:46.471656Z",
     "iopub.status.idle": "2023-04-19T18:55:46.483022Z",
     "shell.execute_reply": "2023-04-19T18:55:46.481809Z"
    },
    "papermill": {
     "duration": 0.021509,
     "end_time": "2023-04-19T18:55:46.485624",
     "exception": false,
     "start_time": "2023-04-19T18:55:46.464115",
     "status": "completed"
    },
    "tags": []
   },
   "outputs": [],
   "source": [
    "y= df.pop(\"Type\")\n",
    "X=df"
   ]
  },
  {
   "cell_type": "code",
   "execution_count": 9,
   "id": "361f4bc8",
   "metadata": {
    "execution": {
     "iopub.execute_input": "2023-04-19T18:55:46.500468Z",
     "iopub.status.busy": "2023-04-19T18:55:46.499635Z",
     "iopub.status.idle": "2023-04-19T18:55:46.515462Z",
     "shell.execute_reply": "2023-04-19T18:55:46.513563Z"
    },
    "papermill": {
     "duration": 0.026633,
     "end_time": "2023-04-19T18:55:46.518278",
     "exception": false,
     "start_time": "2023-04-19T18:55:46.491645",
     "status": "completed"
    },
    "tags": []
   },
   "outputs": [
    {
     "name": "stdout",
     "output_type": "stream",
     "text": [
      "     Sepal Lengt(cm)  Sepal Width(cm)  Petal Length (cm)  Petal Width(cm)\n",
      "0                4.9              3.0                1.4              0.2\n",
      "1                4.7              3.2                1.3              0.2\n",
      "2                4.6              3.1                1.5              0.2\n",
      "3                5.0              3.6                1.4              0.2\n",
      "4                5.4              3.9                1.7              0.4\n",
      "..               ...              ...                ...              ...\n",
      "144              6.7              3.0                5.2              2.3\n",
      "145              6.3              2.5                5.0              1.9\n",
      "146              6.5              3.0                5.2              2.0\n",
      "147              6.2              3.4                5.4              2.3\n",
      "148              5.9              3.0                5.1              1.8\n",
      "\n",
      "[149 rows x 4 columns]\n",
      "0         Iris-setosa\n",
      "1         Iris-setosa\n",
      "2         Iris-setosa\n",
      "3         Iris-setosa\n",
      "4         Iris-setosa\n",
      "            ...      \n",
      "144    Iris-virginica\n",
      "145    Iris-virginica\n",
      "146    Iris-virginica\n",
      "147    Iris-virginica\n",
      "148    Iris-virginica\n",
      "Name: Type, Length: 149, dtype: object\n"
     ]
    }
   ],
   "source": [
    "print(X)\n",
    "print(y)\n"
   ]
  },
  {
   "cell_type": "code",
   "execution_count": 10,
   "id": "455e07a1",
   "metadata": {
    "execution": {
     "iopub.execute_input": "2023-04-19T18:55:46.533420Z",
     "iopub.status.busy": "2023-04-19T18:55:46.532096Z",
     "iopub.status.idle": "2023-04-19T18:55:46.545405Z",
     "shell.execute_reply": "2023-04-19T18:55:46.543384Z"
    },
    "papermill": {
     "duration": 0.023841,
     "end_time": "2023-04-19T18:55:46.548256",
     "exception": false,
     "start_time": "2023-04-19T18:55:46.524415",
     "status": "completed"
    },
    "tags": []
   },
   "outputs": [
    {
     "name": "stdout",
     "output_type": "stream",
     "text": [
      "   Sepal Lengt(cm)  Sepal Width(cm)  Petal Length (cm)  Petal Width(cm)\n",
      "0              4.9              3.0                1.4              0.2\n",
      "1              4.7              3.2                1.3              0.2\n",
      "2              4.6              3.1                1.5              0.2\n",
      "3              5.0              3.6                1.4              0.2\n",
      "4              5.4              3.9                1.7              0.4\n",
      "0    Iris-setosa\n",
      "1    Iris-setosa\n",
      "2    Iris-setosa\n",
      "3    Iris-setosa\n",
      "4    Iris-setosa\n",
      "Name: Type, dtype: object\n"
     ]
    }
   ],
   "source": [
    "print(X.head())\n",
    "print(y.head())"
   ]
  },
  {
   "cell_type": "code",
   "execution_count": 11,
   "id": "9354520f",
   "metadata": {
    "execution": {
     "iopub.execute_input": "2023-04-19T18:55:46.563461Z",
     "iopub.status.busy": "2023-04-19T18:55:46.562577Z",
     "iopub.status.idle": "2023-04-19T18:55:47.950077Z",
     "shell.execute_reply": "2023-04-19T18:55:47.948550Z"
    },
    "papermill": {
     "duration": 1.398323,
     "end_time": "2023-04-19T18:55:47.953203",
     "exception": false,
     "start_time": "2023-04-19T18:55:46.554880",
     "status": "completed"
    },
    "tags": []
   },
   "outputs": [],
   "source": [
    "from sklearn.linear_model import LogisticRegression\n",
    "from sklearn.model_selection import train_test_split\n",
    "from sklearn import metrics"
   ]
  },
  {
   "cell_type": "code",
   "execution_count": 12,
   "id": "175d9a12",
   "metadata": {
    "execution": {
     "iopub.execute_input": "2023-04-19T18:55:47.968106Z",
     "iopub.status.busy": "2023-04-19T18:55:47.967658Z",
     "iopub.status.idle": "2023-04-19T18:55:47.973431Z",
     "shell.execute_reply": "2023-04-19T18:55:47.972259Z"
    },
    "papermill": {
     "duration": 0.016444,
     "end_time": "2023-04-19T18:55:47.976402",
     "exception": false,
     "start_time": "2023-04-19T18:55:47.959958",
     "status": "completed"
    },
    "tags": []
   },
   "outputs": [],
   "source": [
    "model= LogisticRegression()"
   ]
  },
  {
   "cell_type": "code",
   "execution_count": 13,
   "id": "6267485f",
   "metadata": {
    "execution": {
     "iopub.execute_input": "2023-04-19T18:55:47.991783Z",
     "iopub.status.busy": "2023-04-19T18:55:47.991359Z",
     "iopub.status.idle": "2023-04-19T18:55:48.001523Z",
     "shell.execute_reply": "2023-04-19T18:55:48.000014Z"
    },
    "papermill": {
     "duration": 0.020687,
     "end_time": "2023-04-19T18:55:48.004375",
     "exception": false,
     "start_time": "2023-04-19T18:55:47.983688",
     "status": "completed"
    },
    "tags": []
   },
   "outputs": [],
   "source": [
    " X_train, X_test, y_train, y_test = train_test_split(X, y, random_state=42)"
   ]
  },
  {
   "cell_type": "code",
   "execution_count": 14,
   "id": "47adb75f",
   "metadata": {
    "execution": {
     "iopub.execute_input": "2023-04-19T18:55:48.018837Z",
     "iopub.status.busy": "2023-04-19T18:55:48.018437Z",
     "iopub.status.idle": "2023-04-19T18:55:48.074208Z",
     "shell.execute_reply": "2023-04-19T18:55:48.072805Z"
    },
    "papermill": {
     "duration": 0.066442,
     "end_time": "2023-04-19T18:55:48.077212",
     "exception": false,
     "start_time": "2023-04-19T18:55:48.010770",
     "status": "completed"
    },
    "tags": []
   },
   "outputs": [
    {
     "data": {
      "text/plain": [
       "LogisticRegression()"
      ]
     },
     "execution_count": 14,
     "metadata": {},
     "output_type": "execute_result"
    }
   ],
   "source": [
    "model.fit(X_train,y_train)"
   ]
  },
  {
   "cell_type": "code",
   "execution_count": 15,
   "id": "ca826692",
   "metadata": {
    "execution": {
     "iopub.execute_input": "2023-04-19T18:55:48.091916Z",
     "iopub.status.busy": "2023-04-19T18:55:48.091441Z",
     "iopub.status.idle": "2023-04-19T18:55:48.099488Z",
     "shell.execute_reply": "2023-04-19T18:55:48.097994Z"
    },
    "papermill": {
     "duration": 0.018378,
     "end_time": "2023-04-19T18:55:48.102093",
     "exception": false,
     "start_time": "2023-04-19T18:55:48.083715",
     "status": "completed"
    },
    "tags": []
   },
   "outputs": [],
   "source": [
    "y_pred=model.predict(X_test)"
   ]
  },
  {
   "cell_type": "code",
   "execution_count": 16,
   "id": "79dfa7ec",
   "metadata": {
    "execution": {
     "iopub.execute_input": "2023-04-19T18:55:48.116894Z",
     "iopub.status.busy": "2023-04-19T18:55:48.116375Z",
     "iopub.status.idle": "2023-04-19T18:55:48.126634Z",
     "shell.execute_reply": "2023-04-19T18:55:48.125159Z"
    },
    "papermill": {
     "duration": 0.020724,
     "end_time": "2023-04-19T18:55:48.129205",
     "exception": false,
     "start_time": "2023-04-19T18:55:48.108481",
     "status": "completed"
    },
    "tags": []
   },
   "outputs": [
    {
     "name": "stdout",
     "output_type": "stream",
     "text": [
      "[[15  0  0]\n",
      " [ 0  8  3]\n",
      " [ 0  1 11]]\n"
     ]
    }
   ],
   "source": [
    "cnf_matrix = metrics.confusion_matrix(y_test, y_pred)\n",
    "print(cnf_matrix)"
   ]
  },
  {
   "cell_type": "code",
   "execution_count": 17,
   "id": "29489dde",
   "metadata": {
    "execution": {
     "iopub.execute_input": "2023-04-19T18:55:48.143905Z",
     "iopub.status.busy": "2023-04-19T18:55:48.143482Z",
     "iopub.status.idle": "2023-04-19T18:55:48.148495Z",
     "shell.execute_reply": "2023-04-19T18:55:48.147454Z"
    },
    "papermill": {
     "duration": 0.015252,
     "end_time": "2023-04-19T18:55:48.150792",
     "exception": false,
     "start_time": "2023-04-19T18:55:48.135540",
     "status": "completed"
    },
    "tags": []
   },
   "outputs": [],
   "source": [
    "accuracy=metrics.accuracy_score(y_test, y_pred)*100"
   ]
  },
  {
   "cell_type": "code",
   "execution_count": 18,
   "id": "01e5b897",
   "metadata": {
    "execution": {
     "iopub.execute_input": "2023-04-19T18:55:48.166479Z",
     "iopub.status.busy": "2023-04-19T18:55:48.165727Z",
     "iopub.status.idle": "2023-04-19T18:55:48.171429Z",
     "shell.execute_reply": "2023-04-19T18:55:48.169941Z"
    },
    "papermill": {
     "duration": 0.016986,
     "end_time": "2023-04-19T18:55:48.174145",
     "exception": false,
     "start_time": "2023-04-19T18:55:48.157159",
     "status": "completed"
    },
    "tags": []
   },
   "outputs": [
    {
     "name": "stdout",
     "output_type": "stream",
     "text": [
      "Accuracy: 89.47368421052632\n"
     ]
    }
   ],
   "source": [
    "print(\"Accuracy:\",accuracy)"
   ]
  },
  {
   "cell_type": "code",
   "execution_count": 19,
   "id": "656f3227",
   "metadata": {
    "execution": {
     "iopub.execute_input": "2023-04-19T18:55:48.189179Z",
     "iopub.status.busy": "2023-04-19T18:55:48.188765Z",
     "iopub.status.idle": "2023-04-19T18:55:48.198914Z",
     "shell.execute_reply": "2023-04-19T18:55:48.197036Z"
    },
    "papermill": {
     "duration": 0.020837,
     "end_time": "2023-04-19T18:55:48.201615",
     "exception": false,
     "start_time": "2023-04-19T18:55:48.180778",
     "status": "completed"
    },
    "tags": []
   },
   "outputs": [
    {
     "name": "stdout",
     "output_type": "stream",
     "text": [
      "['Iris-virginica']\n"
     ]
    },
    {
     "name": "stderr",
     "output_type": "stream",
     "text": [
      "/opt/conda/lib/python3.7/site-packages/sklearn/base.py:451: UserWarning: X does not have valid feature names, but LogisticRegression was fitted with feature names\n",
      "  \"X does not have valid feature names, but\"\n"
     ]
    }
   ],
   "source": [
    "new_input=[[3,4,5,4]] # predict function required 2D array input.\n",
    "predictions = model.predict(new_input)\n",
    "print(predictions)"
   ]
  }
 ],
 "metadata": {
  "kernelspec": {
   "display_name": "Python 3",
   "language": "python",
   "name": "python3"
  },
  "language_info": {
   "codemirror_mode": {
    "name": "ipython",
    "version": 3
   },
   "file_extension": ".py",
   "mimetype": "text/x-python",
   "name": "python",
   "nbconvert_exporter": "python",
   "pygments_lexer": "ipython3",
   "version": "3.7.12"
  },
  "papermill": {
   "default_parameters": {},
   "duration": 14.293166,
   "end_time": "2023-04-19T18:55:49.031979",
   "environment_variables": {},
   "exception": null,
   "input_path": "__notebook__.ipynb",
   "output_path": "__notebook__.ipynb",
   "parameters": {},
   "start_time": "2023-04-19T18:55:34.738813",
   "version": "2.4.0"
  }
 },
 "nbformat": 4,
 "nbformat_minor": 5
}
