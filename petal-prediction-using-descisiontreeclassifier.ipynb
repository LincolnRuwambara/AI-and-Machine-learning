{
 "cells": [
  {
   "cell_type": "code",
   "execution_count": 1,
   "id": "9a14a3bd",
   "metadata": {
    "_cell_guid": "b1076dfc-b9ad-4769-8c92-a6c4dae69d19",
    "_uuid": "8f2839f25d086af736a60e9eeb907d3b93b6e0e5",
    "execution": {
     "iopub.execute_input": "2023-04-19T19:27:30.515305Z",
     "iopub.status.busy": "2023-04-19T19:27:30.514013Z",
     "iopub.status.idle": "2023-04-19T19:27:30.538140Z",
     "shell.execute_reply": "2023-04-19T19:27:30.537145Z"
    },
    "papermill": {
     "duration": 0.034684,
     "end_time": "2023-04-19T19:27:30.541306",
     "exception": false,
     "start_time": "2023-04-19T19:27:30.506622",
     "status": "completed"
    },
    "tags": []
   },
   "outputs": [
    {
     "name": "stdout",
     "output_type": "stream",
     "text": [
      "/kaggle/input/iris-dataset/iris.data\n"
     ]
    }
   ],
   "source": [
    "# This Python 3 environment comes with many helpful analytics libraries installed\n",
    "# It is defined by the kaggle/python Docker image: https://github.com/kaggle/docker-python\n",
    "# For example, here's several helpful packages to load\n",
    "\n",
    "import numpy as np # linear algebra\n",
    "import pandas as pd # data processing, CSV file I/O (e.g. pd.read_csv)\n",
    "\n",
    "# Input data files are available in the read-only \"../input/\" directory\n",
    "# For example, running this (by clicking run or pressing Shift+Enter) will list all files under the input directory\n",
    "\n",
    "import os\n",
    "for dirname, _, filenames in os.walk('/kaggle/input'):\n",
    "    for filename in filenames:\n",
    "        print(os.path.join(dirname, filename))\n",
    "\n",
    "# You can write up to 20GB to the current directory (/kaggle/working/) that gets preserved as output when you create a version using \"Save & Run All\" \n",
    "# You can also write temporary files to /kaggle/temp/, but they won't be saved outside of the current session"
   ]
  },
  {
   "cell_type": "code",
   "execution_count": 2,
   "id": "653d58b0",
   "metadata": {
    "execution": {
     "iopub.execute_input": "2023-04-19T19:27:30.552285Z",
     "iopub.status.busy": "2023-04-19T19:27:30.551802Z",
     "iopub.status.idle": "2023-04-19T19:27:30.612442Z",
     "shell.execute_reply": "2023-04-19T19:27:30.611133Z"
    },
    "papermill": {
     "duration": 0.069017,
     "end_time": "2023-04-19T19:27:30.615042",
     "exception": false,
     "start_time": "2023-04-19T19:27:30.546025",
     "status": "completed"
    },
    "tags": []
   },
   "outputs": [
    {
     "data": {
      "text/html": [
       "<div>\n",
       "<style scoped>\n",
       "    .dataframe tbody tr th:only-of-type {\n",
       "        vertical-align: middle;\n",
       "    }\n",
       "\n",
       "    .dataframe tbody tr th {\n",
       "        vertical-align: top;\n",
       "    }\n",
       "\n",
       "    .dataframe thead th {\n",
       "        text-align: right;\n",
       "    }\n",
       "</style>\n",
       "<table border=\"1\" class=\"dataframe\">\n",
       "  <thead>\n",
       "    <tr style=\"text-align: right;\">\n",
       "      <th></th>\n",
       "      <th>5.1</th>\n",
       "      <th>3.5</th>\n",
       "      <th>1.4</th>\n",
       "      <th>0.2</th>\n",
       "    </tr>\n",
       "  </thead>\n",
       "  <tbody>\n",
       "    <tr>\n",
       "      <th>count</th>\n",
       "      <td>149.000000</td>\n",
       "      <td>149.000000</td>\n",
       "      <td>149.000000</td>\n",
       "      <td>149.000000</td>\n",
       "    </tr>\n",
       "    <tr>\n",
       "      <th>mean</th>\n",
       "      <td>5.848322</td>\n",
       "      <td>3.051007</td>\n",
       "      <td>3.774497</td>\n",
       "      <td>1.205369</td>\n",
       "    </tr>\n",
       "    <tr>\n",
       "      <th>std</th>\n",
       "      <td>0.828594</td>\n",
       "      <td>0.433499</td>\n",
       "      <td>1.759651</td>\n",
       "      <td>0.761292</td>\n",
       "    </tr>\n",
       "    <tr>\n",
       "      <th>min</th>\n",
       "      <td>4.300000</td>\n",
       "      <td>2.000000</td>\n",
       "      <td>1.000000</td>\n",
       "      <td>0.100000</td>\n",
       "    </tr>\n",
       "    <tr>\n",
       "      <th>25%</th>\n",
       "      <td>5.100000</td>\n",
       "      <td>2.800000</td>\n",
       "      <td>1.600000</td>\n",
       "      <td>0.300000</td>\n",
       "    </tr>\n",
       "    <tr>\n",
       "      <th>50%</th>\n",
       "      <td>5.800000</td>\n",
       "      <td>3.000000</td>\n",
       "      <td>4.400000</td>\n",
       "      <td>1.300000</td>\n",
       "    </tr>\n",
       "    <tr>\n",
       "      <th>75%</th>\n",
       "      <td>6.400000</td>\n",
       "      <td>3.300000</td>\n",
       "      <td>5.100000</td>\n",
       "      <td>1.800000</td>\n",
       "    </tr>\n",
       "    <tr>\n",
       "      <th>max</th>\n",
       "      <td>7.900000</td>\n",
       "      <td>4.400000</td>\n",
       "      <td>6.900000</td>\n",
       "      <td>2.500000</td>\n",
       "    </tr>\n",
       "  </tbody>\n",
       "</table>\n",
       "</div>"
      ],
      "text/plain": [
       "              5.1         3.5         1.4         0.2\n",
       "count  149.000000  149.000000  149.000000  149.000000\n",
       "mean     5.848322    3.051007    3.774497    1.205369\n",
       "std      0.828594    0.433499    1.759651    0.761292\n",
       "min      4.300000    2.000000    1.000000    0.100000\n",
       "25%      5.100000    2.800000    1.600000    0.300000\n",
       "50%      5.800000    3.000000    4.400000    1.300000\n",
       "75%      6.400000    3.300000    5.100000    1.800000\n",
       "max      7.900000    4.400000    6.900000    2.500000"
      ]
     },
     "execution_count": 2,
     "metadata": {},
     "output_type": "execute_result"
    }
   ],
   "source": [
    "data= pd.read_csv(\"/kaggle/input/iris-dataset/iris.data\")\n",
    "data.describe()"
   ]
  },
  {
   "cell_type": "code",
   "execution_count": 3,
   "id": "fa295cad",
   "metadata": {
    "execution": {
     "iopub.execute_input": "2023-04-19T19:27:30.626623Z",
     "iopub.status.busy": "2023-04-19T19:27:30.626175Z",
     "iopub.status.idle": "2023-04-19T19:27:30.641192Z",
     "shell.execute_reply": "2023-04-19T19:27:30.639989Z"
    },
    "papermill": {
     "duration": 0.025714,
     "end_time": "2023-04-19T19:27:30.645534",
     "exception": false,
     "start_time": "2023-04-19T19:27:30.619820",
     "status": "completed"
    },
    "tags": []
   },
   "outputs": [
    {
     "name": "stdout",
     "output_type": "stream",
     "text": [
      "Index(['5.1', '3.5', '1.4', '0.2', 'Iris-setosa'], dtype='object')\n"
     ]
    },
    {
     "data": {
      "text/html": [
       "<div>\n",
       "<style scoped>\n",
       "    .dataframe tbody tr th:only-of-type {\n",
       "        vertical-align: middle;\n",
       "    }\n",
       "\n",
       "    .dataframe tbody tr th {\n",
       "        vertical-align: top;\n",
       "    }\n",
       "\n",
       "    .dataframe thead th {\n",
       "        text-align: right;\n",
       "    }\n",
       "</style>\n",
       "<table border=\"1\" class=\"dataframe\">\n",
       "  <thead>\n",
       "    <tr style=\"text-align: right;\">\n",
       "      <th></th>\n",
       "      <th>5.1</th>\n",
       "      <th>3.5</th>\n",
       "      <th>1.4</th>\n",
       "      <th>0.2</th>\n",
       "      <th>Iris-setosa</th>\n",
       "    </tr>\n",
       "  </thead>\n",
       "  <tbody>\n",
       "    <tr>\n",
       "      <th>0</th>\n",
       "      <td>4.9</td>\n",
       "      <td>3.0</td>\n",
       "      <td>1.4</td>\n",
       "      <td>0.2</td>\n",
       "      <td>Iris-setosa</td>\n",
       "    </tr>\n",
       "    <tr>\n",
       "      <th>1</th>\n",
       "      <td>4.7</td>\n",
       "      <td>3.2</td>\n",
       "      <td>1.3</td>\n",
       "      <td>0.2</td>\n",
       "      <td>Iris-setosa</td>\n",
       "    </tr>\n",
       "    <tr>\n",
       "      <th>2</th>\n",
       "      <td>4.6</td>\n",
       "      <td>3.1</td>\n",
       "      <td>1.5</td>\n",
       "      <td>0.2</td>\n",
       "      <td>Iris-setosa</td>\n",
       "    </tr>\n",
       "    <tr>\n",
       "      <th>3</th>\n",
       "      <td>5.0</td>\n",
       "      <td>3.6</td>\n",
       "      <td>1.4</td>\n",
       "      <td>0.2</td>\n",
       "      <td>Iris-setosa</td>\n",
       "    </tr>\n",
       "    <tr>\n",
       "      <th>4</th>\n",
       "      <td>5.4</td>\n",
       "      <td>3.9</td>\n",
       "      <td>1.7</td>\n",
       "      <td>0.4</td>\n",
       "      <td>Iris-setosa</td>\n",
       "    </tr>\n",
       "  </tbody>\n",
       "</table>\n",
       "</div>"
      ],
      "text/plain": [
       "   5.1  3.5  1.4  0.2  Iris-setosa\n",
       "0  4.9  3.0  1.4  0.2  Iris-setosa\n",
       "1  4.7  3.2  1.3  0.2  Iris-setosa\n",
       "2  4.6  3.1  1.5  0.2  Iris-setosa\n",
       "3  5.0  3.6  1.4  0.2  Iris-setosa\n",
       "4  5.4  3.9  1.7  0.4  Iris-setosa"
      ]
     },
     "execution_count": 3,
     "metadata": {},
     "output_type": "execute_result"
    }
   ],
   "source": [
    "print(data.columns)\n",
    "data.head()"
   ]
  },
  {
   "cell_type": "code",
   "execution_count": 4,
   "id": "66d8095c",
   "metadata": {
    "execution": {
     "iopub.execute_input": "2023-04-19T19:27:30.657320Z",
     "iopub.status.busy": "2023-04-19T19:27:30.656907Z",
     "iopub.status.idle": "2023-04-19T19:27:30.663147Z",
     "shell.execute_reply": "2023-04-19T19:27:30.661910Z"
    },
    "papermill": {
     "duration": 0.015303,
     "end_time": "2023-04-19T19:27:30.665677",
     "exception": false,
     "start_time": "2023-04-19T19:27:30.650374",
     "status": "completed"
    },
    "tags": []
   },
   "outputs": [],
   "source": [
    "df=data.rename(columns={\"5.1\":\"Sepal Length(cm)\",\"3.5\":\"Sepal Width(cm)\",\"1.4\":\"Petal Length(cm)\",\"0.2\":\"Petal Width(cm)\",\"Iris-setosa\":\"Type\"})"
   ]
  },
  {
   "cell_type": "code",
   "execution_count": 5,
   "id": "536de695",
   "metadata": {
    "execution": {
     "iopub.execute_input": "2023-04-19T19:27:30.677617Z",
     "iopub.status.busy": "2023-04-19T19:27:30.677098Z",
     "iopub.status.idle": "2023-04-19T19:27:30.692189Z",
     "shell.execute_reply": "2023-04-19T19:27:30.690867Z"
    },
    "papermill": {
     "duration": 0.024348,
     "end_time": "2023-04-19T19:27:30.694964",
     "exception": false,
     "start_time": "2023-04-19T19:27:30.670616",
     "status": "completed"
    },
    "tags": []
   },
   "outputs": [
    {
     "data": {
      "text/html": [
       "<div>\n",
       "<style scoped>\n",
       "    .dataframe tbody tr th:only-of-type {\n",
       "        vertical-align: middle;\n",
       "    }\n",
       "\n",
       "    .dataframe tbody tr th {\n",
       "        vertical-align: top;\n",
       "    }\n",
       "\n",
       "    .dataframe thead th {\n",
       "        text-align: right;\n",
       "    }\n",
       "</style>\n",
       "<table border=\"1\" class=\"dataframe\">\n",
       "  <thead>\n",
       "    <tr style=\"text-align: right;\">\n",
       "      <th></th>\n",
       "      <th>Sepal Length(cm)</th>\n",
       "      <th>Sepal Width(cm)</th>\n",
       "      <th>Petal Length(cm)</th>\n",
       "      <th>Petal Width(cm)</th>\n",
       "      <th>Type</th>\n",
       "    </tr>\n",
       "  </thead>\n",
       "  <tbody>\n",
       "    <tr>\n",
       "      <th>0</th>\n",
       "      <td>4.9</td>\n",
       "      <td>3.0</td>\n",
       "      <td>1.4</td>\n",
       "      <td>0.2</td>\n",
       "      <td>Iris-setosa</td>\n",
       "    </tr>\n",
       "    <tr>\n",
       "      <th>1</th>\n",
       "      <td>4.7</td>\n",
       "      <td>3.2</td>\n",
       "      <td>1.3</td>\n",
       "      <td>0.2</td>\n",
       "      <td>Iris-setosa</td>\n",
       "    </tr>\n",
       "    <tr>\n",
       "      <th>2</th>\n",
       "      <td>4.6</td>\n",
       "      <td>3.1</td>\n",
       "      <td>1.5</td>\n",
       "      <td>0.2</td>\n",
       "      <td>Iris-setosa</td>\n",
       "    </tr>\n",
       "    <tr>\n",
       "      <th>3</th>\n",
       "      <td>5.0</td>\n",
       "      <td>3.6</td>\n",
       "      <td>1.4</td>\n",
       "      <td>0.2</td>\n",
       "      <td>Iris-setosa</td>\n",
       "    </tr>\n",
       "    <tr>\n",
       "      <th>4</th>\n",
       "      <td>5.4</td>\n",
       "      <td>3.9</td>\n",
       "      <td>1.7</td>\n",
       "      <td>0.4</td>\n",
       "      <td>Iris-setosa</td>\n",
       "    </tr>\n",
       "  </tbody>\n",
       "</table>\n",
       "</div>"
      ],
      "text/plain": [
       "   Sepal Length(cm)  Sepal Width(cm)  Petal Length(cm)  Petal Width(cm)  \\\n",
       "0               4.9              3.0               1.4              0.2   \n",
       "1               4.7              3.2               1.3              0.2   \n",
       "2               4.6              3.1               1.5              0.2   \n",
       "3               5.0              3.6               1.4              0.2   \n",
       "4               5.4              3.9               1.7              0.4   \n",
       "\n",
       "          Type  \n",
       "0  Iris-setosa  \n",
       "1  Iris-setosa  \n",
       "2  Iris-setosa  \n",
       "3  Iris-setosa  \n",
       "4  Iris-setosa  "
      ]
     },
     "execution_count": 5,
     "metadata": {},
     "output_type": "execute_result"
    }
   ],
   "source": [
    "df.head()"
   ]
  },
  {
   "cell_type": "code",
   "execution_count": 6,
   "id": "471b44aa",
   "metadata": {
    "execution": {
     "iopub.execute_input": "2023-04-19T19:27:30.707592Z",
     "iopub.status.busy": "2023-04-19T19:27:30.706434Z",
     "iopub.status.idle": "2023-04-19T19:27:32.015103Z",
     "shell.execute_reply": "2023-04-19T19:27:32.013745Z"
    },
    "papermill": {
     "duration": 1.318012,
     "end_time": "2023-04-19T19:27:32.018049",
     "exception": false,
     "start_time": "2023-04-19T19:27:30.700037",
     "status": "completed"
    },
    "tags": []
   },
   "outputs": [],
   "source": [
    "from sklearn.tree import DecisionTreeClassifier\n",
    "from sklearn.metrics import accuracy_score\n"
   ]
  },
  {
   "cell_type": "code",
   "execution_count": 7,
   "id": "6a32cc96",
   "metadata": {
    "execution": {
     "iopub.execute_input": "2023-04-19T19:27:32.030797Z",
     "iopub.status.busy": "2023-04-19T19:27:32.030279Z",
     "iopub.status.idle": "2023-04-19T19:27:32.035726Z",
     "shell.execute_reply": "2023-04-19T19:27:32.034496Z"
    },
    "papermill": {
     "duration": 0.014979,
     "end_time": "2023-04-19T19:27:32.038297",
     "exception": false,
     "start_time": "2023-04-19T19:27:32.023318",
     "status": "completed"
    },
    "tags": []
   },
   "outputs": [],
   "source": [
    "model= DecisionTreeClassifier()"
   ]
  },
  {
   "cell_type": "code",
   "execution_count": 8,
   "id": "f24cf930",
   "metadata": {
    "execution": {
     "iopub.execute_input": "2023-04-19T19:27:32.051452Z",
     "iopub.status.busy": "2023-04-19T19:27:32.050239Z",
     "iopub.status.idle": "2023-04-19T19:27:32.057304Z",
     "shell.execute_reply": "2023-04-19T19:27:32.056237Z"
    },
    "papermill": {
     "duration": 0.016481,
     "end_time": "2023-04-19T19:27:32.059972",
     "exception": false,
     "start_time": "2023-04-19T19:27:32.043491",
     "status": "completed"
    },
    "tags": []
   },
   "outputs": [],
   "source": [
    "y=df.pop(\"Type\")\n",
    "X=df\n"
   ]
  },
  {
   "cell_type": "code",
   "execution_count": 9,
   "id": "6d1684e7",
   "metadata": {
    "execution": {
     "iopub.execute_input": "2023-04-19T19:27:32.072613Z",
     "iopub.status.busy": "2023-04-19T19:27:32.072161Z",
     "iopub.status.idle": "2023-04-19T19:27:32.082494Z",
     "shell.execute_reply": "2023-04-19T19:27:32.081105Z"
    },
    "papermill": {
     "duration": 0.020129,
     "end_time": "2023-04-19T19:27:32.085297",
     "exception": false,
     "start_time": "2023-04-19T19:27:32.065168",
     "status": "completed"
    },
    "tags": []
   },
   "outputs": [
    {
     "name": "stdout",
     "output_type": "stream",
     "text": [
      "0    Iris-setosa\n",
      "1    Iris-setosa\n",
      "2    Iris-setosa\n",
      "3    Iris-setosa\n",
      "4    Iris-setosa\n",
      "Name: Type, dtype: object\n",
      "   Sepal Length(cm)  Sepal Width(cm)  Petal Length(cm)  Petal Width(cm)\n",
      "0               4.9              3.0               1.4              0.2\n",
      "1               4.7              3.2               1.3              0.2\n",
      "2               4.6              3.1               1.5              0.2\n",
      "3               5.0              3.6               1.4              0.2\n",
      "4               5.4              3.9               1.7              0.4\n"
     ]
    }
   ],
   "source": [
    "print(y.head())\n",
    "print(X.head())"
   ]
  },
  {
   "cell_type": "code",
   "execution_count": 10,
   "id": "3bda5f5d",
   "metadata": {
    "execution": {
     "iopub.execute_input": "2023-04-19T19:27:32.097909Z",
     "iopub.status.busy": "2023-04-19T19:27:32.097452Z",
     "iopub.status.idle": "2023-04-19T19:27:32.114266Z",
     "shell.execute_reply": "2023-04-19T19:27:32.112935Z"
    },
    "papermill": {
     "duration": 0.026588,
     "end_time": "2023-04-19T19:27:32.117088",
     "exception": false,
     "start_time": "2023-04-19T19:27:32.090500",
     "status": "completed"
    },
    "tags": []
   },
   "outputs": [
    {
     "data": {
      "text/plain": [
       "DecisionTreeClassifier()"
      ]
     },
     "execution_count": 10,
     "metadata": {},
     "output_type": "execute_result"
    }
   ],
   "source": [
    "model.fit(X,y)"
   ]
  },
  {
   "cell_type": "code",
   "execution_count": 11,
   "id": "94912ab5",
   "metadata": {
    "execution": {
     "iopub.execute_input": "2023-04-19T19:27:32.130279Z",
     "iopub.status.busy": "2023-04-19T19:27:32.129839Z",
     "iopub.status.idle": "2023-04-19T19:27:32.138648Z",
     "shell.execute_reply": "2023-04-19T19:27:32.137231Z"
    },
    "papermill": {
     "duration": 0.018952,
     "end_time": "2023-04-19T19:27:32.141565",
     "exception": false,
     "start_time": "2023-04-19T19:27:32.122613",
     "status": "completed"
    },
    "tags": []
   },
   "outputs": [
    {
     "name": "stdout",
     "output_type": "stream",
     "text": [
      "1.0\n"
     ]
    }
   ],
   "source": [
    "y_pred = model.predict(X)\n",
    "print(accuracy_score(y, y_pred))"
   ]
  },
  {
   "cell_type": "code",
   "execution_count": 12,
   "id": "b4d6803e",
   "metadata": {
    "execution": {
     "iopub.execute_input": "2023-04-19T19:27:32.154677Z",
     "iopub.status.busy": "2023-04-19T19:27:32.154221Z",
     "iopub.status.idle": "2023-04-19T19:27:32.160780Z",
     "shell.execute_reply": "2023-04-19T19:27:32.159583Z"
    },
    "papermill": {
     "duration": 0.016835,
     "end_time": "2023-04-19T19:27:32.163709",
     "exception": false,
     "start_time": "2023-04-19T19:27:32.146874",
     "status": "completed"
    },
    "tags": []
   },
   "outputs": [
    {
     "name": "stdout",
     "output_type": "stream",
     "text": [
      "|--- feature_3 <= 0.80\n",
      "|   |--- class: Iris-setosa\n",
      "|--- feature_3 >  0.80\n",
      "|   |--- feature_3 <= 1.75\n",
      "|   |   |--- feature_2 <= 4.95\n",
      "|   |   |   |--- feature_3 <= 1.65\n",
      "|   |   |   |   |--- class: Iris-versicolor\n",
      "|   |   |   |--- feature_3 >  1.65\n",
      "|   |   |   |   |--- class: Iris-virginica\n",
      "|   |   |--- feature_2 >  4.95\n",
      "|   |   |   |--- feature_3 <= 1.55\n",
      "|   |   |   |   |--- class: Iris-virginica\n",
      "|   |   |   |--- feature_3 >  1.55\n",
      "|   |   |   |   |--- feature_0 <= 6.95\n",
      "|   |   |   |   |   |--- class: Iris-versicolor\n",
      "|   |   |   |   |--- feature_0 >  6.95\n",
      "|   |   |   |   |   |--- class: Iris-virginica\n",
      "|   |--- feature_3 >  1.75\n",
      "|   |   |--- feature_2 <= 4.85\n",
      "|   |   |   |--- feature_0 <= 5.95\n",
      "|   |   |   |   |--- class: Iris-versicolor\n",
      "|   |   |   |--- feature_0 >  5.95\n",
      "|   |   |   |   |--- class: Iris-virginica\n",
      "|   |   |--- feature_2 >  4.85\n",
      "|   |   |   |--- class: Iris-virginica\n",
      "\n"
     ]
    }
   ],
   "source": [
    "from sklearn import tree\n",
    "text_representation = tree.export_text(model)\n",
    "print(text_representation)\n",
    "# you can save it to the text file\n",
    "#with open(\"decistion_tree.txt\", \"w\") as fout:fout.write(text_representation)"
   ]
  },
  {
   "cell_type": "code",
   "execution_count": 13,
   "id": "53b4722e",
   "metadata": {
    "execution": {
     "iopub.execute_input": "2023-04-19T19:27:32.177008Z",
     "iopub.status.busy": "2023-04-19T19:27:32.176583Z",
     "iopub.status.idle": "2023-04-19T19:27:33.141963Z",
     "shell.execute_reply": "2023-04-19T19:27:33.140530Z"
    },
    "papermill": {
     "duration": 0.976201,
     "end_time": "2023-04-19T19:27:33.145379",
     "exception": false,
     "start_time": "2023-04-19T19:27:32.169178",
     "status": "completed"
    },
    "tags": []
   },
   "outputs": [
    {
     "data": {
      "image/png": "[encoded data removed]",
      "text/plain": [
       "<Figure size 1600x400 with 1 Axes>"
      ]
     },
     "metadata": {},
     "output_type": "display_data"
    }
   ],
   "source": [
    "import matplotlib.pyplot as plt\n",
    "fig = plt.figure(figsize=(16,4))\n",
    "p = tree.plot_tree(model,\n",
    "feature_names=X.columns, # inputs is pandas.core.frame.DataFrame\n",
    "class_names=y.name, # labels is pandas.core.series.Series\n",
    "filled=True)\n",
    "plt.show()\n"
   ]
  },
  {
   "cell_type": "code",
   "execution_count": 14,
   "id": "6198deea",
   "metadata": {
    "execution": {
     "iopub.execute_input": "2023-04-19T19:27:33.161646Z",
     "iopub.status.busy": "2023-04-19T19:27:33.160848Z",
     "iopub.status.idle": "2023-04-19T19:27:33.170403Z",
     "shell.execute_reply": "2023-04-19T19:27:33.169401Z"
    },
    "papermill": {
     "duration": 0.021345,
     "end_time": "2023-04-19T19:27:33.173505",
     "exception": false,
     "start_time": "2023-04-19T19:27:33.152160",
     "status": "completed"
    },
    "tags": []
   },
   "outputs": [
    {
     "name": "stdout",
     "output_type": "stream",
     "text": [
      "Input [[3, 4, 5, 4]] and Prediction ['Iris-virginica']\n"
     ]
    },
    {
     "name": "stderr",
     "output_type": "stream",
     "text": [
      "/opt/conda/lib/python3.7/site-packages/sklearn/base.py:451: UserWarning: X does not have valid feature names, but DecisionTreeClassifier was fitted with feature names\n",
      "  \"X does not have valid feature names, but\"\n"
     ]
    }
   ],
   "source": [
    "new_input=[[3,4,5,4]]\n",
    "predictions = model.predict(new_input)\n",
    "print ('Input', new_input,'and Prediction', predictions)"
   ]
  }
 ],
 "metadata": {
  "kernelspec": {
   "display_name": "Python 3",
   "language": "python",
   "name": "python3"
  },
  "language_info": {
   "codemirror_mode": {
    "name": "ipython",
    "version": 3
   },
   "file_extension": ".py",
   "mimetype": "text/x-python",
   "name": "python",
   "nbconvert_exporter": "python",
   "pygments_lexer": "ipython3",
   "version": "3.7.12"
  },
  "papermill": {
   "default_parameters": {},
   "duration": 13.772528,
   "end_time": "2023-04-19T19:27:34.004803",
   "environment_variables": {},
   "exception": null,
   "input_path": "__notebook__.ipynb",
   "output_path": "__notebook__.ipynb",
   "parameters": {},
   "start_time": "2023-04-19T19:27:20.232275",
   "version": "2.4.0"
  }
 },
 "nbformat": 4,
 "nbformat_minor": 5
}
