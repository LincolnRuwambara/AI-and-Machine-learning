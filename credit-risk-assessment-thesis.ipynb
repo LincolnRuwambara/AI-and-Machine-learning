{
 "cells": [
  {
   "cell_type": "code",
   "execution_count": 1,
   "id": "ea30bf7b",
   "metadata": {
    "_cell_guid": "b1076dfc-b9ad-4769-8c92-a6c4dae69d19",
    "_uuid": "8f2839f25d086af736a60e9eeb907d3b93b6e0e5",
    "execution": {
     "iopub.execute_input": "2023-12-16T15:02:23.052302Z",
     "iopub.status.busy": "2023-12-16T15:02:23.051904Z",
     "iopub.status.idle": "2023-12-16T15:02:24.059501Z",
     "shell.execute_reply": "2023-12-16T15:02:24.058117Z"
    },
    "papermill": {
     "duration": 1.024149,
     "end_time": "2023-12-16T15:02:24.062762",
     "exception": false,
     "start_time": "2023-12-16T15:02:23.038613",
     "status": "completed"
    },
    "tags": []
   },
   "outputs": [
    {
     "name": "stdout",
     "output_type": "stream",
     "text": [
      "/kaggle/input/credit-risk/credit_risk_dataset.csv\n"
     ]
    }
   ],
   "source": [
    "# This Python 3 environment comes with many helpful analytics libraries installed\n",
    "# It is defined by the kaggle/python Docker image: https://github.com/kaggle/docker-python\n",
    "# For example, here's several helpful packages to load\n",
    "\n",
    "import numpy as np # linear algebra\n",
    "import pandas as pd # data processing, CSV file I/O (e.g. pd.read_csv)\n",
    "\n",
    "# Input data files are available in the read-only \"../input/\" directory\n",
    "# For example, running this (by clicking run or pressing Shift+Enter) will list all files under the input directory\n",
    "\n",
    "\n",
    "import os\n",
    "for dirname, _, filenames in os.walk('/kaggle/input'):\n",
    "    for filename in filenames:\n",
    "        print(os.path.join(dirname, filename))\n",
    "\n",
    "# You can write up to 20GB to the current directory (/kaggle/working/) that gets preserved as output when you create a version using \"Save & Run All\" \n",
    "# You can also write temporary files to /kaggle/temp/, but they won't be saved outside of the current session"
   ]
  },
  {
   "cell_type": "markdown",
   "id": "e6e3a875",
   "metadata": {
    "papermill": {
     "duration": 0.011663,
     "end_time": "2023-12-16T15:02:24.087009",
     "exception": false,
     "start_time": "2023-12-16T15:02:24.075346",
     "status": "completed"
    },
    "tags": []
   },
   "source": [
    "# **Reading the Dataset**"
   ]
  },
  {
   "cell_type": "code",
   "execution_count": 2,
   "id": "be89441c",
   "metadata": {
    "execution": {
     "iopub.execute_input": "2023-12-16T15:02:24.111872Z",
     "iopub.status.busy": "2023-12-16T15:02:24.111169Z",
     "iopub.status.idle": "2023-12-16T15:02:24.244922Z",
     "shell.execute_reply": "2023-12-16T15:02:24.243262Z"
    },
    "papermill": {
     "duration": 0.149215,
     "end_time": "2023-12-16T15:02:24.247668",
     "exception": false,
     "start_time": "2023-12-16T15:02:24.098453",
     "status": "completed"
    },
    "tags": []
   },
   "outputs": [
    {
     "data": {
      "text/html": [
       "<div>\n",
       "<style scoped>\n",
       "    .dataframe tbody tr th:only-of-type {\n",
       "        vertical-align: middle;\n",
       "    }\n",
       "\n",
       "    .dataframe tbody tr th {\n",
       "        vertical-align: top;\n",
       "    }\n",
       "\n",
       "    .dataframe thead th {\n",
       "        text-align: right;\n",
       "    }\n",
       "</style>\n",
       "<table border=\"1\" class=\"dataframe\">\n",
       "  <thead>\n",
       "    <tr style=\"text-align: right;\">\n",
       "      <th></th>\n",
       "      <th>person_age</th>\n",
       "      <th>person_income</th>\n",
       "      <th>person_home_ownership</th>\n",
       "      <th>person_emp_length</th>\n",
       "      <th>loan_intent</th>\n",
       "      <th>loan_grade</th>\n",
       "      <th>loan_amnt</th>\n",
       "      <th>loan_int_rate</th>\n",
       "      <th>loan_status</th>\n",
       "      <th>loan_percent_income</th>\n",
       "      <th>cb_person_default_on_file</th>\n",
       "      <th>cb_person_cred_hist_length</th>\n",
       "    </tr>\n",
       "  </thead>\n",
       "  <tbody>\n",
       "    <tr>\n",
       "      <th>0</th>\n",
       "      <td>27</td>\n",
       "      <td>42000</td>\n",
       "      <td>RENT</td>\n",
       "      <td>2.0</td>\n",
       "      <td>PERSONAL</td>\n",
       "      <td>B</td>\n",
       "      <td>12000</td>\n",
       "      <td>10.65</td>\n",
       "      <td>0</td>\n",
       "      <td>0.29</td>\n",
       "      <td>N</td>\n",
       "      <td>7</td>\n",
       "    </tr>\n",
       "    <tr>\n",
       "      <th>1</th>\n",
       "      <td>27</td>\n",
       "      <td>75000</td>\n",
       "      <td>RENT</td>\n",
       "      <td>1.0</td>\n",
       "      <td>EDUCATION</td>\n",
       "      <td>B</td>\n",
       "      <td>14400</td>\n",
       "      <td>11.36</td>\n",
       "      <td>0</td>\n",
       "      <td>0.19</td>\n",
       "      <td>N</td>\n",
       "      <td>7</td>\n",
       "    </tr>\n",
       "    <tr>\n",
       "      <th>2</th>\n",
       "      <td>26</td>\n",
       "      <td>50000</td>\n",
       "      <td>MORTGAGE</td>\n",
       "      <td>10.0</td>\n",
       "      <td>PERSONAL</td>\n",
       "      <td>A</td>\n",
       "      <td>10000</td>\n",
       "      <td>7.51</td>\n",
       "      <td>0</td>\n",
       "      <td>0.20</td>\n",
       "      <td>N</td>\n",
       "      <td>3</td>\n",
       "    </tr>\n",
       "    <tr>\n",
       "      <th>3</th>\n",
       "      <td>33</td>\n",
       "      <td>81000</td>\n",
       "      <td>MORTGAGE</td>\n",
       "      <td>2.0</td>\n",
       "      <td>VENTURE</td>\n",
       "      <td>B</td>\n",
       "      <td>7500</td>\n",
       "      <td>10.08</td>\n",
       "      <td>0</td>\n",
       "      <td>0.09</td>\n",
       "      <td>N</td>\n",
       "      <td>9</td>\n",
       "    </tr>\n",
       "    <tr>\n",
       "      <th>4</th>\n",
       "      <td>32</td>\n",
       "      <td>33078</td>\n",
       "      <td>RENT</td>\n",
       "      <td>4.0</td>\n",
       "      <td>PERSONAL</td>\n",
       "      <td>A</td>\n",
       "      <td>10000</td>\n",
       "      <td>7.51</td>\n",
       "      <td>0</td>\n",
       "      <td>0.30</td>\n",
       "      <td>N</td>\n",
       "      <td>8</td>\n",
       "    </tr>\n",
       "    <tr>\n",
       "      <th>5</th>\n",
       "      <td>29</td>\n",
       "      <td>41000</td>\n",
       "      <td>MORTGAGE</td>\n",
       "      <td>7.0</td>\n",
       "      <td>VENTURE</td>\n",
       "      <td>A</td>\n",
       "      <td>6000</td>\n",
       "      <td>5.79</td>\n",
       "      <td>0</td>\n",
       "      <td>0.15</td>\n",
       "      <td>N</td>\n",
       "      <td>8</td>\n",
       "    </tr>\n",
       "  </tbody>\n",
       "</table>\n",
       "</div>"
      ],
      "text/plain": [
       "   person_age  person_income person_home_ownership  person_emp_length  \\\n",
       "0          27          42000                  RENT                2.0   \n",
       "1          27          75000                  RENT                1.0   \n",
       "2          26          50000              MORTGAGE               10.0   \n",
       "3          33          81000              MORTGAGE                2.0   \n",
       "4          32          33078                  RENT                4.0   \n",
       "5          29          41000              MORTGAGE                7.0   \n",
       "\n",
       "  loan_intent loan_grade  loan_amnt  loan_int_rate  loan_status  \\\n",
       "0    PERSONAL          B      12000          10.65            0   \n",
       "1   EDUCATION          B      14400          11.36            0   \n",
       "2    PERSONAL          A      10000           7.51            0   \n",
       "3     VENTURE          B       7500          10.08            0   \n",
       "4    PERSONAL          A      10000           7.51            0   \n",
       "5     VENTURE          A       6000           5.79            0   \n",
       "\n",
       "   loan_percent_income cb_person_default_on_file  cb_person_cred_hist_length  \n",
       "0                 0.29                         N                           7  \n",
       "1                 0.19                         N                           7  \n",
       "2                 0.20                         N                           3  \n",
       "3                 0.09                         N                           9  \n",
       "4                 0.30                         N                           8  \n",
       "5                 0.15                         N                           8  "
      ]
     },
     "execution_count": 2,
     "metadata": {},
     "output_type": "execute_result"
    }
   ],
   "source": [
    "data= pd.read_csv('/kaggle/input/credit-risk/credit_risk_dataset.csv')\n",
    "data.sample(6).reset_index(drop=True)"
   ]
  },
  {
   "cell_type": "markdown",
   "id": "f0074748",
   "metadata": {
    "papermill": {
     "duration": 0.011528,
     "end_time": "2023-12-16T15:02:24.271394",
     "exception": false,
     "start_time": "2023-12-16T15:02:24.259866",
     "status": "completed"
    },
    "tags": []
   },
   "source": [
    "# **Data set Description**\n",
    "* **person_age**: Age of the individual applying for the loan.\n",
    "* **person_income**: Annual income of the individual.\n",
    "* **person_home_ownership**: Type of home ownership of the individual.\n",
    "* **rent**: The individual is currently renting a property.\n",
    "* **mortgage**: The individual has a mortgage on the property they own.\n",
    "* **own**: The individual owns their home outright.\n",
    "* **other**: Other categories of home ownership that may be specific to the dataset.\n",
    "* **person_emp_length**: Employment length of the individual in years.\n",
    "* **loan_intent**: The intent behind the loan application.\n",
    "* **loan_grade**: The grade assigned to the loan based on the creditworthiness of the borrower.\n",
    "   * A: The borrower has a high creditworthiness, indicating low risk.\n",
    "   * B: The borrower is relatively low-risk, but not as creditworthy as Grade A.\n",
    "   * C: The borrower's creditworthiness is moderate.\n",
    "   * D: The borrower is considered to have higher risk compared to previous grades.\n",
    "   * E: The borrower's creditworthiness is lower, indicating a higher risk.\n",
    "   * F: The borrower poses a significant credit risk.\n",
    "   * G: The borrower's creditworthiness is the lowest, signifying the highest risk.\n",
    "* **loan_amnt**: The loan amount requested by the individual.\n",
    "* **loan_int_rate**: The interest rate associated with the loan.\n",
    "* **loan_status**: Loan status, where 0 indicates non-default and 1 indicates default.\n",
    "  * 0: Non-default - The borrower successfully repaid the loan as agreed, and there was no default.\n",
    "  * 1: Default - The borrower failed to repay the loan according to the agreed-upon terms and defaulted on the loan.\n",
    "* **loan_percent_income**: The percentage of income represented by the loan amount.\n",
    "* **cb_person_default_on_fil**e: Historical default of the individual as per credit bureau records.\n",
    "  * Y: The individual has a history of defaults on their credit file.\n",
    "  * N: The individual does not have any history of defaults.\n",
    "* **cb_preson_cred_hist_length**: The length of credit history for the individual.\n"
   ]
  },
  {
   "cell_type": "markdown",
   "id": "847d9f95",
   "metadata": {
    "papermill": {
     "duration": 0.011398,
     "end_time": "2023-12-16T15:02:24.294702",
     "exception": false,
     "start_time": "2023-12-16T15:02:24.283304",
     "status": "completed"
    },
    "tags": []
   },
   "source": [
    "# **Exploring the data se**t"
   ]
  },
  {
   "cell_type": "code",
   "execution_count": 3,
   "id": "1fc51f5a",
   "metadata": {
    "execution": {
     "iopub.execute_input": "2023-12-16T15:02:24.322233Z",
     "iopub.status.busy": "2023-12-16T15:02:24.321159Z",
     "iopub.status.idle": "2023-12-16T15:02:24.339193Z",
     "shell.execute_reply": "2023-12-16T15:02:24.337894Z"
    },
    "papermill": {
     "duration": 0.035294,
     "end_time": "2023-12-16T15:02:24.341990",
     "exception": false,
     "start_time": "2023-12-16T15:02:24.306696",
     "status": "completed"
    },
    "tags": []
   },
   "outputs": [
    {
     "data": {
      "text/html": [
       "<div>\n",
       "<style scoped>\n",
       "    .dataframe tbody tr th:only-of-type {\n",
       "        vertical-align: middle;\n",
       "    }\n",
       "\n",
       "    .dataframe tbody tr th {\n",
       "        vertical-align: top;\n",
       "    }\n",
       "\n",
       "    .dataframe thead th {\n",
       "        text-align: right;\n",
       "    }\n",
       "</style>\n",
       "<table border=\"1\" class=\"dataframe\">\n",
       "  <thead>\n",
       "    <tr style=\"text-align: right;\">\n",
       "      <th></th>\n",
       "      <th>person_age</th>\n",
       "      <th>person_income</th>\n",
       "      <th>person_home_ownership</th>\n",
       "      <th>person_emp_length</th>\n",
       "      <th>loan_intent</th>\n",
       "      <th>loan_grade</th>\n",
       "      <th>loan_amnt</th>\n",
       "      <th>loan_int_rate</th>\n",
       "      <th>loan_status</th>\n",
       "      <th>loan_percent_income</th>\n",
       "      <th>cb_person_default_on_file</th>\n",
       "      <th>cb_person_cred_hist_length</th>\n",
       "    </tr>\n",
       "  </thead>\n",
       "  <tbody>\n",
       "    <tr>\n",
       "      <th>0</th>\n",
       "      <td>22</td>\n",
       "      <td>59000</td>\n",
       "      <td>RENT</td>\n",
       "      <td>123.0</td>\n",
       "      <td>PERSONAL</td>\n",
       "      <td>D</td>\n",
       "      <td>35000</td>\n",
       "      <td>16.02</td>\n",
       "      <td>1</td>\n",
       "      <td>0.59</td>\n",
       "      <td>Y</td>\n",
       "      <td>3</td>\n",
       "    </tr>\n",
       "    <tr>\n",
       "      <th>1</th>\n",
       "      <td>21</td>\n",
       "      <td>9600</td>\n",
       "      <td>OWN</td>\n",
       "      <td>5.0</td>\n",
       "      <td>EDUCATION</td>\n",
       "      <td>B</td>\n",
       "      <td>1000</td>\n",
       "      <td>11.14</td>\n",
       "      <td>0</td>\n",
       "      <td>0.10</td>\n",
       "      <td>N</td>\n",
       "      <td>2</td>\n",
       "    </tr>\n",
       "    <tr>\n",
       "      <th>2</th>\n",
       "      <td>25</td>\n",
       "      <td>9600</td>\n",
       "      <td>MORTGAGE</td>\n",
       "      <td>1.0</td>\n",
       "      <td>MEDICAL</td>\n",
       "      <td>C</td>\n",
       "      <td>5500</td>\n",
       "      <td>12.87</td>\n",
       "      <td>1</td>\n",
       "      <td>0.57</td>\n",
       "      <td>N</td>\n",
       "      <td>3</td>\n",
       "    </tr>\n",
       "    <tr>\n",
       "      <th>3</th>\n",
       "      <td>23</td>\n",
       "      <td>65500</td>\n",
       "      <td>RENT</td>\n",
       "      <td>4.0</td>\n",
       "      <td>MEDICAL</td>\n",
       "      <td>C</td>\n",
       "      <td>35000</td>\n",
       "      <td>15.23</td>\n",
       "      <td>1</td>\n",
       "      <td>0.53</td>\n",
       "      <td>N</td>\n",
       "      <td>2</td>\n",
       "    </tr>\n",
       "    <tr>\n",
       "      <th>4</th>\n",
       "      <td>24</td>\n",
       "      <td>54400</td>\n",
       "      <td>RENT</td>\n",
       "      <td>8.0</td>\n",
       "      <td>MEDICAL</td>\n",
       "      <td>C</td>\n",
       "      <td>35000</td>\n",
       "      <td>14.27</td>\n",
       "      <td>1</td>\n",
       "      <td>0.55</td>\n",
       "      <td>Y</td>\n",
       "      <td>4</td>\n",
       "    </tr>\n",
       "  </tbody>\n",
       "</table>\n",
       "</div>"
      ],
      "text/plain": [
       "   person_age  person_income person_home_ownership  person_emp_length  \\\n",
       "0          22          59000                  RENT              123.0   \n",
       "1          21           9600                   OWN                5.0   \n",
       "2          25           9600              MORTGAGE                1.0   \n",
       "3          23          65500                  RENT                4.0   \n",
       "4          24          54400                  RENT                8.0   \n",
       "\n",
       "  loan_intent loan_grade  loan_amnt  loan_int_rate  loan_status  \\\n",
       "0    PERSONAL          D      35000          16.02            1   \n",
       "1   EDUCATION          B       1000          11.14            0   \n",
       "2     MEDICAL          C       5500          12.87            1   \n",
       "3     MEDICAL          C      35000          15.23            1   \n",
       "4     MEDICAL          C      35000          14.27            1   \n",
       "\n",
       "   loan_percent_income cb_person_default_on_file  cb_person_cred_hist_length  \n",
       "0                 0.59                         Y                           3  \n",
       "1                 0.10                         N                           2  \n",
       "2                 0.57                         N                           3  \n",
       "3                 0.53                         N                           2  \n",
       "4                 0.55                         Y                           4  "
      ]
     },
     "execution_count": 3,
     "metadata": {},
     "output_type": "execute_result"
    }
   ],
   "source": [
    "data.head()"
   ]
  },
  {
   "cell_type": "code",
   "execution_count": 4,
   "id": "b5e105d2",
   "metadata": {
    "execution": {
     "iopub.execute_input": "2023-12-16T15:02:24.368761Z",
     "iopub.status.busy": "2023-12-16T15:02:24.368310Z",
     "iopub.status.idle": "2023-12-16T15:02:24.387626Z",
     "shell.execute_reply": "2023-12-16T15:02:24.386462Z"
    },
    "papermill": {
     "duration": 0.0357,
     "end_time": "2023-12-16T15:02:24.390153",
     "exception": false,
     "start_time": "2023-12-16T15:02:24.354453",
     "status": "completed"
    },
    "tags": []
   },
   "outputs": [
    {
     "data": {
      "text/html": [
       "<div>\n",
       "<style scoped>\n",
       "    .dataframe tbody tr th:only-of-type {\n",
       "        vertical-align: middle;\n",
       "    }\n",
       "\n",
       "    .dataframe tbody tr th {\n",
       "        vertical-align: top;\n",
       "    }\n",
       "\n",
       "    .dataframe thead th {\n",
       "        text-align: right;\n",
       "    }\n",
       "</style>\n",
       "<table border=\"1\" class=\"dataframe\">\n",
       "  <thead>\n",
       "    <tr style=\"text-align: right;\">\n",
       "      <th></th>\n",
       "      <th>person_age</th>\n",
       "      <th>person_income</th>\n",
       "      <th>person_home_ownership</th>\n",
       "      <th>person_emp_length</th>\n",
       "      <th>loan_intent</th>\n",
       "      <th>loan_grade</th>\n",
       "      <th>loan_amnt</th>\n",
       "      <th>loan_int_rate</th>\n",
       "      <th>loan_status</th>\n",
       "      <th>loan_percent_income</th>\n",
       "      <th>cb_person_default_on_file</th>\n",
       "      <th>cb_person_cred_hist_length</th>\n",
       "    </tr>\n",
       "  </thead>\n",
       "  <tbody>\n",
       "    <tr>\n",
       "      <th>32576</th>\n",
       "      <td>57</td>\n",
       "      <td>53000</td>\n",
       "      <td>MORTGAGE</td>\n",
       "      <td>1.0</td>\n",
       "      <td>PERSONAL</td>\n",
       "      <td>C</td>\n",
       "      <td>5800</td>\n",
       "      <td>13.16</td>\n",
       "      <td>0</td>\n",
       "      <td>0.11</td>\n",
       "      <td>N</td>\n",
       "      <td>30</td>\n",
       "    </tr>\n",
       "    <tr>\n",
       "      <th>32577</th>\n",
       "      <td>54</td>\n",
       "      <td>120000</td>\n",
       "      <td>MORTGAGE</td>\n",
       "      <td>4.0</td>\n",
       "      <td>PERSONAL</td>\n",
       "      <td>A</td>\n",
       "      <td>17625</td>\n",
       "      <td>7.49</td>\n",
       "      <td>0</td>\n",
       "      <td>0.15</td>\n",
       "      <td>N</td>\n",
       "      <td>19</td>\n",
       "    </tr>\n",
       "    <tr>\n",
       "      <th>32578</th>\n",
       "      <td>65</td>\n",
       "      <td>76000</td>\n",
       "      <td>RENT</td>\n",
       "      <td>3.0</td>\n",
       "      <td>HOMEIMPROVEMENT</td>\n",
       "      <td>B</td>\n",
       "      <td>35000</td>\n",
       "      <td>10.99</td>\n",
       "      <td>1</td>\n",
       "      <td>0.46</td>\n",
       "      <td>N</td>\n",
       "      <td>28</td>\n",
       "    </tr>\n",
       "    <tr>\n",
       "      <th>32579</th>\n",
       "      <td>56</td>\n",
       "      <td>150000</td>\n",
       "      <td>MORTGAGE</td>\n",
       "      <td>5.0</td>\n",
       "      <td>PERSONAL</td>\n",
       "      <td>B</td>\n",
       "      <td>15000</td>\n",
       "      <td>11.48</td>\n",
       "      <td>0</td>\n",
       "      <td>0.10</td>\n",
       "      <td>N</td>\n",
       "      <td>26</td>\n",
       "    </tr>\n",
       "    <tr>\n",
       "      <th>32580</th>\n",
       "      <td>66</td>\n",
       "      <td>42000</td>\n",
       "      <td>RENT</td>\n",
       "      <td>2.0</td>\n",
       "      <td>MEDICAL</td>\n",
       "      <td>B</td>\n",
       "      <td>6475</td>\n",
       "      <td>9.99</td>\n",
       "      <td>0</td>\n",
       "      <td>0.15</td>\n",
       "      <td>N</td>\n",
       "      <td>30</td>\n",
       "    </tr>\n",
       "  </tbody>\n",
       "</table>\n",
       "</div>"
      ],
      "text/plain": [
       "       person_age  person_income person_home_ownership  person_emp_length  \\\n",
       "32576          57          53000              MORTGAGE                1.0   \n",
       "32577          54         120000              MORTGAGE                4.0   \n",
       "32578          65          76000                  RENT                3.0   \n",
       "32579          56         150000              MORTGAGE                5.0   \n",
       "32580          66          42000                  RENT                2.0   \n",
       "\n",
       "           loan_intent loan_grade  loan_amnt  loan_int_rate  loan_status  \\\n",
       "32576         PERSONAL          C       5800          13.16            0   \n",
       "32577         PERSONAL          A      17625           7.49            0   \n",
       "32578  HOMEIMPROVEMENT          B      35000          10.99            1   \n",
       "32579         PERSONAL          B      15000          11.48            0   \n",
       "32580          MEDICAL          B       6475           9.99            0   \n",
       "\n",
       "       loan_percent_income cb_person_default_on_file  \\\n",
       "32576                 0.11                         N   \n",
       "32577                 0.15                         N   \n",
       "32578                 0.46                         N   \n",
       "32579                 0.10                         N   \n",
       "32580                 0.15                         N   \n",
       "\n",
       "       cb_person_cred_hist_length  \n",
       "32576                          30  \n",
       "32577                          19  \n",
       "32578                          28  \n",
       "32579                          26  \n",
       "32580                          30  "
      ]
     },
     "execution_count": 4,
     "metadata": {},
     "output_type": "execute_result"
    }
   ],
   "source": [
    "data.tail()"
   ]
  },
  {
   "cell_type": "code",
   "execution_count": 5,
   "id": "5988d393",
   "metadata": {
    "execution": {
     "iopub.execute_input": "2023-12-16T15:02:24.417676Z",
     "iopub.status.busy": "2023-12-16T15:02:24.416760Z",
     "iopub.status.idle": "2023-12-16T15:02:24.464765Z",
     "shell.execute_reply": "2023-12-16T15:02:24.463559Z"
    },
    "papermill": {
     "duration": 0.064431,
     "end_time": "2023-12-16T15:02:24.467217",
     "exception": false,
     "start_time": "2023-12-16T15:02:24.402786",
     "status": "completed"
    },
    "tags": []
   },
   "outputs": [
    {
     "data": {
      "text/html": [
       "<div>\n",
       "<style scoped>\n",
       "    .dataframe tbody tr th:only-of-type {\n",
       "        vertical-align: middle;\n",
       "    }\n",
       "\n",
       "    .dataframe tbody tr th {\n",
       "        vertical-align: top;\n",
       "    }\n",
       "\n",
       "    .dataframe thead th {\n",
       "        text-align: right;\n",
       "    }\n",
       "</style>\n",
       "<table border=\"1\" class=\"dataframe\">\n",
       "  <thead>\n",
       "    <tr style=\"text-align: right;\">\n",
       "      <th></th>\n",
       "      <th>person_age</th>\n",
       "      <th>person_income</th>\n",
       "      <th>person_emp_length</th>\n",
       "      <th>loan_amnt</th>\n",
       "      <th>loan_int_rate</th>\n",
       "      <th>loan_status</th>\n",
       "      <th>loan_percent_income</th>\n",
       "      <th>cb_person_cred_hist_length</th>\n",
       "    </tr>\n",
       "  </thead>\n",
       "  <tbody>\n",
       "    <tr>\n",
       "      <th>count</th>\n",
       "      <td>32581.000000</td>\n",
       "      <td>3.258100e+04</td>\n",
       "      <td>31686.000000</td>\n",
       "      <td>32581.000000</td>\n",
       "      <td>29465.000000</td>\n",
       "      <td>32581.000000</td>\n",
       "      <td>32581.000000</td>\n",
       "      <td>32581.000000</td>\n",
       "    </tr>\n",
       "    <tr>\n",
       "      <th>mean</th>\n",
       "      <td>27.734600</td>\n",
       "      <td>6.607485e+04</td>\n",
       "      <td>4.789686</td>\n",
       "      <td>9589.371106</td>\n",
       "      <td>11.011695</td>\n",
       "      <td>0.218164</td>\n",
       "      <td>0.170203</td>\n",
       "      <td>5.804211</td>\n",
       "    </tr>\n",
       "    <tr>\n",
       "      <th>std</th>\n",
       "      <td>6.348078</td>\n",
       "      <td>6.198312e+04</td>\n",
       "      <td>4.142630</td>\n",
       "      <td>6322.086646</td>\n",
       "      <td>3.240459</td>\n",
       "      <td>0.413006</td>\n",
       "      <td>0.106782</td>\n",
       "      <td>4.055001</td>\n",
       "    </tr>\n",
       "    <tr>\n",
       "      <th>min</th>\n",
       "      <td>20.000000</td>\n",
       "      <td>4.000000e+03</td>\n",
       "      <td>0.000000</td>\n",
       "      <td>500.000000</td>\n",
       "      <td>5.420000</td>\n",
       "      <td>0.000000</td>\n",
       "      <td>0.000000</td>\n",
       "      <td>2.000000</td>\n",
       "    </tr>\n",
       "    <tr>\n",
       "      <th>25%</th>\n",
       "      <td>23.000000</td>\n",
       "      <td>3.850000e+04</td>\n",
       "      <td>2.000000</td>\n",
       "      <td>5000.000000</td>\n",
       "      <td>7.900000</td>\n",
       "      <td>0.000000</td>\n",
       "      <td>0.090000</td>\n",
       "      <td>3.000000</td>\n",
       "    </tr>\n",
       "    <tr>\n",
       "      <th>50%</th>\n",
       "      <td>26.000000</td>\n",
       "      <td>5.500000e+04</td>\n",
       "      <td>4.000000</td>\n",
       "      <td>8000.000000</td>\n",
       "      <td>10.990000</td>\n",
       "      <td>0.000000</td>\n",
       "      <td>0.150000</td>\n",
       "      <td>4.000000</td>\n",
       "    </tr>\n",
       "    <tr>\n",
       "      <th>75%</th>\n",
       "      <td>30.000000</td>\n",
       "      <td>7.920000e+04</td>\n",
       "      <td>7.000000</td>\n",
       "      <td>12200.000000</td>\n",
       "      <td>13.470000</td>\n",
       "      <td>0.000000</td>\n",
       "      <td>0.230000</td>\n",
       "      <td>8.000000</td>\n",
       "    </tr>\n",
       "    <tr>\n",
       "      <th>max</th>\n",
       "      <td>144.000000</td>\n",
       "      <td>6.000000e+06</td>\n",
       "      <td>123.000000</td>\n",
       "      <td>35000.000000</td>\n",
       "      <td>23.220000</td>\n",
       "      <td>1.000000</td>\n",
       "      <td>0.830000</td>\n",
       "      <td>30.000000</td>\n",
       "    </tr>\n",
       "  </tbody>\n",
       "</table>\n",
       "</div>"
      ],
      "text/plain": [
       "         person_age  person_income  person_emp_length     loan_amnt  \\\n",
       "count  32581.000000   3.258100e+04       31686.000000  32581.000000   \n",
       "mean      27.734600   6.607485e+04           4.789686   9589.371106   \n",
       "std        6.348078   6.198312e+04           4.142630   6322.086646   \n",
       "min       20.000000   4.000000e+03           0.000000    500.000000   \n",
       "25%       23.000000   3.850000e+04           2.000000   5000.000000   \n",
       "50%       26.000000   5.500000e+04           4.000000   8000.000000   \n",
       "75%       30.000000   7.920000e+04           7.000000  12200.000000   \n",
       "max      144.000000   6.000000e+06         123.000000  35000.000000   \n",
       "\n",
       "       loan_int_rate   loan_status  loan_percent_income  \\\n",
       "count   29465.000000  32581.000000         32581.000000   \n",
       "mean       11.011695      0.218164             0.170203   \n",
       "std         3.240459      0.413006             0.106782   \n",
       "min         5.420000      0.000000             0.000000   \n",
       "25%         7.900000      0.000000             0.090000   \n",
       "50%        10.990000      0.000000             0.150000   \n",
       "75%        13.470000      0.000000             0.230000   \n",
       "max        23.220000      1.000000             0.830000   \n",
       "\n",
       "       cb_person_cred_hist_length  \n",
       "count                32581.000000  \n",
       "mean                     5.804211  \n",
       "std                      4.055001  \n",
       "min                      2.000000  \n",
       "25%                      3.000000  \n",
       "50%                      4.000000  \n",
       "75%                      8.000000  \n",
       "max                     30.000000  "
      ]
     },
     "execution_count": 5,
     "metadata": {},
     "output_type": "execute_result"
    }
   ],
   "source": [
    "data.describe()"
   ]
  },
  {
   "cell_type": "code",
   "execution_count": 6,
   "id": "cbe53962",
   "metadata": {
    "execution": {
     "iopub.execute_input": "2023-12-16T15:02:24.495684Z",
     "iopub.status.busy": "2023-12-16T15:02:24.494652Z",
     "iopub.status.idle": "2023-12-16T15:02:24.535803Z",
     "shell.execute_reply": "2023-12-16T15:02:24.534517Z"
    },
    "papermill": {
     "duration": 0.058608,
     "end_time": "2023-12-16T15:02:24.538800",
     "exception": false,
     "start_time": "2023-12-16T15:02:24.480192",
     "status": "completed"
    },
    "tags": []
   },
   "outputs": [
    {
     "name": "stdout",
     "output_type": "stream",
     "text": [
      "<class 'pandas.core.frame.DataFrame'>\n",
      "RangeIndex: 32581 entries, 0 to 32580\n",
      "Data columns (total 12 columns):\n",
      " #   Column                      Non-Null Count  Dtype  \n",
      "---  ------                      --------------  -----  \n",
      " 0   person_age                  32581 non-null  int64  \n",
      " 1   person_income               32581 non-null  int64  \n",
      " 2   person_home_ownership       32581 non-null  object \n",
      " 3   person_emp_length           31686 non-null  float64\n",
      " 4   loan_intent                 32581 non-null  object \n",
      " 5   loan_grade                  32581 non-null  object \n",
      " 6   loan_amnt                   32581 non-null  int64  \n",
      " 7   loan_int_rate               29465 non-null  float64\n",
      " 8   loan_status                 32581 non-null  int64  \n",
      " 9   loan_percent_income         32581 non-null  float64\n",
      " 10  cb_person_default_on_file   32581 non-null  object \n",
      " 11  cb_person_cred_hist_length  32581 non-null  int64  \n",
      "dtypes: float64(3), int64(5), object(4)\n",
      "memory usage: 3.0+ MB\n"
     ]
    }
   ],
   "source": [
    "data.info()"
   ]
  },
  {
   "cell_type": "markdown",
   "id": "78dd7192",
   "metadata": {
    "papermill": {
     "duration": 0.012922,
     "end_time": "2023-12-16T15:02:24.565137",
     "exception": false,
     "start_time": "2023-12-16T15:02:24.552215",
     "status": "completed"
    },
    "tags": []
   },
   "source": [
    "# **Checking the dataset for missing values and getting an overal count on the missing data**"
   ]
  },
  {
   "cell_type": "code",
   "execution_count": 7,
   "id": "e4994857",
   "metadata": {
    "execution": {
     "iopub.execute_input": "2023-12-16T15:02:24.593426Z",
     "iopub.status.busy": "2023-12-16T15:02:24.593027Z",
     "iopub.status.idle": "2023-12-16T15:02:24.616374Z",
     "shell.execute_reply": "2023-12-16T15:02:24.615153Z"
    },
    "papermill": {
     "duration": 0.040716,
     "end_time": "2023-12-16T15:02:24.619085",
     "exception": false,
     "start_time": "2023-12-16T15:02:24.578369",
     "status": "completed"
    },
    "tags": []
   },
   "outputs": [
    {
     "data": {
      "text/plain": [
       "person_age                       0\n",
       "person_income                    0\n",
       "person_home_ownership            0\n",
       "person_emp_length              895\n",
       "loan_intent                      0\n",
       "loan_grade                       0\n",
       "loan_amnt                        0\n",
       "loan_int_rate                 3116\n",
       "loan_status                      0\n",
       "loan_percent_income              0\n",
       "cb_person_default_on_file        0\n",
       "cb_person_cred_hist_length       0\n",
       "dtype: int64"
      ]
     },
     "execution_count": 7,
     "metadata": {},
     "output_type": "execute_result"
    }
   ],
   "source": [
    "data.isnull().sum()"
   ]
  },
  {
   "cell_type": "markdown",
   "id": "6a0c7a6b",
   "metadata": {
    "papermill": {
     "duration": 0.013471,
     "end_time": "2023-12-16T15:02:24.645883",
     "exception": false,
     "start_time": "2023-12-16T15:02:24.632412",
     "status": "completed"
    },
    "tags": []
   },
   "source": [
    " **The misssing records where droped from the dataset**"
   ]
  },
  {
   "cell_type": "code",
   "execution_count": 8,
   "id": "2b034596",
   "metadata": {
    "execution": {
     "iopub.execute_input": "2023-12-16T15:02:24.674807Z",
     "iopub.status.busy": "2023-12-16T15:02:24.674152Z",
     "iopub.status.idle": "2023-12-16T15:02:24.697012Z",
     "shell.execute_reply": "2023-12-16T15:02:24.695768Z"
    },
    "papermill": {
     "duration": 0.041066,
     "end_time": "2023-12-16T15:02:24.700244",
     "exception": false,
     "start_time": "2023-12-16T15:02:24.659178",
     "status": "completed"
    },
    "tags": []
   },
   "outputs": [],
   "source": [
    "data.dropna(axis=0,inplace=True)"
   ]
  },
  {
   "cell_type": "code",
   "execution_count": 9,
   "id": "2040f048",
   "metadata": {
    "execution": {
     "iopub.execute_input": "2023-12-16T15:02:24.729824Z",
     "iopub.status.busy": "2023-12-16T15:02:24.729376Z",
     "iopub.status.idle": "2023-12-16T15:02:24.751758Z",
     "shell.execute_reply": "2023-12-16T15:02:24.750540Z"
    },
    "papermill": {
     "duration": 0.040109,
     "end_time": "2023-12-16T15:02:24.754485",
     "exception": false,
     "start_time": "2023-12-16T15:02:24.714376",
     "status": "completed"
    },
    "tags": []
   },
   "outputs": [
    {
     "data": {
      "text/plain": [
       "person_age                    0\n",
       "person_income                 0\n",
       "person_home_ownership         0\n",
       "person_emp_length             0\n",
       "loan_intent                   0\n",
       "loan_grade                    0\n",
       "loan_amnt                     0\n",
       "loan_int_rate                 0\n",
       "loan_status                   0\n",
       "loan_percent_income           0\n",
       "cb_person_default_on_file     0\n",
       "cb_person_cred_hist_length    0\n",
       "dtype: int64"
      ]
     },
     "execution_count": 9,
     "metadata": {},
     "output_type": "execute_result"
    }
   ],
   "source": [
    "data.isnull().sum()"
   ]
  },
  {
   "cell_type": "markdown",
   "id": "97ded918",
   "metadata": {
    "papermill": {
     "duration": 0.013371,
     "end_time": "2023-12-16T15:02:24.781590",
     "exception": false,
     "start_time": "2023-12-16T15:02:24.768219",
     "status": "completed"
    },
    "tags": []
   },
   "source": [
    "**To obtain credile data it is necessery to chech for duplictes** "
   ]
  },
  {
   "cell_type": "code",
   "execution_count": 10,
   "id": "e0b6a50b",
   "metadata": {
    "execution": {
     "iopub.execute_input": "2023-12-16T15:02:24.810852Z",
     "iopub.status.busy": "2023-12-16T15:02:24.810423Z",
     "iopub.status.idle": "2023-12-16T15:02:24.835447Z",
     "shell.execute_reply": "2023-12-16T15:02:24.834182Z"
    },
    "papermill": {
     "duration": 0.043267,
     "end_time": "2023-12-16T15:02:24.838506",
     "exception": false,
     "start_time": "2023-12-16T15:02:24.795239",
     "status": "completed"
    },
    "tags": []
   },
   "outputs": [
    {
     "data": {
      "text/plain": [
       "person_age                      57\n",
       "person_income                 3835\n",
       "person_home_ownership            4\n",
       "person_emp_length               36\n",
       "loan_intent                      6\n",
       "loan_grade                       7\n",
       "loan_amnt                      728\n",
       "loan_int_rate                  348\n",
       "loan_status                      2\n",
       "loan_percent_income             77\n",
       "cb_person_default_on_file        2\n",
       "cb_person_cred_hist_length      29\n",
       "dtype: int64"
      ]
     },
     "execution_count": 10,
     "metadata": {},
     "output_type": "execute_result"
    }
   ],
   "source": [
    "data.nunique()"
   ]
  },
  {
   "cell_type": "code",
   "execution_count": 11,
   "id": "d8fee6c8",
   "metadata": {
    "execution": {
     "iopub.execute_input": "2023-12-16T15:02:24.868210Z",
     "iopub.status.busy": "2023-12-16T15:02:24.867757Z",
     "iopub.status.idle": "2023-12-16T15:02:24.894450Z",
     "shell.execute_reply": "2023-12-16T15:02:24.893341Z"
    },
    "papermill": {
     "duration": 0.044917,
     "end_time": "2023-12-16T15:02:24.897430",
     "exception": false,
     "start_time": "2023-12-16T15:02:24.852513",
     "status": "completed"
    },
    "tags": []
   },
   "outputs": [
    {
     "data": {
      "text/plain": [
       "137"
      ]
     },
     "execution_count": 11,
     "metadata": {},
     "output_type": "execute_result"
    }
   ],
   "source": [
    "data.duplicated().sum()"
   ]
  },
  {
   "cell_type": "markdown",
   "id": "c4f37afa",
   "metadata": {
    "papermill": {
     "duration": 0.015061,
     "end_time": "2023-12-16T15:02:24.927148",
     "exception": false,
     "start_time": "2023-12-16T15:02:24.912087",
     "status": "completed"
    },
    "tags": []
   },
   "source": [
    "# **Looking for outliers and dealing with them**"
   ]
  },
  {
   "cell_type": "code",
   "execution_count": 12,
   "id": "3d799f6d",
   "metadata": {
    "execution": {
     "iopub.execute_input": "2023-12-16T15:02:24.957247Z",
     "iopub.status.busy": "2023-12-16T15:02:24.956845Z",
     "iopub.status.idle": "2023-12-16T15:02:24.972448Z",
     "shell.execute_reply": "2023-12-16T15:02:24.970974Z"
    },
    "papermill": {
     "duration": 0.033761,
     "end_time": "2023-12-16T15:02:24.975115",
     "exception": false,
     "start_time": "2023-12-16T15:02:24.941354",
     "status": "completed"
    },
    "tags": []
   },
   "outputs": [
    {
     "name": "stdout",
     "output_type": "stream",
     "text": [
      "The maximum Age 144\n",
      "The minimum Age 20\n",
      "Peple with age between 1 and 18: 0\n",
      "Peple with age between 19 and 26: 15682\n",
      "Peple with age between 27 and 36: 10422\n",
      "Peple with age between 37 and 46: 2054\n",
      "Peple with age between 47 and 56: 372\n",
      "Peple with age between 57 and 66: 87\n"
     ]
    }
   ],
   "source": [
    "max_age = data['person_age'].max()\n",
    "min_age = data['person_age'].min()\n",
    "print(f\"The maximum Age {max_age}\")\n",
    "print(f\"The minimum Age {min_age}\")\n",
    "\n",
    "# people with an age between x and y\n",
    "def age_group(arr):\n",
    "    lenarr = len(arr)\n",
    "    for i in range(0,lenarr-1):\n",
    "        next = arr[i]+1\n",
    "        num_people = data['person_age'].between(next,arr[i+1]).sum()\n",
    "        print(f'Peple with age between {next} and {arr[i+1]}: {num_people}')\n",
    "        \n",
    "age_group([0 ,18, 26, 36, 46, 56, 66])\n"
   ]
  },
  {
   "cell_type": "code",
   "execution_count": 13,
   "id": "b04a9751",
   "metadata": {
    "execution": {
     "iopub.execute_input": "2023-12-16T15:02:25.006161Z",
     "iopub.status.busy": "2023-12-16T15:02:25.005751Z",
     "iopub.status.idle": "2023-12-16T15:02:25.451004Z",
     "shell.execute_reply": "2023-12-16T15:02:25.449837Z"
    },
    "papermill": {
     "duration": 0.463437,
     "end_time": "2023-12-16T15:02:25.453434",
     "exception": false,
     "start_time": "2023-12-16T15:02:24.989997",
     "status": "completed"
    },
    "tags": []
   },
   "outputs": [
    {
     "data": {
      "text/plain": [
       "<BarContainer object of 57 artists>"
      ]
     },
     "execution_count": 13,
     "metadata": {},
     "output_type": "execute_result"
    },
    {
     "data": {
      "image/png": "[encoded data removed]",
      "text/plain": [
       "<Figure size 1500x500 with 1 Axes>"
      ]
     },
     "metadata": {},
     "output_type": "display_data"
    }
   ],
   "source": [
    "import matplotlib.pyplot as plt \n",
    "verti = data['person_age'].value_counts().values\n",
    "hori = data['person_age'].value_counts().index\n",
    "fig = plt.figure(figsize = (15, 5))\n",
    "plt.bar(hori, verti)"
   ]
  },
  {
   "cell_type": "code",
   "execution_count": 14,
   "id": "2e45ebd8",
   "metadata": {
    "execution": {
     "iopub.execute_input": "2023-12-16T15:02:25.485398Z",
     "iopub.status.busy": "2023-12-16T15:02:25.484666Z",
     "iopub.status.idle": "2023-12-16T15:02:25.493572Z",
     "shell.execute_reply": "2023-12-16T15:02:25.492775Z"
    },
    "papermill": {
     "duration": 0.027399,
     "end_time": "2023-12-16T15:02:25.495697",
     "exception": false,
     "start_time": "2023-12-16T15:02:25.468298",
     "status": "completed"
    },
    "tags": []
   },
   "outputs": [
    {
     "data": {
      "text/plain": [
       "28"
      ]
     },
     "execution_count": 14,
     "metadata": {},
     "output_type": "execute_result"
    }
   ],
   "source": [
    "(data['person_age'].value_counts().values>60).sum()"
   ]
  },
  {
   "cell_type": "markdown",
   "id": "df373136",
   "metadata": {
    "papermill": {
     "duration": 0.014795,
     "end_time": "2023-12-16T15:02:25.525678",
     "exception": false,
     "start_time": "2023-12-16T15:02:25.510883",
     "status": "completed"
    },
    "tags": []
   },
   "source": [
    "**The above infromation casts a light on the age feature and shows that ages above 60 are outliers hence  the best way is to remove values with ages above 60**"
   ]
  },
  {
   "cell_type": "code",
   "execution_count": 15,
   "id": "fbd169db",
   "metadata": {
    "execution": {
     "iopub.execute_input": "2023-12-16T15:02:25.623559Z",
     "iopub.status.busy": "2023-12-16T15:02:25.623007Z",
     "iopub.status.idle": "2023-12-16T15:02:25.634570Z",
     "shell.execute_reply": "2023-12-16T15:02:25.633309Z"
    },
    "papermill": {
     "duration": 0.096657,
     "end_time": "2023-12-16T15:02:25.637487",
     "exception": false,
     "start_time": "2023-12-16T15:02:25.540830",
     "status": "completed"
    },
    "tags": []
   },
   "outputs": [],
   "source": [
    "data = data.drop(data[data['person_age'] > 60].index, axis=0)"
   ]
  },
  {
   "cell_type": "code",
   "execution_count": 16,
   "id": "124d1e3f",
   "metadata": {
    "execution": {
     "iopub.execute_input": "2023-12-16T15:02:25.671128Z",
     "iopub.status.busy": "2023-12-16T15:02:25.670653Z",
     "iopub.status.idle": "2023-12-16T15:02:25.680218Z",
     "shell.execute_reply": "2023-12-16T15:02:25.679026Z"
    },
    "papermill": {
     "duration": 0.02982,
     "end_time": "2023-12-16T15:02:25.682831",
     "exception": false,
     "start_time": "2023-12-16T15:02:25.653011",
     "status": "completed"
    },
    "tags": []
   },
   "outputs": [],
   "source": [
    "data['age_group'] = pd.cut(data['person_age'],\n",
    "                           bins=[20, 26, 36, 46, 56, 66],\n",
    "                           labels=['20-25', '26-35', '36-45', '46-55', '56-60'])"
   ]
  },
  {
   "cell_type": "code",
   "execution_count": 17,
   "id": "1dafcc39",
   "metadata": {
    "execution": {
     "iopub.execute_input": "2023-12-16T15:02:25.717095Z",
     "iopub.status.busy": "2023-12-16T15:02:25.716356Z",
     "iopub.status.idle": "2023-12-16T15:02:25.724725Z",
     "shell.execute_reply": "2023-12-16T15:02:25.723535Z"
    },
    "papermill": {
     "duration": 0.028784,
     "end_time": "2023-12-16T15:02:25.727152",
     "exception": false,
     "start_time": "2023-12-16T15:02:25.698368",
     "status": "completed"
    },
    "tags": []
   },
   "outputs": [
    {
     "data": {
      "text/plain": [
       "CategoricalDtype(categories=['20-25', '26-35', '36-45', '46-55', '56-60'], ordered=True)"
      ]
     },
     "execution_count": 17,
     "metadata": {},
     "output_type": "execute_result"
    }
   ],
   "source": [
    "data['age_group'].dtype"
   ]
  },
  {
   "cell_type": "code",
   "execution_count": 18,
   "id": "b62f0569",
   "metadata": {
    "execution": {
     "iopub.execute_input": "2023-12-16T15:02:25.760474Z",
     "iopub.status.busy": "2023-12-16T15:02:25.760063Z",
     "iopub.status.idle": "2023-12-16T15:02:25.781319Z",
     "shell.execute_reply": "2023-12-16T15:02:25.780084Z"
    },
    "papermill": {
     "duration": 0.041378,
     "end_time": "2023-12-16T15:02:25.784245",
     "exception": false,
     "start_time": "2023-12-16T15:02:25.742867",
     "status": "completed"
    },
    "tags": []
   },
   "outputs": [
    {
     "data": {
      "text/html": [
       "<div>\n",
       "<style scoped>\n",
       "    .dataframe tbody tr th:only-of-type {\n",
       "        vertical-align: middle;\n",
       "    }\n",
       "\n",
       "    .dataframe tbody tr th {\n",
       "        vertical-align: top;\n",
       "    }\n",
       "\n",
       "    .dataframe thead th {\n",
       "        text-align: right;\n",
       "    }\n",
       "</style>\n",
       "<table border=\"1\" class=\"dataframe\">\n",
       "  <thead>\n",
       "    <tr style=\"text-align: right;\">\n",
       "      <th></th>\n",
       "      <th>person_age</th>\n",
       "      <th>person_income</th>\n",
       "      <th>person_home_ownership</th>\n",
       "      <th>person_emp_length</th>\n",
       "      <th>loan_intent</th>\n",
       "      <th>loan_grade</th>\n",
       "      <th>loan_amnt</th>\n",
       "      <th>loan_int_rate</th>\n",
       "      <th>loan_status</th>\n",
       "      <th>loan_percent_income</th>\n",
       "      <th>cb_person_default_on_file</th>\n",
       "      <th>cb_person_cred_hist_length</th>\n",
       "      <th>age_group</th>\n",
       "    </tr>\n",
       "  </thead>\n",
       "  <tbody>\n",
       "    <tr>\n",
       "      <th>0</th>\n",
       "      <td>22</td>\n",
       "      <td>59000</td>\n",
       "      <td>RENT</td>\n",
       "      <td>123.0</td>\n",
       "      <td>PERSONAL</td>\n",
       "      <td>D</td>\n",
       "      <td>35000</td>\n",
       "      <td>16.02</td>\n",
       "      <td>1</td>\n",
       "      <td>0.59</td>\n",
       "      <td>Y</td>\n",
       "      <td>3</td>\n",
       "      <td>20-25</td>\n",
       "    </tr>\n",
       "    <tr>\n",
       "      <th>1</th>\n",
       "      <td>21</td>\n",
       "      <td>9600</td>\n",
       "      <td>OWN</td>\n",
       "      <td>5.0</td>\n",
       "      <td>EDUCATION</td>\n",
       "      <td>B</td>\n",
       "      <td>1000</td>\n",
       "      <td>11.14</td>\n",
       "      <td>0</td>\n",
       "      <td>0.10</td>\n",
       "      <td>N</td>\n",
       "      <td>2</td>\n",
       "      <td>20-25</td>\n",
       "    </tr>\n",
       "    <tr>\n",
       "      <th>2</th>\n",
       "      <td>25</td>\n",
       "      <td>9600</td>\n",
       "      <td>MORTGAGE</td>\n",
       "      <td>1.0</td>\n",
       "      <td>MEDICAL</td>\n",
       "      <td>C</td>\n",
       "      <td>5500</td>\n",
       "      <td>12.87</td>\n",
       "      <td>1</td>\n",
       "      <td>0.57</td>\n",
       "      <td>N</td>\n",
       "      <td>3</td>\n",
       "      <td>20-25</td>\n",
       "    </tr>\n",
       "    <tr>\n",
       "      <th>3</th>\n",
       "      <td>23</td>\n",
       "      <td>65500</td>\n",
       "      <td>RENT</td>\n",
       "      <td>4.0</td>\n",
       "      <td>MEDICAL</td>\n",
       "      <td>C</td>\n",
       "      <td>35000</td>\n",
       "      <td>15.23</td>\n",
       "      <td>1</td>\n",
       "      <td>0.53</td>\n",
       "      <td>N</td>\n",
       "      <td>2</td>\n",
       "      <td>20-25</td>\n",
       "    </tr>\n",
       "    <tr>\n",
       "      <th>4</th>\n",
       "      <td>24</td>\n",
       "      <td>54400</td>\n",
       "      <td>RENT</td>\n",
       "      <td>8.0</td>\n",
       "      <td>MEDICAL</td>\n",
       "      <td>C</td>\n",
       "      <td>35000</td>\n",
       "      <td>14.27</td>\n",
       "      <td>1</td>\n",
       "      <td>0.55</td>\n",
       "      <td>Y</td>\n",
       "      <td>4</td>\n",
       "      <td>20-25</td>\n",
       "    </tr>\n",
       "  </tbody>\n",
       "</table>\n",
       "</div>"
      ],
      "text/plain": [
       "   person_age  person_income person_home_ownership  person_emp_length  \\\n",
       "0          22          59000                  RENT              123.0   \n",
       "1          21           9600                   OWN                5.0   \n",
       "2          25           9600              MORTGAGE                1.0   \n",
       "3          23          65500                  RENT                4.0   \n",
       "4          24          54400                  RENT                8.0   \n",
       "\n",
       "  loan_intent loan_grade  loan_amnt  loan_int_rate  loan_status  \\\n",
       "0    PERSONAL          D      35000          16.02            1   \n",
       "1   EDUCATION          B       1000          11.14            0   \n",
       "2     MEDICAL          C       5500          12.87            1   \n",
       "3     MEDICAL          C      35000          15.23            1   \n",
       "4     MEDICAL          C      35000          14.27            1   \n",
       "\n",
       "   loan_percent_income cb_person_default_on_file  cb_person_cred_hist_length  \\\n",
       "0                 0.59                         Y                           3   \n",
       "1                 0.10                         N                           2   \n",
       "2                 0.57                         N                           3   \n",
       "3                 0.53                         N                           2   \n",
       "4                 0.55                         Y                           4   \n",
       "\n",
       "  age_group  \n",
       "0     20-25  \n",
       "1     20-25  \n",
       "2     20-25  \n",
       "3     20-25  \n",
       "4     20-25  "
      ]
     },
     "execution_count": 18,
     "metadata": {},
     "output_type": "execute_result"
    }
   ],
   "source": [
    "data.head()"
   ]
  },
  {
   "cell_type": "markdown",
   "id": "609ce0e0",
   "metadata": {
    "papermill": {
     "duration": 0.0159,
     "end_time": "2023-12-16T15:02:25.816777",
     "exception": false,
     "start_time": "2023-12-16T15:02:25.800877",
     "status": "completed"
    },
    "tags": []
   },
   "source": [
    "**The next feature is the income field**"
   ]
  },
  {
   "cell_type": "code",
   "execution_count": 19,
   "id": "bde93207",
   "metadata": {
    "execution": {
     "iopub.execute_input": "2023-12-16T15:02:25.851320Z",
     "iopub.status.busy": "2023-12-16T15:02:25.850916Z",
     "iopub.status.idle": "2023-12-16T15:02:25.865048Z",
     "shell.execute_reply": "2023-12-16T15:02:25.863798Z"
    },
    "papermill": {
     "duration": 0.03448,
     "end_time": "2023-12-16T15:02:25.867649",
     "exception": false,
     "start_time": "2023-12-16T15:02:25.833169",
     "status": "completed"
    },
    "tags": []
   },
   "outputs": [
    {
     "name": "stdout",
     "output_type": "stream",
     "text": [
      "The largest Income is 2039784\n",
      "The smallest Income is  4000\n",
      "Income between 1 and 25000: Number of people 1967\n",
      "Income between 25001 and 50000: Number of people 10181\n",
      "Income between 50001 and 75000: Number of people 8522\n",
      "Income between 75001 and 100000: Number of people 4187\n",
      "Income between 100001 and inf: Number of people 3723\n"
     ]
    }
   ],
   "source": [
    "max_income = data['person_income'].max()\n",
    "min_income = data['person_income'].min()\n",
    "\n",
    "print(f\"The largest Income is {max_income}\")\n",
    "print(f\"The smallest Income is  {min_income}\")\n",
    "\n",
    "#people with an income between x and y\n",
    "def income_group(arr):\n",
    "    lenarr = len(arr)\n",
    "    for i in range(0,lenarr-1):\n",
    "        next = arr[i]+1\n",
    "        num_people = data['person_income'].between(next,arr[i+1]).sum()\n",
    "        print(f'Income between {next} and {arr[i+1]}: Number of people {num_people}')\n",
    "        \n",
    "income_group([0, 25000, 50000, 75000, 100000,float('inf')])"
   ]
  },
  {
   "cell_type": "code",
   "execution_count": 20,
   "id": "14fd5ebf",
   "metadata": {
    "execution": {
     "iopub.execute_input": "2023-12-16T15:02:25.902673Z",
     "iopub.status.busy": "2023-12-16T15:02:25.902265Z",
     "iopub.status.idle": "2023-12-16T15:02:25.911424Z",
     "shell.execute_reply": "2023-12-16T15:02:25.910492Z"
    },
    "papermill": {
     "duration": 0.029457,
     "end_time": "2023-12-16T15:02:25.913712",
     "exception": false,
     "start_time": "2023-12-16T15:02:25.884255",
     "status": "completed"
    },
    "tags": []
   },
   "outputs": [],
   "source": [
    "data['income_group'] = pd.cut(data['person_income'],\n",
    "                              bins=[0, 25000, 50000, 75000, 100000, float('inf')],\n",
    "                              labels=['low', 'low-middle', 'middle', 'high-middle', 'high'])\n"
   ]
  },
  {
   "cell_type": "code",
   "execution_count": 21,
   "id": "6b3c1924",
   "metadata": {
    "execution": {
     "iopub.execute_input": "2023-12-16T15:02:25.950177Z",
     "iopub.status.busy": "2023-12-16T15:02:25.949705Z",
     "iopub.status.idle": "2023-12-16T15:02:25.960400Z",
     "shell.execute_reply": "2023-12-16T15:02:25.959181Z"
    },
    "papermill": {
     "duration": 0.032028,
     "end_time": "2023-12-16T15:02:25.962873",
     "exception": false,
     "start_time": "2023-12-16T15:02:25.930845",
     "status": "completed"
    },
    "tags": []
   },
   "outputs": [
    {
     "data": {
      "text/plain": [
       "0        middle\n",
       "1           low\n",
       "2           low\n",
       "3        middle\n",
       "4        middle\n",
       "          ...  \n",
       "32574    middle\n",
       "32575    middle\n",
       "32576    middle\n",
       "32577      high\n",
       "32579      high\n",
       "Name: income_group, Length: 28580, dtype: category\n",
       "Categories (5, object): ['low' < 'low-middle' < 'middle' < 'high-middle' < 'high']"
      ]
     },
     "execution_count": 21,
     "metadata": {},
     "output_type": "execute_result"
    }
   ],
   "source": [
    "data['income_group']"
   ]
  },
  {
   "cell_type": "markdown",
   "id": "c29dc78b",
   "metadata": {
    "papermill": {
     "duration": 0.016501,
     "end_time": "2023-12-16T15:02:25.996298",
     "exception": false,
     "start_time": "2023-12-16T15:02:25.979797",
     "status": "completed"
    },
    "tags": []
   },
   "source": [
    "**Checking and dealing with the loan ammount feature**"
   ]
  },
  {
   "cell_type": "code",
   "execution_count": 22,
   "id": "cb29fbdd",
   "metadata": {
    "execution": {
     "iopub.execute_input": "2023-12-16T15:02:26.032182Z",
     "iopub.status.busy": "2023-12-16T15:02:26.031758Z",
     "iopub.status.idle": "2023-12-16T15:02:26.045659Z",
     "shell.execute_reply": "2023-12-16T15:02:26.044074Z"
    },
    "papermill": {
     "duration": 0.03534,
     "end_time": "2023-12-16T15:02:26.048245",
     "exception": false,
     "start_time": "2023-12-16T15:02:26.012905",
     "status": "completed"
    },
    "tags": []
   },
   "outputs": [
    {
     "name": "stdout",
     "output_type": "stream",
     "text": [
      "maximum Loan Amount 35000\n",
      "minimum Loan Amount 500\n",
      "Loan Amount between 1 and 5000: Number of people 8170\n",
      "Loan Amount between 5001 and 10000: Number of people 10592\n",
      "Loan Amount between 10001 and 15000: Number of people 5421\n",
      "Loan Amount between 15001 and inf: Number of people 4397\n"
     ]
    }
   ],
   "source": [
    "max_loan_amount = data['loan_amnt'].max()\n",
    "min_loan_amount = data['loan_amnt'].min()\n",
    "\n",
    "print(f\"maximum Loan Amount {max_loan_amount}\")\n",
    "print(f\"minimum Loan Amount {min_loan_amount}\")\n",
    "\n",
    "# people with an income between x and y\n",
    "def loan_amount_group(arr):\n",
    "    lenarr = len(arr)\n",
    "    for i in range(0,lenarr-1):\n",
    "        next = arr[i]+1\n",
    "        num_people = data['loan_amnt'].between(next,arr[i+1]).sum()\n",
    "        print(f'Loan Amount between {next} and {arr[i+1]}: Number of people {num_people}')\n",
    "        \n",
    "loan_amount_group([0, 5000, 10000, 15000, float('inf')])"
   ]
  },
  {
   "cell_type": "code",
   "execution_count": 23,
   "id": "7d639c8c",
   "metadata": {
    "execution": {
     "iopub.execute_input": "2023-12-16T15:02:26.084917Z",
     "iopub.status.busy": "2023-12-16T15:02:26.084147Z",
     "iopub.status.idle": "2023-12-16T15:02:26.092848Z",
     "shell.execute_reply": "2023-12-16T15:02:26.091844Z"
    },
    "papermill": {
     "duration": 0.029907,
     "end_time": "2023-12-16T15:02:26.095392",
     "exception": false,
     "start_time": "2023-12-16T15:02:26.065485",
     "status": "completed"
    },
    "tags": []
   },
   "outputs": [],
   "source": [
    "data['loan_amount_group'] = pd.cut(data['loan_amnt'],\n",
    "                                   bins=[0, 5000, 10000, 15000, float('inf')],\n",
    "                                   labels=['small', 'medium', 'large', 'very large'])"
   ]
  },
  {
   "cell_type": "code",
   "execution_count": 24,
   "id": "89588244",
   "metadata": {
    "execution": {
     "iopub.execute_input": "2023-12-16T15:02:26.131860Z",
     "iopub.status.busy": "2023-12-16T15:02:26.131081Z",
     "iopub.status.idle": "2023-12-16T15:02:26.140502Z",
     "shell.execute_reply": "2023-12-16T15:02:26.139599Z"
    },
    "papermill": {
     "duration": 0.030507,
     "end_time": "2023-12-16T15:02:26.143004",
     "exception": false,
     "start_time": "2023-12-16T15:02:26.112497",
     "status": "completed"
    },
    "tags": []
   },
   "outputs": [
    {
     "data": {
      "text/plain": [
       "0        very large\n",
       "1             small\n",
       "2            medium\n",
       "3        very large\n",
       "4        very large\n",
       "            ...    \n",
       "32574    very large\n",
       "32575         small\n",
       "32576        medium\n",
       "32577    very large\n",
       "32579         large\n",
       "Name: loan_amount_group, Length: 28580, dtype: category\n",
       "Categories (4, object): ['small' < 'medium' < 'large' < 'very large']"
      ]
     },
     "execution_count": 24,
     "metadata": {},
     "output_type": "execute_result"
    }
   ],
   "source": [
    "data['loan_amount_group']"
   ]
  },
  {
   "cell_type": "code",
   "execution_count": 25,
   "id": "5c31bdbe",
   "metadata": {
    "execution": {
     "iopub.execute_input": "2023-12-16T15:02:26.179969Z",
     "iopub.status.busy": "2023-12-16T15:02:26.179427Z",
     "iopub.status.idle": "2023-12-16T15:02:26.193033Z",
     "shell.execute_reply": "2023-12-16T15:02:26.192022Z"
    },
    "papermill": {
     "duration": 0.035224,
     "end_time": "2023-12-16T15:02:26.195616",
     "exception": false,
     "start_time": "2023-12-16T15:02:26.160392",
     "status": "completed"
    },
    "tags": []
   },
   "outputs": [
    {
     "data": {
      "text/plain": [
       "person_home_ownership\n",
       "RENT        14515\n",
       "MORTGAGE    11779\n",
       "OWN          2192\n",
       "OTHER          94\n",
       "Name: count, dtype: int64"
      ]
     },
     "execution_count": 25,
     "metadata": {},
     "output_type": "execute_result"
    }
   ],
   "source": [
    "data['person_home_ownership'].value_counts()"
   ]
  },
  {
   "cell_type": "code",
   "execution_count": 26,
   "id": "12bdf804",
   "metadata": {
    "execution": {
     "iopub.execute_input": "2023-12-16T15:02:26.233079Z",
     "iopub.status.busy": "2023-12-16T15:02:26.232304Z",
     "iopub.status.idle": "2023-12-16T15:02:26.254007Z",
     "shell.execute_reply": "2023-12-16T15:02:26.252793Z"
    },
    "papermill": {
     "duration": 0.043533,
     "end_time": "2023-12-16T15:02:26.256780",
     "exception": false,
     "start_time": "2023-12-16T15:02:26.213247",
     "status": "completed"
    },
    "tags": []
   },
   "outputs": [
    {
     "data": {
      "text/html": [
       "<div>\n",
       "<style scoped>\n",
       "    .dataframe tbody tr th:only-of-type {\n",
       "        vertical-align: middle;\n",
       "    }\n",
       "\n",
       "    .dataframe tbody tr th {\n",
       "        vertical-align: top;\n",
       "    }\n",
       "\n",
       "    .dataframe thead th {\n",
       "        text-align: right;\n",
       "    }\n",
       "</style>\n",
       "<table border=\"1\" class=\"dataframe\">\n",
       "  <thead>\n",
       "    <tr style=\"text-align: right;\">\n",
       "      <th></th>\n",
       "      <th>person_age</th>\n",
       "      <th>person_income</th>\n",
       "      <th>person_home_ownership</th>\n",
       "      <th>person_emp_length</th>\n",
       "      <th>loan_intent</th>\n",
       "      <th>loan_grade</th>\n",
       "      <th>loan_amnt</th>\n",
       "      <th>loan_int_rate</th>\n",
       "      <th>loan_status</th>\n",
       "      <th>loan_percent_income</th>\n",
       "      <th>cb_person_default_on_file</th>\n",
       "      <th>cb_person_cred_hist_length</th>\n",
       "      <th>age_group</th>\n",
       "      <th>income_group</th>\n",
       "      <th>loan_amount_group</th>\n",
       "    </tr>\n",
       "  </thead>\n",
       "  <tbody>\n",
       "    <tr>\n",
       "      <th>0</th>\n",
       "      <td>22</td>\n",
       "      <td>59000</td>\n",
       "      <td>RENT</td>\n",
       "      <td>123.0</td>\n",
       "      <td>PERSONAL</td>\n",
       "      <td>D</td>\n",
       "      <td>35000</td>\n",
       "      <td>16.02</td>\n",
       "      <td>1</td>\n",
       "      <td>0.59</td>\n",
       "      <td>Y</td>\n",
       "      <td>3</td>\n",
       "      <td>20-25</td>\n",
       "      <td>middle</td>\n",
       "      <td>very large</td>\n",
       "    </tr>\n",
       "    <tr>\n",
       "      <th>1</th>\n",
       "      <td>21</td>\n",
       "      <td>9600</td>\n",
       "      <td>OWN</td>\n",
       "      <td>5.0</td>\n",
       "      <td>EDUCATION</td>\n",
       "      <td>B</td>\n",
       "      <td>1000</td>\n",
       "      <td>11.14</td>\n",
       "      <td>0</td>\n",
       "      <td>0.10</td>\n",
       "      <td>N</td>\n",
       "      <td>2</td>\n",
       "      <td>20-25</td>\n",
       "      <td>low</td>\n",
       "      <td>small</td>\n",
       "    </tr>\n",
       "    <tr>\n",
       "      <th>2</th>\n",
       "      <td>25</td>\n",
       "      <td>9600</td>\n",
       "      <td>MORTGAGE</td>\n",
       "      <td>1.0</td>\n",
       "      <td>MEDICAL</td>\n",
       "      <td>C</td>\n",
       "      <td>5500</td>\n",
       "      <td>12.87</td>\n",
       "      <td>1</td>\n",
       "      <td>0.57</td>\n",
       "      <td>N</td>\n",
       "      <td>3</td>\n",
       "      <td>20-25</td>\n",
       "      <td>low</td>\n",
       "      <td>medium</td>\n",
       "    </tr>\n",
       "    <tr>\n",
       "      <th>3</th>\n",
       "      <td>23</td>\n",
       "      <td>65500</td>\n",
       "      <td>RENT</td>\n",
       "      <td>4.0</td>\n",
       "      <td>MEDICAL</td>\n",
       "      <td>C</td>\n",
       "      <td>35000</td>\n",
       "      <td>15.23</td>\n",
       "      <td>1</td>\n",
       "      <td>0.53</td>\n",
       "      <td>N</td>\n",
       "      <td>2</td>\n",
       "      <td>20-25</td>\n",
       "      <td>middle</td>\n",
       "      <td>very large</td>\n",
       "    </tr>\n",
       "    <tr>\n",
       "      <th>4</th>\n",
       "      <td>24</td>\n",
       "      <td>54400</td>\n",
       "      <td>RENT</td>\n",
       "      <td>8.0</td>\n",
       "      <td>MEDICAL</td>\n",
       "      <td>C</td>\n",
       "      <td>35000</td>\n",
       "      <td>14.27</td>\n",
       "      <td>1</td>\n",
       "      <td>0.55</td>\n",
       "      <td>Y</td>\n",
       "      <td>4</td>\n",
       "      <td>20-25</td>\n",
       "      <td>middle</td>\n",
       "      <td>very large</td>\n",
       "    </tr>\n",
       "  </tbody>\n",
       "</table>\n",
       "</div>"
      ],
      "text/plain": [
       "   person_age  person_income person_home_ownership  person_emp_length  \\\n",
       "0          22          59000                  RENT              123.0   \n",
       "1          21           9600                   OWN                5.0   \n",
       "2          25           9600              MORTGAGE                1.0   \n",
       "3          23          65500                  RENT                4.0   \n",
       "4          24          54400                  RENT                8.0   \n",
       "\n",
       "  loan_intent loan_grade  loan_amnt  loan_int_rate  loan_status  \\\n",
       "0    PERSONAL          D      35000          16.02            1   \n",
       "1   EDUCATION          B       1000          11.14            0   \n",
       "2     MEDICAL          C       5500          12.87            1   \n",
       "3     MEDICAL          C      35000          15.23            1   \n",
       "4     MEDICAL          C      35000          14.27            1   \n",
       "\n",
       "   loan_percent_income cb_person_default_on_file  cb_person_cred_hist_length  \\\n",
       "0                 0.59                         Y                           3   \n",
       "1                 0.10                         N                           2   \n",
       "2                 0.57                         N                           3   \n",
       "3                 0.53                         N                           2   \n",
       "4                 0.55                         Y                           4   \n",
       "\n",
       "  age_group income_group loan_amount_group  \n",
       "0     20-25       middle        very large  \n",
       "1     20-25          low             small  \n",
       "2     20-25          low            medium  \n",
       "3     20-25       middle        very large  \n",
       "4     20-25       middle        very large  "
      ]
     },
     "execution_count": 26,
     "metadata": {},
     "output_type": "execute_result"
    }
   ],
   "source": [
    "data.head()"
   ]
  },
  {
   "cell_type": "markdown",
   "id": "484d95e2",
   "metadata": {
    "papermill": {
     "duration": 0.017995,
     "end_time": "2023-12-16T15:02:26.292693",
     "exception": false,
     "start_time": "2023-12-16T15:02:26.274698",
     "status": "completed"
    },
    "tags": []
   },
   "source": [
    "# **Data Preprocessing**"
   ]
  },
  {
   "cell_type": "code",
   "execution_count": 27,
   "id": "bfb663a2",
   "metadata": {
    "execution": {
     "iopub.execute_input": "2023-12-16T15:02:26.332322Z",
     "iopub.status.busy": "2023-12-16T15:02:26.330866Z",
     "iopub.status.idle": "2023-12-16T15:02:26.342740Z",
     "shell.execute_reply": "2023-12-16T15:02:26.341338Z"
    },
    "papermill": {
     "duration": 0.035091,
     "end_time": "2023-12-16T15:02:26.345689",
     "exception": false,
     "start_time": "2023-12-16T15:02:26.310598",
     "status": "completed"
    },
    "tags": []
   },
   "outputs": [],
   "source": [
    "X = data.drop(['loan_status'], axis=1)\n",
    "Y = data['loan_status']"
   ]
  },
  {
   "cell_type": "code",
   "execution_count": 28,
   "id": "f71d6fca",
   "metadata": {
    "execution": {
     "iopub.execute_input": "2023-12-16T15:02:26.386002Z",
     "iopub.status.busy": "2023-12-16T15:02:26.385101Z",
     "iopub.status.idle": "2023-12-16T15:02:28.005098Z",
     "shell.execute_reply": "2023-12-16T15:02:28.003924Z"
    },
    "papermill": {
     "duration": 1.643504,
     "end_time": "2023-12-16T15:02:28.007982",
     "exception": false,
     "start_time": "2023-12-16T15:02:26.364478",
     "status": "completed"
    },
    "tags": []
   },
   "outputs": [],
   "source": [
    "from sklearn.model_selection import train_test_split\n",
    "x_train, x_test, y_train, y_test = train_test_split(X,Y,test_size=0.2,random_state=12)"
   ]
  },
  {
   "cell_type": "code",
   "execution_count": 29,
   "id": "6b31ca17",
   "metadata": {
    "execution": {
     "iopub.execute_input": "2023-12-16T15:02:28.046406Z",
     "iopub.status.busy": "2023-12-16T15:02:28.045880Z",
     "iopub.status.idle": "2023-12-16T15:02:28.052469Z",
     "shell.execute_reply": "2023-12-16T15:02:28.051175Z"
    },
    "papermill": {
     "duration": 0.02911,
     "end_time": "2023-12-16T15:02:28.055149",
     "exception": false,
     "start_time": "2023-12-16T15:02:28.026039",
     "status": "completed"
    },
    "tags": []
   },
   "outputs": [
    {
     "name": "stdout",
     "output_type": "stream",
     "text": [
      "(22864, 14) (5716, 14)\n"
     ]
    }
   ],
   "source": [
    "print(x_train.shape,x_test.shape)"
   ]
  },
  {
   "cell_type": "code",
   "execution_count": 30,
   "id": "be98f353",
   "metadata": {
    "execution": {
     "iopub.execute_input": "2023-12-16T15:02:28.093818Z",
     "iopub.status.busy": "2023-12-16T15:02:28.093323Z",
     "iopub.status.idle": "2023-12-16T15:02:28.100278Z",
     "shell.execute_reply": "2023-12-16T15:02:28.099120Z"
    },
    "papermill": {
     "duration": 0.029594,
     "end_time": "2023-12-16T15:02:28.102972",
     "exception": false,
     "start_time": "2023-12-16T15:02:28.073378",
     "status": "completed"
    },
    "tags": []
   },
   "outputs": [],
   "source": [
    "x_train.reset_index(inplace = True)\n",
    "x_test.reset_index(inplace = True)"
   ]
  },
  {
   "cell_type": "code",
   "execution_count": 31,
   "id": "15e0f28b",
   "metadata": {
    "execution": {
     "iopub.execute_input": "2023-12-16T15:02:28.142610Z",
     "iopub.status.busy": "2023-12-16T15:02:28.141818Z",
     "iopub.status.idle": "2023-12-16T15:02:28.149608Z",
     "shell.execute_reply": "2023-12-16T15:02:28.148579Z"
    },
    "papermill": {
     "duration": 0.029705,
     "end_time": "2023-12-16T15:02:28.151876",
     "exception": false,
     "start_time": "2023-12-16T15:02:28.122171",
     "status": "completed"
    },
    "tags": []
   },
   "outputs": [
    {
     "data": {
      "text/plain": [
       "Index(['index', 'person_age', 'person_income', 'person_home_ownership',\n",
       "       'person_emp_length', 'loan_intent', 'loan_grade', 'loan_amnt',\n",
       "       'loan_int_rate', 'loan_percent_income', 'cb_person_default_on_file',\n",
       "       'cb_person_cred_hist_length', 'age_group', 'income_group',\n",
       "       'loan_amount_group'],\n",
       "      dtype='object')"
      ]
     },
     "execution_count": 31,
     "metadata": {},
     "output_type": "execute_result"
    }
   ],
   "source": [
    "x_train.columns"
   ]
  },
  {
   "cell_type": "code",
   "execution_count": 32,
   "id": "b3920a7e",
   "metadata": {
    "execution": {
     "iopub.execute_input": "2023-12-16T15:02:28.190829Z",
     "iopub.status.busy": "2023-12-16T15:02:28.189692Z",
     "iopub.status.idle": "2023-12-16T15:02:28.221436Z",
     "shell.execute_reply": "2023-12-16T15:02:28.220322Z"
    },
    "papermill": {
     "duration": 0.054254,
     "end_time": "2023-12-16T15:02:28.224441",
     "exception": false,
     "start_time": "2023-12-16T15:02:28.170187",
     "status": "completed"
    },
    "tags": []
   },
   "outputs": [
    {
     "data": {
      "text/html": [
       "<style>#sk-container-id-1 {color: black;background-color: white;}#sk-container-id-1 pre{padding: 0;}#sk-container-id-1 div.sk-toggleable {background-color: white;}#sk-container-id-1 label.sk-toggleable__label {cursor: pointer;display: block;width: 100%;margin-bottom: 0;padding: 0.3em;box-sizing: border-box;text-align: center;}#sk-container-id-1 label.sk-toggleable__label-arrow:before {content: \"▸\";float: left;margin-right: 0.25em;color: #696969;}#sk-container-id-1 label.sk-toggleable__label-arrow:hover:before {color: black;}#sk-container-id-1 div.sk-estimator:hover label.sk-toggleable__label-arrow:before {color: black;}#sk-container-id-1 div.sk-toggleable__content {max-height: 0;max-width: 0;overflow: hidden;text-align: left;background-color: #f0f8ff;}#sk-container-id-1 div.sk-toggleable__content pre {margin: 0.2em;color: black;border-radius: 0.25em;background-color: #f0f8ff;}#sk-container-id-1 input.sk-toggleable__control:checked~div.sk-toggleable__content {max-height: 200px;max-width: 100%;overflow: auto;}#sk-container-id-1 input.sk-toggleable__control:checked~label.sk-toggleable__label-arrow:before {content: \"▾\";}#sk-container-id-1 div.sk-estimator input.sk-toggleable__control:checked~label.sk-toggleable__label {background-color: #d4ebff;}#sk-container-id-1 div.sk-label input.sk-toggleable__control:checked~label.sk-toggleable__label {background-color: #d4ebff;}#sk-container-id-1 input.sk-hidden--visually {border: 0;clip: rect(1px 1px 1px 1px);clip: rect(1px, 1px, 1px, 1px);height: 1px;margin: -1px;overflow: hidden;padding: 0;position: absolute;width: 1px;}#sk-container-id-1 div.sk-estimator {font-family: monospace;background-color: #f0f8ff;border: 1px dotted black;border-radius: 0.25em;box-sizing: border-box;margin-bottom: 0.5em;}#sk-container-id-1 div.sk-estimator:hover {background-color: #d4ebff;}#sk-container-id-1 div.sk-parallel-item::after {content: \"\";width: 100%;border-bottom: 1px solid gray;flex-grow: 1;}#sk-container-id-1 div.sk-label:hover label.sk-toggleable__label {background-color: #d4ebff;}#sk-container-id-1 div.sk-serial::before {content: \"\";position: absolute;border-left: 1px solid gray;box-sizing: border-box;top: 0;bottom: 0;left: 50%;z-index: 0;}#sk-container-id-1 div.sk-serial {display: flex;flex-direction: column;align-items: center;background-color: white;padding-right: 0.2em;padding-left: 0.2em;position: relative;}#sk-container-id-1 div.sk-item {position: relative;z-index: 1;}#sk-container-id-1 div.sk-parallel {display: flex;align-items: stretch;justify-content: center;background-color: white;position: relative;}#sk-container-id-1 div.sk-item::before, #sk-container-id-1 div.sk-parallel-item::before {content: \"\";position: absolute;border-left: 1px solid gray;box-sizing: border-box;top: 0;bottom: 0;left: 50%;z-index: -1;}#sk-container-id-1 div.sk-parallel-item {display: flex;flex-direction: column;z-index: 1;position: relative;background-color: white;}#sk-container-id-1 div.sk-parallel-item:first-child::after {align-self: flex-end;width: 50%;}#sk-container-id-1 div.sk-parallel-item:last-child::after {align-self: flex-start;width: 50%;}#sk-container-id-1 div.sk-parallel-item:only-child::after {width: 0;}#sk-container-id-1 div.sk-dashed-wrapped {border: 1px dashed gray;margin: 0 0.4em 0.5em 0.4em;box-sizing: border-box;padding-bottom: 0.4em;background-color: white;}#sk-container-id-1 div.sk-label label {font-family: monospace;font-weight: bold;display: inline-block;line-height: 1.2em;}#sk-container-id-1 div.sk-label-container {text-align: center;}#sk-container-id-1 div.sk-container {/* jupyter's `normalize.less` sets `[hidden] { display: none; }` but bootstrap.min.css set `[hidden] { display: none !important; }` so we also need the `!important` here to be able to override the default hidden behavior on the sphinx rendered scikit-learn.org. See: https://github.com/scikit-learn/scikit-learn/issues/21755 */display: inline-block !important;position: relative;}#sk-container-id-1 div.sk-text-repr-fallback {display: none;}</style><div id=\"sk-container-id-1\" class=\"sk-top-container\"><div class=\"sk-text-repr-fallback\"><pre>OneHotEncoder()</pre><b>In a Jupyter environment, please rerun this cell to show the HTML representation or trust the notebook. <br />On GitHub, the HTML representation is unable to render, please try loading this page with nbviewer.org.</b></div><div class=\"sk-container\" hidden><div class=\"sk-item\"><div class=\"sk-estimator sk-toggleable\"><input class=\"sk-toggleable__control sk-hidden--visually\" id=\"sk-estimator-id-1\" type=\"checkbox\" checked><label for=\"sk-estimator-id-1\" class=\"sk-toggleable__label sk-toggleable__label-arrow\">OneHotEncoder</label><div class=\"sk-toggleable__content\"><pre>OneHotEncoder()</pre></div></div></div></div></div>"
      ],
      "text/plain": [
       "OneHotEncoder()"
      ]
     },
     "execution_count": 32,
     "metadata": {},
     "output_type": "execute_result"
    }
   ],
   "source": [
    "from sklearn.preprocessing import OneHotEncoder\n",
    "enc = OneHotEncoder()\n",
    "enc.fit(x_train)"
   ]
  },
  {
   "cell_type": "code",
   "execution_count": 33,
   "id": "7c0b0bd5",
   "metadata": {
    "execution": {
     "iopub.execute_input": "2023-12-16T15:02:28.265518Z",
     "iopub.status.busy": "2023-12-16T15:02:28.264361Z",
     "iopub.status.idle": "2023-12-16T15:02:28.282406Z",
     "shell.execute_reply": "2023-12-16T15:02:28.281304Z"
    },
    "papermill": {
     "duration": 0.041045,
     "end_time": "2023-12-16T15:02:28.284849",
     "exception": false,
     "start_time": "2023-12-16T15:02:28.243804",
     "status": "completed"
    },
    "tags": []
   },
   "outputs": [
    {
     "data": {
      "text/plain": [
       "[array([    0,     1,     3, ..., 32576, 32577, 32579]),\n",
       " array([20, 21, 22, 23, 24, 25, 26, 27, 28, 29, 30, 31, 32, 33, 34, 35, 36,\n",
       "        37, 38, 39, 40, 41, 42, 43, 44, 45, 46, 47, 48, 49, 50, 51, 52, 53,\n",
       "        54, 55, 56, 57, 58, 59, 60]),\n",
       " array([   4000,    4080,    4200, ..., 1362000, 1440000, 2039784]),\n",
       " array(['MORTGAGE', 'OTHER', 'OWN', 'RENT'], dtype=object),\n",
       " array([  0.,   1.,   2.,   3.,   4.,   5.,   6.,   7.,   8.,   9.,  10.,\n",
       "         11.,  12.,  13.,  14.,  15.,  16.,  17.,  18.,  19.,  20.,  21.,\n",
       "         22.,  23.,  24.,  25.,  26.,  27.,  28.,  31.,  34.,  38., 123.]),\n",
       " array(['DEBTCONSOLIDATION', 'EDUCATION', 'HOMEIMPROVEMENT', 'MEDICAL',\n",
       "        'PERSONAL', 'VENTURE'], dtype=object),\n",
       " array(['A', 'B', 'C', 'D', 'E', 'F', 'G'], dtype=object),\n",
       " array([  500,   700,   725,   750,   900,  1000,  1050,  1100,  1125,\n",
       "         1200,  1250,  1275,  1300,  1325,  1350,  1375,  1400,  1425,\n",
       "         1450,  1500,  1525,  1550,  1600,  1675,  1700,  1750,  1775,\n",
       "         1800,  1825,  1850,  1875,  1900,  1925,  1950,  2000,  2050,\n",
       "         2075,  2100,  2125,  2150,  2200,  2225,  2250,  2275,  2300,\n",
       "         2325,  2350,  2400,  2425,  2450,  2475,  2500,  2525,  2550,\n",
       "         2575,  2600,  2625,  2650,  2675,  2700,  2725,  2750,  2775,\n",
       "         2800,  2825,  2850,  2875,  2900,  2925,  2950,  2975,  3000,\n",
       "         3025,  3050,  3075,  3100,  3125,  3150,  3175,  3200,  3225,\n",
       "         3250,  3275,  3300,  3325,  3350,  3375,  3400,  3425,  3450,\n",
       "         3500,  3525,  3550,  3575,  3600,  3625,  3650,  3675,  3700,\n",
       "         3725,  3750,  3775,  3800,  3825,  3850,  3900,  3925,  3950,\n",
       "         3975,  4000,  4025,  4050,  4075,  4100,  4125,  4150,  4175,\n",
       "         4200,  4225,  4250,  4275,  4300,  4325,  4350,  4375,  4400,\n",
       "         4450,  4475,  4500,  4550,  4575,  4600,  4625,  4650,  4675,\n",
       "         4700,  4725,  4750,  4775,  4800,  4850,  4875,  4900,  4925,\n",
       "         4950,  4975,  5000,  5025,  5050,  5075,  5100,  5125,  5150,\n",
       "         5175,  5200,  5225,  5250,  5275,  5300,  5325,  5350,  5375,\n",
       "         5400,  5425,  5450,  5475,  5500,  5525,  5550,  5575,  5600,\n",
       "         5625,  5650,  5675,  5700,  5725,  5750,  5775,  5800,  5825,\n",
       "         5850,  5875,  5900,  5925,  5950,  5975,  6000,  6025,  6075,\n",
       "         6100,  6125,  6150,  6200,  6225,  6250,  6275,  6300,  6325,\n",
       "         6350,  6375,  6400,  6425,  6450,  6475,  6500,  6525,  6550,\n",
       "         6575,  6600,  6625,  6650,  6675,  6700,  6725,  6750,  6775,\n",
       "         6800,  6825,  6850,  6875,  6900,  6925,  6950,  6975,  7000,\n",
       "         7025,  7050,  7075,  7100,  7125,  7150,  7175,  7200,  7225,\n",
       "         7250,  7275,  7300,  7325,  7350,  7375,  7400,  7425,  7450,\n",
       "         7475,  7500,  7525,  7550,  7575,  7600,  7650,  7675,  7700,\n",
       "         7725,  7750,  7800,  7850,  7875,  7900,  7925,  7950,  7975,\n",
       "         8000,  8050,  8075,  8100,  8125,  8150,  8175,  8200,  8225,\n",
       "         8250,  8275,  8300,  8325,  8350,  8375,  8400,  8450,  8475,\n",
       "         8500,  8525,  8550,  8575,  8600,  8625,  8650,  8675,  8700,\n",
       "         8725,  8750,  8775,  8800,  8825,  8850,  8875,  8900,  8950,\n",
       "         8975,  9000,  9050,  9075,  9100,  9125,  9150,  9175,  9200,\n",
       "         9225,  9250,  9275,  9300,  9325,  9350,  9400,  9425,  9450,\n",
       "         9475,  9500,  9525,  9575,  9600,  9625,  9700,  9725,  9750,\n",
       "         9800,  9825,  9850,  9875,  9900,  9925,  9950,  9975, 10000,\n",
       "        10025, 10050, 10075, 10100, 10125, 10150, 10175, 10200, 10225,\n",
       "        10250, 10300, 10325, 10375, 10400, 10425, 10450, 10500, 10525,\n",
       "        10575, 10600, 10625, 10650, 10675, 10700, 10725, 10750, 10775,\n",
       "        10800, 10825, 10850, 10875, 10900, 10925, 10950, 10975, 11000,\n",
       "        11025, 11050, 11075, 11100, 11125, 11175, 11200, 11225, 11250,\n",
       "        11275, 11300, 11325, 11350, 11375, 11400, 11425, 11450, 11475,\n",
       "        11500, 11525, 11550, 11600, 11625, 11650, 11700, 11750, 11800,\n",
       "        11850, 11875, 11900, 11975, 12000, 12025, 12075, 12100, 12125,\n",
       "        12150, 12200, 12225, 12250, 12300, 12325, 12350, 12375, 12400,\n",
       "        12450, 12475, 12500, 12600, 12650, 12700, 12725, 12750, 12775,\n",
       "        12800, 12875, 12900, 12975, 13000, 13025, 13050, 13075, 13125,\n",
       "        13150, 13175, 13200, 13225, 13250, 13275, 13300, 13350, 13375,\n",
       "        13400, 13425, 13450, 13475, 13500, 13575, 13600, 13650, 13675,\n",
       "        13750, 13775, 13800, 13850, 13900, 13950, 13975, 14000, 14050,\n",
       "        14075, 14100, 14125, 14150, 14200, 14250, 14275, 14300, 14350,\n",
       "        14400, 14500, 14525, 14550, 14575, 14600, 14650, 14675, 14700,\n",
       "        14750, 14800, 14825, 14850, 14900, 14950, 14975, 15000, 15025,\n",
       "        15050, 15075, 15125, 15150, 15175, 15200, 15250, 15275, 15350,\n",
       "        15400, 15450, 15500, 15550, 15575, 15600, 15675, 15700, 15750,\n",
       "        15775, 15800, 15825, 15850, 15875, 15900, 15975, 16000, 16050,\n",
       "        16075, 16100, 16200, 16250, 16300, 16400, 16425, 16450, 16500,\n",
       "        16525, 16600, 16700, 16725, 16750, 16775, 16800, 16875, 16950,\n",
       "        17000, 17050, 17200, 17250, 17300, 17325, 17375, 17400, 17450,\n",
       "        17475, 17500, 17525, 17600, 17625, 17700, 17725, 17800, 17825,\n",
       "        17850, 17875, 17900, 17950, 17975, 18000, 18050, 18125, 18150,\n",
       "        18200, 18225, 18250, 18300, 18325, 18400, 18500, 18550, 18600,\n",
       "        18650, 18725, 18750, 18800, 18825, 18950, 19000, 19075, 19125,\n",
       "        19150, 19200, 19400, 19425, 19450, 19500, 19550, 19600, 19650,\n",
       "        19700, 19725, 19750, 19775, 19800, 19900, 19950, 19975, 20000,\n",
       "        20050, 20150, 20200, 20375, 20400, 20475, 20500, 20600, 20675,\n",
       "        20700, 20800, 20900, 21000, 21100, 21125, 21200, 21250, 21400,\n",
       "        21450, 21500, 21600, 21650, 21700, 21725, 21825, 21850, 22000,\n",
       "        22100, 22200, 22250, 22350, 22400, 22500, 22550, 22600, 22750,\n",
       "        22800, 22950, 23000, 23050, 23200, 23275, 23325, 23400, 23450,\n",
       "        23500, 23525, 23575, 23600, 23700, 23750, 23800, 23850, 23975,\n",
       "        24000, 24100, 24150, 24175, 24200, 24250, 24375, 24400, 24500,\n",
       "        24625, 24750, 24800, 25000, 25475, 25500, 25600, 26000, 26375,\n",
       "        26400, 27000, 27050, 27175, 27250, 27300, 27400, 27500, 28000,\n",
       "        28250, 29000, 29100, 29550, 29700, 29800, 30000, 31000, 31050,\n",
       "        31300, 31825, 32000, 32500, 33000, 33250, 33950, 34000, 35000]),\n",
       " array([ 5.42,  5.79,  5.99,  6.  ,  6.03,  6.17,  6.39,  6.54,  6.62,\n",
       "         6.76,  6.91,  6.92,  6.99,  7.05,  7.12,  7.14,  7.29,  7.37,\n",
       "         7.4 ,  7.42,  7.43,  7.49,  7.51,  7.66,  7.68,  7.74,  7.75,\n",
       "         7.88,  7.9 ,  7.91,  8.  ,  8.07,  8.32,  8.38,  8.49,  8.59,\n",
       "         8.63,  8.7 ,  8.88,  8.9 ,  8.94,  9.01,  9.07,  9.2 ,  9.25,\n",
       "         9.32,  9.33,  9.38,  9.45,  9.51,  9.62,  9.63,  9.64,  9.67,\n",
       "         9.7 ,  9.76,  9.83,  9.88,  9.91,  9.96,  9.99, 10.  , 10.01,\n",
       "        10.08, 10.14, 10.2 , 10.25, 10.28, 10.33, 10.36, 10.37, 10.38,\n",
       "        10.39, 10.46, 10.51, 10.59, 10.62, 10.64, 10.65, 10.71, 10.74,\n",
       "        10.75, 10.78, 10.83, 10.91, 10.95, 10.96, 10.99, 11.03, 11.09,\n",
       "        11.11, 11.12, 11.14, 11.22, 11.26, 11.28, 11.34, 11.36, 11.41,\n",
       "        11.46, 11.48, 11.49, 11.54, 11.58, 11.59, 11.63, 11.66, 11.71,\n",
       "        11.72, 11.78, 11.83, 11.86, 11.89, 11.91, 11.97, 11.99, 12.04,\n",
       "        12.09, 12.12, 12.17, 12.18, 12.21, 12.22, 12.23, 12.29, 12.36,\n",
       "        12.41, 12.42, 12.49, 12.53, 12.54, 12.61, 12.62, 12.67, 12.68,\n",
       "        12.69, 12.72, 12.73, 12.8 , 12.84, 12.86, 12.87, 12.92, 12.98,\n",
       "        12.99, 13.04, 13.06, 13.11, 13.12, 13.16, 13.17, 13.22, 13.23,\n",
       "        13.24, 13.3 , 13.35, 13.36, 13.43, 13.47, 13.48, 13.49, 13.55,\n",
       "        13.57, 13.61, 13.62, 13.67, 13.72, 13.75, 13.79, 13.8 , 13.84,\n",
       "        13.85, 13.87, 13.92, 13.93, 13.98, 13.99, 14.07, 14.09, 14.11,\n",
       "        14.12, 14.17, 14.18, 14.22, 14.25, 14.26, 14.27, 14.3 , 14.35,\n",
       "        14.38, 14.42, 14.46, 14.5 , 14.54, 14.59, 14.61, 14.62, 14.65,\n",
       "        14.67, 14.7 , 14.72, 14.74, 14.75, 14.79, 14.82, 14.83, 14.84,\n",
       "        14.88, 14.91, 14.93, 14.96, 15.01, 15.05, 15.07, 15.13, 15.2 ,\n",
       "        15.21, 15.23, 15.25, 15.27, 15.28, 15.31, 15.33, 15.37, 15.38,\n",
       "        15.45, 15.57, 15.58, 15.62, 15.65, 15.68, 15.7 , 15.76, 15.83,\n",
       "        15.88, 15.95, 15.96, 15.99, 16.  , 16.02, 16.07, 16.08, 16.11,\n",
       "        16.15, 16.2 , 16.29, 16.32, 16.33, 16.35, 16.4 , 16.45, 16.49,\n",
       "        16.59, 16.63, 16.69, 16.7 , 16.71, 16.77, 16.82, 16.89, 16.95,\n",
       "        16.96, 17.03, 17.04, 17.06, 17.14, 17.15, 17.19, 17.26, 17.27,\n",
       "        17.39, 17.43, 17.44, 17.46, 17.49, 17.51, 17.54, 17.56, 17.58,\n",
       "        17.74, 17.8 , 17.88, 17.9 , 17.93, 17.99, 18.07, 18.09, 18.21,\n",
       "        18.25, 18.3 , 18.36, 18.39, 18.43, 18.49, 18.53, 18.62, 18.64,\n",
       "        18.67, 18.72, 18.78, 18.79, 18.84, 18.99, 19.03, 19.04, 19.13,\n",
       "        19.16, 19.29, 19.39, 19.41, 19.42, 19.47, 19.66, 19.69, 19.74,\n",
       "        19.79, 19.82, 19.91, 20.03, 20.11, 20.16, 20.17, 20.25, 20.3 ,\n",
       "        20.4 , 20.48, 20.52, 20.62, 20.69, 20.86, 20.89, 20.9 , 20.99,\n",
       "        21.14, 21.21, 21.27, 21.36, 21.64, 21.74, 22.06, 22.11, 22.48,\n",
       "        23.22]),\n",
       " array([0.  , 0.01, 0.02, 0.03, 0.04, 0.05, 0.06, 0.07, 0.08, 0.09, 0.1 ,\n",
       "        0.11, 0.12, 0.13, 0.14, 0.15, 0.16, 0.17, 0.18, 0.19, 0.2 , 0.21,\n",
       "        0.22, 0.23, 0.24, 0.25, 0.26, 0.27, 0.28, 0.29, 0.3 , 0.31, 0.32,\n",
       "        0.33, 0.34, 0.35, 0.36, 0.37, 0.38, 0.39, 0.4 , 0.41, 0.42, 0.43,\n",
       "        0.44, 0.45, 0.46, 0.47, 0.48, 0.49, 0.5 , 0.51, 0.52, 0.53, 0.54,\n",
       "        0.55, 0.56, 0.57, 0.58, 0.59, 0.6 , 0.61, 0.62, 0.63, 0.64, 0.65,\n",
       "        0.66, 0.67, 0.68, 0.69, 0.7 , 0.71, 0.72, 0.76, 0.77, 0.78, 0.83]),\n",
       " array(['N', 'Y'], dtype=object),\n",
       " array([ 2,  3,  4,  5,  6,  7,  8,  9, 10, 11, 12, 13, 14, 15, 16, 17, 18,\n",
       "        19, 20, 21, 22, 23, 24, 25, 26, 27, 28, 29, 30]),\n",
       " array(['20-25', '26-35', '36-45', '46-55', '56-60', nan], dtype=object),\n",
       " array(['high', 'high-middle', 'low', 'low-middle', 'middle'], dtype=object),\n",
       " array(['large', 'medium', 'small', 'very large'], dtype=object)]"
      ]
     },
     "execution_count": 33,
     "metadata": {},
     "output_type": "execute_result"
    }
   ],
   "source": [
    "enc.categories_"
   ]
  },
  {
   "cell_type": "code",
   "execution_count": 34,
   "id": "8ad4890b",
   "metadata": {
    "execution": {
     "iopub.execute_input": "2023-12-16T15:02:28.325642Z",
     "iopub.status.busy": "2023-12-16T15:02:28.324991Z",
     "iopub.status.idle": "2023-12-16T15:02:28.332807Z",
     "shell.execute_reply": "2023-12-16T15:02:28.331682Z"
    },
    "papermill": {
     "duration": 0.031588,
     "end_time": "2023-12-16T15:02:28.335627",
     "exception": false,
     "start_time": "2023-12-16T15:02:28.304039",
     "status": "completed"
    },
    "tags": []
   },
   "outputs": [],
   "source": [
    "merge_enc_col = np.concatenate((enc.categories_[0], \n",
    "                enc.categories_[1],\n",
    "                enc.categories_[2],\n",
    "                enc.categories_[3],\n",
    "                enc.categories_[4],\n",
    "                enc.categories_[5],\n",
    "                enc.categories_[6],))"
   ]
  },
  {
   "cell_type": "code",
   "execution_count": 35,
   "id": "0dc7bbfe",
   "metadata": {
    "execution": {
     "iopub.execute_input": "2023-12-16T15:02:28.376520Z",
     "iopub.status.busy": "2023-12-16T15:02:28.376097Z",
     "iopub.status.idle": "2023-12-16T15:02:28.383465Z",
     "shell.execute_reply": "2023-12-16T15:02:28.381987Z"
    },
    "papermill": {
     "duration": 0.030814,
     "end_time": "2023-12-16T15:02:28.385993",
     "exception": false,
     "start_time": "2023-12-16T15:02:28.355179",
     "status": "completed"
    },
    "tags": []
   },
   "outputs": [
    {
     "data": {
      "text/plain": [
       "array([0, 1, 3, ..., 'E', 'F', 'G'], dtype=object)"
      ]
     },
     "execution_count": 35,
     "metadata": {},
     "output_type": "execute_result"
    }
   ],
   "source": [
    "merge_enc_col"
   ]
  }
 ],
 "metadata": {
  "kaggle": {
   "accelerator": "none",
   "dataSources": [
    {
     "datasetId": 4103569,
     "sourceId": 7115609,
     "sourceType": "datasetVersion"
    }
   ],
   "dockerImageVersionId": 30587,
   "isGpuEnabled": false,
   "isInternetEnabled": true,
   "language": "python",
   "sourceType": "notebook"
  },
  "kernelspec": {
   "display_name": "Python 3",
   "language": "python",
   "name": "python3"
  },
  "language_info": {
   "codemirror_mode": {
    "name": "ipython",
    "version": 3
   },
   "file_extension": ".py",
   "mimetype": "text/x-python",
   "name": "python",
   "nbconvert_exporter": "python",
   "pygments_lexer": "ipython3",
   "version": "3.10.12"
  },
  "papermill": {
   "default_parameters": {},
   "duration": 9.957047,
   "end_time": "2023-12-16T15:02:29.026903",
   "environment_variables": {},
   "exception": null,
   "input_path": "__notebook__.ipynb",
   "output_path": "__notebook__.ipynb",
   "parameters": {},
   "start_time": "2023-12-16T15:02:19.069856",
   "version": "2.4.0"
  }
 },
 "nbformat": 4,
 "nbformat_minor": 5
}
