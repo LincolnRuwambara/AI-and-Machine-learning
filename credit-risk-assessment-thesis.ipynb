{
 "cells": [
  {
   "cell_type": "code",
   "execution_count": 1,
   "id": "8747ad25",
   "metadata": {
    "_cell_guid": "b1076dfc-b9ad-4769-8c92-a6c4dae69d19",
    "_uuid": "8f2839f25d086af736a60e9eeb907d3b93b6e0e5",
    "execution": {
     "iopub.execute_input": "2023-12-17T21:52:24.967968Z",
     "iopub.status.busy": "2023-12-17T21:52:24.967338Z",
     "iopub.status.idle": "2023-12-17T21:52:25.797179Z",
     "shell.execute_reply": "2023-12-17T21:52:25.795918Z"
    },
    "papermill": {
     "duration": 0.845264,
     "end_time": "2023-12-17T21:52:25.799899",
     "exception": false,
     "start_time": "2023-12-17T21:52:24.954635",
     "status": "completed"
    },
    "tags": []
   },
   "outputs": [
    {
     "name": "stdout",
     "output_type": "stream",
     "text": [
      "/kaggle/input/credit-risk/credit_risk_dataset.csv\n"
     ]
    }
   ],
   "source": [
    "# This Python 3 environment comes with many helpful analytics libraries installed\n",
    "# It is defined by the kaggle/python Docker image: https://github.com/kaggle/docker-python\n",
    "# For example, here's several helpful packages to load\n",
    "\n",
    "import numpy as np # linear algebra\n",
    "import pandas as pd # data processing, CSV file I/O (e.g. pd.read_csv)\n",
    "\n",
    "# Input data files are available in the read-only \"../input/\" directory\n",
    "# For example, running this (by clicking run or pressing Shift+Enter) will list all files under the input directory\n",
    "\n",
    "\n",
    "import os\n",
    "for dirname, _, filenames in os.walk('/kaggle/input'):\n",
    "    for filename in filenames:\n",
    "        print(os.path.join(dirname, filename))\n",
    "\n",
    "# You can write up to 20GB to the current directory (/kaggle/working/) that gets preserved as output when you create a version using \"Save & Run All\" \n",
    "# You can also write temporary files to /kaggle/temp/, but they won't be saved outside of the current session"
   ]
  },
  {
   "cell_type": "markdown",
   "id": "280780d0",
   "metadata": {
    "papermill": {
     "duration": 0.010518,
     "end_time": "2023-12-17T21:52:25.821389",
     "exception": false,
     "start_time": "2023-12-17T21:52:25.810871",
     "status": "completed"
    },
    "tags": []
   },
   "source": [
    "# **Reading the Dataset**"
   ]
  },
  {
   "cell_type": "code",
   "execution_count": 2,
   "id": "3122b879",
   "metadata": {
    "execution": {
     "iopub.execute_input": "2023-12-17T21:52:25.845123Z",
     "iopub.status.busy": "2023-12-17T21:52:25.844115Z",
     "iopub.status.idle": "2023-12-17T21:52:25.957897Z",
     "shell.execute_reply": "2023-12-17T21:52:25.956824Z"
    },
    "papermill": {
     "duration": 0.127996,
     "end_time": "2023-12-17T21:52:25.960292",
     "exception": false,
     "start_time": "2023-12-17T21:52:25.832296",
     "status": "completed"
    },
    "tags": []
   },
   "outputs": [
    {
     "data": {
      "text/html": [
       "<div>\n",
       "<style scoped>\n",
       "    .dataframe tbody tr th:only-of-type {\n",
       "        vertical-align: middle;\n",
       "    }\n",
       "\n",
       "    .dataframe tbody tr th {\n",
       "        vertical-align: top;\n",
       "    }\n",
       "\n",
       "    .dataframe thead th {\n",
       "        text-align: right;\n",
       "    }\n",
       "</style>\n",
       "<table border=\"1\" class=\"dataframe\">\n",
       "  <thead>\n",
       "    <tr style=\"text-align: right;\">\n",
       "      <th></th>\n",
       "      <th>person_age</th>\n",
       "      <th>person_income</th>\n",
       "      <th>person_home_ownership</th>\n",
       "      <th>person_emp_length</th>\n",
       "      <th>loan_intent</th>\n",
       "      <th>loan_grade</th>\n",
       "      <th>loan_amnt</th>\n",
       "      <th>loan_int_rate</th>\n",
       "      <th>loan_status</th>\n",
       "      <th>loan_percent_income</th>\n",
       "      <th>cb_person_default_on_file</th>\n",
       "      <th>cb_person_cred_hist_length</th>\n",
       "    </tr>\n",
       "  </thead>\n",
       "  <tbody>\n",
       "    <tr>\n",
       "      <th>0</th>\n",
       "      <td>24</td>\n",
       "      <td>36000</td>\n",
       "      <td>MORTGAGE</td>\n",
       "      <td>2.0</td>\n",
       "      <td>VENTURE</td>\n",
       "      <td>B</td>\n",
       "      <td>5200</td>\n",
       "      <td>9.91</td>\n",
       "      <td>0</td>\n",
       "      <td>0.14</td>\n",
       "      <td>N</td>\n",
       "      <td>3</td>\n",
       "    </tr>\n",
       "    <tr>\n",
       "      <th>1</th>\n",
       "      <td>25</td>\n",
       "      <td>102000</td>\n",
       "      <td>MORTGAGE</td>\n",
       "      <td>5.0</td>\n",
       "      <td>EDUCATION</td>\n",
       "      <td>B</td>\n",
       "      <td>6975</td>\n",
       "      <td>9.91</td>\n",
       "      <td>0</td>\n",
       "      <td>0.07</td>\n",
       "      <td>N</td>\n",
       "      <td>3</td>\n",
       "    </tr>\n",
       "    <tr>\n",
       "      <th>2</th>\n",
       "      <td>25</td>\n",
       "      <td>27600</td>\n",
       "      <td>RENT</td>\n",
       "      <td>2.0</td>\n",
       "      <td>VENTURE</td>\n",
       "      <td>B</td>\n",
       "      <td>3200</td>\n",
       "      <td>12.21</td>\n",
       "      <td>0</td>\n",
       "      <td>0.12</td>\n",
       "      <td>N</td>\n",
       "      <td>2</td>\n",
       "    </tr>\n",
       "    <tr>\n",
       "      <th>3</th>\n",
       "      <td>22</td>\n",
       "      <td>21600</td>\n",
       "      <td>RENT</td>\n",
       "      <td>0.0</td>\n",
       "      <td>MEDICAL</td>\n",
       "      <td>A</td>\n",
       "      <td>1200</td>\n",
       "      <td>5.99</td>\n",
       "      <td>0</td>\n",
       "      <td>0.06</td>\n",
       "      <td>N</td>\n",
       "      <td>2</td>\n",
       "    </tr>\n",
       "    <tr>\n",
       "      <th>4</th>\n",
       "      <td>26</td>\n",
       "      <td>78000</td>\n",
       "      <td>MORTGAGE</td>\n",
       "      <td>8.0</td>\n",
       "      <td>PERSONAL</td>\n",
       "      <td>C</td>\n",
       "      <td>12000</td>\n",
       "      <td>13.43</td>\n",
       "      <td>0</td>\n",
       "      <td>0.15</td>\n",
       "      <td>N</td>\n",
       "      <td>4</td>\n",
       "    </tr>\n",
       "    <tr>\n",
       "      <th>5</th>\n",
       "      <td>28</td>\n",
       "      <td>42000</td>\n",
       "      <td>MORTGAGE</td>\n",
       "      <td>4.0</td>\n",
       "      <td>PERSONAL</td>\n",
       "      <td>B</td>\n",
       "      <td>10000</td>\n",
       "      <td>10.75</td>\n",
       "      <td>0</td>\n",
       "      <td>0.24</td>\n",
       "      <td>N</td>\n",
       "      <td>9</td>\n",
       "    </tr>\n",
       "  </tbody>\n",
       "</table>\n",
       "</div>"
      ],
      "text/plain": [
       "   person_age  person_income person_home_ownership  person_emp_length  \\\n",
       "0          24          36000              MORTGAGE                2.0   \n",
       "1          25         102000              MORTGAGE                5.0   \n",
       "2          25          27600                  RENT                2.0   \n",
       "3          22          21600                  RENT                0.0   \n",
       "4          26          78000              MORTGAGE                8.0   \n",
       "5          28          42000              MORTGAGE                4.0   \n",
       "\n",
       "  loan_intent loan_grade  loan_amnt  loan_int_rate  loan_status  \\\n",
       "0     VENTURE          B       5200           9.91            0   \n",
       "1   EDUCATION          B       6975           9.91            0   \n",
       "2     VENTURE          B       3200          12.21            0   \n",
       "3     MEDICAL          A       1200           5.99            0   \n",
       "4    PERSONAL          C      12000          13.43            0   \n",
       "5    PERSONAL          B      10000          10.75            0   \n",
       "\n",
       "   loan_percent_income cb_person_default_on_file  cb_person_cred_hist_length  \n",
       "0                 0.14                         N                           3  \n",
       "1                 0.07                         N                           3  \n",
       "2                 0.12                         N                           2  \n",
       "3                 0.06                         N                           2  \n",
       "4                 0.15                         N                           4  \n",
       "5                 0.24                         N                           9  "
      ]
     },
     "execution_count": 2,
     "metadata": {},
     "output_type": "execute_result"
    }
   ],
   "source": [
    "data= pd.read_csv('/kaggle/input/credit-risk/credit_risk_dataset.csv')\n",
    "data.sample(6).reset_index(drop=True)"
   ]
  },
  {
   "cell_type": "markdown",
   "id": "5adc2198",
   "metadata": {
    "papermill": {
     "duration": 0.010297,
     "end_time": "2023-12-17T21:52:25.981717",
     "exception": false,
     "start_time": "2023-12-17T21:52:25.971420",
     "status": "completed"
    },
    "tags": []
   },
   "source": [
    "# **Data set Description**\n",
    "* **person_age**: Age of the individual applying for the loan.\n",
    "* **person_income**: Annual income of the individual.\n",
    "* **person_home_ownership**: Type of home ownership of the individual.\n",
    "* **rent**: The individual is currently renting a property.\n",
    "* **mortgage**: The individual has a mortgage on the property they own.\n",
    "* **own**: The individual owns their home outright.\n",
    "* **other**: Other categories of home ownership that may be specific to the dataset.\n",
    "* **person_emp_length**: Employment length of the individual in years.\n",
    "* **loan_intent**: The intent behind the loan application.\n",
    "* **loan_grade**: The grade assigned to the loan based on the creditworthiness of the borrower.\n",
    "   * A: The borrower has a high creditworthiness, indicating low risk.\n",
    "   * B: The borrower is relatively low-risk, but not as creditworthy as Grade A.\n",
    "   * C: The borrower's creditworthiness is moderate.\n",
    "   * D: The borrower is considered to have higher risk compared to previous grades.\n",
    "   * E: The borrower's creditworthiness is lower, indicating a higher risk.\n",
    "   * F: The borrower poses a significant credit risk.\n",
    "   * G: The borrower's creditworthiness is the lowest, signifying the highest risk.\n",
    "* **loan_amnt**: The loan amount requested by the individual.\n",
    "* **loan_int_rate**: The interest rate associated with the loan.\n",
    "* **loan_status**: Loan status, where 0 indicates non-default and 1 indicates default.\n",
    "  * 0: Non-default - The borrower successfully repaid the loan as agreed, and there was no default.\n",
    "  * 1: Default - The borrower failed to repay the loan according to the agreed-upon terms and defaulted on the loan.\n",
    "* **loan_percent_income**: The percentage of income represented by the loan amount.\n",
    "* **cb_person_default_on_fil**e: Historical default of the individual as per credit bureau records.\n",
    "  * Y: The individual has a history of defaults on their credit file.\n",
    "  * N: The individual does not have any history of defaults.\n",
    "* **cb_preson_cred_hist_length**: The length of credit history for the individual.\n"
   ]
  },
  {
   "cell_type": "markdown",
   "id": "a2f95273",
   "metadata": {
    "papermill": {
     "duration": 0.01036,
     "end_time": "2023-12-17T21:52:26.002621",
     "exception": false,
     "start_time": "2023-12-17T21:52:25.992261",
     "status": "completed"
    },
    "tags": []
   },
   "source": [
    "# **Exploring the data se**t"
   ]
  },
  {
   "cell_type": "code",
   "execution_count": 3,
   "id": "83841df6",
   "metadata": {
    "execution": {
     "iopub.execute_input": "2023-12-17T21:52:26.025863Z",
     "iopub.status.busy": "2023-12-17T21:52:26.025457Z",
     "iopub.status.idle": "2023-12-17T21:52:26.042248Z",
     "shell.execute_reply": "2023-12-17T21:52:26.040983Z"
    },
    "papermill": {
     "duration": 0.031377,
     "end_time": "2023-12-17T21:52:26.044619",
     "exception": false,
     "start_time": "2023-12-17T21:52:26.013242",
     "status": "completed"
    },
    "tags": []
   },
   "outputs": [
    {
     "data": {
      "text/html": [
       "<div>\n",
       "<style scoped>\n",
       "    .dataframe tbody tr th:only-of-type {\n",
       "        vertical-align: middle;\n",
       "    }\n",
       "\n",
       "    .dataframe tbody tr th {\n",
       "        vertical-align: top;\n",
       "    }\n",
       "\n",
       "    .dataframe thead th {\n",
       "        text-align: right;\n",
       "    }\n",
       "</style>\n",
       "<table border=\"1\" class=\"dataframe\">\n",
       "  <thead>\n",
       "    <tr style=\"text-align: right;\">\n",
       "      <th></th>\n",
       "      <th>person_age</th>\n",
       "      <th>person_income</th>\n",
       "      <th>person_home_ownership</th>\n",
       "      <th>person_emp_length</th>\n",
       "      <th>loan_intent</th>\n",
       "      <th>loan_grade</th>\n",
       "      <th>loan_amnt</th>\n",
       "      <th>loan_int_rate</th>\n",
       "      <th>loan_status</th>\n",
       "      <th>loan_percent_income</th>\n",
       "      <th>cb_person_default_on_file</th>\n",
       "      <th>cb_person_cred_hist_length</th>\n",
       "    </tr>\n",
       "  </thead>\n",
       "  <tbody>\n",
       "    <tr>\n",
       "      <th>0</th>\n",
       "      <td>22</td>\n",
       "      <td>59000</td>\n",
       "      <td>RENT</td>\n",
       "      <td>123.0</td>\n",
       "      <td>PERSONAL</td>\n",
       "      <td>D</td>\n",
       "      <td>35000</td>\n",
       "      <td>16.02</td>\n",
       "      <td>1</td>\n",
       "      <td>0.59</td>\n",
       "      <td>Y</td>\n",
       "      <td>3</td>\n",
       "    </tr>\n",
       "    <tr>\n",
       "      <th>1</th>\n",
       "      <td>21</td>\n",
       "      <td>9600</td>\n",
       "      <td>OWN</td>\n",
       "      <td>5.0</td>\n",
       "      <td>EDUCATION</td>\n",
       "      <td>B</td>\n",
       "      <td>1000</td>\n",
       "      <td>11.14</td>\n",
       "      <td>0</td>\n",
       "      <td>0.10</td>\n",
       "      <td>N</td>\n",
       "      <td>2</td>\n",
       "    </tr>\n",
       "    <tr>\n",
       "      <th>2</th>\n",
       "      <td>25</td>\n",
       "      <td>9600</td>\n",
       "      <td>MORTGAGE</td>\n",
       "      <td>1.0</td>\n",
       "      <td>MEDICAL</td>\n",
       "      <td>C</td>\n",
       "      <td>5500</td>\n",
       "      <td>12.87</td>\n",
       "      <td>1</td>\n",
       "      <td>0.57</td>\n",
       "      <td>N</td>\n",
       "      <td>3</td>\n",
       "    </tr>\n",
       "    <tr>\n",
       "      <th>3</th>\n",
       "      <td>23</td>\n",
       "      <td>65500</td>\n",
       "      <td>RENT</td>\n",
       "      <td>4.0</td>\n",
       "      <td>MEDICAL</td>\n",
       "      <td>C</td>\n",
       "      <td>35000</td>\n",
       "      <td>15.23</td>\n",
       "      <td>1</td>\n",
       "      <td>0.53</td>\n",
       "      <td>N</td>\n",
       "      <td>2</td>\n",
       "    </tr>\n",
       "    <tr>\n",
       "      <th>4</th>\n",
       "      <td>24</td>\n",
       "      <td>54400</td>\n",
       "      <td>RENT</td>\n",
       "      <td>8.0</td>\n",
       "      <td>MEDICAL</td>\n",
       "      <td>C</td>\n",
       "      <td>35000</td>\n",
       "      <td>14.27</td>\n",
       "      <td>1</td>\n",
       "      <td>0.55</td>\n",
       "      <td>Y</td>\n",
       "      <td>4</td>\n",
       "    </tr>\n",
       "  </tbody>\n",
       "</table>\n",
       "</div>"
      ],
      "text/plain": [
       "   person_age  person_income person_home_ownership  person_emp_length  \\\n",
       "0          22          59000                  RENT              123.0   \n",
       "1          21           9600                   OWN                5.0   \n",
       "2          25           9600              MORTGAGE                1.0   \n",
       "3          23          65500                  RENT                4.0   \n",
       "4          24          54400                  RENT                8.0   \n",
       "\n",
       "  loan_intent loan_grade  loan_amnt  loan_int_rate  loan_status  \\\n",
       "0    PERSONAL          D      35000          16.02            1   \n",
       "1   EDUCATION          B       1000          11.14            0   \n",
       "2     MEDICAL          C       5500          12.87            1   \n",
       "3     MEDICAL          C      35000          15.23            1   \n",
       "4     MEDICAL          C      35000          14.27            1   \n",
       "\n",
       "   loan_percent_income cb_person_default_on_file  cb_person_cred_hist_length  \n",
       "0                 0.59                         Y                           3  \n",
       "1                 0.10                         N                           2  \n",
       "2                 0.57                         N                           3  \n",
       "3                 0.53                         N                           2  \n",
       "4                 0.55                         Y                           4  "
      ]
     },
     "execution_count": 3,
     "metadata": {},
     "output_type": "execute_result"
    }
   ],
   "source": [
    "data.head()"
   ]
  },
  {
   "cell_type": "code",
   "execution_count": 4,
   "id": "4538287a",
   "metadata": {
    "execution": {
     "iopub.execute_input": "2023-12-17T21:52:26.068589Z",
     "iopub.status.busy": "2023-12-17T21:52:26.067725Z",
     "iopub.status.idle": "2023-12-17T21:52:26.083242Z",
     "shell.execute_reply": "2023-12-17T21:52:26.082477Z"
    },
    "papermill": {
     "duration": 0.029764,
     "end_time": "2023-12-17T21:52:26.085286",
     "exception": false,
     "start_time": "2023-12-17T21:52:26.055522",
     "status": "completed"
    },
    "tags": []
   },
   "outputs": [
    {
     "data": {
      "text/html": [
       "<div>\n",
       "<style scoped>\n",
       "    .dataframe tbody tr th:only-of-type {\n",
       "        vertical-align: middle;\n",
       "    }\n",
       "\n",
       "    .dataframe tbody tr th {\n",
       "        vertical-align: top;\n",
       "    }\n",
       "\n",
       "    .dataframe thead th {\n",
       "        text-align: right;\n",
       "    }\n",
       "</style>\n",
       "<table border=\"1\" class=\"dataframe\">\n",
       "  <thead>\n",
       "    <tr style=\"text-align: right;\">\n",
       "      <th></th>\n",
       "      <th>person_age</th>\n",
       "      <th>person_income</th>\n",
       "      <th>person_home_ownership</th>\n",
       "      <th>person_emp_length</th>\n",
       "      <th>loan_intent</th>\n",
       "      <th>loan_grade</th>\n",
       "      <th>loan_amnt</th>\n",
       "      <th>loan_int_rate</th>\n",
       "      <th>loan_status</th>\n",
       "      <th>loan_percent_income</th>\n",
       "      <th>cb_person_default_on_file</th>\n",
       "      <th>cb_person_cred_hist_length</th>\n",
       "    </tr>\n",
       "  </thead>\n",
       "  <tbody>\n",
       "    <tr>\n",
       "      <th>32576</th>\n",
       "      <td>57</td>\n",
       "      <td>53000</td>\n",
       "      <td>MORTGAGE</td>\n",
       "      <td>1.0</td>\n",
       "      <td>PERSONAL</td>\n",
       "      <td>C</td>\n",
       "      <td>5800</td>\n",
       "      <td>13.16</td>\n",
       "      <td>0</td>\n",
       "      <td>0.11</td>\n",
       "      <td>N</td>\n",
       "      <td>30</td>\n",
       "    </tr>\n",
       "    <tr>\n",
       "      <th>32577</th>\n",
       "      <td>54</td>\n",
       "      <td>120000</td>\n",
       "      <td>MORTGAGE</td>\n",
       "      <td>4.0</td>\n",
       "      <td>PERSONAL</td>\n",
       "      <td>A</td>\n",
       "      <td>17625</td>\n",
       "      <td>7.49</td>\n",
       "      <td>0</td>\n",
       "      <td>0.15</td>\n",
       "      <td>N</td>\n",
       "      <td>19</td>\n",
       "    </tr>\n",
       "    <tr>\n",
       "      <th>32578</th>\n",
       "      <td>65</td>\n",
       "      <td>76000</td>\n",
       "      <td>RENT</td>\n",
       "      <td>3.0</td>\n",
       "      <td>HOMEIMPROVEMENT</td>\n",
       "      <td>B</td>\n",
       "      <td>35000</td>\n",
       "      <td>10.99</td>\n",
       "      <td>1</td>\n",
       "      <td>0.46</td>\n",
       "      <td>N</td>\n",
       "      <td>28</td>\n",
       "    </tr>\n",
       "    <tr>\n",
       "      <th>32579</th>\n",
       "      <td>56</td>\n",
       "      <td>150000</td>\n",
       "      <td>MORTGAGE</td>\n",
       "      <td>5.0</td>\n",
       "      <td>PERSONAL</td>\n",
       "      <td>B</td>\n",
       "      <td>15000</td>\n",
       "      <td>11.48</td>\n",
       "      <td>0</td>\n",
       "      <td>0.10</td>\n",
       "      <td>N</td>\n",
       "      <td>26</td>\n",
       "    </tr>\n",
       "    <tr>\n",
       "      <th>32580</th>\n",
       "      <td>66</td>\n",
       "      <td>42000</td>\n",
       "      <td>RENT</td>\n",
       "      <td>2.0</td>\n",
       "      <td>MEDICAL</td>\n",
       "      <td>B</td>\n",
       "      <td>6475</td>\n",
       "      <td>9.99</td>\n",
       "      <td>0</td>\n",
       "      <td>0.15</td>\n",
       "      <td>N</td>\n",
       "      <td>30</td>\n",
       "    </tr>\n",
       "  </tbody>\n",
       "</table>\n",
       "</div>"
      ],
      "text/plain": [
       "       person_age  person_income person_home_ownership  person_emp_length  \\\n",
       "32576          57          53000              MORTGAGE                1.0   \n",
       "32577          54         120000              MORTGAGE                4.0   \n",
       "32578          65          76000                  RENT                3.0   \n",
       "32579          56         150000              MORTGAGE                5.0   \n",
       "32580          66          42000                  RENT                2.0   \n",
       "\n",
       "           loan_intent loan_grade  loan_amnt  loan_int_rate  loan_status  \\\n",
       "32576         PERSONAL          C       5800          13.16            0   \n",
       "32577         PERSONAL          A      17625           7.49            0   \n",
       "32578  HOMEIMPROVEMENT          B      35000          10.99            1   \n",
       "32579         PERSONAL          B      15000          11.48            0   \n",
       "32580          MEDICAL          B       6475           9.99            0   \n",
       "\n",
       "       loan_percent_income cb_person_default_on_file  \\\n",
       "32576                 0.11                         N   \n",
       "32577                 0.15                         N   \n",
       "32578                 0.46                         N   \n",
       "32579                 0.10                         N   \n",
       "32580                 0.15                         N   \n",
       "\n",
       "       cb_person_cred_hist_length  \n",
       "32576                          30  \n",
       "32577                          19  \n",
       "32578                          28  \n",
       "32579                          26  \n",
       "32580                          30  "
      ]
     },
     "execution_count": 4,
     "metadata": {},
     "output_type": "execute_result"
    }
   ],
   "source": [
    "data.tail()"
   ]
  },
  {
   "cell_type": "code",
   "execution_count": 5,
   "id": "289319d9",
   "metadata": {
    "execution": {
     "iopub.execute_input": "2023-12-17T21:52:26.109315Z",
     "iopub.status.busy": "2023-12-17T21:52:26.108897Z",
     "iopub.status.idle": "2023-12-17T21:52:26.152326Z",
     "shell.execute_reply": "2023-12-17T21:52:26.151283Z"
    },
    "papermill": {
     "duration": 0.058262,
     "end_time": "2023-12-17T21:52:26.154719",
     "exception": false,
     "start_time": "2023-12-17T21:52:26.096457",
     "status": "completed"
    },
    "tags": []
   },
   "outputs": [
    {
     "data": {
      "text/html": [
       "<div>\n",
       "<style scoped>\n",
       "    .dataframe tbody tr th:only-of-type {\n",
       "        vertical-align: middle;\n",
       "    }\n",
       "\n",
       "    .dataframe tbody tr th {\n",
       "        vertical-align: top;\n",
       "    }\n",
       "\n",
       "    .dataframe thead th {\n",
       "        text-align: right;\n",
       "    }\n",
       "</style>\n",
       "<table border=\"1\" class=\"dataframe\">\n",
       "  <thead>\n",
       "    <tr style=\"text-align: right;\">\n",
       "      <th></th>\n",
       "      <th>person_age</th>\n",
       "      <th>person_income</th>\n",
       "      <th>person_emp_length</th>\n",
       "      <th>loan_amnt</th>\n",
       "      <th>loan_int_rate</th>\n",
       "      <th>loan_status</th>\n",
       "      <th>loan_percent_income</th>\n",
       "      <th>cb_person_cred_hist_length</th>\n",
       "    </tr>\n",
       "  </thead>\n",
       "  <tbody>\n",
       "    <tr>\n",
       "      <th>count</th>\n",
       "      <td>32581.000000</td>\n",
       "      <td>3.258100e+04</td>\n",
       "      <td>31686.000000</td>\n",
       "      <td>32581.000000</td>\n",
       "      <td>29465.000000</td>\n",
       "      <td>32581.000000</td>\n",
       "      <td>32581.000000</td>\n",
       "      <td>32581.000000</td>\n",
       "    </tr>\n",
       "    <tr>\n",
       "      <th>mean</th>\n",
       "      <td>27.734600</td>\n",
       "      <td>6.607485e+04</td>\n",
       "      <td>4.789686</td>\n",
       "      <td>9589.371106</td>\n",
       "      <td>11.011695</td>\n",
       "      <td>0.218164</td>\n",
       "      <td>0.170203</td>\n",
       "      <td>5.804211</td>\n",
       "    </tr>\n",
       "    <tr>\n",
       "      <th>std</th>\n",
       "      <td>6.348078</td>\n",
       "      <td>6.198312e+04</td>\n",
       "      <td>4.142630</td>\n",
       "      <td>6322.086646</td>\n",
       "      <td>3.240459</td>\n",
       "      <td>0.413006</td>\n",
       "      <td>0.106782</td>\n",
       "      <td>4.055001</td>\n",
       "    </tr>\n",
       "    <tr>\n",
       "      <th>min</th>\n",
       "      <td>20.000000</td>\n",
       "      <td>4.000000e+03</td>\n",
       "      <td>0.000000</td>\n",
       "      <td>500.000000</td>\n",
       "      <td>5.420000</td>\n",
       "      <td>0.000000</td>\n",
       "      <td>0.000000</td>\n",
       "      <td>2.000000</td>\n",
       "    </tr>\n",
       "    <tr>\n",
       "      <th>25%</th>\n",
       "      <td>23.000000</td>\n",
       "      <td>3.850000e+04</td>\n",
       "      <td>2.000000</td>\n",
       "      <td>5000.000000</td>\n",
       "      <td>7.900000</td>\n",
       "      <td>0.000000</td>\n",
       "      <td>0.090000</td>\n",
       "      <td>3.000000</td>\n",
       "    </tr>\n",
       "    <tr>\n",
       "      <th>50%</th>\n",
       "      <td>26.000000</td>\n",
       "      <td>5.500000e+04</td>\n",
       "      <td>4.000000</td>\n",
       "      <td>8000.000000</td>\n",
       "      <td>10.990000</td>\n",
       "      <td>0.000000</td>\n",
       "      <td>0.150000</td>\n",
       "      <td>4.000000</td>\n",
       "    </tr>\n",
       "    <tr>\n",
       "      <th>75%</th>\n",
       "      <td>30.000000</td>\n",
       "      <td>7.920000e+04</td>\n",
       "      <td>7.000000</td>\n",
       "      <td>12200.000000</td>\n",
       "      <td>13.470000</td>\n",
       "      <td>0.000000</td>\n",
       "      <td>0.230000</td>\n",
       "      <td>8.000000</td>\n",
       "    </tr>\n",
       "    <tr>\n",
       "      <th>max</th>\n",
       "      <td>144.000000</td>\n",
       "      <td>6.000000e+06</td>\n",
       "      <td>123.000000</td>\n",
       "      <td>35000.000000</td>\n",
       "      <td>23.220000</td>\n",
       "      <td>1.000000</td>\n",
       "      <td>0.830000</td>\n",
       "      <td>30.000000</td>\n",
       "    </tr>\n",
       "  </tbody>\n",
       "</table>\n",
       "</div>"
      ],
      "text/plain": [
       "         person_age  person_income  person_emp_length     loan_amnt  \\\n",
       "count  32581.000000   3.258100e+04       31686.000000  32581.000000   \n",
       "mean      27.734600   6.607485e+04           4.789686   9589.371106   \n",
       "std        6.348078   6.198312e+04           4.142630   6322.086646   \n",
       "min       20.000000   4.000000e+03           0.000000    500.000000   \n",
       "25%       23.000000   3.850000e+04           2.000000   5000.000000   \n",
       "50%       26.000000   5.500000e+04           4.000000   8000.000000   \n",
       "75%       30.000000   7.920000e+04           7.000000  12200.000000   \n",
       "max      144.000000   6.000000e+06         123.000000  35000.000000   \n",
       "\n",
       "       loan_int_rate   loan_status  loan_percent_income  \\\n",
       "count   29465.000000  32581.000000         32581.000000   \n",
       "mean       11.011695      0.218164             0.170203   \n",
       "std         3.240459      0.413006             0.106782   \n",
       "min         5.420000      0.000000             0.000000   \n",
       "25%         7.900000      0.000000             0.090000   \n",
       "50%        10.990000      0.000000             0.150000   \n",
       "75%        13.470000      0.000000             0.230000   \n",
       "max        23.220000      1.000000             0.830000   \n",
       "\n",
       "       cb_person_cred_hist_length  \n",
       "count                32581.000000  \n",
       "mean                     5.804211  \n",
       "std                      4.055001  \n",
       "min                      2.000000  \n",
       "25%                      3.000000  \n",
       "50%                      4.000000  \n",
       "75%                      8.000000  \n",
       "max                     30.000000  "
      ]
     },
     "execution_count": 5,
     "metadata": {},
     "output_type": "execute_result"
    }
   ],
   "source": [
    "data.describe()"
   ]
  },
  {
   "cell_type": "code",
   "execution_count": 6,
   "id": "24de4b2a",
   "metadata": {
    "execution": {
     "iopub.execute_input": "2023-12-17T21:52:26.179280Z",
     "iopub.status.busy": "2023-12-17T21:52:26.178895Z",
     "iopub.status.idle": "2023-12-17T21:52:26.210270Z",
     "shell.execute_reply": "2023-12-17T21:52:26.208565Z"
    },
    "papermill": {
     "duration": 0.04657,
     "end_time": "2023-12-17T21:52:26.212695",
     "exception": false,
     "start_time": "2023-12-17T21:52:26.166125",
     "status": "completed"
    },
    "tags": []
   },
   "outputs": [
    {
     "name": "stdout",
     "output_type": "stream",
     "text": [
      "<class 'pandas.core.frame.DataFrame'>\n",
      "RangeIndex: 32581 entries, 0 to 32580\n",
      "Data columns (total 12 columns):\n",
      " #   Column                      Non-Null Count  Dtype  \n",
      "---  ------                      --------------  -----  \n",
      " 0   person_age                  32581 non-null  int64  \n",
      " 1   person_income               32581 non-null  int64  \n",
      " 2   person_home_ownership       32581 non-null  object \n",
      " 3   person_emp_length           31686 non-null  float64\n",
      " 4   loan_intent                 32581 non-null  object \n",
      " 5   loan_grade                  32581 non-null  object \n",
      " 6   loan_amnt                   32581 non-null  int64  \n",
      " 7   loan_int_rate               29465 non-null  float64\n",
      " 8   loan_status                 32581 non-null  int64  \n",
      " 9   loan_percent_income         32581 non-null  float64\n",
      " 10  cb_person_default_on_file   32581 non-null  object \n",
      " 11  cb_person_cred_hist_length  32581 non-null  int64  \n",
      "dtypes: float64(3), int64(5), object(4)\n",
      "memory usage: 3.0+ MB\n"
     ]
    }
   ],
   "source": [
    "data.info()"
   ]
  },
  {
   "cell_type": "markdown",
   "id": "acbeb264",
   "metadata": {
    "papermill": {
     "duration": 0.01125,
     "end_time": "2023-12-17T21:52:26.235546",
     "exception": false,
     "start_time": "2023-12-17T21:52:26.224296",
     "status": "completed"
    },
    "tags": []
   },
   "source": [
    "# **Checking the dataset for missing values and getting an overal count on the missing data**"
   ]
  },
  {
   "cell_type": "code",
   "execution_count": 7,
   "id": "5261c701",
   "metadata": {
    "execution": {
     "iopub.execute_input": "2023-12-17T21:52:26.261035Z",
     "iopub.status.busy": "2023-12-17T21:52:26.259875Z",
     "iopub.status.idle": "2023-12-17T21:52:26.274391Z",
     "shell.execute_reply": "2023-12-17T21:52:26.273521Z"
    },
    "papermill": {
     "duration": 0.029294,
     "end_time": "2023-12-17T21:52:26.276440",
     "exception": false,
     "start_time": "2023-12-17T21:52:26.247146",
     "status": "completed"
    },
    "tags": []
   },
   "outputs": [
    {
     "data": {
      "text/plain": [
       "person_age                       0\n",
       "person_income                    0\n",
       "person_home_ownership            0\n",
       "person_emp_length              895\n",
       "loan_intent                      0\n",
       "loan_grade                       0\n",
       "loan_amnt                        0\n",
       "loan_int_rate                 3116\n",
       "loan_status                      0\n",
       "loan_percent_income              0\n",
       "cb_person_default_on_file        0\n",
       "cb_person_cred_hist_length       0\n",
       "dtype: int64"
      ]
     },
     "execution_count": 7,
     "metadata": {},
     "output_type": "execute_result"
    }
   ],
   "source": [
    "data.isnull().sum()"
   ]
  },
  {
   "cell_type": "markdown",
   "id": "1bc5354a",
   "metadata": {
    "papermill": {
     "duration": 0.011542,
     "end_time": "2023-12-17T21:52:26.299716",
     "exception": false,
     "start_time": "2023-12-17T21:52:26.288174",
     "status": "completed"
    },
    "tags": []
   },
   "source": [
    " **The misssing records where droped from the dataset**"
   ]
  },
  {
   "cell_type": "code",
   "execution_count": 8,
   "id": "9e79fe95",
   "metadata": {
    "execution": {
     "iopub.execute_input": "2023-12-17T21:52:26.386987Z",
     "iopub.status.busy": "2023-12-17T21:52:26.385850Z",
     "iopub.status.idle": "2023-12-17T21:52:26.399739Z",
     "shell.execute_reply": "2023-12-17T21:52:26.398958Z"
    },
    "papermill": {
     "duration": 0.02974,
     "end_time": "2023-12-17T21:52:26.402067",
     "exception": false,
     "start_time": "2023-12-17T21:52:26.372327",
     "status": "completed"
    },
    "tags": []
   },
   "outputs": [],
   "source": [
    "data.dropna(axis=0,inplace=True)"
   ]
  },
  {
   "cell_type": "code",
   "execution_count": 9,
   "id": "a0b588bb",
   "metadata": {
    "execution": {
     "iopub.execute_input": "2023-12-17T21:52:26.427900Z",
     "iopub.status.busy": "2023-12-17T21:52:26.427237Z",
     "iopub.status.idle": "2023-12-17T21:52:26.441871Z",
     "shell.execute_reply": "2023-12-17T21:52:26.440797Z"
    },
    "papermill": {
     "duration": 0.030377,
     "end_time": "2023-12-17T21:52:26.444188",
     "exception": false,
     "start_time": "2023-12-17T21:52:26.413811",
     "status": "completed"
    },
    "tags": []
   },
   "outputs": [
    {
     "data": {
      "text/plain": [
       "person_age                    0\n",
       "person_income                 0\n",
       "person_home_ownership         0\n",
       "person_emp_length             0\n",
       "loan_intent                   0\n",
       "loan_grade                    0\n",
       "loan_amnt                     0\n",
       "loan_int_rate                 0\n",
       "loan_status                   0\n",
       "loan_percent_income           0\n",
       "cb_person_default_on_file     0\n",
       "cb_person_cred_hist_length    0\n",
       "dtype: int64"
      ]
     },
     "execution_count": 9,
     "metadata": {},
     "output_type": "execute_result"
    }
   ],
   "source": [
    "data.isnull().sum()"
   ]
  },
  {
   "cell_type": "markdown",
   "id": "7cc79cf6",
   "metadata": {
    "papermill": {
     "duration": 0.011544,
     "end_time": "2023-12-17T21:52:26.467801",
     "exception": false,
     "start_time": "2023-12-17T21:52:26.456257",
     "status": "completed"
    },
    "tags": []
   },
   "source": [
    "**To obtain credile data it is necessery to chech for duplictes** "
   ]
  },
  {
   "cell_type": "code",
   "execution_count": 10,
   "id": "2adf7226",
   "metadata": {
    "execution": {
     "iopub.execute_input": "2023-12-17T21:52:26.493118Z",
     "iopub.status.busy": "2023-12-17T21:52:26.492725Z",
     "iopub.status.idle": "2023-12-17T21:52:26.512250Z",
     "shell.execute_reply": "2023-12-17T21:52:26.511186Z"
    },
    "papermill": {
     "duration": 0.035089,
     "end_time": "2023-12-17T21:52:26.514688",
     "exception": false,
     "start_time": "2023-12-17T21:52:26.479599",
     "status": "completed"
    },
    "tags": []
   },
   "outputs": [
    {
     "data": {
      "text/plain": [
       "person_age                      57\n",
       "person_income                 3835\n",
       "person_home_ownership            4\n",
       "person_emp_length               36\n",
       "loan_intent                      6\n",
       "loan_grade                       7\n",
       "loan_amnt                      728\n",
       "loan_int_rate                  348\n",
       "loan_status                      2\n",
       "loan_percent_income             77\n",
       "cb_person_default_on_file        2\n",
       "cb_person_cred_hist_length      29\n",
       "dtype: int64"
      ]
     },
     "execution_count": 10,
     "metadata": {},
     "output_type": "execute_result"
    }
   ],
   "source": [
    "data.nunique()"
   ]
  },
  {
   "cell_type": "code",
   "execution_count": 11,
   "id": "7ee02257",
   "metadata": {
    "execution": {
     "iopub.execute_input": "2023-12-17T21:52:26.541171Z",
     "iopub.status.busy": "2023-12-17T21:52:26.540749Z",
     "iopub.status.idle": "2023-12-17T21:52:26.561231Z",
     "shell.execute_reply": "2023-12-17T21:52:26.560465Z"
    },
    "papermill": {
     "duration": 0.036029,
     "end_time": "2023-12-17T21:52:26.563240",
     "exception": false,
     "start_time": "2023-12-17T21:52:26.527211",
     "status": "completed"
    },
    "tags": []
   },
   "outputs": [
    {
     "data": {
      "text/plain": [
       "137"
      ]
     },
     "execution_count": 11,
     "metadata": {},
     "output_type": "execute_result"
    }
   ],
   "source": [
    "data.duplicated().sum()"
   ]
  },
  {
   "cell_type": "markdown",
   "id": "dc7b35c4",
   "metadata": {
    "papermill": {
     "duration": 0.012137,
     "end_time": "2023-12-17T21:52:26.587535",
     "exception": false,
     "start_time": "2023-12-17T21:52:26.575398",
     "status": "completed"
    },
    "tags": []
   },
   "source": [
    "# **Looking for outliers and dealing with them**"
   ]
  },
  {
   "cell_type": "code",
   "execution_count": 12,
   "id": "eba67875",
   "metadata": {
    "execution": {
     "iopub.execute_input": "2023-12-17T21:52:26.614124Z",
     "iopub.status.busy": "2023-12-17T21:52:26.613028Z",
     "iopub.status.idle": "2023-12-17T21:52:26.625177Z",
     "shell.execute_reply": "2023-12-17T21:52:26.623758Z"
    },
    "papermill": {
     "duration": 0.028081,
     "end_time": "2023-12-17T21:52:26.627767",
     "exception": false,
     "start_time": "2023-12-17T21:52:26.599686",
     "status": "completed"
    },
    "tags": []
   },
   "outputs": [
    {
     "name": "stdout",
     "output_type": "stream",
     "text": [
      "The maximum Age 144\n",
      "The minimum Age 20\n",
      "Peple with age between 1 and 18: 0\n",
      "Peple with age between 19 and 26: 15682\n",
      "Peple with age between 27 and 36: 10422\n",
      "Peple with age between 37 and 46: 2054\n",
      "Peple with age between 47 and 56: 372\n",
      "Peple with age between 57 and 66: 87\n"
     ]
    }
   ],
   "source": [
    "max_age = data['person_age'].max()\n",
    "min_age = data['person_age'].min()\n",
    "print(f\"The maximum Age {max_age}\")\n",
    "print(f\"The minimum Age {min_age}\")\n",
    "\n",
    "# people with an age between x and y\n",
    "def age_group(arr):\n",
    "    lenarr = len(arr)\n",
    "    for i in range(0,lenarr-1):\n",
    "        next = arr[i]+1\n",
    "        num_people = data['person_age'].between(next,arr[i+1]).sum()\n",
    "        print(f'Peple with age between {next} and {arr[i+1]}: {num_people}')\n",
    "        \n",
    "age_group([0 ,18, 26, 36, 46, 56, 66])\n"
   ]
  },
  {
   "cell_type": "code",
   "execution_count": 13,
   "id": "3affea09",
   "metadata": {
    "execution": {
     "iopub.execute_input": "2023-12-17T21:52:26.655090Z",
     "iopub.status.busy": "2023-12-17T21:52:26.654366Z",
     "iopub.status.idle": "2023-12-17T21:52:27.040022Z",
     "shell.execute_reply": "2023-12-17T21:52:27.038912Z"
    },
    "papermill": {
     "duration": 0.402096,
     "end_time": "2023-12-17T21:52:27.042533",
     "exception": false,
     "start_time": "2023-12-17T21:52:26.640437",
     "status": "completed"
    },
    "tags": []
   },
   "outputs": [
    {
     "data": {
      "text/plain": [
       "<BarContainer object of 57 artists>"
      ]
     },
     "execution_count": 13,
     "metadata": {},
     "output_type": "execute_result"
    },
    {
     "data": {
      "image/png": "[encoded data removed]",
      "text/plain": [
       "<Figure size 1500x500 with 1 Axes>"
      ]
     },
     "metadata": {},
     "output_type": "display_data"
    }
   ],
   "source": [
    "import matplotlib.pyplot as plt \n",
    "verti = data['person_age'].value_counts().values\n",
    "hori = data['person_age'].value_counts().index\n",
    "fig = plt.figure(figsize = (15, 5))\n",
    "plt.bar(hori, verti)"
   ]
  },
  {
   "cell_type": "code",
   "execution_count": 14,
   "id": "9727066f",
   "metadata": {
    "execution": {
     "iopub.execute_input": "2023-12-17T21:52:27.069753Z",
     "iopub.status.busy": "2023-12-17T21:52:27.069356Z",
     "iopub.status.idle": "2023-12-17T21:52:27.077415Z",
     "shell.execute_reply": "2023-12-17T21:52:27.076203Z"
    },
    "papermill": {
     "duration": 0.024214,
     "end_time": "2023-12-17T21:52:27.079599",
     "exception": false,
     "start_time": "2023-12-17T21:52:27.055385",
     "status": "completed"
    },
    "tags": []
   },
   "outputs": [
    {
     "data": {
      "text/plain": [
       "28"
      ]
     },
     "execution_count": 14,
     "metadata": {},
     "output_type": "execute_result"
    }
   ],
   "source": [
    "(data['person_age'].value_counts().values>60).sum()"
   ]
  },
  {
   "cell_type": "markdown",
   "id": "60d3e668",
   "metadata": {
    "papermill": {
     "duration": 0.012445,
     "end_time": "2023-12-17T21:52:27.105152",
     "exception": false,
     "start_time": "2023-12-17T21:52:27.092707",
     "status": "completed"
    },
    "tags": []
   },
   "source": [
    "**The above infromation casts a light on the age feature and shows that ages above 60 are outliers hence  the best way is to remove values with ages above 60**"
   ]
  },
  {
   "cell_type": "code",
   "execution_count": 15,
   "id": "d395fa2a",
   "metadata": {
    "execution": {
     "iopub.execute_input": "2023-12-17T21:52:27.132410Z",
     "iopub.status.busy": "2023-12-17T21:52:27.132020Z",
     "iopub.status.idle": "2023-12-17T21:52:27.142040Z",
     "shell.execute_reply": "2023-12-17T21:52:27.141003Z"
    },
    "papermill": {
     "duration": 0.026329,
     "end_time": "2023-12-17T21:52:27.144163",
     "exception": false,
     "start_time": "2023-12-17T21:52:27.117834",
     "status": "completed"
    },
    "tags": []
   },
   "outputs": [],
   "source": [
    "data = data.drop(data[data['person_age'] > 60].index, axis=0)"
   ]
  },
  {
   "cell_type": "code",
   "execution_count": 16,
   "id": "a0963994",
   "metadata": {
    "execution": {
     "iopub.execute_input": "2023-12-17T21:52:27.172294Z",
     "iopub.status.busy": "2023-12-17T21:52:27.171863Z",
     "iopub.status.idle": "2023-12-17T21:52:27.181245Z",
     "shell.execute_reply": "2023-12-17T21:52:27.180173Z"
    },
    "papermill": {
     "duration": 0.026286,
     "end_time": "2023-12-17T21:52:27.183668",
     "exception": false,
     "start_time": "2023-12-17T21:52:27.157382",
     "status": "completed"
    },
    "tags": []
   },
   "outputs": [],
   "source": [
    "data['age_group'] = pd.cut(data['person_age'],\n",
    "                           bins=[20, 26, 36, 46, 56, 66],\n",
    "                           labels=['20-25', '26-35', '36-45', '46-55', '56-60'])"
   ]
  },
  {
   "cell_type": "code",
   "execution_count": 17,
   "id": "ffbe25a7",
   "metadata": {
    "execution": {
     "iopub.execute_input": "2023-12-17T21:52:27.211558Z",
     "iopub.status.busy": "2023-12-17T21:52:27.211157Z",
     "iopub.status.idle": "2023-12-17T21:52:27.218065Z",
     "shell.execute_reply": "2023-12-17T21:52:27.217072Z"
    },
    "papermill": {
     "duration": 0.02336,
     "end_time": "2023-12-17T21:52:27.220119",
     "exception": false,
     "start_time": "2023-12-17T21:52:27.196759",
     "status": "completed"
    },
    "tags": []
   },
   "outputs": [
    {
     "data": {
      "text/plain": [
       "CategoricalDtype(categories=['20-25', '26-35', '36-45', '46-55', '56-60'], ordered=True)"
      ]
     },
     "execution_count": 17,
     "metadata": {},
     "output_type": "execute_result"
    }
   ],
   "source": [
    "data['age_group'].dtype"
   ]
  },
  {
   "cell_type": "code",
   "execution_count": 18,
   "id": "2ee5c863",
   "metadata": {
    "execution": {
     "iopub.execute_input": "2023-12-17T21:52:27.247619Z",
     "iopub.status.busy": "2023-12-17T21:52:27.247219Z",
     "iopub.status.idle": "2023-12-17T21:52:27.265029Z",
     "shell.execute_reply": "2023-12-17T21:52:27.263891Z"
    },
    "papermill": {
     "duration": 0.034357,
     "end_time": "2023-12-17T21:52:27.267419",
     "exception": false,
     "start_time": "2023-12-17T21:52:27.233062",
     "status": "completed"
    },
    "tags": []
   },
   "outputs": [
    {
     "data": {
      "text/html": [
       "<div>\n",
       "<style scoped>\n",
       "    .dataframe tbody tr th:only-of-type {\n",
       "        vertical-align: middle;\n",
       "    }\n",
       "\n",
       "    .dataframe tbody tr th {\n",
       "        vertical-align: top;\n",
       "    }\n",
       "\n",
       "    .dataframe thead th {\n",
       "        text-align: right;\n",
       "    }\n",
       "</style>\n",
       "<table border=\"1\" class=\"dataframe\">\n",
       "  <thead>\n",
       "    <tr style=\"text-align: right;\">\n",
       "      <th></th>\n",
       "      <th>person_age</th>\n",
       "      <th>person_income</th>\n",
       "      <th>person_home_ownership</th>\n",
       "      <th>person_emp_length</th>\n",
       "      <th>loan_intent</th>\n",
       "      <th>loan_grade</th>\n",
       "      <th>loan_amnt</th>\n",
       "      <th>loan_int_rate</th>\n",
       "      <th>loan_status</th>\n",
       "      <th>loan_percent_income</th>\n",
       "      <th>cb_person_default_on_file</th>\n",
       "      <th>cb_person_cred_hist_length</th>\n",
       "      <th>age_group</th>\n",
       "    </tr>\n",
       "  </thead>\n",
       "  <tbody>\n",
       "    <tr>\n",
       "      <th>0</th>\n",
       "      <td>22</td>\n",
       "      <td>59000</td>\n",
       "      <td>RENT</td>\n",
       "      <td>123.0</td>\n",
       "      <td>PERSONAL</td>\n",
       "      <td>D</td>\n",
       "      <td>35000</td>\n",
       "      <td>16.02</td>\n",
       "      <td>1</td>\n",
       "      <td>0.59</td>\n",
       "      <td>Y</td>\n",
       "      <td>3</td>\n",
       "      <td>20-25</td>\n",
       "    </tr>\n",
       "    <tr>\n",
       "      <th>1</th>\n",
       "      <td>21</td>\n",
       "      <td>9600</td>\n",
       "      <td>OWN</td>\n",
       "      <td>5.0</td>\n",
       "      <td>EDUCATION</td>\n",
       "      <td>B</td>\n",
       "      <td>1000</td>\n",
       "      <td>11.14</td>\n",
       "      <td>0</td>\n",
       "      <td>0.10</td>\n",
       "      <td>N</td>\n",
       "      <td>2</td>\n",
       "      <td>20-25</td>\n",
       "    </tr>\n",
       "    <tr>\n",
       "      <th>2</th>\n",
       "      <td>25</td>\n",
       "      <td>9600</td>\n",
       "      <td>MORTGAGE</td>\n",
       "      <td>1.0</td>\n",
       "      <td>MEDICAL</td>\n",
       "      <td>C</td>\n",
       "      <td>5500</td>\n",
       "      <td>12.87</td>\n",
       "      <td>1</td>\n",
       "      <td>0.57</td>\n",
       "      <td>N</td>\n",
       "      <td>3</td>\n",
       "      <td>20-25</td>\n",
       "    </tr>\n",
       "    <tr>\n",
       "      <th>3</th>\n",
       "      <td>23</td>\n",
       "      <td>65500</td>\n",
       "      <td>RENT</td>\n",
       "      <td>4.0</td>\n",
       "      <td>MEDICAL</td>\n",
       "      <td>C</td>\n",
       "      <td>35000</td>\n",
       "      <td>15.23</td>\n",
       "      <td>1</td>\n",
       "      <td>0.53</td>\n",
       "      <td>N</td>\n",
       "      <td>2</td>\n",
       "      <td>20-25</td>\n",
       "    </tr>\n",
       "    <tr>\n",
       "      <th>4</th>\n",
       "      <td>24</td>\n",
       "      <td>54400</td>\n",
       "      <td>RENT</td>\n",
       "      <td>8.0</td>\n",
       "      <td>MEDICAL</td>\n",
       "      <td>C</td>\n",
       "      <td>35000</td>\n",
       "      <td>14.27</td>\n",
       "      <td>1</td>\n",
       "      <td>0.55</td>\n",
       "      <td>Y</td>\n",
       "      <td>4</td>\n",
       "      <td>20-25</td>\n",
       "    </tr>\n",
       "  </tbody>\n",
       "</table>\n",
       "</div>"
      ],
      "text/plain": [
       "   person_age  person_income person_home_ownership  person_emp_length  \\\n",
       "0          22          59000                  RENT              123.0   \n",
       "1          21           9600                   OWN                5.0   \n",
       "2          25           9600              MORTGAGE                1.0   \n",
       "3          23          65500                  RENT                4.0   \n",
       "4          24          54400                  RENT                8.0   \n",
       "\n",
       "  loan_intent loan_grade  loan_amnt  loan_int_rate  loan_status  \\\n",
       "0    PERSONAL          D      35000          16.02            1   \n",
       "1   EDUCATION          B       1000          11.14            0   \n",
       "2     MEDICAL          C       5500          12.87            1   \n",
       "3     MEDICAL          C      35000          15.23            1   \n",
       "4     MEDICAL          C      35000          14.27            1   \n",
       "\n",
       "   loan_percent_income cb_person_default_on_file  cb_person_cred_hist_length  \\\n",
       "0                 0.59                         Y                           3   \n",
       "1                 0.10                         N                           2   \n",
       "2                 0.57                         N                           3   \n",
       "3                 0.53                         N                           2   \n",
       "4                 0.55                         Y                           4   \n",
       "\n",
       "  age_group  \n",
       "0     20-25  \n",
       "1     20-25  \n",
       "2     20-25  \n",
       "3     20-25  \n",
       "4     20-25  "
      ]
     },
     "execution_count": 18,
     "metadata": {},
     "output_type": "execute_result"
    }
   ],
   "source": [
    "data.head()"
   ]
  },
  {
   "cell_type": "markdown",
   "id": "89130c7c",
   "metadata": {
    "papermill": {
     "duration": 0.012689,
     "end_time": "2023-12-17T21:52:27.293262",
     "exception": false,
     "start_time": "2023-12-17T21:52:27.280573",
     "status": "completed"
    },
    "tags": []
   },
   "source": [
    "**The next feature is the income field**"
   ]
  },
  {
   "cell_type": "code",
   "execution_count": 19,
   "id": "48fbee9c",
   "metadata": {
    "execution": {
     "iopub.execute_input": "2023-12-17T21:52:27.321091Z",
     "iopub.status.busy": "2023-12-17T21:52:27.320684Z",
     "iopub.status.idle": "2023-12-17T21:52:27.332328Z",
     "shell.execute_reply": "2023-12-17T21:52:27.331130Z"
    },
    "papermill": {
     "duration": 0.028227,
     "end_time": "2023-12-17T21:52:27.334378",
     "exception": false,
     "start_time": "2023-12-17T21:52:27.306151",
     "status": "completed"
    },
    "tags": []
   },
   "outputs": [
    {
     "name": "stdout",
     "output_type": "stream",
     "text": [
      "The largest Income is 2039784\n",
      "The smallest Income is  4000\n",
      "Income between 1 and 25000: Number of people 1967\n",
      "Income between 25001 and 50000: Number of people 10181\n",
      "Income between 50001 and 75000: Number of people 8522\n",
      "Income between 75001 and 100000: Number of people 4187\n",
      "Income between 100001 and inf: Number of people 3723\n"
     ]
    }
   ],
   "source": [
    "max_income = data['person_income'].max()\n",
    "min_income = data['person_income'].min()\n",
    "\n",
    "print(f\"The largest Income is {max_income}\")\n",
    "print(f\"The smallest Income is  {min_income}\")\n",
    "\n",
    "#people with an income between x and y\n",
    "def income_group(arr):\n",
    "    lenarr = len(arr)\n",
    "    for i in range(0,lenarr-1):\n",
    "        next = arr[i]+1\n",
    "        num_people = data['person_income'].between(next,arr[i+1]).sum()\n",
    "        print(f'Income between {next} and {arr[i+1]}: Number of people {num_people}')\n",
    "        \n",
    "income_group([0, 25000, 50000, 75000, 100000,float('inf')])"
   ]
  },
  {
   "cell_type": "code",
   "execution_count": 20,
   "id": "71286e84",
   "metadata": {
    "execution": {
     "iopub.execute_input": "2023-12-17T21:52:27.362639Z",
     "iopub.status.busy": "2023-12-17T21:52:27.362254Z",
     "iopub.status.idle": "2023-12-17T21:52:27.369972Z",
     "shell.execute_reply": "2023-12-17T21:52:27.369008Z"
    },
    "papermill": {
     "duration": 0.024762,
     "end_time": "2023-12-17T21:52:27.372410",
     "exception": false,
     "start_time": "2023-12-17T21:52:27.347648",
     "status": "completed"
    },
    "tags": []
   },
   "outputs": [],
   "source": [
    "data['income_group'] = pd.cut(data['person_income'],\n",
    "                              bins=[0, 25000, 50000, 75000, 100000, float('inf')],\n",
    "                              labels=['low', 'low-middle', 'middle', 'high-middle', 'high'])\n"
   ]
  },
  {
   "cell_type": "code",
   "execution_count": 21,
   "id": "fca2490c",
   "metadata": {
    "execution": {
     "iopub.execute_input": "2023-12-17T21:52:27.402623Z",
     "iopub.status.busy": "2023-12-17T21:52:27.402234Z",
     "iopub.status.idle": "2023-12-17T21:52:27.411923Z",
     "shell.execute_reply": "2023-12-17T21:52:27.410697Z"
    },
    "papermill": {
     "duration": 0.026546,
     "end_time": "2023-12-17T21:52:27.414179",
     "exception": false,
     "start_time": "2023-12-17T21:52:27.387633",
     "status": "completed"
    },
    "tags": []
   },
   "outputs": [
    {
     "data": {
      "text/plain": [
       "0        middle\n",
       "1           low\n",
       "2           low\n",
       "3        middle\n",
       "4        middle\n",
       "          ...  \n",
       "32574    middle\n",
       "32575    middle\n",
       "32576    middle\n",
       "32577      high\n",
       "32579      high\n",
       "Name: income_group, Length: 28580, dtype: category\n",
       "Categories (5, object): ['low' < 'low-middle' < 'middle' < 'high-middle' < 'high']"
      ]
     },
     "execution_count": 21,
     "metadata": {},
     "output_type": "execute_result"
    }
   ],
   "source": [
    "data['income_group']"
   ]
  },
  {
   "cell_type": "markdown",
   "id": "8df1be14",
   "metadata": {
    "papermill": {
     "duration": 0.013282,
     "end_time": "2023-12-17T21:52:27.440989",
     "exception": false,
     "start_time": "2023-12-17T21:52:27.427707",
     "status": "completed"
    },
    "tags": []
   },
   "source": [
    "**Checking and dealing with the loan ammount feature**"
   ]
  },
  {
   "cell_type": "code",
   "execution_count": 22,
   "id": "c6dc7fbe",
   "metadata": {
    "execution": {
     "iopub.execute_input": "2023-12-17T21:52:27.470125Z",
     "iopub.status.busy": "2023-12-17T21:52:27.468963Z",
     "iopub.status.idle": "2023-12-17T21:52:27.480608Z",
     "shell.execute_reply": "2023-12-17T21:52:27.479339Z"
    },
    "papermill": {
     "duration": 0.028463,
     "end_time": "2023-12-17T21:52:27.482801",
     "exception": false,
     "start_time": "2023-12-17T21:52:27.454338",
     "status": "completed"
    },
    "tags": []
   },
   "outputs": [
    {
     "name": "stdout",
     "output_type": "stream",
     "text": [
      "maximum Loan Amount 35000\n",
      "minimum Loan Amount 500\n",
      "Loan Amount between 1 and 5000: Number of people 8170\n",
      "Loan Amount between 5001 and 10000: Number of people 10592\n",
      "Loan Amount between 10001 and 15000: Number of people 5421\n",
      "Loan Amount between 15001 and inf: Number of people 4397\n"
     ]
    }
   ],
   "source": [
    "max_loan_amount = data['loan_amnt'].max()\n",
    "min_loan_amount = data['loan_amnt'].min()\n",
    "\n",
    "print(f\"maximum Loan Amount {max_loan_amount}\")\n",
    "print(f\"minimum Loan Amount {min_loan_amount}\")\n",
    "\n",
    "# people with an income between x and y\n",
    "def loan_amount_group(arr):\n",
    "    lenarr = len(arr)\n",
    "    for i in range(0,lenarr-1):\n",
    "        next = arr[i]+1\n",
    "        num_people = data['loan_amnt'].between(next,arr[i+1]).sum()\n",
    "        print(f'Loan Amount between {next} and {arr[i+1]}: Number of people {num_people}')\n",
    "        \n",
    "loan_amount_group([0, 5000, 10000, 15000, float('inf')])"
   ]
  },
  {
   "cell_type": "code",
   "execution_count": 23,
   "id": "f20c3673",
   "metadata": {
    "execution": {
     "iopub.execute_input": "2023-12-17T21:52:27.512272Z",
     "iopub.status.busy": "2023-12-17T21:52:27.511850Z",
     "iopub.status.idle": "2023-12-17T21:52:27.519990Z",
     "shell.execute_reply": "2023-12-17T21:52:27.518940Z"
    },
    "papermill": {
     "duration": 0.025668,
     "end_time": "2023-12-17T21:52:27.522247",
     "exception": false,
     "start_time": "2023-12-17T21:52:27.496579",
     "status": "completed"
    },
    "tags": []
   },
   "outputs": [],
   "source": [
    "data['loan_amount_group'] = pd.cut(data['loan_amnt'],\n",
    "                                   bins=[0, 5000, 10000, 15000, float('inf')],\n",
    "                                   labels=['small', 'medium', 'large', 'very large'])"
   ]
  },
  {
   "cell_type": "code",
   "execution_count": 24,
   "id": "7668e41b",
   "metadata": {
    "execution": {
     "iopub.execute_input": "2023-12-17T21:52:27.552000Z",
     "iopub.status.busy": "2023-12-17T21:52:27.550746Z",
     "iopub.status.idle": "2023-12-17T21:52:27.560721Z",
     "shell.execute_reply": "2023-12-17T21:52:27.559780Z"
    },
    "papermill": {
     "duration": 0.026897,
     "end_time": "2023-12-17T21:52:27.562862",
     "exception": false,
     "start_time": "2023-12-17T21:52:27.535965",
     "status": "completed"
    },
    "tags": []
   },
   "outputs": [
    {
     "data": {
      "text/plain": [
       "0        very large\n",
       "1             small\n",
       "2            medium\n",
       "3        very large\n",
       "4        very large\n",
       "            ...    \n",
       "32574    very large\n",
       "32575         small\n",
       "32576        medium\n",
       "32577    very large\n",
       "32579         large\n",
       "Name: loan_amount_group, Length: 28580, dtype: category\n",
       "Categories (4, object): ['small' < 'medium' < 'large' < 'very large']"
      ]
     },
     "execution_count": 24,
     "metadata": {},
     "output_type": "execute_result"
    }
   ],
   "source": [
    "data['loan_amount_group']"
   ]
  },
  {
   "cell_type": "code",
   "execution_count": 25,
   "id": "c45b2e38",
   "metadata": {
    "execution": {
     "iopub.execute_input": "2023-12-17T21:52:27.592063Z",
     "iopub.status.busy": "2023-12-17T21:52:27.591316Z",
     "iopub.status.idle": "2023-12-17T21:52:27.601105Z",
     "shell.execute_reply": "2023-12-17T21:52:27.600112Z"
    },
    "papermill": {
     "duration": 0.026823,
     "end_time": "2023-12-17T21:52:27.603188",
     "exception": false,
     "start_time": "2023-12-17T21:52:27.576365",
     "status": "completed"
    },
    "tags": []
   },
   "outputs": [
    {
     "data": {
      "text/plain": [
       "person_home_ownership\n",
       "RENT        14515\n",
       "MORTGAGE    11779\n",
       "OWN          2192\n",
       "OTHER          94\n",
       "Name: count, dtype: int64"
      ]
     },
     "execution_count": 25,
     "metadata": {},
     "output_type": "execute_result"
    }
   ],
   "source": [
    "data['person_home_ownership'].value_counts()"
   ]
  },
  {
   "cell_type": "code",
   "execution_count": 26,
   "id": "faee4c71",
   "metadata": {
    "execution": {
     "iopub.execute_input": "2023-12-17T21:52:27.632683Z",
     "iopub.status.busy": "2023-12-17T21:52:27.631918Z",
     "iopub.status.idle": "2023-12-17T21:52:27.651079Z",
     "shell.execute_reply": "2023-12-17T21:52:27.649974Z"
    },
    "papermill": {
     "duration": 0.036677,
     "end_time": "2023-12-17T21:52:27.653358",
     "exception": false,
     "start_time": "2023-12-17T21:52:27.616681",
     "status": "completed"
    },
    "tags": []
   },
   "outputs": [
    {
     "data": {
      "text/html": [
       "<div>\n",
       "<style scoped>\n",
       "    .dataframe tbody tr th:only-of-type {\n",
       "        vertical-align: middle;\n",
       "    }\n",
       "\n",
       "    .dataframe tbody tr th {\n",
       "        vertical-align: top;\n",
       "    }\n",
       "\n",
       "    .dataframe thead th {\n",
       "        text-align: right;\n",
       "    }\n",
       "</style>\n",
       "<table border=\"1\" class=\"dataframe\">\n",
       "  <thead>\n",
       "    <tr style=\"text-align: right;\">\n",
       "      <th></th>\n",
       "      <th>person_age</th>\n",
       "      <th>person_income</th>\n",
       "      <th>person_home_ownership</th>\n",
       "      <th>person_emp_length</th>\n",
       "      <th>loan_intent</th>\n",
       "      <th>loan_grade</th>\n",
       "      <th>loan_amnt</th>\n",
       "      <th>loan_int_rate</th>\n",
       "      <th>loan_status</th>\n",
       "      <th>loan_percent_income</th>\n",
       "      <th>cb_person_default_on_file</th>\n",
       "      <th>cb_person_cred_hist_length</th>\n",
       "      <th>age_group</th>\n",
       "      <th>income_group</th>\n",
       "      <th>loan_amount_group</th>\n",
       "    </tr>\n",
       "  </thead>\n",
       "  <tbody>\n",
       "    <tr>\n",
       "      <th>0</th>\n",
       "      <td>22</td>\n",
       "      <td>59000</td>\n",
       "      <td>RENT</td>\n",
       "      <td>123.0</td>\n",
       "      <td>PERSONAL</td>\n",
       "      <td>D</td>\n",
       "      <td>35000</td>\n",
       "      <td>16.02</td>\n",
       "      <td>1</td>\n",
       "      <td>0.59</td>\n",
       "      <td>Y</td>\n",
       "      <td>3</td>\n",
       "      <td>20-25</td>\n",
       "      <td>middle</td>\n",
       "      <td>very large</td>\n",
       "    </tr>\n",
       "    <tr>\n",
       "      <th>1</th>\n",
       "      <td>21</td>\n",
       "      <td>9600</td>\n",
       "      <td>OWN</td>\n",
       "      <td>5.0</td>\n",
       "      <td>EDUCATION</td>\n",
       "      <td>B</td>\n",
       "      <td>1000</td>\n",
       "      <td>11.14</td>\n",
       "      <td>0</td>\n",
       "      <td>0.10</td>\n",
       "      <td>N</td>\n",
       "      <td>2</td>\n",
       "      <td>20-25</td>\n",
       "      <td>low</td>\n",
       "      <td>small</td>\n",
       "    </tr>\n",
       "    <tr>\n",
       "      <th>2</th>\n",
       "      <td>25</td>\n",
       "      <td>9600</td>\n",
       "      <td>MORTGAGE</td>\n",
       "      <td>1.0</td>\n",
       "      <td>MEDICAL</td>\n",
       "      <td>C</td>\n",
       "      <td>5500</td>\n",
       "      <td>12.87</td>\n",
       "      <td>1</td>\n",
       "      <td>0.57</td>\n",
       "      <td>N</td>\n",
       "      <td>3</td>\n",
       "      <td>20-25</td>\n",
       "      <td>low</td>\n",
       "      <td>medium</td>\n",
       "    </tr>\n",
       "    <tr>\n",
       "      <th>3</th>\n",
       "      <td>23</td>\n",
       "      <td>65500</td>\n",
       "      <td>RENT</td>\n",
       "      <td>4.0</td>\n",
       "      <td>MEDICAL</td>\n",
       "      <td>C</td>\n",
       "      <td>35000</td>\n",
       "      <td>15.23</td>\n",
       "      <td>1</td>\n",
       "      <td>0.53</td>\n",
       "      <td>N</td>\n",
       "      <td>2</td>\n",
       "      <td>20-25</td>\n",
       "      <td>middle</td>\n",
       "      <td>very large</td>\n",
       "    </tr>\n",
       "    <tr>\n",
       "      <th>4</th>\n",
       "      <td>24</td>\n",
       "      <td>54400</td>\n",
       "      <td>RENT</td>\n",
       "      <td>8.0</td>\n",
       "      <td>MEDICAL</td>\n",
       "      <td>C</td>\n",
       "      <td>35000</td>\n",
       "      <td>14.27</td>\n",
       "      <td>1</td>\n",
       "      <td>0.55</td>\n",
       "      <td>Y</td>\n",
       "      <td>4</td>\n",
       "      <td>20-25</td>\n",
       "      <td>middle</td>\n",
       "      <td>very large</td>\n",
       "    </tr>\n",
       "  </tbody>\n",
       "</table>\n",
       "</div>"
      ],
      "text/plain": [
       "   person_age  person_income person_home_ownership  person_emp_length  \\\n",
       "0          22          59000                  RENT              123.0   \n",
       "1          21           9600                   OWN                5.0   \n",
       "2          25           9600              MORTGAGE                1.0   \n",
       "3          23          65500                  RENT                4.0   \n",
       "4          24          54400                  RENT                8.0   \n",
       "\n",
       "  loan_intent loan_grade  loan_amnt  loan_int_rate  loan_status  \\\n",
       "0    PERSONAL          D      35000          16.02            1   \n",
       "1   EDUCATION          B       1000          11.14            0   \n",
       "2     MEDICAL          C       5500          12.87            1   \n",
       "3     MEDICAL          C      35000          15.23            1   \n",
       "4     MEDICAL          C      35000          14.27            1   \n",
       "\n",
       "   loan_percent_income cb_person_default_on_file  cb_person_cred_hist_length  \\\n",
       "0                 0.59                         Y                           3   \n",
       "1                 0.10                         N                           2   \n",
       "2                 0.57                         N                           3   \n",
       "3                 0.53                         N                           2   \n",
       "4                 0.55                         Y                           4   \n",
       "\n",
       "  age_group income_group loan_amount_group  \n",
       "0     20-25       middle        very large  \n",
       "1     20-25          low             small  \n",
       "2     20-25          low            medium  \n",
       "3     20-25       middle        very large  \n",
       "4     20-25       middle        very large  "
      ]
     },
     "execution_count": 26,
     "metadata": {},
     "output_type": "execute_result"
    }
   ],
   "source": [
    "data.head()"
   ]
  },
  {
   "cell_type": "code",
   "execution_count": 27,
   "id": "91e6c476",
   "metadata": {
    "execution": {
     "iopub.execute_input": "2023-12-17T21:52:27.683565Z",
     "iopub.status.busy": "2023-12-17T21:52:27.682782Z",
     "iopub.status.idle": "2023-12-17T21:52:27.689106Z",
     "shell.execute_reply": "2023-12-17T21:52:27.688336Z"
    },
    "papermill": {
     "duration": 0.023964,
     "end_time": "2023-12-17T21:52:27.691303",
     "exception": false,
     "start_time": "2023-12-17T21:52:27.667339",
     "status": "completed"
    },
    "tags": []
   },
   "outputs": [],
   "source": [
    "col_list = ['person_age',#\n",
    " 'person_income',#\n",
    " 'person_home_ownership',#\n",
    " 'person_emp_length',#\n",
    " 'loan_intent', #\n",
    " 'loan_grade',#\n",
    " 'loan_amnt',#\n",
    " 'loan_int_rate',#\n",
    " 'loan_status',#\n",
    " 'loan_percent_income',#\n",
    " 'cb_person_default_on_file',#\n",
    " 'cb_person_cred_hist_length',\n",
    "'age_group','income_group','loan_amount_group']\n",
    "\n",
    "drop_colums = []\n",
    "scale_cols = ['person_income','person_age','person_emp_length', 'loan_amnt','loan_int_rate','cb_person_cred_hist_length','loan_percent_income','loan_to_income_ratio', 'loan_to_emp_length_ratio',\n",
    "       'int_rate_to_loan_amt_ratio']\n",
    "enc_colums = ['cb_person_default_on_file','loan_grade', 'person_home_ownership','loan_intent','income_group','age_group','loan_amount_group']\n",
    "le_colums = []"
   ]
  },
  {
   "cell_type": "markdown",
   "id": "86a06956",
   "metadata": {
    "papermill": {
     "duration": 0.013507,
     "end_time": "2023-12-17T21:52:27.718780",
     "exception": false,
     "start_time": "2023-12-17T21:52:27.705273",
     "status": "completed"
    },
    "tags": []
   },
   "source": [
    "# **Data Preprocessing**"
   ]
  },
  {
   "cell_type": "code",
   "execution_count": 28,
   "id": "6b7476f2",
   "metadata": {
    "execution": {
     "iopub.execute_input": "2023-12-17T21:52:27.749095Z",
     "iopub.status.busy": "2023-12-17T21:52:27.748642Z",
     "iopub.status.idle": "2023-12-17T21:52:27.758169Z",
     "shell.execute_reply": "2023-12-17T21:52:27.757186Z"
    },
    "papermill": {
     "duration": 0.027415,
     "end_time": "2023-12-17T21:52:27.760486",
     "exception": false,
     "start_time": "2023-12-17T21:52:27.733071",
     "status": "completed"
    },
    "tags": []
   },
   "outputs": [],
   "source": [
    "X = data.drop(['loan_status'], axis=1)\n",
    "Y = data['loan_status']"
   ]
  },
  {
   "cell_type": "code",
   "execution_count": 29,
   "id": "d37b409b",
   "metadata": {
    "execution": {
     "iopub.execute_input": "2023-12-17T21:52:27.790697Z",
     "iopub.status.busy": "2023-12-17T21:52:27.789948Z",
     "iopub.status.idle": "2023-12-17T21:52:29.057761Z",
     "shell.execute_reply": "2023-12-17T21:52:29.056905Z"
    },
    "papermill": {
     "duration": 1.285834,
     "end_time": "2023-12-17T21:52:29.060324",
     "exception": false,
     "start_time": "2023-12-17T21:52:27.774490",
     "status": "completed"
    },
    "tags": []
   },
   "outputs": [],
   "source": [
    "from sklearn.model_selection import train_test_split\n",
    "x_train, x_test, y_train, y_test = train_test_split(X,Y,test_size=0.2,random_state=12)"
   ]
  },
  {
   "cell_type": "code",
   "execution_count": 30,
   "id": "d5fd41d1",
   "metadata": {
    "execution": {
     "iopub.execute_input": "2023-12-17T21:52:29.091488Z",
     "iopub.status.busy": "2023-12-17T21:52:29.090452Z",
     "iopub.status.idle": "2023-12-17T21:52:29.096813Z",
     "shell.execute_reply": "2023-12-17T21:52:29.095662Z"
    },
    "papermill": {
     "duration": 0.024266,
     "end_time": "2023-12-17T21:52:29.099277",
     "exception": false,
     "start_time": "2023-12-17T21:52:29.075011",
     "status": "completed"
    },
    "tags": []
   },
   "outputs": [
    {
     "name": "stdout",
     "output_type": "stream",
     "text": [
      "(22864, 14) (5716, 14)\n"
     ]
    }
   ],
   "source": [
    "print(x_train.shape,x_test.shape)"
   ]
  },
  {
   "cell_type": "code",
   "execution_count": 31,
   "id": "39af0aa0",
   "metadata": {
    "execution": {
     "iopub.execute_input": "2023-12-17T21:52:29.130759Z",
     "iopub.status.busy": "2023-12-17T21:52:29.130118Z",
     "iopub.status.idle": "2023-12-17T21:52:29.135269Z",
     "shell.execute_reply": "2023-12-17T21:52:29.134354Z"
    },
    "papermill": {
     "duration": 0.022877,
     "end_time": "2023-12-17T21:52:29.137517",
     "exception": false,
     "start_time": "2023-12-17T21:52:29.114640",
     "status": "completed"
    },
    "tags": []
   },
   "outputs": [],
   "source": [
    "x_train.reset_index(inplace = True)\n",
    "x_test.reset_index(inplace = True)"
   ]
  },
  {
   "cell_type": "code",
   "execution_count": 32,
   "id": "011d6f38",
   "metadata": {
    "execution": {
     "iopub.execute_input": "2023-12-17T21:52:29.168546Z",
     "iopub.status.busy": "2023-12-17T21:52:29.168123Z",
     "iopub.status.idle": "2023-12-17T21:52:29.174828Z",
     "shell.execute_reply": "2023-12-17T21:52:29.173762Z"
    },
    "papermill": {
     "duration": 0.025354,
     "end_time": "2023-12-17T21:52:29.177416",
     "exception": false,
     "start_time": "2023-12-17T21:52:29.152062",
     "status": "completed"
    },
    "tags": []
   },
   "outputs": [
    {
     "data": {
      "text/plain": [
       "Index(['index', 'person_age', 'person_income', 'person_home_ownership',\n",
       "       'person_emp_length', 'loan_intent', 'loan_grade', 'loan_amnt',\n",
       "       'loan_int_rate', 'loan_percent_income', 'cb_person_default_on_file',\n",
       "       'cb_person_cred_hist_length', 'age_group', 'income_group',\n",
       "       'loan_amount_group'],\n",
       "      dtype='object')"
      ]
     },
     "execution_count": 32,
     "metadata": {},
     "output_type": "execute_result"
    }
   ],
   "source": [
    "x_train.columns"
   ]
  },
  {
   "cell_type": "code",
   "execution_count": 33,
   "id": "5be6c32b",
   "metadata": {
    "execution": {
     "iopub.execute_input": "2023-12-17T21:52:29.209213Z",
     "iopub.status.busy": "2023-12-17T21:52:29.208788Z",
     "iopub.status.idle": "2023-12-17T21:52:29.228802Z",
     "shell.execute_reply": "2023-12-17T21:52:29.227572Z"
    },
    "papermill": {
     "duration": 0.038667,
     "end_time": "2023-12-17T21:52:29.231049",
     "exception": false,
     "start_time": "2023-12-17T21:52:29.192382",
     "status": "completed"
    },
    "tags": []
   },
   "outputs": [
    {
     "data": {
      "text/html": [
       "<style>#sk-container-id-1 {color: black;background-color: white;}#sk-container-id-1 pre{padding: 0;}#sk-container-id-1 div.sk-toggleable {background-color: white;}#sk-container-id-1 label.sk-toggleable__label {cursor: pointer;display: block;width: 100%;margin-bottom: 0;padding: 0.3em;box-sizing: border-box;text-align: center;}#sk-container-id-1 label.sk-toggleable__label-arrow:before {content: \"▸\";float: left;margin-right: 0.25em;color: #696969;}#sk-container-id-1 label.sk-toggleable__label-arrow:hover:before {color: black;}#sk-container-id-1 div.sk-estimator:hover label.sk-toggleable__label-arrow:before {color: black;}#sk-container-id-1 div.sk-toggleable__content {max-height: 0;max-width: 0;overflow: hidden;text-align: left;background-color: #f0f8ff;}#sk-container-id-1 div.sk-toggleable__content pre {margin: 0.2em;color: black;border-radius: 0.25em;background-color: #f0f8ff;}#sk-container-id-1 input.sk-toggleable__control:checked~div.sk-toggleable__content {max-height: 200px;max-width: 100%;overflow: auto;}#sk-container-id-1 input.sk-toggleable__control:checked~label.sk-toggleable__label-arrow:before {content: \"▾\";}#sk-container-id-1 div.sk-estimator input.sk-toggleable__control:checked~label.sk-toggleable__label {background-color: #d4ebff;}#sk-container-id-1 div.sk-label input.sk-toggleable__control:checked~label.sk-toggleable__label {background-color: #d4ebff;}#sk-container-id-1 input.sk-hidden--visually {border: 0;clip: rect(1px 1px 1px 1px);clip: rect(1px, 1px, 1px, 1px);height: 1px;margin: -1px;overflow: hidden;padding: 0;position: absolute;width: 1px;}#sk-container-id-1 div.sk-estimator {font-family: monospace;background-color: #f0f8ff;border: 1px dotted black;border-radius: 0.25em;box-sizing: border-box;margin-bottom: 0.5em;}#sk-container-id-1 div.sk-estimator:hover {background-color: #d4ebff;}#sk-container-id-1 div.sk-parallel-item::after {content: \"\";width: 100%;border-bottom: 1px solid gray;flex-grow: 1;}#sk-container-id-1 div.sk-label:hover label.sk-toggleable__label {background-color: #d4ebff;}#sk-container-id-1 div.sk-serial::before {content: \"\";position: absolute;border-left: 1px solid gray;box-sizing: border-box;top: 0;bottom: 0;left: 50%;z-index: 0;}#sk-container-id-1 div.sk-serial {display: flex;flex-direction: column;align-items: center;background-color: white;padding-right: 0.2em;padding-left: 0.2em;position: relative;}#sk-container-id-1 div.sk-item {position: relative;z-index: 1;}#sk-container-id-1 div.sk-parallel {display: flex;align-items: stretch;justify-content: center;background-color: white;position: relative;}#sk-container-id-1 div.sk-item::before, #sk-container-id-1 div.sk-parallel-item::before {content: \"\";position: absolute;border-left: 1px solid gray;box-sizing: border-box;top: 0;bottom: 0;left: 50%;z-index: -1;}#sk-container-id-1 div.sk-parallel-item {display: flex;flex-direction: column;z-index: 1;position: relative;background-color: white;}#sk-container-id-1 div.sk-parallel-item:first-child::after {align-self: flex-end;width: 50%;}#sk-container-id-1 div.sk-parallel-item:last-child::after {align-self: flex-start;width: 50%;}#sk-container-id-1 div.sk-parallel-item:only-child::after {width: 0;}#sk-container-id-1 div.sk-dashed-wrapped {border: 1px dashed gray;margin: 0 0.4em 0.5em 0.4em;box-sizing: border-box;padding-bottom: 0.4em;background-color: white;}#sk-container-id-1 div.sk-label label {font-family: monospace;font-weight: bold;display: inline-block;line-height: 1.2em;}#sk-container-id-1 div.sk-label-container {text-align: center;}#sk-container-id-1 div.sk-container {/* jupyter's `normalize.less` sets `[hidden] { display: none; }` but bootstrap.min.css set `[hidden] { display: none !important; }` so we also need the `!important` here to be able to override the default hidden behavior on the sphinx rendered scikit-learn.org. See: https://github.com/scikit-learn/scikit-learn/issues/21755 */display: inline-block !important;position: relative;}#sk-container-id-1 div.sk-text-repr-fallback {display: none;}</style><div id=\"sk-container-id-1\" class=\"sk-top-container\"><div class=\"sk-text-repr-fallback\"><pre>OneHotEncoder()</pre><b>In a Jupyter environment, please rerun this cell to show the HTML representation or trust the notebook. <br />On GitHub, the HTML representation is unable to render, please try loading this page with nbviewer.org.</b></div><div class=\"sk-container\" hidden><div class=\"sk-item\"><div class=\"sk-estimator sk-toggleable\"><input class=\"sk-toggleable__control sk-hidden--visually\" id=\"sk-estimator-id-1\" type=\"checkbox\" checked><label for=\"sk-estimator-id-1\" class=\"sk-toggleable__label sk-toggleable__label-arrow\">OneHotEncoder</label><div class=\"sk-toggleable__content\"><pre>OneHotEncoder()</pre></div></div></div></div></div>"
      ],
      "text/plain": [
       "OneHotEncoder()"
      ]
     },
     "execution_count": 33,
     "metadata": {},
     "output_type": "execute_result"
    }
   ],
   "source": [
    "from sklearn.preprocessing import OneHotEncoder\n",
    "enc = OneHotEncoder()\n",
    "enc.fit(x_train[enc_colums])"
   ]
  },
  {
   "cell_type": "code",
   "execution_count": 34,
   "id": "187f0706",
   "metadata": {
    "execution": {
     "iopub.execute_input": "2023-12-17T21:52:29.263241Z",
     "iopub.status.busy": "2023-12-17T21:52:29.262112Z",
     "iopub.status.idle": "2023-12-17T21:52:29.268890Z",
     "shell.execute_reply": "2023-12-17T21:52:29.268037Z"
    },
    "papermill": {
     "duration": 0.025377,
     "end_time": "2023-12-17T21:52:29.270998",
     "exception": false,
     "start_time": "2023-12-17T21:52:29.245621",
     "status": "completed"
    },
    "tags": []
   },
   "outputs": [
    {
     "data": {
      "text/plain": [
       "[array(['N', 'Y'], dtype=object),\n",
       " array(['A', 'B', 'C', 'D', 'E', 'F', 'G'], dtype=object),\n",
       " array(['MORTGAGE', 'OTHER', 'OWN', 'RENT'], dtype=object),\n",
       " array(['DEBTCONSOLIDATION', 'EDUCATION', 'HOMEIMPROVEMENT', 'MEDICAL',\n",
       "        'PERSONAL', 'VENTURE'], dtype=object),\n",
       " array(['high', 'high-middle', 'low', 'low-middle', 'middle'], dtype=object),\n",
       " array(['20-25', '26-35', '36-45', '46-55', '56-60', nan], dtype=object),\n",
       " array(['large', 'medium', 'small', 'very large'], dtype=object)]"
      ]
     },
     "execution_count": 34,
     "metadata": {},
     "output_type": "execute_result"
    }
   ],
   "source": [
    "enc.categories_"
   ]
  },
  {
   "cell_type": "code",
   "execution_count": 35,
   "id": "7d44e580",
   "metadata": {
    "execution": {
     "iopub.execute_input": "2023-12-17T21:52:29.303010Z",
     "iopub.status.busy": "2023-12-17T21:52:29.302333Z",
     "iopub.status.idle": "2023-12-17T21:52:29.307190Z",
     "shell.execute_reply": "2023-12-17T21:52:29.306238Z"
    },
    "papermill": {
     "duration": 0.023499,
     "end_time": "2023-12-17T21:52:29.309572",
     "exception": false,
     "start_time": "2023-12-17T21:52:29.286073",
     "status": "completed"
    },
    "tags": []
   },
   "outputs": [],
   "source": [
    "merge_enc_col = np.concatenate((enc.categories_[0], \n",
    "                enc.categories_[1],\n",
    "                enc.categories_[2],\n",
    "                enc.categories_[3],\n",
    "                enc.categories_[4],\n",
    "                enc.categories_[5],\n",
    "                enc.categories_[6],))"
   ]
  },
  {
   "cell_type": "code",
   "execution_count": 36,
   "id": "64a41042",
   "metadata": {
    "execution": {
     "iopub.execute_input": "2023-12-17T21:52:29.340826Z",
     "iopub.status.busy": "2023-12-17T21:52:29.340084Z",
     "iopub.status.idle": "2023-12-17T21:52:29.347907Z",
     "shell.execute_reply": "2023-12-17T21:52:29.346515Z"
    },
    "papermill": {
     "duration": 0.026112,
     "end_time": "2023-12-17T21:52:29.350260",
     "exception": false,
     "start_time": "2023-12-17T21:52:29.324148",
     "status": "completed"
    },
    "tags": []
   },
   "outputs": [
    {
     "data": {
      "text/plain": [
       "array(['N', 'Y', 'A', 'B', 'C', 'D', 'E', 'F', 'G', 'MORTGAGE', 'OTHER',\n",
       "       'OWN', 'RENT', 'DEBTCONSOLIDATION', 'EDUCATION', 'HOMEIMPROVEMENT',\n",
       "       'MEDICAL', 'PERSONAL', 'VENTURE', 'high', 'high-middle', 'low',\n",
       "       'low-middle', 'middle', '20-25', '26-35', '36-45', '46-55',\n",
       "       '56-60', nan, 'large', 'medium', 'small', 'very large'],\n",
       "      dtype=object)"
      ]
     },
     "execution_count": 36,
     "metadata": {},
     "output_type": "execute_result"
    }
   ],
   "source": [
    "merge_enc_col"
   ]
  },
  {
   "cell_type": "code",
   "execution_count": 37,
   "id": "80d69dcc",
   "metadata": {
    "execution": {
     "iopub.execute_input": "2023-12-17T21:52:29.387167Z",
     "iopub.status.busy": "2023-12-17T21:52:29.386717Z",
     "iopub.status.idle": "2023-12-17T21:52:29.467407Z",
     "shell.execute_reply": "2023-12-17T21:52:29.466393Z"
    },
    "papermill": {
     "duration": 0.102658,
     "end_time": "2023-12-17T21:52:29.470147",
     "exception": false,
     "start_time": "2023-12-17T21:52:29.367489",
     "status": "completed"
    },
    "tags": []
   },
   "outputs": [],
   "source": [
    "enc_data = pd.DataFrame(enc.transform(x_train[enc_colums]).toarray(), columns=merge_enc_col)\n",
    "enc_data2 = pd.DataFrame(enc.transform(x_test[enc_colums]).toarray(),columns=merge_enc_col)"
   ]
  },
  {
   "cell_type": "code",
   "execution_count": 38,
   "id": "567c0590",
   "metadata": {
    "execution": {
     "iopub.execute_input": "2023-12-17T21:52:29.508130Z",
     "iopub.status.busy": "2023-12-17T21:52:29.507591Z",
     "iopub.status.idle": "2023-12-17T21:52:29.541407Z",
     "shell.execute_reply": "2023-12-17T21:52:29.540241Z"
    },
    "papermill": {
     "duration": 0.058355,
     "end_time": "2023-12-17T21:52:29.544409",
     "exception": false,
     "start_time": "2023-12-17T21:52:29.486054",
     "status": "completed"
    },
    "tags": []
   },
   "outputs": [],
   "source": [
    "X_new = pd.concat([enc_data, x_train], axis=1)\n",
    "X_new = X_new.drop(enc_colums, axis=1)\n",
    "\n",
    "\n",
    "X_new_test = pd.concat([enc_data2, x_test], axis=1)\n",
    "X_new_test = X_new_test.drop(enc_colums, axis=1)"
   ]
  },
  {
   "cell_type": "code",
   "execution_count": 39,
   "id": "d2671be8",
   "metadata": {
    "execution": {
     "iopub.execute_input": "2023-12-17T21:52:29.588791Z",
     "iopub.status.busy": "2023-12-17T21:52:29.587412Z",
     "iopub.status.idle": "2023-12-17T21:52:29.597120Z",
     "shell.execute_reply": "2023-12-17T21:52:29.594962Z"
    },
    "papermill": {
     "duration": 0.034074,
     "end_time": "2023-12-17T21:52:29.600415",
     "exception": false,
     "start_time": "2023-12-17T21:52:29.566341",
     "status": "completed"
    },
    "tags": []
   },
   "outputs": [
    {
     "data": {
      "text/plain": [
       "(22864, 42)"
      ]
     },
     "execution_count": 39,
     "metadata": {},
     "output_type": "execute_result"
    }
   ],
   "source": [
    "X_new.head()\n",
    "X_new.shape"
   ]
  },
  {
   "cell_type": "code",
   "execution_count": 40,
   "id": "8132de42",
   "metadata": {
    "execution": {
     "iopub.execute_input": "2023-12-17T21:52:29.636171Z",
     "iopub.status.busy": "2023-12-17T21:52:29.635247Z",
     "iopub.status.idle": "2023-12-17T21:52:29.671373Z",
     "shell.execute_reply": "2023-12-17T21:52:29.670420Z"
    },
    "papermill": {
     "duration": 0.055089,
     "end_time": "2023-12-17T21:52:29.673964",
     "exception": false,
     "start_time": "2023-12-17T21:52:29.618875",
     "status": "completed"
    },
    "tags": []
   },
   "outputs": [
    {
     "data": {
      "text/html": [
       "<div>\n",
       "<style scoped>\n",
       "    .dataframe tbody tr th:only-of-type {\n",
       "        vertical-align: middle;\n",
       "    }\n",
       "\n",
       "    .dataframe tbody tr th {\n",
       "        vertical-align: top;\n",
       "    }\n",
       "\n",
       "    .dataframe thead th {\n",
       "        text-align: right;\n",
       "    }\n",
       "</style>\n",
       "<table border=\"1\" class=\"dataframe\">\n",
       "  <thead>\n",
       "    <tr style=\"text-align: right;\">\n",
       "      <th></th>\n",
       "      <th>N</th>\n",
       "      <th>Y</th>\n",
       "      <th>A</th>\n",
       "      <th>B</th>\n",
       "      <th>C</th>\n",
       "      <th>D</th>\n",
       "      <th>E</th>\n",
       "      <th>F</th>\n",
       "      <th>G</th>\n",
       "      <th>MORTGAGE</th>\n",
       "      <th>...</th>\n",
       "      <th>small</th>\n",
       "      <th>very large</th>\n",
       "      <th>index</th>\n",
       "      <th>person_age</th>\n",
       "      <th>person_income</th>\n",
       "      <th>person_emp_length</th>\n",
       "      <th>loan_amnt</th>\n",
       "      <th>loan_int_rate</th>\n",
       "      <th>loan_percent_income</th>\n",
       "      <th>cb_person_cred_hist_length</th>\n",
       "    </tr>\n",
       "  </thead>\n",
       "  <tbody>\n",
       "    <tr>\n",
       "      <th>0</th>\n",
       "      <td>1.0</td>\n",
       "      <td>0.0</td>\n",
       "      <td>0.0</td>\n",
       "      <td>0.0</td>\n",
       "      <td>0.0</td>\n",
       "      <td>1.0</td>\n",
       "      <td>0.0</td>\n",
       "      <td>0.0</td>\n",
       "      <td>0.0</td>\n",
       "      <td>0.0</td>\n",
       "      <td>...</td>\n",
       "      <td>0.0</td>\n",
       "      <td>0.0</td>\n",
       "      <td>23717</td>\n",
       "      <td>29</td>\n",
       "      <td>32000</td>\n",
       "      <td>10.0</td>\n",
       "      <td>9250</td>\n",
       "      <td>15.65</td>\n",
       "      <td>0.29</td>\n",
       "      <td>7</td>\n",
       "    </tr>\n",
       "    <tr>\n",
       "      <th>1</th>\n",
       "      <td>0.0</td>\n",
       "      <td>1.0</td>\n",
       "      <td>0.0</td>\n",
       "      <td>0.0</td>\n",
       "      <td>0.0</td>\n",
       "      <td>1.0</td>\n",
       "      <td>0.0</td>\n",
       "      <td>0.0</td>\n",
       "      <td>0.0</td>\n",
       "      <td>1.0</td>\n",
       "      <td>...</td>\n",
       "      <td>0.0</td>\n",
       "      <td>0.0</td>\n",
       "      <td>22127</td>\n",
       "      <td>30</td>\n",
       "      <td>52000</td>\n",
       "      <td>9.0</td>\n",
       "      <td>9000</td>\n",
       "      <td>12.49</td>\n",
       "      <td>0.17</td>\n",
       "      <td>6</td>\n",
       "    </tr>\n",
       "    <tr>\n",
       "      <th>2</th>\n",
       "      <td>0.0</td>\n",
       "      <td>1.0</td>\n",
       "      <td>0.0</td>\n",
       "      <td>0.0</td>\n",
       "      <td>1.0</td>\n",
       "      <td>0.0</td>\n",
       "      <td>0.0</td>\n",
       "      <td>0.0</td>\n",
       "      <td>0.0</td>\n",
       "      <td>1.0</td>\n",
       "      <td>...</td>\n",
       "      <td>0.0</td>\n",
       "      <td>0.0</td>\n",
       "      <td>15684</td>\n",
       "      <td>25</td>\n",
       "      <td>154000</td>\n",
       "      <td>2.0</td>\n",
       "      <td>9200</td>\n",
       "      <td>12.61</td>\n",
       "      <td>0.06</td>\n",
       "      <td>4</td>\n",
       "    </tr>\n",
       "    <tr>\n",
       "      <th>3</th>\n",
       "      <td>1.0</td>\n",
       "      <td>0.0</td>\n",
       "      <td>1.0</td>\n",
       "      <td>0.0</td>\n",
       "      <td>0.0</td>\n",
       "      <td>0.0</td>\n",
       "      <td>0.0</td>\n",
       "      <td>0.0</td>\n",
       "      <td>0.0</td>\n",
       "      <td>1.0</td>\n",
       "      <td>...</td>\n",
       "      <td>0.0</td>\n",
       "      <td>0.0</td>\n",
       "      <td>10267</td>\n",
       "      <td>23</td>\n",
       "      <td>66000</td>\n",
       "      <td>0.0</td>\n",
       "      <td>7800</td>\n",
       "      <td>7.88</td>\n",
       "      <td>0.12</td>\n",
       "      <td>3</td>\n",
       "    </tr>\n",
       "    <tr>\n",
       "      <th>4</th>\n",
       "      <td>1.0</td>\n",
       "      <td>0.0</td>\n",
       "      <td>1.0</td>\n",
       "      <td>0.0</td>\n",
       "      <td>0.0</td>\n",
       "      <td>0.0</td>\n",
       "      <td>0.0</td>\n",
       "      <td>0.0</td>\n",
       "      <td>0.0</td>\n",
       "      <td>0.0</td>\n",
       "      <td>...</td>\n",
       "      <td>1.0</td>\n",
       "      <td>0.0</td>\n",
       "      <td>2570</td>\n",
       "      <td>25</td>\n",
       "      <td>32000</td>\n",
       "      <td>3.0</td>\n",
       "      <td>3000</td>\n",
       "      <td>8.94</td>\n",
       "      <td>0.09</td>\n",
       "      <td>3</td>\n",
       "    </tr>\n",
       "  </tbody>\n",
       "</table>\n",
       "<p>5 rows × 42 columns</p>\n",
       "</div>"
      ],
      "text/plain": [
       "     N    Y    A    B    C    D    E    F    G  MORTGAGE  ...  small  \\\n",
       "0  1.0  0.0  0.0  0.0  0.0  1.0  0.0  0.0  0.0       0.0  ...    0.0   \n",
       "1  0.0  1.0  0.0  0.0  0.0  1.0  0.0  0.0  0.0       1.0  ...    0.0   \n",
       "2  0.0  1.0  0.0  0.0  1.0  0.0  0.0  0.0  0.0       1.0  ...    0.0   \n",
       "3  1.0  0.0  1.0  0.0  0.0  0.0  0.0  0.0  0.0       1.0  ...    0.0   \n",
       "4  1.0  0.0  1.0  0.0  0.0  0.0  0.0  0.0  0.0       0.0  ...    1.0   \n",
       "\n",
       "   very large  index  person_age  person_income  person_emp_length  loan_amnt  \\\n",
       "0         0.0  23717          29          32000               10.0       9250   \n",
       "1         0.0  22127          30          52000                9.0       9000   \n",
       "2         0.0  15684          25         154000                2.0       9200   \n",
       "3         0.0  10267          23          66000                0.0       7800   \n",
       "4         0.0   2570          25          32000                3.0       3000   \n",
       "\n",
       "   loan_int_rate  loan_percent_income  cb_person_cred_hist_length  \n",
       "0          15.65                 0.29                           7  \n",
       "1          12.49                 0.17                           6  \n",
       "2          12.61                 0.06                           4  \n",
       "3           7.88                 0.12                           3  \n",
       "4           8.94                 0.09                           3  \n",
       "\n",
       "[5 rows x 42 columns]"
      ]
     },
     "execution_count": 40,
     "metadata": {},
     "output_type": "execute_result"
    }
   ],
   "source": [
    "X_new_test.head()"
   ]
  }
 ],
 "metadata": {
  "kaggle": {
   "accelerator": "none",
   "dataSources": [
    {
     "datasetId": 4103569,
     "sourceId": 7115609,
     "sourceType": "datasetVersion"
    }
   ],
   "dockerImageVersionId": 30587,
   "isGpuEnabled": false,
   "isInternetEnabled": true,
   "language": "python",
   "sourceType": "notebook"
  },
  "kernelspec": {
   "display_name": "Python 3",
   "language": "python",
   "name": "python3"
  },
  "language_info": {
   "codemirror_mode": {
    "name": "ipython",
    "version": 3
   },
   "file_extension": ".py",
   "mimetype": "text/x-python",
   "name": "python",
   "nbconvert_exporter": "python",
   "pygments_lexer": "ipython3",
   "version": "3.10.12"
  },
  "papermill": {
   "default_parameters": {},
   "duration": 8.629021,
   "end_time": "2023-12-17T21:52:30.312969",
   "environment_variables": {},
   "exception": null,
   "input_path": "__notebook__.ipynb",
   "output_path": "__notebook__.ipynb",
   "parameters": {},
   "start_time": "2023-12-17T21:52:21.683948",
   "version": "2.4.0"
  }
 },
 "nbformat": 4,
 "nbformat_minor": 5
}
