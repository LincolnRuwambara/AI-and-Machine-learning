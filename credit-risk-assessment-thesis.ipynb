{
 "cells": [
  {
   "cell_type": "code",
   "execution_count": 1,
   "id": "93ca0693",
   "metadata": {
    "_cell_guid": "b1076dfc-b9ad-4769-8c92-a6c4dae69d19",
    "_uuid": "8f2839f25d086af736a60e9eeb907d3b93b6e0e5",
    "execution": {
     "iopub.execute_input": "2024-01-14T23:31:15.819848Z",
     "iopub.status.busy": "2024-01-14T23:31:15.818910Z",
     "iopub.status.idle": "2024-01-14T23:31:16.654353Z",
     "shell.execute_reply": "2024-01-14T23:31:16.653359Z"
    },
    "papermill": {
     "duration": 0.85209,
     "end_time": "2024-01-14T23:31:16.657387",
     "exception": false,
     "start_time": "2024-01-14T23:31:15.805297",
     "status": "completed"
    },
    "tags": []
   },
   "outputs": [
    {
     "name": "stdout",
     "output_type": "stream",
     "text": [
      "/kaggle/input/credit-risk/credit_risk_dataset.csv\n"
     ]
    }
   ],
   "source": [
    "# This Python 3 environment comes with many helpful analytics libraries installed\n",
    "# It is defined by the kaggle/python Docker image: https://github.com/kaggle/docker-python\n",
    "# For example, here's several helpful packages to load\n",
    "\n",
    "import numpy as np # linear algebra\n",
    "import pandas as pd # data processing, CSV file I/O (e.g. pd.read_csv)\n",
    "\n",
    "# Input data files are available in the read-only \"../input/\" directory\n",
    "# For example, running this (by clicking run or pressing Shift+Enter) will list all files under the input directory\n",
    "\n",
    "\n",
    "import os\n",
    "for dirname, _, filenames in os.walk('/kaggle/input'):\n",
    "    for filename in filenames:\n",
    "        print(os.path.join(dirname, filename))\n",
    "\n",
    "# You can write up to 20GB to the current directory (/kaggle/working/) that gets preserved as output when you create a version using \"Save & Run All\" \n",
    "# You can also write temporary files to /kaggle/temp/, but they won't be saved outside of the current session"
   ]
  },
  {
   "cell_type": "markdown",
   "id": "cdaff1a7",
   "metadata": {
    "papermill": {
     "duration": 0.011857,
     "end_time": "2024-01-14T23:31:16.681768",
     "exception": false,
     "start_time": "2024-01-14T23:31:16.669911",
     "status": "completed"
    },
    "tags": []
   },
   "source": [
    "# **Reading the Dataset**"
   ]
  },
  {
   "cell_type": "code",
   "execution_count": 2,
   "id": "6a0566ef",
   "metadata": {
    "execution": {
     "iopub.execute_input": "2024-01-14T23:31:16.708568Z",
     "iopub.status.busy": "2024-01-14T23:31:16.707207Z",
     "iopub.status.idle": "2024-01-14T23:31:16.872557Z",
     "shell.execute_reply": "2024-01-14T23:31:16.871366Z"
    },
    "papermill": {
     "duration": 0.18108,
     "end_time": "2024-01-14T23:31:16.874960",
     "exception": false,
     "start_time": "2024-01-14T23:31:16.693880",
     "status": "completed"
    },
    "tags": []
   },
   "outputs": [
    {
     "data": {
      "text/html": [
       "<div>\n",
       "<style scoped>\n",
       "    .dataframe tbody tr th:only-of-type {\n",
       "        vertical-align: middle;\n",
       "    }\n",
       "\n",
       "    .dataframe tbody tr th {\n",
       "        vertical-align: top;\n",
       "    }\n",
       "\n",
       "    .dataframe thead th {\n",
       "        text-align: right;\n",
       "    }\n",
       "</style>\n",
       "<table border=\"1\" class=\"dataframe\">\n",
       "  <thead>\n",
       "    <tr style=\"text-align: right;\">\n",
       "      <th></th>\n",
       "      <th>person_age</th>\n",
       "      <th>person_income</th>\n",
       "      <th>person_home_ownership</th>\n",
       "      <th>person_emp_length</th>\n",
       "      <th>loan_intent</th>\n",
       "      <th>loan_grade</th>\n",
       "      <th>loan_amnt</th>\n",
       "      <th>loan_int_rate</th>\n",
       "      <th>loan_status</th>\n",
       "      <th>loan_percent_income</th>\n",
       "      <th>cb_person_default_on_file</th>\n",
       "      <th>cb_person_cred_hist_length</th>\n",
       "    </tr>\n",
       "  </thead>\n",
       "  <tbody>\n",
       "    <tr>\n",
       "      <th>0</th>\n",
       "      <td>34</td>\n",
       "      <td>29004</td>\n",
       "      <td>RENT</td>\n",
       "      <td>9.0</td>\n",
       "      <td>EDUCATION</td>\n",
       "      <td>B</td>\n",
       "      <td>10000</td>\n",
       "      <td>11.83</td>\n",
       "      <td>1</td>\n",
       "      <td>0.34</td>\n",
       "      <td>N</td>\n",
       "      <td>5</td>\n",
       "    </tr>\n",
       "    <tr>\n",
       "      <th>1</th>\n",
       "      <td>22</td>\n",
       "      <td>43200</td>\n",
       "      <td>RENT</td>\n",
       "      <td>2.0</td>\n",
       "      <td>EDUCATION</td>\n",
       "      <td>A</td>\n",
       "      <td>8000</td>\n",
       "      <td>5.99</td>\n",
       "      <td>0</td>\n",
       "      <td>0.19</td>\n",
       "      <td>N</td>\n",
       "      <td>3</td>\n",
       "    </tr>\n",
       "    <tr>\n",
       "      <th>2</th>\n",
       "      <td>24</td>\n",
       "      <td>86250</td>\n",
       "      <td>RENT</td>\n",
       "      <td>1.0</td>\n",
       "      <td>HOMEIMPROVEMENT</td>\n",
       "      <td>B</td>\n",
       "      <td>9000</td>\n",
       "      <td>12.69</td>\n",
       "      <td>0</td>\n",
       "      <td>0.10</td>\n",
       "      <td>N</td>\n",
       "      <td>2</td>\n",
       "    </tr>\n",
       "    <tr>\n",
       "      <th>3</th>\n",
       "      <td>25</td>\n",
       "      <td>45996</td>\n",
       "      <td>RENT</td>\n",
       "      <td>3.0</td>\n",
       "      <td>DEBTCONSOLIDATION</td>\n",
       "      <td>C</td>\n",
       "      <td>11500</td>\n",
       "      <td>12.53</td>\n",
       "      <td>0</td>\n",
       "      <td>0.25</td>\n",
       "      <td>Y</td>\n",
       "      <td>3</td>\n",
       "    </tr>\n",
       "    <tr>\n",
       "      <th>4</th>\n",
       "      <td>22</td>\n",
       "      <td>42000</td>\n",
       "      <td>RENT</td>\n",
       "      <td>6.0</td>\n",
       "      <td>PERSONAL</td>\n",
       "      <td>C</td>\n",
       "      <td>10000</td>\n",
       "      <td>NaN</td>\n",
       "      <td>0</td>\n",
       "      <td>0.24</td>\n",
       "      <td>Y</td>\n",
       "      <td>4</td>\n",
       "    </tr>\n",
       "    <tr>\n",
       "      <th>5</th>\n",
       "      <td>28</td>\n",
       "      <td>159000</td>\n",
       "      <td>MORTGAGE</td>\n",
       "      <td>3.0</td>\n",
       "      <td>PERSONAL</td>\n",
       "      <td>B</td>\n",
       "      <td>15000</td>\n",
       "      <td>11.86</td>\n",
       "      <td>0</td>\n",
       "      <td>0.09</td>\n",
       "      <td>N</td>\n",
       "      <td>8</td>\n",
       "    </tr>\n",
       "  </tbody>\n",
       "</table>\n",
       "</div>"
      ],
      "text/plain": [
       "   person_age  person_income person_home_ownership  person_emp_length  \\\n",
       "0          34          29004                  RENT                9.0   \n",
       "1          22          43200                  RENT                2.0   \n",
       "2          24          86250                  RENT                1.0   \n",
       "3          25          45996                  RENT                3.0   \n",
       "4          22          42000                  RENT                6.0   \n",
       "5          28         159000              MORTGAGE                3.0   \n",
       "\n",
       "         loan_intent loan_grade  loan_amnt  loan_int_rate  loan_status  \\\n",
       "0          EDUCATION          B      10000          11.83            1   \n",
       "1          EDUCATION          A       8000           5.99            0   \n",
       "2    HOMEIMPROVEMENT          B       9000          12.69            0   \n",
       "3  DEBTCONSOLIDATION          C      11500          12.53            0   \n",
       "4           PERSONAL          C      10000            NaN            0   \n",
       "5           PERSONAL          B      15000          11.86            0   \n",
       "\n",
       "   loan_percent_income cb_person_default_on_file  cb_person_cred_hist_length  \n",
       "0                 0.34                         N                           5  \n",
       "1                 0.19                         N                           3  \n",
       "2                 0.10                         N                           2  \n",
       "3                 0.25                         Y                           3  \n",
       "4                 0.24                         Y                           4  \n",
       "5                 0.09                         N                           8  "
      ]
     },
     "execution_count": 2,
     "metadata": {},
     "output_type": "execute_result"
    }
   ],
   "source": [
    "data_original = pd.read_csv('/kaggle/input/credit-risk/credit_risk_dataset.csv')\n",
    "data= pd.read_csv('/kaggle/input/credit-risk/credit_risk_dataset.csv')\n",
    "data.sample(6).reset_index(drop=True)"
   ]
  },
  {
   "cell_type": "markdown",
   "id": "89f0a898",
   "metadata": {
    "papermill": {
     "duration": 0.011776,
     "end_time": "2024-01-14T23:31:16.899225",
     "exception": false,
     "start_time": "2024-01-14T23:31:16.887449",
     "status": "completed"
    },
    "tags": []
   },
   "source": [
    "# **Data set Description**\n",
    "* **person_age**: Age of the individual applying for the loan.\n",
    "* **person_income**: Annual income of the individual.\n",
    "* **person_home_ownership**: Type of home ownership of the individual.\n",
    "* **rent**: The individual is currently renting a property.\n",
    "* **mortgage**: The individual has a mortgage on the property they own.\n",
    "* **own**: The individual owns their home outright.\n",
    "* **other**: Other categories of home ownership that may be specific to the dataset.\n",
    "* **person_emp_length**: Employment length of the individual in years.\n",
    "* **loan_intent**: The intent behind the loan application.\n",
    "* **loan_grade**: The grade assigned to the loan based on the creditworthiness of the borrower.\n",
    "   * A: The borrower has a high creditworthiness, indicating low risk.\n",
    "   * B: The borrower is relatively low-risk, but not as creditworthy as Grade A.\n",
    "   * C: The borrower's creditworthiness is moderate.\n",
    "   * D: The borrower is considered to have higher risk compared to previous grades.\n",
    "   * E: The borrower's creditworthiness is lower, indicating a higher risk.\n",
    "   * F: The borrower poses a significant credit risk.\n",
    "   * G: The borrower's creditworthiness is the lowest, signifying the highest risk.\n",
    "* **loan_amnt**: The loan amount requested by the individual.\n",
    "* **loan_int_rate**: The interest rate associated with the loan.\n",
    "* **loan_status**: Loan status, where 0 indicates non-default and 1 indicates default.\n",
    "  * 0: Non-default - The borrower successfully repaid the loan as agreed, and there was no default.\n",
    "  * 1: Default - The borrower failed to repay the loan according to the agreed-upon terms and defaulted on the loan.\n",
    "* **loan_percent_income**: The percentage of income represented by the loan amount.\n",
    "* **cb_person_default_on_fil**e: Historical default of the individual as per credit bureau records.\n",
    "  * Y: The individual has a history of defaults on their credit file.\n",
    "  * N: The individual does not have any history of defaults.\n",
    "* **cb_preson_cred_hist_length**: The length of credit history for the individual.\n"
   ]
  },
  {
   "cell_type": "markdown",
   "id": "dc1eb438",
   "metadata": {
    "papermill": {
     "duration": 0.011682,
     "end_time": "2024-01-14T23:31:16.923013",
     "exception": false,
     "start_time": "2024-01-14T23:31:16.911331",
     "status": "completed"
    },
    "tags": []
   },
   "source": [
    "# **Exploring the data se**t"
   ]
  },
  {
   "cell_type": "code",
   "execution_count": 3,
   "id": "af702fda",
   "metadata": {
    "execution": {
     "iopub.execute_input": "2024-01-14T23:31:16.949391Z",
     "iopub.status.busy": "2024-01-14T23:31:16.948419Z",
     "iopub.status.idle": "2024-01-14T23:31:16.964712Z",
     "shell.execute_reply": "2024-01-14T23:31:16.963506Z"
    },
    "papermill": {
     "duration": 0.031649,
     "end_time": "2024-01-14T23:31:16.966829",
     "exception": false,
     "start_time": "2024-01-14T23:31:16.935180",
     "status": "completed"
    },
    "tags": []
   },
   "outputs": [
    {
     "data": {
      "text/html": [
       "<div>\n",
       "<style scoped>\n",
       "    .dataframe tbody tr th:only-of-type {\n",
       "        vertical-align: middle;\n",
       "    }\n",
       "\n",
       "    .dataframe tbody tr th {\n",
       "        vertical-align: top;\n",
       "    }\n",
       "\n",
       "    .dataframe thead th {\n",
       "        text-align: right;\n",
       "    }\n",
       "</style>\n",
       "<table border=\"1\" class=\"dataframe\">\n",
       "  <thead>\n",
       "    <tr style=\"text-align: right;\">\n",
       "      <th></th>\n",
       "      <th>person_age</th>\n",
       "      <th>person_income</th>\n",
       "      <th>person_home_ownership</th>\n",
       "      <th>person_emp_length</th>\n",
       "      <th>loan_intent</th>\n",
       "      <th>loan_grade</th>\n",
       "      <th>loan_amnt</th>\n",
       "      <th>loan_int_rate</th>\n",
       "      <th>loan_status</th>\n",
       "      <th>loan_percent_income</th>\n",
       "      <th>cb_person_default_on_file</th>\n",
       "      <th>cb_person_cred_hist_length</th>\n",
       "    </tr>\n",
       "  </thead>\n",
       "  <tbody>\n",
       "    <tr>\n",
       "      <th>0</th>\n",
       "      <td>22</td>\n",
       "      <td>59000</td>\n",
       "      <td>RENT</td>\n",
       "      <td>123.0</td>\n",
       "      <td>PERSONAL</td>\n",
       "      <td>D</td>\n",
       "      <td>35000</td>\n",
       "      <td>16.02</td>\n",
       "      <td>1</td>\n",
       "      <td>0.59</td>\n",
       "      <td>Y</td>\n",
       "      <td>3</td>\n",
       "    </tr>\n",
       "    <tr>\n",
       "      <th>1</th>\n",
       "      <td>21</td>\n",
       "      <td>9600</td>\n",
       "      <td>OWN</td>\n",
       "      <td>5.0</td>\n",
       "      <td>EDUCATION</td>\n",
       "      <td>B</td>\n",
       "      <td>1000</td>\n",
       "      <td>11.14</td>\n",
       "      <td>0</td>\n",
       "      <td>0.10</td>\n",
       "      <td>N</td>\n",
       "      <td>2</td>\n",
       "    </tr>\n",
       "    <tr>\n",
       "      <th>2</th>\n",
       "      <td>25</td>\n",
       "      <td>9600</td>\n",
       "      <td>MORTGAGE</td>\n",
       "      <td>1.0</td>\n",
       "      <td>MEDICAL</td>\n",
       "      <td>C</td>\n",
       "      <td>5500</td>\n",
       "      <td>12.87</td>\n",
       "      <td>1</td>\n",
       "      <td>0.57</td>\n",
       "      <td>N</td>\n",
       "      <td>3</td>\n",
       "    </tr>\n",
       "    <tr>\n",
       "      <th>3</th>\n",
       "      <td>23</td>\n",
       "      <td>65500</td>\n",
       "      <td>RENT</td>\n",
       "      <td>4.0</td>\n",
       "      <td>MEDICAL</td>\n",
       "      <td>C</td>\n",
       "      <td>35000</td>\n",
       "      <td>15.23</td>\n",
       "      <td>1</td>\n",
       "      <td>0.53</td>\n",
       "      <td>N</td>\n",
       "      <td>2</td>\n",
       "    </tr>\n",
       "    <tr>\n",
       "      <th>4</th>\n",
       "      <td>24</td>\n",
       "      <td>54400</td>\n",
       "      <td>RENT</td>\n",
       "      <td>8.0</td>\n",
       "      <td>MEDICAL</td>\n",
       "      <td>C</td>\n",
       "      <td>35000</td>\n",
       "      <td>14.27</td>\n",
       "      <td>1</td>\n",
       "      <td>0.55</td>\n",
       "      <td>Y</td>\n",
       "      <td>4</td>\n",
       "    </tr>\n",
       "  </tbody>\n",
       "</table>\n",
       "</div>"
      ],
      "text/plain": [
       "   person_age  person_income person_home_ownership  person_emp_length  \\\n",
       "0          22          59000                  RENT              123.0   \n",
       "1          21           9600                   OWN                5.0   \n",
       "2          25           9600              MORTGAGE                1.0   \n",
       "3          23          65500                  RENT                4.0   \n",
       "4          24          54400                  RENT                8.0   \n",
       "\n",
       "  loan_intent loan_grade  loan_amnt  loan_int_rate  loan_status  \\\n",
       "0    PERSONAL          D      35000          16.02            1   \n",
       "1   EDUCATION          B       1000          11.14            0   \n",
       "2     MEDICAL          C       5500          12.87            1   \n",
       "3     MEDICAL          C      35000          15.23            1   \n",
       "4     MEDICAL          C      35000          14.27            1   \n",
       "\n",
       "   loan_percent_income cb_person_default_on_file  cb_person_cred_hist_length  \n",
       "0                 0.59                         Y                           3  \n",
       "1                 0.10                         N                           2  \n",
       "2                 0.57                         N                           3  \n",
       "3                 0.53                         N                           2  \n",
       "4                 0.55                         Y                           4  "
      ]
     },
     "execution_count": 3,
     "metadata": {},
     "output_type": "execute_result"
    }
   ],
   "source": [
    "data.head()"
   ]
  },
  {
   "cell_type": "code",
   "execution_count": 4,
   "id": "ce9c0763",
   "metadata": {
    "execution": {
     "iopub.execute_input": "2024-01-14T23:31:16.993477Z",
     "iopub.status.busy": "2024-01-14T23:31:16.992892Z",
     "iopub.status.idle": "2024-01-14T23:31:17.008313Z",
     "shell.execute_reply": "2024-01-14T23:31:17.007268Z"
    },
    "papermill": {
     "duration": 0.031281,
     "end_time": "2024-01-14T23:31:17.010408",
     "exception": false,
     "start_time": "2024-01-14T23:31:16.979127",
     "status": "completed"
    },
    "tags": []
   },
   "outputs": [
    {
     "data": {
      "text/html": [
       "<div>\n",
       "<style scoped>\n",
       "    .dataframe tbody tr th:only-of-type {\n",
       "        vertical-align: middle;\n",
       "    }\n",
       "\n",
       "    .dataframe tbody tr th {\n",
       "        vertical-align: top;\n",
       "    }\n",
       "\n",
       "    .dataframe thead th {\n",
       "        text-align: right;\n",
       "    }\n",
       "</style>\n",
       "<table border=\"1\" class=\"dataframe\">\n",
       "  <thead>\n",
       "    <tr style=\"text-align: right;\">\n",
       "      <th></th>\n",
       "      <th>person_age</th>\n",
       "      <th>person_income</th>\n",
       "      <th>person_home_ownership</th>\n",
       "      <th>person_emp_length</th>\n",
       "      <th>loan_intent</th>\n",
       "      <th>loan_grade</th>\n",
       "      <th>loan_amnt</th>\n",
       "      <th>loan_int_rate</th>\n",
       "      <th>loan_status</th>\n",
       "      <th>loan_percent_income</th>\n",
       "      <th>cb_person_default_on_file</th>\n",
       "      <th>cb_person_cred_hist_length</th>\n",
       "    </tr>\n",
       "  </thead>\n",
       "  <tbody>\n",
       "    <tr>\n",
       "      <th>32576</th>\n",
       "      <td>57</td>\n",
       "      <td>53000</td>\n",
       "      <td>MORTGAGE</td>\n",
       "      <td>1.0</td>\n",
       "      <td>PERSONAL</td>\n",
       "      <td>C</td>\n",
       "      <td>5800</td>\n",
       "      <td>13.16</td>\n",
       "      <td>0</td>\n",
       "      <td>0.11</td>\n",
       "      <td>N</td>\n",
       "      <td>30</td>\n",
       "    </tr>\n",
       "    <tr>\n",
       "      <th>32577</th>\n",
       "      <td>54</td>\n",
       "      <td>120000</td>\n",
       "      <td>MORTGAGE</td>\n",
       "      <td>4.0</td>\n",
       "      <td>PERSONAL</td>\n",
       "      <td>A</td>\n",
       "      <td>17625</td>\n",
       "      <td>7.49</td>\n",
       "      <td>0</td>\n",
       "      <td>0.15</td>\n",
       "      <td>N</td>\n",
       "      <td>19</td>\n",
       "    </tr>\n",
       "    <tr>\n",
       "      <th>32578</th>\n",
       "      <td>65</td>\n",
       "      <td>76000</td>\n",
       "      <td>RENT</td>\n",
       "      <td>3.0</td>\n",
       "      <td>HOMEIMPROVEMENT</td>\n",
       "      <td>B</td>\n",
       "      <td>35000</td>\n",
       "      <td>10.99</td>\n",
       "      <td>1</td>\n",
       "      <td>0.46</td>\n",
       "      <td>N</td>\n",
       "      <td>28</td>\n",
       "    </tr>\n",
       "    <tr>\n",
       "      <th>32579</th>\n",
       "      <td>56</td>\n",
       "      <td>150000</td>\n",
       "      <td>MORTGAGE</td>\n",
       "      <td>5.0</td>\n",
       "      <td>PERSONAL</td>\n",
       "      <td>B</td>\n",
       "      <td>15000</td>\n",
       "      <td>11.48</td>\n",
       "      <td>0</td>\n",
       "      <td>0.10</td>\n",
       "      <td>N</td>\n",
       "      <td>26</td>\n",
       "    </tr>\n",
       "    <tr>\n",
       "      <th>32580</th>\n",
       "      <td>66</td>\n",
       "      <td>42000</td>\n",
       "      <td>RENT</td>\n",
       "      <td>2.0</td>\n",
       "      <td>MEDICAL</td>\n",
       "      <td>B</td>\n",
       "      <td>6475</td>\n",
       "      <td>9.99</td>\n",
       "      <td>0</td>\n",
       "      <td>0.15</td>\n",
       "      <td>N</td>\n",
       "      <td>30</td>\n",
       "    </tr>\n",
       "  </tbody>\n",
       "</table>\n",
       "</div>"
      ],
      "text/plain": [
       "       person_age  person_income person_home_ownership  person_emp_length  \\\n",
       "32576          57          53000              MORTGAGE                1.0   \n",
       "32577          54         120000              MORTGAGE                4.0   \n",
       "32578          65          76000                  RENT                3.0   \n",
       "32579          56         150000              MORTGAGE                5.0   \n",
       "32580          66          42000                  RENT                2.0   \n",
       "\n",
       "           loan_intent loan_grade  loan_amnt  loan_int_rate  loan_status  \\\n",
       "32576         PERSONAL          C       5800          13.16            0   \n",
       "32577         PERSONAL          A      17625           7.49            0   \n",
       "32578  HOMEIMPROVEMENT          B      35000          10.99            1   \n",
       "32579         PERSONAL          B      15000          11.48            0   \n",
       "32580          MEDICAL          B       6475           9.99            0   \n",
       "\n",
       "       loan_percent_income cb_person_default_on_file  \\\n",
       "32576                 0.11                         N   \n",
       "32577                 0.15                         N   \n",
       "32578                 0.46                         N   \n",
       "32579                 0.10                         N   \n",
       "32580                 0.15                         N   \n",
       "\n",
       "       cb_person_cred_hist_length  \n",
       "32576                          30  \n",
       "32577                          19  \n",
       "32578                          28  \n",
       "32579                          26  \n",
       "32580                          30  "
      ]
     },
     "execution_count": 4,
     "metadata": {},
     "output_type": "execute_result"
    }
   ],
   "source": [
    "data.tail()"
   ]
  },
  {
   "cell_type": "code",
   "execution_count": 5,
   "id": "13cd7341",
   "metadata": {
    "execution": {
     "iopub.execute_input": "2024-01-14T23:31:17.037777Z",
     "iopub.status.busy": "2024-01-14T23:31:17.037358Z",
     "iopub.status.idle": "2024-01-14T23:31:17.080975Z",
     "shell.execute_reply": "2024-01-14T23:31:17.079803Z"
    },
    "papermill": {
     "duration": 0.060327,
     "end_time": "2024-01-14T23:31:17.083525",
     "exception": false,
     "start_time": "2024-01-14T23:31:17.023198",
     "status": "completed"
    },
    "tags": []
   },
   "outputs": [
    {
     "data": {
      "text/html": [
       "<div>\n",
       "<style scoped>\n",
       "    .dataframe tbody tr th:only-of-type {\n",
       "        vertical-align: middle;\n",
       "    }\n",
       "\n",
       "    .dataframe tbody tr th {\n",
       "        vertical-align: top;\n",
       "    }\n",
       "\n",
       "    .dataframe thead th {\n",
       "        text-align: right;\n",
       "    }\n",
       "</style>\n",
       "<table border=\"1\" class=\"dataframe\">\n",
       "  <thead>\n",
       "    <tr style=\"text-align: right;\">\n",
       "      <th></th>\n",
       "      <th>person_age</th>\n",
       "      <th>person_income</th>\n",
       "      <th>person_emp_length</th>\n",
       "      <th>loan_amnt</th>\n",
       "      <th>loan_int_rate</th>\n",
       "      <th>loan_status</th>\n",
       "      <th>loan_percent_income</th>\n",
       "      <th>cb_person_cred_hist_length</th>\n",
       "    </tr>\n",
       "  </thead>\n",
       "  <tbody>\n",
       "    <tr>\n",
       "      <th>count</th>\n",
       "      <td>32581.000000</td>\n",
       "      <td>3.258100e+04</td>\n",
       "      <td>31686.000000</td>\n",
       "      <td>32581.000000</td>\n",
       "      <td>29465.000000</td>\n",
       "      <td>32581.000000</td>\n",
       "      <td>32581.000000</td>\n",
       "      <td>32581.000000</td>\n",
       "    </tr>\n",
       "    <tr>\n",
       "      <th>mean</th>\n",
       "      <td>27.734600</td>\n",
       "      <td>6.607485e+04</td>\n",
       "      <td>4.789686</td>\n",
       "      <td>9589.371106</td>\n",
       "      <td>11.011695</td>\n",
       "      <td>0.218164</td>\n",
       "      <td>0.170203</td>\n",
       "      <td>5.804211</td>\n",
       "    </tr>\n",
       "    <tr>\n",
       "      <th>std</th>\n",
       "      <td>6.348078</td>\n",
       "      <td>6.198312e+04</td>\n",
       "      <td>4.142630</td>\n",
       "      <td>6322.086646</td>\n",
       "      <td>3.240459</td>\n",
       "      <td>0.413006</td>\n",
       "      <td>0.106782</td>\n",
       "      <td>4.055001</td>\n",
       "    </tr>\n",
       "    <tr>\n",
       "      <th>min</th>\n",
       "      <td>20.000000</td>\n",
       "      <td>4.000000e+03</td>\n",
       "      <td>0.000000</td>\n",
       "      <td>500.000000</td>\n",
       "      <td>5.420000</td>\n",
       "      <td>0.000000</td>\n",
       "      <td>0.000000</td>\n",
       "      <td>2.000000</td>\n",
       "    </tr>\n",
       "    <tr>\n",
       "      <th>25%</th>\n",
       "      <td>23.000000</td>\n",
       "      <td>3.850000e+04</td>\n",
       "      <td>2.000000</td>\n",
       "      <td>5000.000000</td>\n",
       "      <td>7.900000</td>\n",
       "      <td>0.000000</td>\n",
       "      <td>0.090000</td>\n",
       "      <td>3.000000</td>\n",
       "    </tr>\n",
       "    <tr>\n",
       "      <th>50%</th>\n",
       "      <td>26.000000</td>\n",
       "      <td>5.500000e+04</td>\n",
       "      <td>4.000000</td>\n",
       "      <td>8000.000000</td>\n",
       "      <td>10.990000</td>\n",
       "      <td>0.000000</td>\n",
       "      <td>0.150000</td>\n",
       "      <td>4.000000</td>\n",
       "    </tr>\n",
       "    <tr>\n",
       "      <th>75%</th>\n",
       "      <td>30.000000</td>\n",
       "      <td>7.920000e+04</td>\n",
       "      <td>7.000000</td>\n",
       "      <td>12200.000000</td>\n",
       "      <td>13.470000</td>\n",
       "      <td>0.000000</td>\n",
       "      <td>0.230000</td>\n",
       "      <td>8.000000</td>\n",
       "    </tr>\n",
       "    <tr>\n",
       "      <th>max</th>\n",
       "      <td>144.000000</td>\n",
       "      <td>6.000000e+06</td>\n",
       "      <td>123.000000</td>\n",
       "      <td>35000.000000</td>\n",
       "      <td>23.220000</td>\n",
       "      <td>1.000000</td>\n",
       "      <td>0.830000</td>\n",
       "      <td>30.000000</td>\n",
       "    </tr>\n",
       "  </tbody>\n",
       "</table>\n",
       "</div>"
      ],
      "text/plain": [
       "         person_age  person_income  person_emp_length     loan_amnt  \\\n",
       "count  32581.000000   3.258100e+04       31686.000000  32581.000000   \n",
       "mean      27.734600   6.607485e+04           4.789686   9589.371106   \n",
       "std        6.348078   6.198312e+04           4.142630   6322.086646   \n",
       "min       20.000000   4.000000e+03           0.000000    500.000000   \n",
       "25%       23.000000   3.850000e+04           2.000000   5000.000000   \n",
       "50%       26.000000   5.500000e+04           4.000000   8000.000000   \n",
       "75%       30.000000   7.920000e+04           7.000000  12200.000000   \n",
       "max      144.000000   6.000000e+06         123.000000  35000.000000   \n",
       "\n",
       "       loan_int_rate   loan_status  loan_percent_income  \\\n",
       "count   29465.000000  32581.000000         32581.000000   \n",
       "mean       11.011695      0.218164             0.170203   \n",
       "std         3.240459      0.413006             0.106782   \n",
       "min         5.420000      0.000000             0.000000   \n",
       "25%         7.900000      0.000000             0.090000   \n",
       "50%        10.990000      0.000000             0.150000   \n",
       "75%        13.470000      0.000000             0.230000   \n",
       "max        23.220000      1.000000             0.830000   \n",
       "\n",
       "       cb_person_cred_hist_length  \n",
       "count                32581.000000  \n",
       "mean                     5.804211  \n",
       "std                      4.055001  \n",
       "min                      2.000000  \n",
       "25%                      3.000000  \n",
       "50%                      4.000000  \n",
       "75%                      8.000000  \n",
       "max                     30.000000  "
      ]
     },
     "execution_count": 5,
     "metadata": {},
     "output_type": "execute_result"
    }
   ],
   "source": [
    "data.describe()"
   ]
  },
  {
   "cell_type": "code",
   "execution_count": 6,
   "id": "fd5c80c3",
   "metadata": {
    "execution": {
     "iopub.execute_input": "2024-01-14T23:31:17.111264Z",
     "iopub.status.busy": "2024-01-14T23:31:17.110881Z",
     "iopub.status.idle": "2024-01-14T23:31:17.140489Z",
     "shell.execute_reply": "2024-01-14T23:31:17.139693Z"
    },
    "papermill": {
     "duration": 0.046041,
     "end_time": "2024-01-14T23:31:17.142784",
     "exception": false,
     "start_time": "2024-01-14T23:31:17.096743",
     "status": "completed"
    },
    "tags": []
   },
   "outputs": [
    {
     "name": "stdout",
     "output_type": "stream",
     "text": [
      "<class 'pandas.core.frame.DataFrame'>\n",
      "RangeIndex: 32581 entries, 0 to 32580\n",
      "Data columns (total 12 columns):\n",
      " #   Column                      Non-Null Count  Dtype  \n",
      "---  ------                      --------------  -----  \n",
      " 0   person_age                  32581 non-null  int64  \n",
      " 1   person_income               32581 non-null  int64  \n",
      " 2   person_home_ownership       32581 non-null  object \n",
      " 3   person_emp_length           31686 non-null  float64\n",
      " 4   loan_intent                 32581 non-null  object \n",
      " 5   loan_grade                  32581 non-null  object \n",
      " 6   loan_amnt                   32581 non-null  int64  \n",
      " 7   loan_int_rate               29465 non-null  float64\n",
      " 8   loan_status                 32581 non-null  int64  \n",
      " 9   loan_percent_income         32581 non-null  float64\n",
      " 10  cb_person_default_on_file   32581 non-null  object \n",
      " 11  cb_person_cred_hist_length  32581 non-null  int64  \n",
      "dtypes: float64(3), int64(5), object(4)\n",
      "memory usage: 3.0+ MB\n"
     ]
    }
   ],
   "source": [
    "data.info()"
   ]
  },
  {
   "cell_type": "markdown",
   "id": "f6acc8ff",
   "metadata": {
    "papermill": {
     "duration": 0.013252,
     "end_time": "2024-01-14T23:31:17.169184",
     "exception": false,
     "start_time": "2024-01-14T23:31:17.155932",
     "status": "completed"
    },
    "tags": []
   },
   "source": [
    "# **Checking the dataset for missing values and getting an overal count on the missing data**"
   ]
  },
  {
   "cell_type": "code",
   "execution_count": 7,
   "id": "8060a2bc",
   "metadata": {
    "execution": {
     "iopub.execute_input": "2024-01-14T23:31:17.197313Z",
     "iopub.status.busy": "2024-01-14T23:31:17.196679Z",
     "iopub.status.idle": "2024-01-14T23:31:17.211189Z",
     "shell.execute_reply": "2024-01-14T23:31:17.210156Z"
    },
    "papermill": {
     "duration": 0.030925,
     "end_time": "2024-01-14T23:31:17.213199",
     "exception": false,
     "start_time": "2024-01-14T23:31:17.182274",
     "status": "completed"
    },
    "tags": []
   },
   "outputs": [
    {
     "data": {
      "text/plain": [
       "person_age                       0\n",
       "person_income                    0\n",
       "person_home_ownership            0\n",
       "person_emp_length              895\n",
       "loan_intent                      0\n",
       "loan_grade                       0\n",
       "loan_amnt                        0\n",
       "loan_int_rate                 3116\n",
       "loan_status                      0\n",
       "loan_percent_income              0\n",
       "cb_person_default_on_file        0\n",
       "cb_person_cred_hist_length       0\n",
       "dtype: int64"
      ]
     },
     "execution_count": 7,
     "metadata": {},
     "output_type": "execute_result"
    }
   ],
   "source": [
    "data.isnull().sum()"
   ]
  },
  {
   "cell_type": "markdown",
   "id": "d51c526b",
   "metadata": {
    "papermill": {
     "duration": 0.069042,
     "end_time": "2024-01-14T23:31:17.295663",
     "exception": false,
     "start_time": "2024-01-14T23:31:17.226621",
     "status": "completed"
    },
    "tags": []
   },
   "source": [
    " **The misssing records where droped from the dataset**"
   ]
  },
  {
   "cell_type": "code",
   "execution_count": 8,
   "id": "3c6ccb0c",
   "metadata": {
    "execution": {
     "iopub.execute_input": "2024-01-14T23:31:17.324509Z",
     "iopub.status.busy": "2024-01-14T23:31:17.323894Z",
     "iopub.status.idle": "2024-01-14T23:31:17.337978Z",
     "shell.execute_reply": "2024-01-14T23:31:17.337109Z"
    },
    "papermill": {
     "duration": 0.031096,
     "end_time": "2024-01-14T23:31:17.340245",
     "exception": false,
     "start_time": "2024-01-14T23:31:17.309149",
     "status": "completed"
    },
    "tags": []
   },
   "outputs": [],
   "source": [
    "data.dropna(axis=0,inplace=True)"
   ]
  },
  {
   "cell_type": "code",
   "execution_count": 9,
   "id": "43a18a44",
   "metadata": {
    "execution": {
     "iopub.execute_input": "2024-01-14T23:31:17.368894Z",
     "iopub.status.busy": "2024-01-14T23:31:17.368222Z",
     "iopub.status.idle": "2024-01-14T23:31:17.382154Z",
     "shell.execute_reply": "2024-01-14T23:31:17.381113Z"
    },
    "papermill": {
     "duration": 0.031151,
     "end_time": "2024-01-14T23:31:17.384764",
     "exception": false,
     "start_time": "2024-01-14T23:31:17.353613",
     "status": "completed"
    },
    "tags": []
   },
   "outputs": [
    {
     "data": {
      "text/plain": [
       "person_age                    0\n",
       "person_income                 0\n",
       "person_home_ownership         0\n",
       "person_emp_length             0\n",
       "loan_intent                   0\n",
       "loan_grade                    0\n",
       "loan_amnt                     0\n",
       "loan_int_rate                 0\n",
       "loan_status                   0\n",
       "loan_percent_income           0\n",
       "cb_person_default_on_file     0\n",
       "cb_person_cred_hist_length    0\n",
       "dtype: int64"
      ]
     },
     "execution_count": 9,
     "metadata": {},
     "output_type": "execute_result"
    }
   ],
   "source": [
    "data.isnull().sum()"
   ]
  },
  {
   "cell_type": "markdown",
   "id": "27a7a63b",
   "metadata": {
    "papermill": {
     "duration": 0.013303,
     "end_time": "2024-01-14T23:31:17.412340",
     "exception": false,
     "start_time": "2024-01-14T23:31:17.399037",
     "status": "completed"
    },
    "tags": []
   },
   "source": [
    "**To obtain credile data it is necessery to chech for duplictes** "
   ]
  },
  {
   "cell_type": "code",
   "execution_count": 10,
   "id": "bbccf0a4",
   "metadata": {
    "execution": {
     "iopub.execute_input": "2024-01-14T23:31:17.440837Z",
     "iopub.status.busy": "2024-01-14T23:31:17.440431Z",
     "iopub.status.idle": "2024-01-14T23:31:17.459779Z",
     "shell.execute_reply": "2024-01-14T23:31:17.458971Z"
    },
    "papermill": {
     "duration": 0.03611,
     "end_time": "2024-01-14T23:31:17.461898",
     "exception": false,
     "start_time": "2024-01-14T23:31:17.425788",
     "status": "completed"
    },
    "tags": []
   },
   "outputs": [
    {
     "data": {
      "text/plain": [
       "person_age                      57\n",
       "person_income                 3835\n",
       "person_home_ownership            4\n",
       "person_emp_length               36\n",
       "loan_intent                      6\n",
       "loan_grade                       7\n",
       "loan_amnt                      728\n",
       "loan_int_rate                  348\n",
       "loan_status                      2\n",
       "loan_percent_income             77\n",
       "cb_person_default_on_file        2\n",
       "cb_person_cred_hist_length      29\n",
       "dtype: int64"
      ]
     },
     "execution_count": 10,
     "metadata": {},
     "output_type": "execute_result"
    }
   ],
   "source": [
    "data.nunique()"
   ]
  },
  {
   "cell_type": "code",
   "execution_count": 11,
   "id": "5e74e1ed",
   "metadata": {
    "execution": {
     "iopub.execute_input": "2024-01-14T23:31:17.492005Z",
     "iopub.status.busy": "2024-01-14T23:31:17.491598Z",
     "iopub.status.idle": "2024-01-14T23:31:17.512962Z",
     "shell.execute_reply": "2024-01-14T23:31:17.512143Z"
    },
    "papermill": {
     "duration": 0.03851,
     "end_time": "2024-01-14T23:31:17.514972",
     "exception": false,
     "start_time": "2024-01-14T23:31:17.476462",
     "status": "completed"
    },
    "tags": []
   },
   "outputs": [
    {
     "data": {
      "text/plain": [
       "137"
      ]
     },
     "execution_count": 11,
     "metadata": {},
     "output_type": "execute_result"
    }
   ],
   "source": [
    "data.duplicated().sum()"
   ]
  },
  {
   "cell_type": "markdown",
   "id": "c131de41",
   "metadata": {
    "papermill": {
     "duration": 0.013148,
     "end_time": "2024-01-14T23:31:17.541779",
     "exception": false,
     "start_time": "2024-01-14T23:31:17.528631",
     "status": "completed"
    },
    "tags": []
   },
   "source": [
    "# **Looking for outliers and dealing with them**"
   ]
  },
  {
   "cell_type": "code",
   "execution_count": 12,
   "id": "fc6b0081",
   "metadata": {
    "execution": {
     "iopub.execute_input": "2024-01-14T23:31:17.571900Z",
     "iopub.status.busy": "2024-01-14T23:31:17.570968Z",
     "iopub.status.idle": "2024-01-14T23:31:17.581943Z",
     "shell.execute_reply": "2024-01-14T23:31:17.581122Z"
    },
    "papermill": {
     "duration": 0.028143,
     "end_time": "2024-01-14T23:31:17.584092",
     "exception": false,
     "start_time": "2024-01-14T23:31:17.555949",
     "status": "completed"
    },
    "tags": []
   },
   "outputs": [
    {
     "name": "stdout",
     "output_type": "stream",
     "text": [
      "The maximum Age 144\n",
      "The minimum Age 20\n",
      "Peple with age between 1 and 18: 0\n",
      "Peple with age between 19 and 26: 15682\n",
      "Peple with age between 27 and 36: 10422\n",
      "Peple with age between 37 and 46: 2054\n",
      "Peple with age between 47 and 56: 372\n",
      "Peple with age between 57 and 66: 87\n"
     ]
    }
   ],
   "source": [
    "max_age = data['person_age'].max()\n",
    "min_age = data['person_age'].min()\n",
    "print(f\"The maximum Age {max_age}\")\n",
    "print(f\"The minimum Age {min_age}\")\n",
    "\n",
    "# people with an age between x and y\n",
    "def age_group(arr):\n",
    "    lenarr = len(arr)\n",
    "    for i in range(0,lenarr-1):\n",
    "        next = arr[i]+1\n",
    "        num_people = data['person_age'].between(next,arr[i+1]).sum()\n",
    "        print(f'Peple with age between {next} and {arr[i+1]}: {num_people}')\n",
    "        \n",
    "age_group([0 ,18, 26, 36, 46, 56, 66])\n"
   ]
  },
  {
   "cell_type": "code",
   "execution_count": 13,
   "id": "9e9021b4",
   "metadata": {
    "execution": {
     "iopub.execute_input": "2024-01-14T23:31:17.614503Z",
     "iopub.status.busy": "2024-01-14T23:31:17.613848Z",
     "iopub.status.idle": "2024-01-14T23:31:18.003217Z",
     "shell.execute_reply": "2024-01-14T23:31:18.002156Z"
    },
    "papermill": {
     "duration": 0.407416,
     "end_time": "2024-01-14T23:31:18.005574",
     "exception": false,
     "start_time": "2024-01-14T23:31:17.598158",
     "status": "completed"
    },
    "tags": []
   },
   "outputs": [
    {
     "data": {
      "text/plain": [
       "<BarContainer object of 57 artists>"
      ]
     },
     "execution_count": 13,
     "metadata": {},
     "output_type": "execute_result"
    },
    {
     "data": {
      "image/png": "[encoded data removed]",
      "text/plain": [
       "<Figure size 1500x500 with 1 Axes>"
      ]
     },
     "metadata": {},
     "output_type": "display_data"
    }
   ],
   "source": [
    "import matplotlib.pyplot as plt \n",
    "verti = data['person_age'].value_counts().values\n",
    "hori = data['person_age'].value_counts().index\n",
    "fig = plt.figure(figsize = (15, 5))\n",
    "plt.bar(hori, verti)"
   ]
  },
  {
   "cell_type": "code",
   "execution_count": 14,
   "id": "36ffc6a0",
   "metadata": {
    "execution": {
     "iopub.execute_input": "2024-01-14T23:31:18.036193Z",
     "iopub.status.busy": "2024-01-14T23:31:18.035475Z",
     "iopub.status.idle": "2024-01-14T23:31:18.043227Z",
     "shell.execute_reply": "2024-01-14T23:31:18.042087Z"
    },
    "papermill": {
     "duration": 0.025854,
     "end_time": "2024-01-14T23:31:18.045713",
     "exception": false,
     "start_time": "2024-01-14T23:31:18.019859",
     "status": "completed"
    },
    "tags": []
   },
   "outputs": [
    {
     "data": {
      "text/plain": [
       "28"
      ]
     },
     "execution_count": 14,
     "metadata": {},
     "output_type": "execute_result"
    }
   ],
   "source": [
    "(data['person_age'].value_counts().values>60).sum()"
   ]
  },
  {
   "cell_type": "markdown",
   "id": "5f305791",
   "metadata": {
    "papermill": {
     "duration": 0.014004,
     "end_time": "2024-01-14T23:31:18.074263",
     "exception": false,
     "start_time": "2024-01-14T23:31:18.060259",
     "status": "completed"
    },
    "tags": []
   },
   "source": [
    "**The above infromation casts a light on the age feature and shows that ages above 60 are outliers hence  the best way is to remove values with ages above 60**"
   ]
  },
  {
   "cell_type": "code",
   "execution_count": 15,
   "id": "f3e27f7b",
   "metadata": {
    "execution": {
     "iopub.execute_input": "2024-01-14T23:31:18.104204Z",
     "iopub.status.busy": "2024-01-14T23:31:18.103737Z",
     "iopub.status.idle": "2024-01-14T23:31:18.114089Z",
     "shell.execute_reply": "2024-01-14T23:31:18.113022Z"
    },
    "papermill": {
     "duration": 0.028075,
     "end_time": "2024-01-14T23:31:18.116494",
     "exception": false,
     "start_time": "2024-01-14T23:31:18.088419",
     "status": "completed"
    },
    "tags": []
   },
   "outputs": [],
   "source": [
    "data = data.drop(data[data['person_age'] > 60].index, axis=0)"
   ]
  },
  {
   "cell_type": "code",
   "execution_count": 16,
   "id": "f8f961d2",
   "metadata": {
    "execution": {
     "iopub.execute_input": "2024-01-14T23:31:18.153757Z",
     "iopub.status.busy": "2024-01-14T23:31:18.152725Z",
     "iopub.status.idle": "2024-01-14T23:31:18.161314Z",
     "shell.execute_reply": "2024-01-14T23:31:18.160599Z"
    },
    "papermill": {
     "duration": 0.032852,
     "end_time": "2024-01-14T23:31:18.164061",
     "exception": false,
     "start_time": "2024-01-14T23:31:18.131209",
     "status": "completed"
    },
    "tags": []
   },
   "outputs": [],
   "source": [
    "data['age_group'] = pd.cut(data['person_age'],\n",
    "                           bins=[20, 26, 36, 46, 56, 66],\n",
    "                           labels=['20-25', '26-35', '36-45', '46-55', '56-60'])"
   ]
  },
  {
   "cell_type": "code",
   "execution_count": 17,
   "id": "fb463310",
   "metadata": {
    "execution": {
     "iopub.execute_input": "2024-01-14T23:31:18.204367Z",
     "iopub.status.busy": "2024-01-14T23:31:18.203440Z",
     "iopub.status.idle": "2024-01-14T23:31:18.211306Z",
     "shell.execute_reply": "2024-01-14T23:31:18.210367Z"
    },
    "papermill": {
     "duration": 0.027315,
     "end_time": "2024-01-14T23:31:18.213278",
     "exception": false,
     "start_time": "2024-01-14T23:31:18.185963",
     "status": "completed"
    },
    "tags": []
   },
   "outputs": [
    {
     "data": {
      "text/plain": [
       "CategoricalDtype(categories=['20-25', '26-35', '36-45', '46-55', '56-60'], ordered=True)"
      ]
     },
     "execution_count": 17,
     "metadata": {},
     "output_type": "execute_result"
    }
   ],
   "source": [
    "data['age_group'].dtype"
   ]
  },
  {
   "cell_type": "code",
   "execution_count": 18,
   "id": "930c0f7b",
   "metadata": {
    "execution": {
     "iopub.execute_input": "2024-01-14T23:31:18.245548Z",
     "iopub.status.busy": "2024-01-14T23:31:18.244669Z",
     "iopub.status.idle": "2024-01-14T23:31:18.267895Z",
     "shell.execute_reply": "2024-01-14T23:31:18.266892Z"
    },
    "papermill": {
     "duration": 0.041786,
     "end_time": "2024-01-14T23:31:18.270028",
     "exception": false,
     "start_time": "2024-01-14T23:31:18.228242",
     "status": "completed"
    },
    "tags": []
   },
   "outputs": [
    {
     "data": {
      "text/html": [
       "<div>\n",
       "<style scoped>\n",
       "    .dataframe tbody tr th:only-of-type {\n",
       "        vertical-align: middle;\n",
       "    }\n",
       "\n",
       "    .dataframe tbody tr th {\n",
       "        vertical-align: top;\n",
       "    }\n",
       "\n",
       "    .dataframe thead th {\n",
       "        text-align: right;\n",
       "    }\n",
       "</style>\n",
       "<table border=\"1\" class=\"dataframe\">\n",
       "  <thead>\n",
       "    <tr style=\"text-align: right;\">\n",
       "      <th></th>\n",
       "      <th>person_age</th>\n",
       "      <th>person_income</th>\n",
       "      <th>person_home_ownership</th>\n",
       "      <th>person_emp_length</th>\n",
       "      <th>loan_intent</th>\n",
       "      <th>loan_grade</th>\n",
       "      <th>loan_amnt</th>\n",
       "      <th>loan_int_rate</th>\n",
       "      <th>loan_status</th>\n",
       "      <th>loan_percent_income</th>\n",
       "      <th>cb_person_default_on_file</th>\n",
       "      <th>cb_person_cred_hist_length</th>\n",
       "      <th>age_group</th>\n",
       "    </tr>\n",
       "  </thead>\n",
       "  <tbody>\n",
       "    <tr>\n",
       "      <th>0</th>\n",
       "      <td>22</td>\n",
       "      <td>59000</td>\n",
       "      <td>RENT</td>\n",
       "      <td>123.0</td>\n",
       "      <td>PERSONAL</td>\n",
       "      <td>D</td>\n",
       "      <td>35000</td>\n",
       "      <td>16.02</td>\n",
       "      <td>1</td>\n",
       "      <td>0.59</td>\n",
       "      <td>Y</td>\n",
       "      <td>3</td>\n",
       "      <td>20-25</td>\n",
       "    </tr>\n",
       "    <tr>\n",
       "      <th>1</th>\n",
       "      <td>21</td>\n",
       "      <td>9600</td>\n",
       "      <td>OWN</td>\n",
       "      <td>5.0</td>\n",
       "      <td>EDUCATION</td>\n",
       "      <td>B</td>\n",
       "      <td>1000</td>\n",
       "      <td>11.14</td>\n",
       "      <td>0</td>\n",
       "      <td>0.10</td>\n",
       "      <td>N</td>\n",
       "      <td>2</td>\n",
       "      <td>20-25</td>\n",
       "    </tr>\n",
       "    <tr>\n",
       "      <th>2</th>\n",
       "      <td>25</td>\n",
       "      <td>9600</td>\n",
       "      <td>MORTGAGE</td>\n",
       "      <td>1.0</td>\n",
       "      <td>MEDICAL</td>\n",
       "      <td>C</td>\n",
       "      <td>5500</td>\n",
       "      <td>12.87</td>\n",
       "      <td>1</td>\n",
       "      <td>0.57</td>\n",
       "      <td>N</td>\n",
       "      <td>3</td>\n",
       "      <td>20-25</td>\n",
       "    </tr>\n",
       "    <tr>\n",
       "      <th>3</th>\n",
       "      <td>23</td>\n",
       "      <td>65500</td>\n",
       "      <td>RENT</td>\n",
       "      <td>4.0</td>\n",
       "      <td>MEDICAL</td>\n",
       "      <td>C</td>\n",
       "      <td>35000</td>\n",
       "      <td>15.23</td>\n",
       "      <td>1</td>\n",
       "      <td>0.53</td>\n",
       "      <td>N</td>\n",
       "      <td>2</td>\n",
       "      <td>20-25</td>\n",
       "    </tr>\n",
       "    <tr>\n",
       "      <th>4</th>\n",
       "      <td>24</td>\n",
       "      <td>54400</td>\n",
       "      <td>RENT</td>\n",
       "      <td>8.0</td>\n",
       "      <td>MEDICAL</td>\n",
       "      <td>C</td>\n",
       "      <td>35000</td>\n",
       "      <td>14.27</td>\n",
       "      <td>1</td>\n",
       "      <td>0.55</td>\n",
       "      <td>Y</td>\n",
       "      <td>4</td>\n",
       "      <td>20-25</td>\n",
       "    </tr>\n",
       "  </tbody>\n",
       "</table>\n",
       "</div>"
      ],
      "text/plain": [
       "   person_age  person_income person_home_ownership  person_emp_length  \\\n",
       "0          22          59000                  RENT              123.0   \n",
       "1          21           9600                   OWN                5.0   \n",
       "2          25           9600              MORTGAGE                1.0   \n",
       "3          23          65500                  RENT                4.0   \n",
       "4          24          54400                  RENT                8.0   \n",
       "\n",
       "  loan_intent loan_grade  loan_amnt  loan_int_rate  loan_status  \\\n",
       "0    PERSONAL          D      35000          16.02            1   \n",
       "1   EDUCATION          B       1000          11.14            0   \n",
       "2     MEDICAL          C       5500          12.87            1   \n",
       "3     MEDICAL          C      35000          15.23            1   \n",
       "4     MEDICAL          C      35000          14.27            1   \n",
       "\n",
       "   loan_percent_income cb_person_default_on_file  cb_person_cred_hist_length  \\\n",
       "0                 0.59                         Y                           3   \n",
       "1                 0.10                         N                           2   \n",
       "2                 0.57                         N                           3   \n",
       "3                 0.53                         N                           2   \n",
       "4                 0.55                         Y                           4   \n",
       "\n",
       "  age_group  \n",
       "0     20-25  \n",
       "1     20-25  \n",
       "2     20-25  \n",
       "3     20-25  \n",
       "4     20-25  "
      ]
     },
     "execution_count": 18,
     "metadata": {},
     "output_type": "execute_result"
    }
   ],
   "source": [
    "data.head()"
   ]
  },
  {
   "cell_type": "markdown",
   "id": "1d1e1264",
   "metadata": {
    "papermill": {
     "duration": 0.016281,
     "end_time": "2024-01-14T23:31:18.301328",
     "exception": false,
     "start_time": "2024-01-14T23:31:18.285047",
     "status": "completed"
    },
    "tags": []
   },
   "source": [
    "**The next feature is the income field**"
   ]
  },
  {
   "cell_type": "code",
   "execution_count": 19,
   "id": "6687f675",
   "metadata": {
    "execution": {
     "iopub.execute_input": "2024-01-14T23:31:18.337380Z",
     "iopub.status.busy": "2024-01-14T23:31:18.336888Z",
     "iopub.status.idle": "2024-01-14T23:31:18.349308Z",
     "shell.execute_reply": "2024-01-14T23:31:18.348339Z"
    },
    "papermill": {
     "duration": 0.03557,
     "end_time": "2024-01-14T23:31:18.351940",
     "exception": false,
     "start_time": "2024-01-14T23:31:18.316370",
     "status": "completed"
    },
    "tags": []
   },
   "outputs": [
    {
     "name": "stdout",
     "output_type": "stream",
     "text": [
      "The largest Income is 2039784\n",
      "The smallest Income is  4000\n",
      "Income between 1 and 25000: Number of people 1967\n",
      "Income between 25001 and 50000: Number of people 10181\n",
      "Income between 50001 and 75000: Number of people 8522\n",
      "Income between 75001 and 100000: Number of people 4187\n",
      "Income between 100001 and inf: Number of people 3723\n"
     ]
    }
   ],
   "source": [
    "max_income = data['person_income'].max()\n",
    "min_income = data['person_income'].min()\n",
    "\n",
    "print(f\"The largest Income is {max_income}\")\n",
    "print(f\"The smallest Income is  {min_income}\")\n",
    "\n",
    "#people with an income between x and y\n",
    "def income_group(arr):\n",
    "    lenarr = len(arr)\n",
    "    for i in range(0,lenarr-1):\n",
    "        next = arr[i]+1\n",
    "        num_people = data['person_income'].between(next,arr[i+1]).sum()\n",
    "        print(f'Income between {next} and {arr[i+1]}: Number of people {num_people}')\n",
    "        \n",
    "income_group([0, 25000, 50000, 75000, 100000,float('inf')])"
   ]
  },
  {
   "cell_type": "code",
   "execution_count": 20,
   "id": "357bda3e",
   "metadata": {
    "execution": {
     "iopub.execute_input": "2024-01-14T23:31:18.388836Z",
     "iopub.status.busy": "2024-01-14T23:31:18.388169Z",
     "iopub.status.idle": "2024-01-14T23:31:18.396693Z",
     "shell.execute_reply": "2024-01-14T23:31:18.395594Z"
    },
    "papermill": {
     "duration": 0.029266,
     "end_time": "2024-01-14T23:31:18.399687",
     "exception": false,
     "start_time": "2024-01-14T23:31:18.370421",
     "status": "completed"
    },
    "tags": []
   },
   "outputs": [],
   "source": [
    "data['income_group'] = pd.cut(data['person_income'],\n",
    "                              bins=[0, 25000, 50000, 75000, 100000, float('inf')],\n",
    "                              labels=['low', 'low-middle', 'middle', 'high-middle', 'high'])\n"
   ]
  },
  {
   "cell_type": "code",
   "execution_count": 21,
   "id": "4dc37926",
   "metadata": {
    "execution": {
     "iopub.execute_input": "2024-01-14T23:31:18.447384Z",
     "iopub.status.busy": "2024-01-14T23:31:18.446370Z",
     "iopub.status.idle": "2024-01-14T23:31:18.455942Z",
     "shell.execute_reply": "2024-01-14T23:31:18.455169Z"
    },
    "papermill": {
     "duration": 0.036155,
     "end_time": "2024-01-14T23:31:18.458368",
     "exception": false,
     "start_time": "2024-01-14T23:31:18.422213",
     "status": "completed"
    },
    "tags": []
   },
   "outputs": [
    {
     "data": {
      "text/plain": [
       "0        middle\n",
       "1           low\n",
       "2           low\n",
       "3        middle\n",
       "4        middle\n",
       "          ...  \n",
       "32574    middle\n",
       "32575    middle\n",
       "32576    middle\n",
       "32577      high\n",
       "32579      high\n",
       "Name: income_group, Length: 28580, dtype: category\n",
       "Categories (5, object): ['low' < 'low-middle' < 'middle' < 'high-middle' < 'high']"
      ]
     },
     "execution_count": 21,
     "metadata": {},
     "output_type": "execute_result"
    }
   ],
   "source": [
    "data['income_group']"
   ]
  },
  {
   "cell_type": "markdown",
   "id": "332d72c1",
   "metadata": {
    "papermill": {
     "duration": 0.014735,
     "end_time": "2024-01-14T23:31:18.492163",
     "exception": false,
     "start_time": "2024-01-14T23:31:18.477428",
     "status": "completed"
    },
    "tags": []
   },
   "source": [
    "**Checking and dealing with the loan ammount feature**"
   ]
  },
  {
   "cell_type": "code",
   "execution_count": 22,
   "id": "f0922b09",
   "metadata": {
    "execution": {
     "iopub.execute_input": "2024-01-14T23:31:18.527729Z",
     "iopub.status.busy": "2024-01-14T23:31:18.526835Z",
     "iopub.status.idle": "2024-01-14T23:31:18.540517Z",
     "shell.execute_reply": "2024-01-14T23:31:18.539454Z"
    },
    "papermill": {
     "duration": 0.035916,
     "end_time": "2024-01-14T23:31:18.542968",
     "exception": false,
     "start_time": "2024-01-14T23:31:18.507052",
     "status": "completed"
    },
    "tags": []
   },
   "outputs": [
    {
     "name": "stdout",
     "output_type": "stream",
     "text": [
      "maximum Loan Amount 35000\n",
      "minimum Loan Amount 500\n",
      "Loan Amount between 1 and 5000: Number of people 8170\n",
      "Loan Amount between 5001 and 10000: Number of people 10592\n",
      "Loan Amount between 10001 and 15000: Number of people 5421\n",
      "Loan Amount between 15001 and inf: Number of people 4397\n"
     ]
    }
   ],
   "source": [
    "max_loan_amount = data['loan_amnt'].max()\n",
    "min_loan_amount = data['loan_amnt'].min()\n",
    "\n",
    "print(f\"maximum Loan Amount {max_loan_amount}\")\n",
    "print(f\"minimum Loan Amount {min_loan_amount}\")\n",
    "\n",
    "# people with an income between x and y\n",
    "def loan_amount_group(arr):\n",
    "    lenarr = len(arr)\n",
    "    for i in range(0,lenarr-1):\n",
    "        next = arr[i]+1\n",
    "        num_people = data['loan_amnt'].between(next,arr[i+1]).sum()\n",
    "        print(f'Loan Amount between {next} and {arr[i+1]}: Number of people {num_people}')\n",
    "        \n",
    "loan_amount_group([0, 5000, 10000, 15000, float('inf')])"
   ]
  },
  {
   "cell_type": "code",
   "execution_count": 23,
   "id": "37817a16",
   "metadata": {
    "execution": {
     "iopub.execute_input": "2024-01-14T23:31:18.574754Z",
     "iopub.status.busy": "2024-01-14T23:31:18.573995Z",
     "iopub.status.idle": "2024-01-14T23:31:18.582446Z",
     "shell.execute_reply": "2024-01-14T23:31:18.581621Z"
    },
    "papermill": {
     "duration": 0.026661,
     "end_time": "2024-01-14T23:31:18.584724",
     "exception": false,
     "start_time": "2024-01-14T23:31:18.558063",
     "status": "completed"
    },
    "tags": []
   },
   "outputs": [],
   "source": [
    "data['loan_amount_group'] = pd.cut(data['loan_amnt'],\n",
    "                                   bins=[0, 5000, 10000, 15000, float('inf')],\n",
    "                                   labels=['small', 'medium', 'large', 'very large'])"
   ]
  },
  {
   "cell_type": "code",
   "execution_count": 24,
   "id": "3d3cf91b",
   "metadata": {
    "execution": {
     "iopub.execute_input": "2024-01-14T23:31:18.622267Z",
     "iopub.status.busy": "2024-01-14T23:31:18.621858Z",
     "iopub.status.idle": "2024-01-14T23:31:18.631835Z",
     "shell.execute_reply": "2024-01-14T23:31:18.631042Z"
    },
    "papermill": {
     "duration": 0.032286,
     "end_time": "2024-01-14T23:31:18.634299",
     "exception": false,
     "start_time": "2024-01-14T23:31:18.602013",
     "status": "completed"
    },
    "tags": []
   },
   "outputs": [
    {
     "data": {
      "text/plain": [
       "0        very large\n",
       "1             small\n",
       "2            medium\n",
       "3        very large\n",
       "4        very large\n",
       "            ...    \n",
       "32574    very large\n",
       "32575         small\n",
       "32576        medium\n",
       "32577    very large\n",
       "32579         large\n",
       "Name: loan_amount_group, Length: 28580, dtype: category\n",
       "Categories (4, object): ['small' < 'medium' < 'large' < 'very large']"
      ]
     },
     "execution_count": 24,
     "metadata": {},
     "output_type": "execute_result"
    }
   ],
   "source": [
    "data['loan_amount_group']"
   ]
  },
  {
   "cell_type": "code",
   "execution_count": 25,
   "id": "084ebdfd",
   "metadata": {
    "execution": {
     "iopub.execute_input": "2024-01-14T23:31:18.672301Z",
     "iopub.status.busy": "2024-01-14T23:31:18.671101Z",
     "iopub.status.idle": "2024-01-14T23:31:18.684107Z",
     "shell.execute_reply": "2024-01-14T23:31:18.683007Z"
    },
    "papermill": {
     "duration": 0.032404,
     "end_time": "2024-01-14T23:31:18.686379",
     "exception": false,
     "start_time": "2024-01-14T23:31:18.653975",
     "status": "completed"
    },
    "tags": []
   },
   "outputs": [
    {
     "data": {
      "text/plain": [
       "person_home_ownership\n",
       "RENT        14515\n",
       "MORTGAGE    11779\n",
       "OWN          2192\n",
       "OTHER          94\n",
       "Name: count, dtype: int64"
      ]
     },
     "execution_count": 25,
     "metadata": {},
     "output_type": "execute_result"
    }
   ],
   "source": [
    "data['person_home_ownership'].value_counts()"
   ]
  },
  {
   "cell_type": "code",
   "execution_count": 26,
   "id": "3b118529",
   "metadata": {
    "execution": {
     "iopub.execute_input": "2024-01-14T23:31:18.718617Z",
     "iopub.status.busy": "2024-01-14T23:31:18.718222Z",
     "iopub.status.idle": "2024-01-14T23:31:18.737639Z",
     "shell.execute_reply": "2024-01-14T23:31:18.736604Z"
    },
    "papermill": {
     "duration": 0.038078,
     "end_time": "2024-01-14T23:31:18.739691",
     "exception": false,
     "start_time": "2024-01-14T23:31:18.701613",
     "status": "completed"
    },
    "tags": []
   },
   "outputs": [
    {
     "data": {
      "text/html": [
       "<div>\n",
       "<style scoped>\n",
       "    .dataframe tbody tr th:only-of-type {\n",
       "        vertical-align: middle;\n",
       "    }\n",
       "\n",
       "    .dataframe tbody tr th {\n",
       "        vertical-align: top;\n",
       "    }\n",
       "\n",
       "    .dataframe thead th {\n",
       "        text-align: right;\n",
       "    }\n",
       "</style>\n",
       "<table border=\"1\" class=\"dataframe\">\n",
       "  <thead>\n",
       "    <tr style=\"text-align: right;\">\n",
       "      <th></th>\n",
       "      <th>person_age</th>\n",
       "      <th>person_income</th>\n",
       "      <th>person_home_ownership</th>\n",
       "      <th>person_emp_length</th>\n",
       "      <th>loan_intent</th>\n",
       "      <th>loan_grade</th>\n",
       "      <th>loan_amnt</th>\n",
       "      <th>loan_int_rate</th>\n",
       "      <th>loan_status</th>\n",
       "      <th>loan_percent_income</th>\n",
       "      <th>cb_person_default_on_file</th>\n",
       "      <th>cb_person_cred_hist_length</th>\n",
       "      <th>age_group</th>\n",
       "      <th>income_group</th>\n",
       "      <th>loan_amount_group</th>\n",
       "    </tr>\n",
       "  </thead>\n",
       "  <tbody>\n",
       "    <tr>\n",
       "      <th>0</th>\n",
       "      <td>22</td>\n",
       "      <td>59000</td>\n",
       "      <td>RENT</td>\n",
       "      <td>123.0</td>\n",
       "      <td>PERSONAL</td>\n",
       "      <td>D</td>\n",
       "      <td>35000</td>\n",
       "      <td>16.02</td>\n",
       "      <td>1</td>\n",
       "      <td>0.59</td>\n",
       "      <td>Y</td>\n",
       "      <td>3</td>\n",
       "      <td>20-25</td>\n",
       "      <td>middle</td>\n",
       "      <td>very large</td>\n",
       "    </tr>\n",
       "    <tr>\n",
       "      <th>1</th>\n",
       "      <td>21</td>\n",
       "      <td>9600</td>\n",
       "      <td>OWN</td>\n",
       "      <td>5.0</td>\n",
       "      <td>EDUCATION</td>\n",
       "      <td>B</td>\n",
       "      <td>1000</td>\n",
       "      <td>11.14</td>\n",
       "      <td>0</td>\n",
       "      <td>0.10</td>\n",
       "      <td>N</td>\n",
       "      <td>2</td>\n",
       "      <td>20-25</td>\n",
       "      <td>low</td>\n",
       "      <td>small</td>\n",
       "    </tr>\n",
       "    <tr>\n",
       "      <th>2</th>\n",
       "      <td>25</td>\n",
       "      <td>9600</td>\n",
       "      <td>MORTGAGE</td>\n",
       "      <td>1.0</td>\n",
       "      <td>MEDICAL</td>\n",
       "      <td>C</td>\n",
       "      <td>5500</td>\n",
       "      <td>12.87</td>\n",
       "      <td>1</td>\n",
       "      <td>0.57</td>\n",
       "      <td>N</td>\n",
       "      <td>3</td>\n",
       "      <td>20-25</td>\n",
       "      <td>low</td>\n",
       "      <td>medium</td>\n",
       "    </tr>\n",
       "    <tr>\n",
       "      <th>3</th>\n",
       "      <td>23</td>\n",
       "      <td>65500</td>\n",
       "      <td>RENT</td>\n",
       "      <td>4.0</td>\n",
       "      <td>MEDICAL</td>\n",
       "      <td>C</td>\n",
       "      <td>35000</td>\n",
       "      <td>15.23</td>\n",
       "      <td>1</td>\n",
       "      <td>0.53</td>\n",
       "      <td>N</td>\n",
       "      <td>2</td>\n",
       "      <td>20-25</td>\n",
       "      <td>middle</td>\n",
       "      <td>very large</td>\n",
       "    </tr>\n",
       "    <tr>\n",
       "      <th>4</th>\n",
       "      <td>24</td>\n",
       "      <td>54400</td>\n",
       "      <td>RENT</td>\n",
       "      <td>8.0</td>\n",
       "      <td>MEDICAL</td>\n",
       "      <td>C</td>\n",
       "      <td>35000</td>\n",
       "      <td>14.27</td>\n",
       "      <td>1</td>\n",
       "      <td>0.55</td>\n",
       "      <td>Y</td>\n",
       "      <td>4</td>\n",
       "      <td>20-25</td>\n",
       "      <td>middle</td>\n",
       "      <td>very large</td>\n",
       "    </tr>\n",
       "  </tbody>\n",
       "</table>\n",
       "</div>"
      ],
      "text/plain": [
       "   person_age  person_income person_home_ownership  person_emp_length  \\\n",
       "0          22          59000                  RENT              123.0   \n",
       "1          21           9600                   OWN                5.0   \n",
       "2          25           9600              MORTGAGE                1.0   \n",
       "3          23          65500                  RENT                4.0   \n",
       "4          24          54400                  RENT                8.0   \n",
       "\n",
       "  loan_intent loan_grade  loan_amnt  loan_int_rate  loan_status  \\\n",
       "0    PERSONAL          D      35000          16.02            1   \n",
       "1   EDUCATION          B       1000          11.14            0   \n",
       "2     MEDICAL          C       5500          12.87            1   \n",
       "3     MEDICAL          C      35000          15.23            1   \n",
       "4     MEDICAL          C      35000          14.27            1   \n",
       "\n",
       "   loan_percent_income cb_person_default_on_file  cb_person_cred_hist_length  \\\n",
       "0                 0.59                         Y                           3   \n",
       "1                 0.10                         N                           2   \n",
       "2                 0.57                         N                           3   \n",
       "3                 0.53                         N                           2   \n",
       "4                 0.55                         Y                           4   \n",
       "\n",
       "  age_group income_group loan_amount_group  \n",
       "0     20-25       middle        very large  \n",
       "1     20-25          low             small  \n",
       "2     20-25          low            medium  \n",
       "3     20-25       middle        very large  \n",
       "4     20-25       middle        very large  "
      ]
     },
     "execution_count": 26,
     "metadata": {},
     "output_type": "execute_result"
    }
   ],
   "source": [
    "data.head()"
   ]
  },
  {
   "cell_type": "code",
   "execution_count": 27,
   "id": "5da297cc",
   "metadata": {
    "execution": {
     "iopub.execute_input": "2024-01-14T23:31:18.772776Z",
     "iopub.status.busy": "2024-01-14T23:31:18.772105Z",
     "iopub.status.idle": "2024-01-14T23:31:18.778458Z",
     "shell.execute_reply": "2024-01-14T23:31:18.777423Z"
    },
    "papermill": {
     "duration": 0.025631,
     "end_time": "2024-01-14T23:31:18.780818",
     "exception": false,
     "start_time": "2024-01-14T23:31:18.755187",
     "status": "completed"
    },
    "tags": []
   },
   "outputs": [],
   "source": [
    "raw_data = data.copy()"
   ]
  },
  {
   "cell_type": "code",
   "execution_count": 28,
   "id": "bc4cd073",
   "metadata": {
    "execution": {
     "iopub.execute_input": "2024-01-14T23:31:18.814441Z",
     "iopub.status.busy": "2024-01-14T23:31:18.813956Z",
     "iopub.status.idle": "2024-01-14T23:31:18.821693Z",
     "shell.execute_reply": "2024-01-14T23:31:18.820567Z"
    },
    "papermill": {
     "duration": 0.027138,
     "end_time": "2024-01-14T23:31:18.823810",
     "exception": false,
     "start_time": "2024-01-14T23:31:18.796672",
     "status": "completed"
    },
    "tags": []
   },
   "outputs": [],
   "source": [
    "col_list = ['person_age',#\n",
    " 'person_income',#\n",
    " 'person_home_ownership',#\n",
    " 'person_emp_length',#\n",
    " 'loan_intent', #\n",
    " 'loan_grade',#\n",
    " 'loan_amnt',#\n",
    " 'loan_int_rate',#\n",
    " 'loan_status',#\n",
    " 'loan_percent_income',#\n",
    " 'cb_person_default_on_file',#\n",
    " 'cb_person_cred_hist_length',\n",
    "'age_group','income_group','loan_amount_group']\n",
    "\n",
    "drop_colums = []\n",
    "scale_cols = ['person_income','person_age','person_emp_length', 'loan_amnt','loan_int_rate','cb_person_cred_hist_length','loan_percent_income','loan_to_income_ratio', 'loan_to_emp_length_ratio',\n",
    "       'int_rate_to_loan_amt_ratio']\n",
    "enc_colums = ['cb_person_default_on_file','loan_grade', 'person_home_ownership','loan_intent','income_group','age_group','loan_amount_group']\n",
    "le_colums = []"
   ]
  },
  {
   "cell_type": "markdown",
   "id": "050560fe",
   "metadata": {
    "papermill": {
     "duration": 0.015422,
     "end_time": "2024-01-14T23:31:18.854930",
     "exception": false,
     "start_time": "2024-01-14T23:31:18.839508",
     "status": "completed"
    },
    "tags": []
   },
   "source": [
    "# **Data Preprocessing**"
   ]
  },
  {
   "cell_type": "code",
   "execution_count": 29,
   "id": "8a5c421f",
   "metadata": {
    "execution": {
     "iopub.execute_input": "2024-01-14T23:31:18.889648Z",
     "iopub.status.busy": "2024-01-14T23:31:18.888787Z",
     "iopub.status.idle": "2024-01-14T23:31:18.899545Z",
     "shell.execute_reply": "2024-01-14T23:31:18.898467Z"
    },
    "papermill": {
     "duration": 0.030558,
     "end_time": "2024-01-14T23:31:18.901835",
     "exception": false,
     "start_time": "2024-01-14T23:31:18.871277",
     "status": "completed"
    },
    "tags": []
   },
   "outputs": [],
   "source": [
    "X = data.drop(['loan_status'], axis=1)\n",
    "Y = data['loan_status']"
   ]
  },
  {
   "cell_type": "code",
   "execution_count": 30,
   "id": "f482dd2f",
   "metadata": {
    "execution": {
     "iopub.execute_input": "2024-01-14T23:31:18.935116Z",
     "iopub.status.busy": "2024-01-14T23:31:18.934625Z",
     "iopub.status.idle": "2024-01-14T23:31:20.341272Z",
     "shell.execute_reply": "2024-01-14T23:31:20.340288Z"
    },
    "papermill": {
     "duration": 1.426171,
     "end_time": "2024-01-14T23:31:20.343842",
     "exception": false,
     "start_time": "2024-01-14T23:31:18.917671",
     "status": "completed"
    },
    "tags": []
   },
   "outputs": [],
   "source": [
    "from sklearn.model_selection import train_test_split\n",
    "x_train, x_test, y_train, y_test = train_test_split(X,Y,test_size=0.2,random_state=12)"
   ]
  },
  {
   "cell_type": "code",
   "execution_count": 31,
   "id": "a0e7ec7b",
   "metadata": {
    "execution": {
     "iopub.execute_input": "2024-01-14T23:31:20.376251Z",
     "iopub.status.busy": "2024-01-14T23:31:20.375802Z",
     "iopub.status.idle": "2024-01-14T23:31:20.381375Z",
     "shell.execute_reply": "2024-01-14T23:31:20.380050Z"
    },
    "papermill": {
     "duration": 0.025281,
     "end_time": "2024-01-14T23:31:20.384596",
     "exception": false,
     "start_time": "2024-01-14T23:31:20.359315",
     "status": "completed"
    },
    "tags": []
   },
   "outputs": [
    {
     "name": "stdout",
     "output_type": "stream",
     "text": [
      "(22864, 14) (5716, 14)\n"
     ]
    }
   ],
   "source": [
    "print(x_train.shape,x_test.shape)"
   ]
  },
  {
   "cell_type": "code",
   "execution_count": 32,
   "id": "efbbb9d4",
   "metadata": {
    "execution": {
     "iopub.execute_input": "2024-01-14T23:31:20.419607Z",
     "iopub.status.busy": "2024-01-14T23:31:20.418929Z",
     "iopub.status.idle": "2024-01-14T23:31:20.424739Z",
     "shell.execute_reply": "2024-01-14T23:31:20.423942Z"
    },
    "papermill": {
     "duration": 0.025922,
     "end_time": "2024-01-14T23:31:20.426783",
     "exception": false,
     "start_time": "2024-01-14T23:31:20.400861",
     "status": "completed"
    },
    "tags": []
   },
   "outputs": [],
   "source": [
    "x_train.reset_index(inplace = True)\n",
    "x_test.reset_index(inplace = True)"
   ]
  },
  {
   "cell_type": "code",
   "execution_count": 33,
   "id": "c8bf9302",
   "metadata": {
    "execution": {
     "iopub.execute_input": "2024-01-14T23:31:20.459697Z",
     "iopub.status.busy": "2024-01-14T23:31:20.459054Z",
     "iopub.status.idle": "2024-01-14T23:31:20.465512Z",
     "shell.execute_reply": "2024-01-14T23:31:20.464582Z"
    },
    "papermill": {
     "duration": 0.02534,
     "end_time": "2024-01-14T23:31:20.467400",
     "exception": false,
     "start_time": "2024-01-14T23:31:20.442060",
     "status": "completed"
    },
    "tags": []
   },
   "outputs": [
    {
     "data": {
      "text/plain": [
       "Index(['index', 'person_age', 'person_income', 'person_home_ownership',\n",
       "       'person_emp_length', 'loan_intent', 'loan_grade', 'loan_amnt',\n",
       "       'loan_int_rate', 'loan_percent_income', 'cb_person_default_on_file',\n",
       "       'cb_person_cred_hist_length', 'age_group', 'income_group',\n",
       "       'loan_amount_group'],\n",
       "      dtype='object')"
      ]
     },
     "execution_count": 33,
     "metadata": {},
     "output_type": "execute_result"
    }
   ],
   "source": [
    "x_train.columns"
   ]
  },
  {
   "cell_type": "code",
   "execution_count": 34,
   "id": "a986fa96",
   "metadata": {
    "execution": {
     "iopub.execute_input": "2024-01-14T23:31:20.500660Z",
     "iopub.status.busy": "2024-01-14T23:31:20.500061Z",
     "iopub.status.idle": "2024-01-14T23:31:20.518207Z",
     "shell.execute_reply": "2024-01-14T23:31:20.517213Z"
    },
    "papermill": {
     "duration": 0.037599,
     "end_time": "2024-01-14T23:31:20.520714",
     "exception": false,
     "start_time": "2024-01-14T23:31:20.483115",
     "status": "completed"
    },
    "tags": []
   },
   "outputs": [
    {
     "data": {
      "text/html": [
       "<style>#sk-container-id-1 {color: black;background-color: white;}#sk-container-id-1 pre{padding: 0;}#sk-container-id-1 div.sk-toggleable {background-color: white;}#sk-container-id-1 label.sk-toggleable__label {cursor: pointer;display: block;width: 100%;margin-bottom: 0;padding: 0.3em;box-sizing: border-box;text-align: center;}#sk-container-id-1 label.sk-toggleable__label-arrow:before {content: \"▸\";float: left;margin-right: 0.25em;color: #696969;}#sk-container-id-1 label.sk-toggleable__label-arrow:hover:before {color: black;}#sk-container-id-1 div.sk-estimator:hover label.sk-toggleable__label-arrow:before {color: black;}#sk-container-id-1 div.sk-toggleable__content {max-height: 0;max-width: 0;overflow: hidden;text-align: left;background-color: #f0f8ff;}#sk-container-id-1 div.sk-toggleable__content pre {margin: 0.2em;color: black;border-radius: 0.25em;background-color: #f0f8ff;}#sk-container-id-1 input.sk-toggleable__control:checked~div.sk-toggleable__content {max-height: 200px;max-width: 100%;overflow: auto;}#sk-container-id-1 input.sk-toggleable__control:checked~label.sk-toggleable__label-arrow:before {content: \"▾\";}#sk-container-id-1 div.sk-estimator input.sk-toggleable__control:checked~label.sk-toggleable__label {background-color: #d4ebff;}#sk-container-id-1 div.sk-label input.sk-toggleable__control:checked~label.sk-toggleable__label {background-color: #d4ebff;}#sk-container-id-1 input.sk-hidden--visually {border: 0;clip: rect(1px 1px 1px 1px);clip: rect(1px, 1px, 1px, 1px);height: 1px;margin: -1px;overflow: hidden;padding: 0;position: absolute;width: 1px;}#sk-container-id-1 div.sk-estimator {font-family: monospace;background-color: #f0f8ff;border: 1px dotted black;border-radius: 0.25em;box-sizing: border-box;margin-bottom: 0.5em;}#sk-container-id-1 div.sk-estimator:hover {background-color: #d4ebff;}#sk-container-id-1 div.sk-parallel-item::after {content: \"\";width: 100%;border-bottom: 1px solid gray;flex-grow: 1;}#sk-container-id-1 div.sk-label:hover label.sk-toggleable__label {background-color: #d4ebff;}#sk-container-id-1 div.sk-serial::before {content: \"\";position: absolute;border-left: 1px solid gray;box-sizing: border-box;top: 0;bottom: 0;left: 50%;z-index: 0;}#sk-container-id-1 div.sk-serial {display: flex;flex-direction: column;align-items: center;background-color: white;padding-right: 0.2em;padding-left: 0.2em;position: relative;}#sk-container-id-1 div.sk-item {position: relative;z-index: 1;}#sk-container-id-1 div.sk-parallel {display: flex;align-items: stretch;justify-content: center;background-color: white;position: relative;}#sk-container-id-1 div.sk-item::before, #sk-container-id-1 div.sk-parallel-item::before {content: \"\";position: absolute;border-left: 1px solid gray;box-sizing: border-box;top: 0;bottom: 0;left: 50%;z-index: -1;}#sk-container-id-1 div.sk-parallel-item {display: flex;flex-direction: column;z-index: 1;position: relative;background-color: white;}#sk-container-id-1 div.sk-parallel-item:first-child::after {align-self: flex-end;width: 50%;}#sk-container-id-1 div.sk-parallel-item:last-child::after {align-self: flex-start;width: 50%;}#sk-container-id-1 div.sk-parallel-item:only-child::after {width: 0;}#sk-container-id-1 div.sk-dashed-wrapped {border: 1px dashed gray;margin: 0 0.4em 0.5em 0.4em;box-sizing: border-box;padding-bottom: 0.4em;background-color: white;}#sk-container-id-1 div.sk-label label {font-family: monospace;font-weight: bold;display: inline-block;line-height: 1.2em;}#sk-container-id-1 div.sk-label-container {text-align: center;}#sk-container-id-1 div.sk-container {/* jupyter's `normalize.less` sets `[hidden] { display: none; }` but bootstrap.min.css set `[hidden] { display: none !important; }` so we also need the `!important` here to be able to override the default hidden behavior on the sphinx rendered scikit-learn.org. See: https://github.com/scikit-learn/scikit-learn/issues/21755 */display: inline-block !important;position: relative;}#sk-container-id-1 div.sk-text-repr-fallback {display: none;}</style><div id=\"sk-container-id-1\" class=\"sk-top-container\"><div class=\"sk-text-repr-fallback\"><pre>OneHotEncoder()</pre><b>In a Jupyter environment, please rerun this cell to show the HTML representation or trust the notebook. <br />On GitHub, the HTML representation is unable to render, please try loading this page with nbviewer.org.</b></div><div class=\"sk-container\" hidden><div class=\"sk-item\"><div class=\"sk-estimator sk-toggleable\"><input class=\"sk-toggleable__control sk-hidden--visually\" id=\"sk-estimator-id-1\" type=\"checkbox\" checked><label for=\"sk-estimator-id-1\" class=\"sk-toggleable__label sk-toggleable__label-arrow\">OneHotEncoder</label><div class=\"sk-toggleable__content\"><pre>OneHotEncoder()</pre></div></div></div></div></div>"
      ],
      "text/plain": [
       "OneHotEncoder()"
      ]
     },
     "execution_count": 34,
     "metadata": {},
     "output_type": "execute_result"
    }
   ],
   "source": [
    "from sklearn.preprocessing import OneHotEncoder\n",
    "enc = OneHotEncoder()\n",
    "enc.fit(x_train[enc_colums])"
   ]
  },
  {
   "cell_type": "code",
   "execution_count": 35,
   "id": "325a6870",
   "metadata": {
    "execution": {
     "iopub.execute_input": "2024-01-14T23:31:20.554495Z",
     "iopub.status.busy": "2024-01-14T23:31:20.554107Z",
     "iopub.status.idle": "2024-01-14T23:31:20.560889Z",
     "shell.execute_reply": "2024-01-14T23:31:20.559845Z"
    },
    "papermill": {
     "duration": 0.026488,
     "end_time": "2024-01-14T23:31:20.563246",
     "exception": false,
     "start_time": "2024-01-14T23:31:20.536758",
     "status": "completed"
    },
    "tags": []
   },
   "outputs": [
    {
     "data": {
      "text/plain": [
       "[array(['N', 'Y'], dtype=object),\n",
       " array(['A', 'B', 'C', 'D', 'E', 'F', 'G'], dtype=object),\n",
       " array(['MORTGAGE', 'OTHER', 'OWN', 'RENT'], dtype=object),\n",
       " array(['DEBTCONSOLIDATION', 'EDUCATION', 'HOMEIMPROVEMENT', 'MEDICAL',\n",
       "        'PERSONAL', 'VENTURE'], dtype=object),\n",
       " array(['high', 'high-middle', 'low', 'low-middle', 'middle'], dtype=object),\n",
       " array(['20-25', '26-35', '36-45', '46-55', '56-60', nan], dtype=object),\n",
       " array(['large', 'medium', 'small', 'very large'], dtype=object)]"
      ]
     },
     "execution_count": 35,
     "metadata": {},
     "output_type": "execute_result"
    }
   ],
   "source": [
    "enc.categories_"
   ]
  },
  {
   "cell_type": "code",
   "execution_count": 36,
   "id": "7d0867fb",
   "metadata": {
    "execution": {
     "iopub.execute_input": "2024-01-14T23:31:20.597839Z",
     "iopub.status.busy": "2024-01-14T23:31:20.597424Z",
     "iopub.status.idle": "2024-01-14T23:31:20.602758Z",
     "shell.execute_reply": "2024-01-14T23:31:20.601749Z"
    },
    "papermill": {
     "duration": 0.025143,
     "end_time": "2024-01-14T23:31:20.604839",
     "exception": false,
     "start_time": "2024-01-14T23:31:20.579696",
     "status": "completed"
    },
    "tags": []
   },
   "outputs": [],
   "source": [
    "merge_enc_col = np.concatenate((enc.categories_[0], \n",
    "                enc.categories_[1],\n",
    "                enc.categories_[2],\n",
    "                enc.categories_[3],\n",
    "                enc.categories_[4],\n",
    "                enc.categories_[5],\n",
    "                enc.categories_[6],))"
   ]
  },
  {
   "cell_type": "code",
   "execution_count": 37,
   "id": "5ecadfa9",
   "metadata": {
    "execution": {
     "iopub.execute_input": "2024-01-14T23:31:20.640465Z",
     "iopub.status.busy": "2024-01-14T23:31:20.639238Z",
     "iopub.status.idle": "2024-01-14T23:31:20.645338Z",
     "shell.execute_reply": "2024-01-14T23:31:20.644613Z"
    },
    "papermill": {
     "duration": 0.026157,
     "end_time": "2024-01-14T23:31:20.647275",
     "exception": false,
     "start_time": "2024-01-14T23:31:20.621118",
     "status": "completed"
    },
    "tags": []
   },
   "outputs": [
    {
     "data": {
      "text/plain": [
       "array(['N', 'Y', 'A', 'B', 'C', 'D', 'E', 'F', 'G', 'MORTGAGE', 'OTHER',\n",
       "       'OWN', 'RENT', 'DEBTCONSOLIDATION', 'EDUCATION', 'HOMEIMPROVEMENT',\n",
       "       'MEDICAL', 'PERSONAL', 'VENTURE', 'high', 'high-middle', 'low',\n",
       "       'low-middle', 'middle', '20-25', '26-35', '36-45', '46-55',\n",
       "       '56-60', nan, 'large', 'medium', 'small', 'very large'],\n",
       "      dtype=object)"
      ]
     },
     "execution_count": 37,
     "metadata": {},
     "output_type": "execute_result"
    }
   ],
   "source": [
    "merge_enc_col"
   ]
  },
  {
   "cell_type": "code",
   "execution_count": 38,
   "id": "90feaee2",
   "metadata": {
    "execution": {
     "iopub.execute_input": "2024-01-14T23:31:20.682551Z",
     "iopub.status.busy": "2024-01-14T23:31:20.681429Z",
     "iopub.status.idle": "2024-01-14T23:31:20.755639Z",
     "shell.execute_reply": "2024-01-14T23:31:20.754588Z"
    },
    "papermill": {
     "duration": 0.094443,
     "end_time": "2024-01-14T23:31:20.758240",
     "exception": false,
     "start_time": "2024-01-14T23:31:20.663797",
     "status": "completed"
    },
    "tags": []
   },
   "outputs": [],
   "source": [
    "enc_data = pd.DataFrame(enc.transform(x_train[enc_colums]).toarray(), columns=merge_enc_col)\n",
    "enc_data2 = pd.DataFrame(enc.transform(x_test[enc_colums]).toarray(),columns=merge_enc_col)"
   ]
  },
  {
   "cell_type": "code",
   "execution_count": 39,
   "id": "f91302b2",
   "metadata": {
    "execution": {
     "iopub.execute_input": "2024-01-14T23:31:20.792888Z",
     "iopub.status.busy": "2024-01-14T23:31:20.792467Z",
     "iopub.status.idle": "2024-01-14T23:31:20.816874Z",
     "shell.execute_reply": "2024-01-14T23:31:20.815970Z"
    },
    "papermill": {
     "duration": 0.044774,
     "end_time": "2024-01-14T23:31:20.819455",
     "exception": false,
     "start_time": "2024-01-14T23:31:20.774681",
     "status": "completed"
    },
    "tags": []
   },
   "outputs": [],
   "source": [
    "X_new = pd.concat([enc_data, x_train], axis=1)\n",
    "X_new = X_new.drop(enc_colums, axis=1)\n",
    "\n",
    "\n",
    "X_new_test = pd.concat([enc_data2, x_test], axis=1)\n",
    "X_new_test = X_new_test.drop(enc_colums, axis=1)"
   ]
  },
  {
   "cell_type": "code",
   "execution_count": 40,
   "id": "83d76114",
   "metadata": {
    "execution": {
     "iopub.execute_input": "2024-01-14T23:31:20.853855Z",
     "iopub.status.busy": "2024-01-14T23:31:20.853267Z",
     "iopub.status.idle": "2024-01-14T23:31:20.859833Z",
     "shell.execute_reply": "2024-01-14T23:31:20.858729Z"
    },
    "papermill": {
     "duration": 0.025767,
     "end_time": "2024-01-14T23:31:20.861784",
     "exception": false,
     "start_time": "2024-01-14T23:31:20.836017",
     "status": "completed"
    },
    "tags": []
   },
   "outputs": [
    {
     "data": {
      "text/plain": [
       "(22864, 42)"
      ]
     },
     "execution_count": 40,
     "metadata": {},
     "output_type": "execute_result"
    }
   ],
   "source": [
    "X_new.head()\n",
    "X_new.shape"
   ]
  },
  {
   "cell_type": "code",
   "execution_count": 41,
   "id": "37b4842c",
   "metadata": {
    "execution": {
     "iopub.execute_input": "2024-01-14T23:31:20.896563Z",
     "iopub.status.busy": "2024-01-14T23:31:20.896135Z",
     "iopub.status.idle": "2024-01-14T23:31:20.921707Z",
     "shell.execute_reply": "2024-01-14T23:31:20.920851Z"
    },
    "papermill": {
     "duration": 0.045361,
     "end_time": "2024-01-14T23:31:20.923672",
     "exception": false,
     "start_time": "2024-01-14T23:31:20.878311",
     "status": "completed"
    },
    "tags": []
   },
   "outputs": [
    {
     "data": {
      "text/html": [
       "<div>\n",
       "<style scoped>\n",
       "    .dataframe tbody tr th:only-of-type {\n",
       "        vertical-align: middle;\n",
       "    }\n",
       "\n",
       "    .dataframe tbody tr th {\n",
       "        vertical-align: top;\n",
       "    }\n",
       "\n",
       "    .dataframe thead th {\n",
       "        text-align: right;\n",
       "    }\n",
       "</style>\n",
       "<table border=\"1\" class=\"dataframe\">\n",
       "  <thead>\n",
       "    <tr style=\"text-align: right;\">\n",
       "      <th></th>\n",
       "      <th>N</th>\n",
       "      <th>Y</th>\n",
       "      <th>A</th>\n",
       "      <th>B</th>\n",
       "      <th>C</th>\n",
       "      <th>D</th>\n",
       "      <th>E</th>\n",
       "      <th>F</th>\n",
       "      <th>G</th>\n",
       "      <th>MORTGAGE</th>\n",
       "      <th>...</th>\n",
       "      <th>small</th>\n",
       "      <th>very large</th>\n",
       "      <th>index</th>\n",
       "      <th>person_age</th>\n",
       "      <th>person_income</th>\n",
       "      <th>person_emp_length</th>\n",
       "      <th>loan_amnt</th>\n",
       "      <th>loan_int_rate</th>\n",
       "      <th>loan_percent_income</th>\n",
       "      <th>cb_person_cred_hist_length</th>\n",
       "    </tr>\n",
       "  </thead>\n",
       "  <tbody>\n",
       "    <tr>\n",
       "      <th>0</th>\n",
       "      <td>1.0</td>\n",
       "      <td>0.0</td>\n",
       "      <td>0.0</td>\n",
       "      <td>0.0</td>\n",
       "      <td>0.0</td>\n",
       "      <td>1.0</td>\n",
       "      <td>0.0</td>\n",
       "      <td>0.0</td>\n",
       "      <td>0.0</td>\n",
       "      <td>0.0</td>\n",
       "      <td>...</td>\n",
       "      <td>0.0</td>\n",
       "      <td>0.0</td>\n",
       "      <td>23717</td>\n",
       "      <td>29</td>\n",
       "      <td>32000</td>\n",
       "      <td>10.0</td>\n",
       "      <td>9250</td>\n",
       "      <td>15.65</td>\n",
       "      <td>0.29</td>\n",
       "      <td>7</td>\n",
       "    </tr>\n",
       "    <tr>\n",
       "      <th>1</th>\n",
       "      <td>0.0</td>\n",
       "      <td>1.0</td>\n",
       "      <td>0.0</td>\n",
       "      <td>0.0</td>\n",
       "      <td>0.0</td>\n",
       "      <td>1.0</td>\n",
       "      <td>0.0</td>\n",
       "      <td>0.0</td>\n",
       "      <td>0.0</td>\n",
       "      <td>1.0</td>\n",
       "      <td>...</td>\n",
       "      <td>0.0</td>\n",
       "      <td>0.0</td>\n",
       "      <td>22127</td>\n",
       "      <td>30</td>\n",
       "      <td>52000</td>\n",
       "      <td>9.0</td>\n",
       "      <td>9000</td>\n",
       "      <td>12.49</td>\n",
       "      <td>0.17</td>\n",
       "      <td>6</td>\n",
       "    </tr>\n",
       "    <tr>\n",
       "      <th>2</th>\n",
       "      <td>0.0</td>\n",
       "      <td>1.0</td>\n",
       "      <td>0.0</td>\n",
       "      <td>0.0</td>\n",
       "      <td>1.0</td>\n",
       "      <td>0.0</td>\n",
       "      <td>0.0</td>\n",
       "      <td>0.0</td>\n",
       "      <td>0.0</td>\n",
       "      <td>1.0</td>\n",
       "      <td>...</td>\n",
       "      <td>0.0</td>\n",
       "      <td>0.0</td>\n",
       "      <td>15684</td>\n",
       "      <td>25</td>\n",
       "      <td>154000</td>\n",
       "      <td>2.0</td>\n",
       "      <td>9200</td>\n",
       "      <td>12.61</td>\n",
       "      <td>0.06</td>\n",
       "      <td>4</td>\n",
       "    </tr>\n",
       "    <tr>\n",
       "      <th>3</th>\n",
       "      <td>1.0</td>\n",
       "      <td>0.0</td>\n",
       "      <td>1.0</td>\n",
       "      <td>0.0</td>\n",
       "      <td>0.0</td>\n",
       "      <td>0.0</td>\n",
       "      <td>0.0</td>\n",
       "      <td>0.0</td>\n",
       "      <td>0.0</td>\n",
       "      <td>1.0</td>\n",
       "      <td>...</td>\n",
       "      <td>0.0</td>\n",
       "      <td>0.0</td>\n",
       "      <td>10267</td>\n",
       "      <td>23</td>\n",
       "      <td>66000</td>\n",
       "      <td>0.0</td>\n",
       "      <td>7800</td>\n",
       "      <td>7.88</td>\n",
       "      <td>0.12</td>\n",
       "      <td>3</td>\n",
       "    </tr>\n",
       "    <tr>\n",
       "      <th>4</th>\n",
       "      <td>1.0</td>\n",
       "      <td>0.0</td>\n",
       "      <td>1.0</td>\n",
       "      <td>0.0</td>\n",
       "      <td>0.0</td>\n",
       "      <td>0.0</td>\n",
       "      <td>0.0</td>\n",
       "      <td>0.0</td>\n",
       "      <td>0.0</td>\n",
       "      <td>0.0</td>\n",
       "      <td>...</td>\n",
       "      <td>1.0</td>\n",
       "      <td>0.0</td>\n",
       "      <td>2570</td>\n",
       "      <td>25</td>\n",
       "      <td>32000</td>\n",
       "      <td>3.0</td>\n",
       "      <td>3000</td>\n",
       "      <td>8.94</td>\n",
       "      <td>0.09</td>\n",
       "      <td>3</td>\n",
       "    </tr>\n",
       "  </tbody>\n",
       "</table>\n",
       "<p>5 rows × 42 columns</p>\n",
       "</div>"
      ],
      "text/plain": [
       "     N    Y    A    B    C    D    E    F    G  MORTGAGE  ...  small  \\\n",
       "0  1.0  0.0  0.0  0.0  0.0  1.0  0.0  0.0  0.0       0.0  ...    0.0   \n",
       "1  0.0  1.0  0.0  0.0  0.0  1.0  0.0  0.0  0.0       1.0  ...    0.0   \n",
       "2  0.0  1.0  0.0  0.0  1.0  0.0  0.0  0.0  0.0       1.0  ...    0.0   \n",
       "3  1.0  0.0  1.0  0.0  0.0  0.0  0.0  0.0  0.0       1.0  ...    0.0   \n",
       "4  1.0  0.0  1.0  0.0  0.0  0.0  0.0  0.0  0.0       0.0  ...    1.0   \n",
       "\n",
       "   very large  index  person_age  person_income  person_emp_length  loan_amnt  \\\n",
       "0         0.0  23717          29          32000               10.0       9250   \n",
       "1         0.0  22127          30          52000                9.0       9000   \n",
       "2         0.0  15684          25         154000                2.0       9200   \n",
       "3         0.0  10267          23          66000                0.0       7800   \n",
       "4         0.0   2570          25          32000                3.0       3000   \n",
       "\n",
       "   loan_int_rate  loan_percent_income  cb_person_cred_hist_length  \n",
       "0          15.65                 0.29                           7  \n",
       "1          12.49                 0.17                           6  \n",
       "2          12.61                 0.06                           4  \n",
       "3           7.88                 0.12                           3  \n",
       "4           8.94                 0.09                           3  \n",
       "\n",
       "[5 rows x 42 columns]"
      ]
     },
     "execution_count": 41,
     "metadata": {},
     "output_type": "execute_result"
    }
   ],
   "source": [
    "X_new_test.head()"
   ]
  },
  {
   "cell_type": "markdown",
   "id": "a2925eb3",
   "metadata": {
    "papermill": {
     "duration": 0.016273,
     "end_time": "2024-01-14T23:31:20.956363",
     "exception": false,
     "start_time": "2024-01-14T23:31:20.940090",
     "status": "completed"
    },
    "tags": []
   },
   "source": [
    "# **ML Classification Models**"
   ]
  },
  {
   "cell_type": "code",
   "execution_count": 42,
   "id": "2467894d",
   "metadata": {
    "execution": {
     "iopub.execute_input": "2024-01-14T23:31:20.991550Z",
     "iopub.status.busy": "2024-01-14T23:31:20.990753Z",
     "iopub.status.idle": "2024-01-14T23:31:21.440789Z",
     "shell.execute_reply": "2024-01-14T23:31:21.439596Z"
    },
    "papermill": {
     "duration": 0.470608,
     "end_time": "2024-01-14T23:31:21.443595",
     "exception": false,
     "start_time": "2024-01-14T23:31:20.972987",
     "status": "completed"
    },
    "tags": []
   },
   "outputs": [],
   "source": [
    "from sklearn.linear_model import LinearRegression\n",
    "from sklearn.linear_model import LogisticRegression\n",
    "from sklearn.svm import SVC\n",
    "from xgboost import XGBClassifier\n",
    "from sklearn.ensemble import RandomForestClassifier"
   ]
  },
  {
   "cell_type": "code",
   "execution_count": 43,
   "id": "b92c9fbd",
   "metadata": {
    "execution": {
     "iopub.execute_input": "2024-01-14T23:31:21.478948Z",
     "iopub.status.busy": "2024-01-14T23:31:21.478520Z",
     "iopub.status.idle": "2024-01-14T23:31:21.483423Z",
     "shell.execute_reply": "2024-01-14T23:31:21.482353Z"
    },
    "papermill": {
     "duration": 0.025094,
     "end_time": "2024-01-14T23:31:21.485610",
     "exception": false,
     "start_time": "2024-01-14T23:31:21.460516",
     "status": "completed"
    },
    "tags": []
   },
   "outputs": [],
   "source": [
    "svc = SVC()\n",
    "rfc = RandomForestClassifier()\n",
    "lrc = LogisticRegression()\n",
    "xgb = XGBClassifier()"
   ]
  },
  {
   "cell_type": "code",
   "execution_count": 44,
   "id": "f456cfa3",
   "metadata": {
    "execution": {
     "iopub.execute_input": "2024-01-14T23:31:21.520815Z",
     "iopub.status.busy": "2024-01-14T23:31:21.520382Z",
     "iopub.status.idle": "2024-01-14T23:31:21.525226Z",
     "shell.execute_reply": "2024-01-14T23:31:21.524205Z"
    },
    "papermill": {
     "duration": 0.025326,
     "end_time": "2024-01-14T23:31:21.527523",
     "exception": false,
     "start_time": "2024-01-14T23:31:21.502197",
     "status": "completed"
    },
    "tags": []
   },
   "outputs": [],
   "source": [
    "clf = {\n",
    "    'svc':svc,\n",
    "    'xgb':xgb,\n",
    "    'RF': rfc,\n",
    "    'LR': lrc\n",
    "}"
   ]
  },
  {
   "cell_type": "code",
   "execution_count": 45,
   "id": "b830f76f",
   "metadata": {
    "execution": {
     "iopub.execute_input": "2024-01-14T23:31:21.562809Z",
     "iopub.status.busy": "2024-01-14T23:31:21.562387Z",
     "iopub.status.idle": "2024-01-14T23:31:21.569277Z",
     "shell.execute_reply": "2024-01-14T23:31:21.568252Z"
    },
    "papermill": {
     "duration": 0.026887,
     "end_time": "2024-01-14T23:31:21.571303",
     "exception": false,
     "start_time": "2024-01-14T23:31:21.544416",
     "status": "completed"
    },
    "tags": []
   },
   "outputs": [],
   "source": [
    "from sklearn.metrics import precision_score, accuracy_score, recall_score, confusion_matrix\n",
    "\n",
    "def train_classifier(clf, X_train, y_train, X_test, y_test):\n",
    "    clf.fit(X_train, y_train)\n",
    "    y_pred = clf.predict(X_test)\n",
    "    \n",
    "    accuracy = accuracy_score(y_test, y_pred)\n",
    "    precision = precision_score(y_test, y_pred)\n",
    "    recall = recall_score(y_test, y_pred)\n",
    "    \n",
    "    # Calculate confusion matrix to get TN and FP for specificity\n",
    "    tn, fp, fn, tp = confusion_matrix(y_test, y_pred).ravel()\n",
    "    specificity = tn / (tn + fp)\n",
    "    \n",
    "    return accuracy, precision, recall, specificity\n",
    "\n",
    "# Usage\n",
    "# accuracy, precision, recall, specificity = train_classifier(clf, x_train, y_train, X_test, y_test)\n",
    "# print(\"Accuracy:\", accuracy)\n",
    "# print(\"Precision:\", precision)\n",
    "# print(\"Recall:\", recall)\n",
    "# print(\"Specificity:\", specificity)"
   ]
  },
  {
   "cell_type": "code",
   "execution_count": 46,
   "id": "bbe0ddfc",
   "metadata": {
    "execution": {
     "iopub.execute_input": "2024-01-14T23:31:21.607035Z",
     "iopub.status.busy": "2024-01-14T23:31:21.606634Z",
     "iopub.status.idle": "2024-01-14T23:31:21.619885Z",
     "shell.execute_reply": "2024-01-14T23:31:21.619048Z"
    },
    "papermill": {
     "duration": 0.033366,
     "end_time": "2024-01-14T23:31:21.622012",
     "exception": false,
     "start_time": "2024-01-14T23:31:21.588646",
     "status": "completed"
    },
    "tags": []
   },
   "outputs": [],
   "source": [
    "X_new = X_new.drop(columns=[col for col in X_new.columns if pd.isna(col)], axis=1)\n",
    "X_new_test = X_new_test.drop(columns=[col for col in X_new_test.columns if pd.isna(col)], axis=1)"
   ]
  },
  {
   "cell_type": "code",
   "execution_count": 47,
   "id": "a2c11c25",
   "metadata": {
    "execution": {
     "iopub.execute_input": "2024-01-14T23:31:21.658079Z",
     "iopub.status.busy": "2024-01-14T23:31:21.657709Z",
     "iopub.status.idle": "2024-01-14T23:31:50.311629Z",
     "shell.execute_reply": "2024-01-14T23:31:50.310564Z"
    },
    "papermill": {
     "duration": 28.675372,
     "end_time": "2024-01-14T23:31:50.314886",
     "exception": false,
     "start_time": "2024-01-14T23:31:21.639514",
     "status": "completed"
    },
    "tags": []
   },
   "outputs": [
    {
     "name": "stdout",
     "output_type": "stream",
     "text": [
      "For  svc\n",
      "Accuracy -  0.8147305808257522\n",
      "Precision -  0.8290155440414507\n",
      "Recall -  0.13490725126475547\n",
      "Specificity -  0.9927152317880795\n",
      "\n",
      "For  xgb\n",
      "Accuracy -  0.9413925822253324\n",
      "Precision -  0.9531416400425985\n",
      "Recall -  0.7546374367622259\n",
      "Specificity -  0.9902869757174393\n",
      "\n",
      "For  RF\n",
      "Accuracy -  0.9279216235129462\n",
      "Precision -  0.9479166666666666\n",
      "Recall -  0.6905564924114671\n",
      "Specificity -  0.9900662251655629\n",
      "\n",
      "For  LR\n",
      "Accuracy -  0.8082575227431771\n",
      "Precision -  0.6829268292682927\n",
      "Recall -  0.14165261382799327\n",
      "Specificity -  0.9827814569536424\n",
      "\n"
     ]
    }
   ],
   "source": [
    "accuracy_scores = []\n",
    "precision_scores = []\n",
    "recall_scores = []\n",
    "specificity_scores = []\n",
    "\n",
    "for name,clf in clf.items():\n",
    "    \n",
    "    current_accuracy,current_precision, current_recall, current_specificity = train_classifier(clf, X_new,y_train,X_new_test,y_test)\n",
    "    \n",
    "    print(\"For \",name)\n",
    "    print(\"Accuracy - \",current_accuracy)\n",
    "    print(\"Precision - \",current_precision)\n",
    "    print(\"Recall - \",current_recall)\n",
    "    print(\"Specificity - \",current_specificity)\n",
    "    print()\n",
    "    \n",
    "    accuracy_scores.append(current_accuracy)\n",
    "    precision_scores.append(current_precision)\n",
    "    recall_scores.append(current_recall)\n",
    "    specificity_scores.append(current_specificity)"
   ]
  },
  {
   "cell_type": "markdown",
   "id": "3f04c7ae",
   "metadata": {
    "papermill": {
     "duration": 0.026707,
     "end_time": "2024-01-14T23:31:50.369498",
     "exception": false,
     "start_time": "2024-01-14T23:31:50.342791",
     "status": "completed"
    },
    "tags": []
   },
   "source": [
    "In the context of loan default prediction, two key factors come into play: the potential financial impact of missed loan defaults and the risk of denying loans to trustworthy applicants.\n",
    "\n",
    "1- Recall (Sensitivity): Recall measures how well the model identifies actual loan defaults. For lenders, missing a loan that eventually defaults can lead to significant financial losses. Thus, achieving a high Recall is essential because it ensures that most potential default cases are detected, minimizing the risk of financial setbacks.\n",
    "\n",
    "2- Specificity: Specificity gauges the model's accuracy in identifying loans that won't default. Misclassifying a reliable borrower as a potential defaulter (false positive) can result in lost business opportunities. By emphasizing high Specificity, the model aims to avoid misclassifications that could deny loans to credible applicants.\n",
    "\n",
    "3- Precision: Precision is a key metric as it evaluates the accuracy of positive predictions. Lenders need to avoid false positives (incorrectly predicting defaults) to prevent unwarranted actions. Maintaining high Precision ensures that when the model predicts a default, it's highly likely to be accurate. This protects the lender from unnecessary costs and safeguards borrower relationships."
   ]
  }
 ],
 "metadata": {
  "kaggle": {
   "accelerator": "none",
   "dataSources": [
    {
     "datasetId": 4103569,
     "sourceId": 7115609,
     "sourceType": "datasetVersion"
    }
   ],
   "dockerImageVersionId": 30587,
   "isGpuEnabled": false,
   "isInternetEnabled": true,
   "language": "python",
   "sourceType": "notebook"
  },
  "kernelspec": {
   "display_name": "Python 3",
   "language": "python",
   "name": "python3"
  },
  "language_info": {
   "codemirror_mode": {
    "name": "ipython",
    "version": 3
   },
   "file_extension": ".py",
   "mimetype": "text/x-python",
   "name": "python",
   "nbconvert_exporter": "python",
   "pygments_lexer": "ipython3",
   "version": "3.10.12"
  },
  "papermill": {
   "default_parameters": {},
   "duration": 39.107753,
   "end_time": "2024-01-14T23:31:51.018996",
   "environment_variables": {},
   "exception": null,
   "input_path": "__notebook__.ipynb",
   "output_path": "__notebook__.ipynb",
   "parameters": {},
   "start_time": "2024-01-14T23:31:11.911243",
   "version": "2.4.0"
  }
 },
 "nbformat": 4,
 "nbformat_minor": 5
}
