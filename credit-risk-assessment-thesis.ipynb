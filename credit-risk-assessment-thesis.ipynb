{
 "cells": [
  {
   "cell_type": "code",
   "execution_count": 1,
   "id": "fe3fd096",
   "metadata": {
    "_cell_guid": "b1076dfc-b9ad-4769-8c92-a6c4dae69d19",
    "_uuid": "8f2839f25d086af736a60e9eeb907d3b93b6e0e5",
    "execution": {
     "iopub.execute_input": "2023-12-09T22:50:53.425536Z",
     "iopub.status.busy": "2023-12-09T22:50:53.424821Z",
     "iopub.status.idle": "2023-12-09T22:50:54.365949Z",
     "shell.execute_reply": "2023-12-09T22:50:54.364699Z"
    },
    "papermill": {
     "duration": 0.956455,
     "end_time": "2023-12-09T22:50:54.368387",
     "exception": false,
     "start_time": "2023-12-09T22:50:53.411932",
     "status": "completed"
    },
    "tags": []
   },
   "outputs": [
    {
     "name": "stdout",
     "output_type": "stream",
     "text": [
      "/kaggle/input/credit-risk/credit_risk_dataset.csv\n"
     ]
    }
   ],
   "source": [
    "# This Python 3 environment comes with many helpful analytics libraries installed\n",
    "# It is defined by the kaggle/python Docker image: https://github.com/kaggle/docker-python\n",
    "# For example, here's several helpful packages to load\n",
    "\n",
    "import numpy as np # linear algebra\n",
    "import pandas as pd # data processing, CSV file I/O (e.g. pd.read_csv)\n",
    "\n",
    "# Input data files are available in the read-only \"../input/\" directory\n",
    "# For example, running this (by clicking run or pressing Shift+Enter) will list all files under the input directory\n",
    "\n",
    "\n",
    "import os\n",
    "for dirname, _, filenames in os.walk('/kaggle/input'):\n",
    "    for filename in filenames:\n",
    "        print(os.path.join(dirname, filename))\n",
    "\n",
    "# You can write up to 20GB to the current directory (/kaggle/working/) that gets preserved as output when you create a version using \"Save & Run All\" \n",
    "# You can also write temporary files to /kaggle/temp/, but they won't be saved outside of the current session"
   ]
  },
  {
   "cell_type": "markdown",
   "id": "a9249246",
   "metadata": {
    "papermill": {
     "duration": 0.011135,
     "end_time": "2023-12-09T22:50:54.390556",
     "exception": false,
     "start_time": "2023-12-09T22:50:54.379421",
     "status": "completed"
    },
    "tags": []
   },
   "source": [
    "# **Reading the Dataset**"
   ]
  },
  {
   "cell_type": "code",
   "execution_count": 2,
   "id": "8b21cc09",
   "metadata": {
    "execution": {
     "iopub.execute_input": "2023-12-09T22:50:54.414390Z",
     "iopub.status.busy": "2023-12-09T22:50:54.413452Z",
     "iopub.status.idle": "2023-12-09T22:50:54.549116Z",
     "shell.execute_reply": "2023-12-09T22:50:54.547964Z"
    },
    "papermill": {
     "duration": 0.150161,
     "end_time": "2023-12-09T22:50:54.551472",
     "exception": false,
     "start_time": "2023-12-09T22:50:54.401311",
     "status": "completed"
    },
    "tags": []
   },
   "outputs": [
    {
     "data": {
      "text/html": [
       "<div>\n",
       "<style scoped>\n",
       "    .dataframe tbody tr th:only-of-type {\n",
       "        vertical-align: middle;\n",
       "    }\n",
       "\n",
       "    .dataframe tbody tr th {\n",
       "        vertical-align: top;\n",
       "    }\n",
       "\n",
       "    .dataframe thead th {\n",
       "        text-align: right;\n",
       "    }\n",
       "</style>\n",
       "<table border=\"1\" class=\"dataframe\">\n",
       "  <thead>\n",
       "    <tr style=\"text-align: right;\">\n",
       "      <th></th>\n",
       "      <th>person_age</th>\n",
       "      <th>person_income</th>\n",
       "      <th>person_home_ownership</th>\n",
       "      <th>person_emp_length</th>\n",
       "      <th>loan_intent</th>\n",
       "      <th>loan_grade</th>\n",
       "      <th>loan_amnt</th>\n",
       "      <th>loan_int_rate</th>\n",
       "      <th>loan_status</th>\n",
       "      <th>loan_percent_income</th>\n",
       "      <th>cb_person_default_on_file</th>\n",
       "      <th>cb_person_cred_hist_length</th>\n",
       "    </tr>\n",
       "  </thead>\n",
       "  <tbody>\n",
       "    <tr>\n",
       "      <th>0</th>\n",
       "      <td>36</td>\n",
       "      <td>49901</td>\n",
       "      <td>MORTGAGE</td>\n",
       "      <td>13.0</td>\n",
       "      <td>HOMEIMPROVEMENT</td>\n",
       "      <td>C</td>\n",
       "      <td>8400</td>\n",
       "      <td>13.61</td>\n",
       "      <td>0</td>\n",
       "      <td>0.17</td>\n",
       "      <td>Y</td>\n",
       "      <td>12</td>\n",
       "    </tr>\n",
       "    <tr>\n",
       "      <th>1</th>\n",
       "      <td>32</td>\n",
       "      <td>65000</td>\n",
       "      <td>RENT</td>\n",
       "      <td>4.0</td>\n",
       "      <td>VENTURE</td>\n",
       "      <td>C</td>\n",
       "      <td>20000</td>\n",
       "      <td>13.80</td>\n",
       "      <td>1</td>\n",
       "      <td>0.31</td>\n",
       "      <td>Y</td>\n",
       "      <td>6</td>\n",
       "    </tr>\n",
       "    <tr>\n",
       "      <th>2</th>\n",
       "      <td>25</td>\n",
       "      <td>49000</td>\n",
       "      <td>RENT</td>\n",
       "      <td>9.0</td>\n",
       "      <td>DEBTCONSOLIDATION</td>\n",
       "      <td>A</td>\n",
       "      <td>10000</td>\n",
       "      <td>6.62</td>\n",
       "      <td>1</td>\n",
       "      <td>0.20</td>\n",
       "      <td>N</td>\n",
       "      <td>2</td>\n",
       "    </tr>\n",
       "    <tr>\n",
       "      <th>3</th>\n",
       "      <td>23</td>\n",
       "      <td>60000</td>\n",
       "      <td>MORTGAGE</td>\n",
       "      <td>7.0</td>\n",
       "      <td>EDUCATION</td>\n",
       "      <td>A</td>\n",
       "      <td>10750</td>\n",
       "      <td>7.88</td>\n",
       "      <td>0</td>\n",
       "      <td>0.18</td>\n",
       "      <td>N</td>\n",
       "      <td>3</td>\n",
       "    </tr>\n",
       "    <tr>\n",
       "      <th>4</th>\n",
       "      <td>25</td>\n",
       "      <td>64000</td>\n",
       "      <td>RENT</td>\n",
       "      <td>7.0</td>\n",
       "      <td>EDUCATION</td>\n",
       "      <td>D</td>\n",
       "      <td>8000</td>\n",
       "      <td>15.28</td>\n",
       "      <td>1</td>\n",
       "      <td>0.13</td>\n",
       "      <td>N</td>\n",
       "      <td>4</td>\n",
       "    </tr>\n",
       "    <tr>\n",
       "      <th>5</th>\n",
       "      <td>23</td>\n",
       "      <td>31000</td>\n",
       "      <td>RENT</td>\n",
       "      <td>1.0</td>\n",
       "      <td>DEBTCONSOLIDATION</td>\n",
       "      <td>B</td>\n",
       "      <td>6000</td>\n",
       "      <td>11.71</td>\n",
       "      <td>1</td>\n",
       "      <td>0.19</td>\n",
       "      <td>N</td>\n",
       "      <td>2</td>\n",
       "    </tr>\n",
       "  </tbody>\n",
       "</table>\n",
       "</div>"
      ],
      "text/plain": [
       "   person_age  person_income person_home_ownership  person_emp_length  \\\n",
       "0          36          49901              MORTGAGE               13.0   \n",
       "1          32          65000                  RENT                4.0   \n",
       "2          25          49000                  RENT                9.0   \n",
       "3          23          60000              MORTGAGE                7.0   \n",
       "4          25          64000                  RENT                7.0   \n",
       "5          23          31000                  RENT                1.0   \n",
       "\n",
       "         loan_intent loan_grade  loan_amnt  loan_int_rate  loan_status  \\\n",
       "0    HOMEIMPROVEMENT          C       8400          13.61            0   \n",
       "1            VENTURE          C      20000          13.80            1   \n",
       "2  DEBTCONSOLIDATION          A      10000           6.62            1   \n",
       "3          EDUCATION          A      10750           7.88            0   \n",
       "4          EDUCATION          D       8000          15.28            1   \n",
       "5  DEBTCONSOLIDATION          B       6000          11.71            1   \n",
       "\n",
       "   loan_percent_income cb_person_default_on_file  cb_person_cred_hist_length  \n",
       "0                 0.17                         Y                          12  \n",
       "1                 0.31                         Y                           6  \n",
       "2                 0.20                         N                           2  \n",
       "3                 0.18                         N                           3  \n",
       "4                 0.13                         N                           4  \n",
       "5                 0.19                         N                           2  "
      ]
     },
     "execution_count": 2,
     "metadata": {},
     "output_type": "execute_result"
    }
   ],
   "source": [
    "data= pd.read_csv('/kaggle/input/credit-risk/credit_risk_dataset.csv')\n",
    "data.sample(6).reset_index(drop=True)"
   ]
  },
  {
   "cell_type": "markdown",
   "id": "f37155c2",
   "metadata": {
    "papermill": {
     "duration": 0.01088,
     "end_time": "2023-12-09T22:50:54.573555",
     "exception": false,
     "start_time": "2023-12-09T22:50:54.562675",
     "status": "completed"
    },
    "tags": []
   },
   "source": [
    "# **Data set Description**\n",
    "* **person_age**: Age of the individual applying for the loan.\n",
    "* **person_income**: Annual income of the individual.\n",
    "* **person_home_ownership**: Type of home ownership of the individual.\n",
    "* **rent**: The individual is currently renting a property.\n",
    "* **mortgage**: The individual has a mortgage on the property they own.\n",
    "* **own**: The individual owns their home outright.\n",
    "* **other**: Other categories of home ownership that may be specific to the dataset.\n",
    "* **person_emp_length**: Employment length of the individual in years.\n",
    "* **loan_intent**: The intent behind the loan application.\n",
    "* **loan_grade**: The grade assigned to the loan based on the creditworthiness of the borrower.\n",
    "   * A: The borrower has a high creditworthiness, indicating low risk.\n",
    "   * B: The borrower is relatively low-risk, but not as creditworthy as Grade A.\n",
    "   * C: The borrower's creditworthiness is moderate.\n",
    "   * D: The borrower is considered to have higher risk compared to previous grades.\n",
    "   * E: The borrower's creditworthiness is lower, indicating a higher risk.\n",
    "   * F: The borrower poses a significant credit risk.\n",
    "   * G: The borrower's creditworthiness is the lowest, signifying the highest risk.\n",
    "* **loan_amnt**: The loan amount requested by the individual.\n",
    "* **loan_int_rate**: The interest rate associated with the loan.\n",
    "* **loan_status**: Loan status, where 0 indicates non-default and 1 indicates default.\n",
    "  * 0: Non-default - The borrower successfully repaid the loan as agreed, and there was no default.\n",
    "  * 1: Default - The borrower failed to repay the loan according to the agreed-upon terms and defaulted on the loan.\n",
    "* **loan_percent_income**: The percentage of income represented by the loan amount.\n",
    "* **cb_person_default_on_fil**e: Historical default of the individual as per credit bureau records.\n",
    "  * Y: The individual has a history of defaults on their credit file.\n",
    "  * N: The individual does not have any history of defaults.\n",
    "* **cb_preson_cred_hist_length**: The length of credit history for the individual.\n"
   ]
  },
  {
   "cell_type": "markdown",
   "id": "e46e6bf7",
   "metadata": {
    "papermill": {
     "duration": 0.010668,
     "end_time": "2023-12-09T22:50:54.595365",
     "exception": false,
     "start_time": "2023-12-09T22:50:54.584697",
     "status": "completed"
    },
    "tags": []
   },
   "source": [
    "# **Exploring the data se**t"
   ]
  },
  {
   "cell_type": "code",
   "execution_count": 3,
   "id": "36a31819",
   "metadata": {
    "execution": {
     "iopub.execute_input": "2023-12-09T22:50:54.619897Z",
     "iopub.status.busy": "2023-12-09T22:50:54.619101Z",
     "iopub.status.idle": "2023-12-09T22:50:54.638084Z",
     "shell.execute_reply": "2023-12-09T22:50:54.636797Z"
    },
    "papermill": {
     "duration": 0.034083,
     "end_time": "2023-12-09T22:50:54.640525",
     "exception": false,
     "start_time": "2023-12-09T22:50:54.606442",
     "status": "completed"
    },
    "tags": []
   },
   "outputs": [
    {
     "data": {
      "text/html": [
       "<div>\n",
       "<style scoped>\n",
       "    .dataframe tbody tr th:only-of-type {\n",
       "        vertical-align: middle;\n",
       "    }\n",
       "\n",
       "    .dataframe tbody tr th {\n",
       "        vertical-align: top;\n",
       "    }\n",
       "\n",
       "    .dataframe thead th {\n",
       "        text-align: right;\n",
       "    }\n",
       "</style>\n",
       "<table border=\"1\" class=\"dataframe\">\n",
       "  <thead>\n",
       "    <tr style=\"text-align: right;\">\n",
       "      <th></th>\n",
       "      <th>person_age</th>\n",
       "      <th>person_income</th>\n",
       "      <th>person_home_ownership</th>\n",
       "      <th>person_emp_length</th>\n",
       "      <th>loan_intent</th>\n",
       "      <th>loan_grade</th>\n",
       "      <th>loan_amnt</th>\n",
       "      <th>loan_int_rate</th>\n",
       "      <th>loan_status</th>\n",
       "      <th>loan_percent_income</th>\n",
       "      <th>cb_person_default_on_file</th>\n",
       "      <th>cb_person_cred_hist_length</th>\n",
       "    </tr>\n",
       "  </thead>\n",
       "  <tbody>\n",
       "    <tr>\n",
       "      <th>0</th>\n",
       "      <td>22</td>\n",
       "      <td>59000</td>\n",
       "      <td>RENT</td>\n",
       "      <td>123.0</td>\n",
       "      <td>PERSONAL</td>\n",
       "      <td>D</td>\n",
       "      <td>35000</td>\n",
       "      <td>16.02</td>\n",
       "      <td>1</td>\n",
       "      <td>0.59</td>\n",
       "      <td>Y</td>\n",
       "      <td>3</td>\n",
       "    </tr>\n",
       "    <tr>\n",
       "      <th>1</th>\n",
       "      <td>21</td>\n",
       "      <td>9600</td>\n",
       "      <td>OWN</td>\n",
       "      <td>5.0</td>\n",
       "      <td>EDUCATION</td>\n",
       "      <td>B</td>\n",
       "      <td>1000</td>\n",
       "      <td>11.14</td>\n",
       "      <td>0</td>\n",
       "      <td>0.10</td>\n",
       "      <td>N</td>\n",
       "      <td>2</td>\n",
       "    </tr>\n",
       "    <tr>\n",
       "      <th>2</th>\n",
       "      <td>25</td>\n",
       "      <td>9600</td>\n",
       "      <td>MORTGAGE</td>\n",
       "      <td>1.0</td>\n",
       "      <td>MEDICAL</td>\n",
       "      <td>C</td>\n",
       "      <td>5500</td>\n",
       "      <td>12.87</td>\n",
       "      <td>1</td>\n",
       "      <td>0.57</td>\n",
       "      <td>N</td>\n",
       "      <td>3</td>\n",
       "    </tr>\n",
       "    <tr>\n",
       "      <th>3</th>\n",
       "      <td>23</td>\n",
       "      <td>65500</td>\n",
       "      <td>RENT</td>\n",
       "      <td>4.0</td>\n",
       "      <td>MEDICAL</td>\n",
       "      <td>C</td>\n",
       "      <td>35000</td>\n",
       "      <td>15.23</td>\n",
       "      <td>1</td>\n",
       "      <td>0.53</td>\n",
       "      <td>N</td>\n",
       "      <td>2</td>\n",
       "    </tr>\n",
       "    <tr>\n",
       "      <th>4</th>\n",
       "      <td>24</td>\n",
       "      <td>54400</td>\n",
       "      <td>RENT</td>\n",
       "      <td>8.0</td>\n",
       "      <td>MEDICAL</td>\n",
       "      <td>C</td>\n",
       "      <td>35000</td>\n",
       "      <td>14.27</td>\n",
       "      <td>1</td>\n",
       "      <td>0.55</td>\n",
       "      <td>Y</td>\n",
       "      <td>4</td>\n",
       "    </tr>\n",
       "  </tbody>\n",
       "</table>\n",
       "</div>"
      ],
      "text/plain": [
       "   person_age  person_income person_home_ownership  person_emp_length  \\\n",
       "0          22          59000                  RENT              123.0   \n",
       "1          21           9600                   OWN                5.0   \n",
       "2          25           9600              MORTGAGE                1.0   \n",
       "3          23          65500                  RENT                4.0   \n",
       "4          24          54400                  RENT                8.0   \n",
       "\n",
       "  loan_intent loan_grade  loan_amnt  loan_int_rate  loan_status  \\\n",
       "0    PERSONAL          D      35000          16.02            1   \n",
       "1   EDUCATION          B       1000          11.14            0   \n",
       "2     MEDICAL          C       5500          12.87            1   \n",
       "3     MEDICAL          C      35000          15.23            1   \n",
       "4     MEDICAL          C      35000          14.27            1   \n",
       "\n",
       "   loan_percent_income cb_person_default_on_file  cb_person_cred_hist_length  \n",
       "0                 0.59                         Y                           3  \n",
       "1                 0.10                         N                           2  \n",
       "2                 0.57                         N                           3  \n",
       "3                 0.53                         N                           2  \n",
       "4                 0.55                         Y                           4  "
      ]
     },
     "execution_count": 3,
     "metadata": {},
     "output_type": "execute_result"
    }
   ],
   "source": [
    "data.head()"
   ]
  },
  {
   "cell_type": "code",
   "execution_count": 4,
   "id": "508d1e04",
   "metadata": {
    "execution": {
     "iopub.execute_input": "2023-12-09T22:50:54.666163Z",
     "iopub.status.busy": "2023-12-09T22:50:54.665753Z",
     "iopub.status.idle": "2023-12-09T22:50:54.683403Z",
     "shell.execute_reply": "2023-12-09T22:50:54.682531Z"
    },
    "papermill": {
     "duration": 0.033208,
     "end_time": "2023-12-09T22:50:54.685476",
     "exception": false,
     "start_time": "2023-12-09T22:50:54.652268",
     "status": "completed"
    },
    "tags": []
   },
   "outputs": [
    {
     "data": {
      "text/html": [
       "<div>\n",
       "<style scoped>\n",
       "    .dataframe tbody tr th:only-of-type {\n",
       "        vertical-align: middle;\n",
       "    }\n",
       "\n",
       "    .dataframe tbody tr th {\n",
       "        vertical-align: top;\n",
       "    }\n",
       "\n",
       "    .dataframe thead th {\n",
       "        text-align: right;\n",
       "    }\n",
       "</style>\n",
       "<table border=\"1\" class=\"dataframe\">\n",
       "  <thead>\n",
       "    <tr style=\"text-align: right;\">\n",
       "      <th></th>\n",
       "      <th>person_age</th>\n",
       "      <th>person_income</th>\n",
       "      <th>person_home_ownership</th>\n",
       "      <th>person_emp_length</th>\n",
       "      <th>loan_intent</th>\n",
       "      <th>loan_grade</th>\n",
       "      <th>loan_amnt</th>\n",
       "      <th>loan_int_rate</th>\n",
       "      <th>loan_status</th>\n",
       "      <th>loan_percent_income</th>\n",
       "      <th>cb_person_default_on_file</th>\n",
       "      <th>cb_person_cred_hist_length</th>\n",
       "    </tr>\n",
       "  </thead>\n",
       "  <tbody>\n",
       "    <tr>\n",
       "      <th>32576</th>\n",
       "      <td>57</td>\n",
       "      <td>53000</td>\n",
       "      <td>MORTGAGE</td>\n",
       "      <td>1.0</td>\n",
       "      <td>PERSONAL</td>\n",
       "      <td>C</td>\n",
       "      <td>5800</td>\n",
       "      <td>13.16</td>\n",
       "      <td>0</td>\n",
       "      <td>0.11</td>\n",
       "      <td>N</td>\n",
       "      <td>30</td>\n",
       "    </tr>\n",
       "    <tr>\n",
       "      <th>32577</th>\n",
       "      <td>54</td>\n",
       "      <td>120000</td>\n",
       "      <td>MORTGAGE</td>\n",
       "      <td>4.0</td>\n",
       "      <td>PERSONAL</td>\n",
       "      <td>A</td>\n",
       "      <td>17625</td>\n",
       "      <td>7.49</td>\n",
       "      <td>0</td>\n",
       "      <td>0.15</td>\n",
       "      <td>N</td>\n",
       "      <td>19</td>\n",
       "    </tr>\n",
       "    <tr>\n",
       "      <th>32578</th>\n",
       "      <td>65</td>\n",
       "      <td>76000</td>\n",
       "      <td>RENT</td>\n",
       "      <td>3.0</td>\n",
       "      <td>HOMEIMPROVEMENT</td>\n",
       "      <td>B</td>\n",
       "      <td>35000</td>\n",
       "      <td>10.99</td>\n",
       "      <td>1</td>\n",
       "      <td>0.46</td>\n",
       "      <td>N</td>\n",
       "      <td>28</td>\n",
       "    </tr>\n",
       "    <tr>\n",
       "      <th>32579</th>\n",
       "      <td>56</td>\n",
       "      <td>150000</td>\n",
       "      <td>MORTGAGE</td>\n",
       "      <td>5.0</td>\n",
       "      <td>PERSONAL</td>\n",
       "      <td>B</td>\n",
       "      <td>15000</td>\n",
       "      <td>11.48</td>\n",
       "      <td>0</td>\n",
       "      <td>0.10</td>\n",
       "      <td>N</td>\n",
       "      <td>26</td>\n",
       "    </tr>\n",
       "    <tr>\n",
       "      <th>32580</th>\n",
       "      <td>66</td>\n",
       "      <td>42000</td>\n",
       "      <td>RENT</td>\n",
       "      <td>2.0</td>\n",
       "      <td>MEDICAL</td>\n",
       "      <td>B</td>\n",
       "      <td>6475</td>\n",
       "      <td>9.99</td>\n",
       "      <td>0</td>\n",
       "      <td>0.15</td>\n",
       "      <td>N</td>\n",
       "      <td>30</td>\n",
       "    </tr>\n",
       "  </tbody>\n",
       "</table>\n",
       "</div>"
      ],
      "text/plain": [
       "       person_age  person_income person_home_ownership  person_emp_length  \\\n",
       "32576          57          53000              MORTGAGE                1.0   \n",
       "32577          54         120000              MORTGAGE                4.0   \n",
       "32578          65          76000                  RENT                3.0   \n",
       "32579          56         150000              MORTGAGE                5.0   \n",
       "32580          66          42000                  RENT                2.0   \n",
       "\n",
       "           loan_intent loan_grade  loan_amnt  loan_int_rate  loan_status  \\\n",
       "32576         PERSONAL          C       5800          13.16            0   \n",
       "32577         PERSONAL          A      17625           7.49            0   \n",
       "32578  HOMEIMPROVEMENT          B      35000          10.99            1   \n",
       "32579         PERSONAL          B      15000          11.48            0   \n",
       "32580          MEDICAL          B       6475           9.99            0   \n",
       "\n",
       "       loan_percent_income cb_person_default_on_file  \\\n",
       "32576                 0.11                         N   \n",
       "32577                 0.15                         N   \n",
       "32578                 0.46                         N   \n",
       "32579                 0.10                         N   \n",
       "32580                 0.15                         N   \n",
       "\n",
       "       cb_person_cred_hist_length  \n",
       "32576                          30  \n",
       "32577                          19  \n",
       "32578                          28  \n",
       "32579                          26  \n",
       "32580                          30  "
      ]
     },
     "execution_count": 4,
     "metadata": {},
     "output_type": "execute_result"
    }
   ],
   "source": [
    "data.tail()"
   ]
  },
  {
   "cell_type": "code",
   "execution_count": 5,
   "id": "add571bf",
   "metadata": {
    "execution": {
     "iopub.execute_input": "2023-12-09T22:50:54.711969Z",
     "iopub.status.busy": "2023-12-09T22:50:54.710956Z",
     "iopub.status.idle": "2023-12-09T22:50:54.760828Z",
     "shell.execute_reply": "2023-12-09T22:50:54.759647Z"
    },
    "papermill": {
     "duration": 0.066421,
     "end_time": "2023-12-09T22:50:54.763755",
     "exception": false,
     "start_time": "2023-12-09T22:50:54.697334",
     "status": "completed"
    },
    "tags": []
   },
   "outputs": [
    {
     "data": {
      "text/html": [
       "<div>\n",
       "<style scoped>\n",
       "    .dataframe tbody tr th:only-of-type {\n",
       "        vertical-align: middle;\n",
       "    }\n",
       "\n",
       "    .dataframe tbody tr th {\n",
       "        vertical-align: top;\n",
       "    }\n",
       "\n",
       "    .dataframe thead th {\n",
       "        text-align: right;\n",
       "    }\n",
       "</style>\n",
       "<table border=\"1\" class=\"dataframe\">\n",
       "  <thead>\n",
       "    <tr style=\"text-align: right;\">\n",
       "      <th></th>\n",
       "      <th>person_age</th>\n",
       "      <th>person_income</th>\n",
       "      <th>person_emp_length</th>\n",
       "      <th>loan_amnt</th>\n",
       "      <th>loan_int_rate</th>\n",
       "      <th>loan_status</th>\n",
       "      <th>loan_percent_income</th>\n",
       "      <th>cb_person_cred_hist_length</th>\n",
       "    </tr>\n",
       "  </thead>\n",
       "  <tbody>\n",
       "    <tr>\n",
       "      <th>count</th>\n",
       "      <td>32581.000000</td>\n",
       "      <td>3.258100e+04</td>\n",
       "      <td>31686.000000</td>\n",
       "      <td>32581.000000</td>\n",
       "      <td>29465.000000</td>\n",
       "      <td>32581.000000</td>\n",
       "      <td>32581.000000</td>\n",
       "      <td>32581.000000</td>\n",
       "    </tr>\n",
       "    <tr>\n",
       "      <th>mean</th>\n",
       "      <td>27.734600</td>\n",
       "      <td>6.607485e+04</td>\n",
       "      <td>4.789686</td>\n",
       "      <td>9589.371106</td>\n",
       "      <td>11.011695</td>\n",
       "      <td>0.218164</td>\n",
       "      <td>0.170203</td>\n",
       "      <td>5.804211</td>\n",
       "    </tr>\n",
       "    <tr>\n",
       "      <th>std</th>\n",
       "      <td>6.348078</td>\n",
       "      <td>6.198312e+04</td>\n",
       "      <td>4.142630</td>\n",
       "      <td>6322.086646</td>\n",
       "      <td>3.240459</td>\n",
       "      <td>0.413006</td>\n",
       "      <td>0.106782</td>\n",
       "      <td>4.055001</td>\n",
       "    </tr>\n",
       "    <tr>\n",
       "      <th>min</th>\n",
       "      <td>20.000000</td>\n",
       "      <td>4.000000e+03</td>\n",
       "      <td>0.000000</td>\n",
       "      <td>500.000000</td>\n",
       "      <td>5.420000</td>\n",
       "      <td>0.000000</td>\n",
       "      <td>0.000000</td>\n",
       "      <td>2.000000</td>\n",
       "    </tr>\n",
       "    <tr>\n",
       "      <th>25%</th>\n",
       "      <td>23.000000</td>\n",
       "      <td>3.850000e+04</td>\n",
       "      <td>2.000000</td>\n",
       "      <td>5000.000000</td>\n",
       "      <td>7.900000</td>\n",
       "      <td>0.000000</td>\n",
       "      <td>0.090000</td>\n",
       "      <td>3.000000</td>\n",
       "    </tr>\n",
       "    <tr>\n",
       "      <th>50%</th>\n",
       "      <td>26.000000</td>\n",
       "      <td>5.500000e+04</td>\n",
       "      <td>4.000000</td>\n",
       "      <td>8000.000000</td>\n",
       "      <td>10.990000</td>\n",
       "      <td>0.000000</td>\n",
       "      <td>0.150000</td>\n",
       "      <td>4.000000</td>\n",
       "    </tr>\n",
       "    <tr>\n",
       "      <th>75%</th>\n",
       "      <td>30.000000</td>\n",
       "      <td>7.920000e+04</td>\n",
       "      <td>7.000000</td>\n",
       "      <td>12200.000000</td>\n",
       "      <td>13.470000</td>\n",
       "      <td>0.000000</td>\n",
       "      <td>0.230000</td>\n",
       "      <td>8.000000</td>\n",
       "    </tr>\n",
       "    <tr>\n",
       "      <th>max</th>\n",
       "      <td>144.000000</td>\n",
       "      <td>6.000000e+06</td>\n",
       "      <td>123.000000</td>\n",
       "      <td>35000.000000</td>\n",
       "      <td>23.220000</td>\n",
       "      <td>1.000000</td>\n",
       "      <td>0.830000</td>\n",
       "      <td>30.000000</td>\n",
       "    </tr>\n",
       "  </tbody>\n",
       "</table>\n",
       "</div>"
      ],
      "text/plain": [
       "         person_age  person_income  person_emp_length     loan_amnt  \\\n",
       "count  32581.000000   3.258100e+04       31686.000000  32581.000000   \n",
       "mean      27.734600   6.607485e+04           4.789686   9589.371106   \n",
       "std        6.348078   6.198312e+04           4.142630   6322.086646   \n",
       "min       20.000000   4.000000e+03           0.000000    500.000000   \n",
       "25%       23.000000   3.850000e+04           2.000000   5000.000000   \n",
       "50%       26.000000   5.500000e+04           4.000000   8000.000000   \n",
       "75%       30.000000   7.920000e+04           7.000000  12200.000000   \n",
       "max      144.000000   6.000000e+06         123.000000  35000.000000   \n",
       "\n",
       "       loan_int_rate   loan_status  loan_percent_income  \\\n",
       "count   29465.000000  32581.000000         32581.000000   \n",
       "mean       11.011695      0.218164             0.170203   \n",
       "std         3.240459      0.413006             0.106782   \n",
       "min         5.420000      0.000000             0.000000   \n",
       "25%         7.900000      0.000000             0.090000   \n",
       "50%        10.990000      0.000000             0.150000   \n",
       "75%        13.470000      0.000000             0.230000   \n",
       "max        23.220000      1.000000             0.830000   \n",
       "\n",
       "       cb_person_cred_hist_length  \n",
       "count                32581.000000  \n",
       "mean                     5.804211  \n",
       "std                      4.055001  \n",
       "min                      2.000000  \n",
       "25%                      3.000000  \n",
       "50%                      4.000000  \n",
       "75%                      8.000000  \n",
       "max                     30.000000  "
      ]
     },
     "execution_count": 5,
     "metadata": {},
     "output_type": "execute_result"
    }
   ],
   "source": [
    "data.describe()"
   ]
  },
  {
   "cell_type": "code",
   "execution_count": 6,
   "id": "f207a00c",
   "metadata": {
    "execution": {
     "iopub.execute_input": "2023-12-09T22:50:54.790498Z",
     "iopub.status.busy": "2023-12-09T22:50:54.789518Z",
     "iopub.status.idle": "2023-12-09T22:50:54.829618Z",
     "shell.execute_reply": "2023-12-09T22:50:54.828292Z"
    },
    "papermill": {
     "duration": 0.056374,
     "end_time": "2023-12-09T22:50:54.832372",
     "exception": false,
     "start_time": "2023-12-09T22:50:54.775998",
     "status": "completed"
    },
    "tags": []
   },
   "outputs": [
    {
     "name": "stdout",
     "output_type": "stream",
     "text": [
      "<class 'pandas.core.frame.DataFrame'>\n",
      "RangeIndex: 32581 entries, 0 to 32580\n",
      "Data columns (total 12 columns):\n",
      " #   Column                      Non-Null Count  Dtype  \n",
      "---  ------                      --------------  -----  \n",
      " 0   person_age                  32581 non-null  int64  \n",
      " 1   person_income               32581 non-null  int64  \n",
      " 2   person_home_ownership       32581 non-null  object \n",
      " 3   person_emp_length           31686 non-null  float64\n",
      " 4   loan_intent                 32581 non-null  object \n",
      " 5   loan_grade                  32581 non-null  object \n",
      " 6   loan_amnt                   32581 non-null  int64  \n",
      " 7   loan_int_rate               29465 non-null  float64\n",
      " 8   loan_status                 32581 non-null  int64  \n",
      " 9   loan_percent_income         32581 non-null  float64\n",
      " 10  cb_person_default_on_file   32581 non-null  object \n",
      " 11  cb_person_cred_hist_length  32581 non-null  int64  \n",
      "dtypes: float64(3), int64(5), object(4)\n",
      "memory usage: 3.0+ MB\n"
     ]
    }
   ],
   "source": [
    "data.info()"
   ]
  },
  {
   "cell_type": "markdown",
   "id": "f322b92d",
   "metadata": {
    "papermill": {
     "duration": 0.012051,
     "end_time": "2023-12-09T22:50:54.857077",
     "exception": false,
     "start_time": "2023-12-09T22:50:54.845026",
     "status": "completed"
    },
    "tags": []
   },
   "source": [
    "# **Checking the dataset for missing values and getting an overal count on the missing data**"
   ]
  },
  {
   "cell_type": "code",
   "execution_count": 7,
   "id": "a43570d5",
   "metadata": {
    "execution": {
     "iopub.execute_input": "2023-12-09T22:50:54.884828Z",
     "iopub.status.busy": "2023-12-09T22:50:54.884029Z",
     "iopub.status.idle": "2023-12-09T22:50:54.907958Z",
     "shell.execute_reply": "2023-12-09T22:50:54.906740Z"
    },
    "papermill": {
     "duration": 0.040224,
     "end_time": "2023-12-09T22:50:54.910405",
     "exception": false,
     "start_time": "2023-12-09T22:50:54.870181",
     "status": "completed"
    },
    "tags": []
   },
   "outputs": [
    {
     "data": {
      "text/plain": [
       "person_age                       0\n",
       "person_income                    0\n",
       "person_home_ownership            0\n",
       "person_emp_length              895\n",
       "loan_intent                      0\n",
       "loan_grade                       0\n",
       "loan_amnt                        0\n",
       "loan_int_rate                 3116\n",
       "loan_status                      0\n",
       "loan_percent_income              0\n",
       "cb_person_default_on_file        0\n",
       "cb_person_cred_hist_length       0\n",
       "dtype: int64"
      ]
     },
     "execution_count": 7,
     "metadata": {},
     "output_type": "execute_result"
    }
   ],
   "source": [
    "data.isnull().sum()"
   ]
  },
  {
   "cell_type": "markdown",
   "id": "199e1b56",
   "metadata": {
    "papermill": {
     "duration": 0.012182,
     "end_time": "2023-12-09T22:50:54.935294",
     "exception": false,
     "start_time": "2023-12-09T22:50:54.923112",
     "status": "completed"
    },
    "tags": []
   },
   "source": [
    "# **The misssing records where droped from the dataset**"
   ]
  },
  {
   "cell_type": "code",
   "execution_count": 8,
   "id": "5e9b665c",
   "metadata": {
    "execution": {
     "iopub.execute_input": "2023-12-09T22:50:54.962582Z",
     "iopub.status.busy": "2023-12-09T22:50:54.962197Z",
     "iopub.status.idle": "2023-12-09T22:50:54.985055Z",
     "shell.execute_reply": "2023-12-09T22:50:54.984061Z"
    },
    "papermill": {
     "duration": 0.03987,
     "end_time": "2023-12-09T22:50:54.987647",
     "exception": false,
     "start_time": "2023-12-09T22:50:54.947777",
     "status": "completed"
    },
    "tags": []
   },
   "outputs": [],
   "source": [
    "data.dropna(axis=0,inplace=True)"
   ]
  },
  {
   "cell_type": "code",
   "execution_count": 9,
   "id": "140fb7ee",
   "metadata": {
    "execution": {
     "iopub.execute_input": "2023-12-09T22:50:55.015268Z",
     "iopub.status.busy": "2023-12-09T22:50:55.014202Z",
     "iopub.status.idle": "2023-12-09T22:50:55.036307Z",
     "shell.execute_reply": "2023-12-09T22:50:55.035193Z"
    },
    "papermill": {
     "duration": 0.038454,
     "end_time": "2023-12-09T22:50:55.038727",
     "exception": false,
     "start_time": "2023-12-09T22:50:55.000273",
     "status": "completed"
    },
    "tags": []
   },
   "outputs": [
    {
     "data": {
      "text/plain": [
       "person_age                    0\n",
       "person_income                 0\n",
       "person_home_ownership         0\n",
       "person_emp_length             0\n",
       "loan_intent                   0\n",
       "loan_grade                    0\n",
       "loan_amnt                     0\n",
       "loan_int_rate                 0\n",
       "loan_status                   0\n",
       "loan_percent_income           0\n",
       "cb_person_default_on_file     0\n",
       "cb_person_cred_hist_length    0\n",
       "dtype: int64"
      ]
     },
     "execution_count": 9,
     "metadata": {},
     "output_type": "execute_result"
    }
   ],
   "source": [
    "data.isnull().sum()"
   ]
  },
  {
   "cell_type": "markdown",
   "id": "7b7cb643",
   "metadata": {
    "papermill": {
     "duration": 0.012414,
     "end_time": "2023-12-09T22:50:55.063921",
     "exception": false,
     "start_time": "2023-12-09T22:50:55.051507",
     "status": "completed"
    },
    "tags": []
   },
   "source": [
    "# **To obtain credile data it is necessery to chech for duplictes** "
   ]
  },
  {
   "cell_type": "code",
   "execution_count": 10,
   "id": "f49e76f9",
   "metadata": {
    "execution": {
     "iopub.execute_input": "2023-12-09T22:50:55.090924Z",
     "iopub.status.busy": "2023-12-09T22:50:55.090235Z",
     "iopub.status.idle": "2023-12-09T22:50:55.113619Z",
     "shell.execute_reply": "2023-12-09T22:50:55.112582Z"
    },
    "papermill": {
     "duration": 0.039558,
     "end_time": "2023-12-09T22:50:55.116017",
     "exception": false,
     "start_time": "2023-12-09T22:50:55.076459",
     "status": "completed"
    },
    "tags": []
   },
   "outputs": [
    {
     "data": {
      "text/plain": [
       "person_age                      57\n",
       "person_income                 3835\n",
       "person_home_ownership            4\n",
       "person_emp_length               36\n",
       "loan_intent                      6\n",
       "loan_grade                       7\n",
       "loan_amnt                      728\n",
       "loan_int_rate                  348\n",
       "loan_status                      2\n",
       "loan_percent_income             77\n",
       "cb_person_default_on_file        2\n",
       "cb_person_cred_hist_length      29\n",
       "dtype: int64"
      ]
     },
     "execution_count": 10,
     "metadata": {},
     "output_type": "execute_result"
    }
   ],
   "source": [
    "data.nunique()"
   ]
  },
  {
   "cell_type": "code",
   "execution_count": 11,
   "id": "30bd7763",
   "metadata": {
    "execution": {
     "iopub.execute_input": "2023-12-09T22:50:55.144167Z",
     "iopub.status.busy": "2023-12-09T22:50:55.143192Z",
     "iopub.status.idle": "2023-12-09T22:50:55.168249Z",
     "shell.execute_reply": "2023-12-09T22:50:55.167129Z"
    },
    "papermill": {
     "duration": 0.041748,
     "end_time": "2023-12-09T22:50:55.170863",
     "exception": false,
     "start_time": "2023-12-09T22:50:55.129115",
     "status": "completed"
    },
    "tags": []
   },
   "outputs": [
    {
     "data": {
      "text/plain": [
       "137"
      ]
     },
     "execution_count": 11,
     "metadata": {},
     "output_type": "execute_result"
    }
   ],
   "source": [
    "data.duplicated().sum()"
   ]
  },
  {
   "cell_type": "markdown",
   "id": "4e49d42f",
   "metadata": {
    "papermill": {
     "duration": 0.012922,
     "end_time": "2023-12-09T22:50:55.196744",
     "exception": false,
     "start_time": "2023-12-09T22:50:55.183822",
     "status": "completed"
    },
    "tags": []
   },
   "source": [
    "# **Looking for outliers and dealing with them**"
   ]
  },
  {
   "cell_type": "code",
   "execution_count": 12,
   "id": "9e100957",
   "metadata": {
    "execution": {
     "iopub.execute_input": "2023-12-09T22:50:55.224557Z",
     "iopub.status.busy": "2023-12-09T22:50:55.224144Z",
     "iopub.status.idle": "2023-12-09T22:50:55.237797Z",
     "shell.execute_reply": "2023-12-09T22:50:55.236612Z"
    },
    "papermill": {
     "duration": 0.030576,
     "end_time": "2023-12-09T22:50:55.240199",
     "exception": false,
     "start_time": "2023-12-09T22:50:55.209623",
     "status": "completed"
    },
    "tags": []
   },
   "outputs": [
    {
     "name": "stdout",
     "output_type": "stream",
     "text": [
      "The maximum Age 144\n",
      "The minimum Age 20\n",
      "Peple with age between 1 and 18: 0\n",
      "Peple with age between 19 and 26: 15682\n",
      "Peple with age between 27 and 36: 10422\n",
      "Peple with age between 37 and 46: 2054\n",
      "Peple with age between 47 and 56: 372\n",
      "Peple with age between 57 and 66: 87\n"
     ]
    }
   ],
   "source": [
    "max_age = data['person_age'].max()\n",
    "min_age = data['person_age'].min()\n",
    "print(f\"The maximum Age {max_age}\")\n",
    "print(f\"The minimum Age {min_age}\")\n",
    "\n",
    "# people with an age between x and y\n",
    "def age_group(arr):\n",
    "    lenarr = len(arr)\n",
    "    for i in range(0,lenarr-1):\n",
    "        next = arr[i]+1\n",
    "        num_people = data['person_age'].between(next,arr[i+1]).sum()\n",
    "        print(f'Peple with age between {next} and {arr[i+1]}: {num_people}')\n",
    "        \n",
    "age_group([0 ,18, 26, 36, 46, 56, 66])\n"
   ]
  },
  {
   "cell_type": "code",
   "execution_count": 13,
   "id": "78fbc6d9",
   "metadata": {
    "execution": {
     "iopub.execute_input": "2023-12-09T22:50:55.268490Z",
     "iopub.status.busy": "2023-12-09T22:50:55.268117Z",
     "iopub.status.idle": "2023-12-09T22:50:55.697248Z",
     "shell.execute_reply": "2023-12-09T22:50:55.696183Z"
    },
    "papermill": {
     "duration": 0.446451,
     "end_time": "2023-12-09T22:50:55.699761",
     "exception": false,
     "start_time": "2023-12-09T22:50:55.253310",
     "status": "completed"
    },
    "tags": []
   },
   "outputs": [
    {
     "data": {
      "text/plain": [
       "<BarContainer object of 57 artists>"
      ]
     },
     "execution_count": 13,
     "metadata": {},
     "output_type": "execute_result"
    },
    {
     "data": {
      "image/png": "[encoded data removed]",
      "text/plain": [
       "<Figure size 1500x500 with 1 Axes>"
      ]
     },
     "metadata": {},
     "output_type": "display_data"
    }
   ],
   "source": [
    "import matplotlib.pyplot as plt \n",
    "verti = data['person_age'].value_counts().values\n",
    "hori = data['person_age'].value_counts().index\n",
    "fig = plt.figure(figsize = (15, 5))\n",
    "plt.bar(hori, verti)"
   ]
  },
  {
   "cell_type": "code",
   "execution_count": 14,
   "id": "b64f50bf",
   "metadata": {
    "execution": {
     "iopub.execute_input": "2023-12-09T22:50:55.730695Z",
     "iopub.status.busy": "2023-12-09T22:50:55.730275Z",
     "iopub.status.idle": "2023-12-09T22:50:55.739035Z",
     "shell.execute_reply": "2023-12-09T22:50:55.737928Z"
    },
    "papermill": {
     "duration": 0.026801,
     "end_time": "2023-12-09T22:50:55.741384",
     "exception": false,
     "start_time": "2023-12-09T22:50:55.714583",
     "status": "completed"
    },
    "tags": []
   },
   "outputs": [
    {
     "data": {
      "text/plain": [
       "28"
      ]
     },
     "execution_count": 14,
     "metadata": {},
     "output_type": "execute_result"
    }
   ],
   "source": [
    "(data['person_age'].value_counts().values>60).sum()"
   ]
  },
  {
   "cell_type": "markdown",
   "id": "a5ac7ceb",
   "metadata": {
    "papermill": {
     "duration": 0.013549,
     "end_time": "2023-12-09T22:50:55.768639",
     "exception": false,
     "start_time": "2023-12-09T22:50:55.755090",
     "status": "completed"
    },
    "tags": []
   },
   "source": [
    "The above infromation casts a light on the age feature and shows that ages above 60 are outliers hence  the best way is to remove values with ages above 60"
   ]
  },
  {
   "cell_type": "code",
   "execution_count": 15,
   "id": "c76d114e",
   "metadata": {
    "execution": {
     "iopub.execute_input": "2023-12-09T22:50:55.797972Z",
     "iopub.status.busy": "2023-12-09T22:50:55.797566Z",
     "iopub.status.idle": "2023-12-09T22:50:55.807713Z",
     "shell.execute_reply": "2023-12-09T22:50:55.806607Z"
    },
    "papermill": {
     "duration": 0.027579,
     "end_time": "2023-12-09T22:50:55.810039",
     "exception": false,
     "start_time": "2023-12-09T22:50:55.782460",
     "status": "completed"
    },
    "tags": []
   },
   "outputs": [],
   "source": [
    "data = data.drop(data[data['person_age'] > 60].index, axis=0)"
   ]
  },
  {
   "cell_type": "code",
   "execution_count": 16,
   "id": "d020b5d2",
   "metadata": {
    "execution": {
     "iopub.execute_input": "2023-12-09T22:50:55.839370Z",
     "iopub.status.busy": "2023-12-09T22:50:55.838977Z",
     "iopub.status.idle": "2023-12-09T22:50:55.847811Z",
     "shell.execute_reply": "2023-12-09T22:50:55.846842Z"
    },
    "papermill": {
     "duration": 0.026348,
     "end_time": "2023-12-09T22:50:55.850284",
     "exception": false,
     "start_time": "2023-12-09T22:50:55.823936",
     "status": "completed"
    },
    "tags": []
   },
   "outputs": [],
   "source": [
    "data['age_group'] = pd.cut(data['person_age'],\n",
    "                           bins=[20, 26, 36, 46, 56, 66],\n",
    "                           labels=['20-25', '26-35', '36-45', '46-55', '56-60'])"
   ]
  },
  {
   "cell_type": "code",
   "execution_count": 17,
   "id": "70b30c57",
   "metadata": {
    "execution": {
     "iopub.execute_input": "2023-12-09T22:50:55.880583Z",
     "iopub.status.busy": "2023-12-09T22:50:55.880183Z",
     "iopub.status.idle": "2023-12-09T22:50:55.887977Z",
     "shell.execute_reply": "2023-12-09T22:50:55.886861Z"
    },
    "papermill": {
     "duration": 0.026015,
     "end_time": "2023-12-09T22:50:55.890242",
     "exception": false,
     "start_time": "2023-12-09T22:50:55.864227",
     "status": "completed"
    },
    "tags": []
   },
   "outputs": [
    {
     "data": {
      "text/plain": [
       "CategoricalDtype(categories=['20-25', '26-35', '36-45', '46-55', '56-60'], ordered=True)"
      ]
     },
     "execution_count": 17,
     "metadata": {},
     "output_type": "execute_result"
    }
   ],
   "source": [
    "data['age_group'].dtype"
   ]
  },
  {
   "cell_type": "code",
   "execution_count": 18,
   "id": "c5e3a266",
   "metadata": {
    "execution": {
     "iopub.execute_input": "2023-12-09T22:50:55.982528Z",
     "iopub.status.busy": "2023-12-09T22:50:55.981426Z",
     "iopub.status.idle": "2023-12-09T22:50:56.003319Z",
     "shell.execute_reply": "2023-12-09T22:50:56.002083Z"
    },
    "papermill": {
     "duration": 0.101771,
     "end_time": "2023-12-09T22:50:56.005836",
     "exception": false,
     "start_time": "2023-12-09T22:50:55.904065",
     "status": "completed"
    },
    "tags": []
   },
   "outputs": [
    {
     "data": {
      "text/html": [
       "<div>\n",
       "<style scoped>\n",
       "    .dataframe tbody tr th:only-of-type {\n",
       "        vertical-align: middle;\n",
       "    }\n",
       "\n",
       "    .dataframe tbody tr th {\n",
       "        vertical-align: top;\n",
       "    }\n",
       "\n",
       "    .dataframe thead th {\n",
       "        text-align: right;\n",
       "    }\n",
       "</style>\n",
       "<table border=\"1\" class=\"dataframe\">\n",
       "  <thead>\n",
       "    <tr style=\"text-align: right;\">\n",
       "      <th></th>\n",
       "      <th>person_age</th>\n",
       "      <th>person_income</th>\n",
       "      <th>person_home_ownership</th>\n",
       "      <th>person_emp_length</th>\n",
       "      <th>loan_intent</th>\n",
       "      <th>loan_grade</th>\n",
       "      <th>loan_amnt</th>\n",
       "      <th>loan_int_rate</th>\n",
       "      <th>loan_status</th>\n",
       "      <th>loan_percent_income</th>\n",
       "      <th>cb_person_default_on_file</th>\n",
       "      <th>cb_person_cred_hist_length</th>\n",
       "      <th>age_group</th>\n",
       "    </tr>\n",
       "  </thead>\n",
       "  <tbody>\n",
       "    <tr>\n",
       "      <th>0</th>\n",
       "      <td>22</td>\n",
       "      <td>59000</td>\n",
       "      <td>RENT</td>\n",
       "      <td>123.0</td>\n",
       "      <td>PERSONAL</td>\n",
       "      <td>D</td>\n",
       "      <td>35000</td>\n",
       "      <td>16.02</td>\n",
       "      <td>1</td>\n",
       "      <td>0.59</td>\n",
       "      <td>Y</td>\n",
       "      <td>3</td>\n",
       "      <td>20-25</td>\n",
       "    </tr>\n",
       "    <tr>\n",
       "      <th>1</th>\n",
       "      <td>21</td>\n",
       "      <td>9600</td>\n",
       "      <td>OWN</td>\n",
       "      <td>5.0</td>\n",
       "      <td>EDUCATION</td>\n",
       "      <td>B</td>\n",
       "      <td>1000</td>\n",
       "      <td>11.14</td>\n",
       "      <td>0</td>\n",
       "      <td>0.10</td>\n",
       "      <td>N</td>\n",
       "      <td>2</td>\n",
       "      <td>20-25</td>\n",
       "    </tr>\n",
       "    <tr>\n",
       "      <th>2</th>\n",
       "      <td>25</td>\n",
       "      <td>9600</td>\n",
       "      <td>MORTGAGE</td>\n",
       "      <td>1.0</td>\n",
       "      <td>MEDICAL</td>\n",
       "      <td>C</td>\n",
       "      <td>5500</td>\n",
       "      <td>12.87</td>\n",
       "      <td>1</td>\n",
       "      <td>0.57</td>\n",
       "      <td>N</td>\n",
       "      <td>3</td>\n",
       "      <td>20-25</td>\n",
       "    </tr>\n",
       "    <tr>\n",
       "      <th>3</th>\n",
       "      <td>23</td>\n",
       "      <td>65500</td>\n",
       "      <td>RENT</td>\n",
       "      <td>4.0</td>\n",
       "      <td>MEDICAL</td>\n",
       "      <td>C</td>\n",
       "      <td>35000</td>\n",
       "      <td>15.23</td>\n",
       "      <td>1</td>\n",
       "      <td>0.53</td>\n",
       "      <td>N</td>\n",
       "      <td>2</td>\n",
       "      <td>20-25</td>\n",
       "    </tr>\n",
       "    <tr>\n",
       "      <th>4</th>\n",
       "      <td>24</td>\n",
       "      <td>54400</td>\n",
       "      <td>RENT</td>\n",
       "      <td>8.0</td>\n",
       "      <td>MEDICAL</td>\n",
       "      <td>C</td>\n",
       "      <td>35000</td>\n",
       "      <td>14.27</td>\n",
       "      <td>1</td>\n",
       "      <td>0.55</td>\n",
       "      <td>Y</td>\n",
       "      <td>4</td>\n",
       "      <td>20-25</td>\n",
       "    </tr>\n",
       "  </tbody>\n",
       "</table>\n",
       "</div>"
      ],
      "text/plain": [
       "   person_age  person_income person_home_ownership  person_emp_length  \\\n",
       "0          22          59000                  RENT              123.0   \n",
       "1          21           9600                   OWN                5.0   \n",
       "2          25           9600              MORTGAGE                1.0   \n",
       "3          23          65500                  RENT                4.0   \n",
       "4          24          54400                  RENT                8.0   \n",
       "\n",
       "  loan_intent loan_grade  loan_amnt  loan_int_rate  loan_status  \\\n",
       "0    PERSONAL          D      35000          16.02            1   \n",
       "1   EDUCATION          B       1000          11.14            0   \n",
       "2     MEDICAL          C       5500          12.87            1   \n",
       "3     MEDICAL          C      35000          15.23            1   \n",
       "4     MEDICAL          C      35000          14.27            1   \n",
       "\n",
       "   loan_percent_income cb_person_default_on_file  cb_person_cred_hist_length  \\\n",
       "0                 0.59                         Y                           3   \n",
       "1                 0.10                         N                           2   \n",
       "2                 0.57                         N                           3   \n",
       "3                 0.53                         N                           2   \n",
       "4                 0.55                         Y                           4   \n",
       "\n",
       "  age_group  \n",
       "0     20-25  \n",
       "1     20-25  \n",
       "2     20-25  \n",
       "3     20-25  \n",
       "4     20-25  "
      ]
     },
     "execution_count": 18,
     "metadata": {},
     "output_type": "execute_result"
    }
   ],
   "source": [
    "data.head()"
   ]
  },
  {
   "cell_type": "markdown",
   "id": "edee8727",
   "metadata": {
    "papermill": {
     "duration": 0.014318,
     "end_time": "2023-12-09T22:50:56.035291",
     "exception": false,
     "start_time": "2023-12-09T22:50:56.020973",
     "status": "completed"
    },
    "tags": []
   },
   "source": [
    "# **The next feature is the income field**"
   ]
  },
  {
   "cell_type": "code",
   "execution_count": 19,
   "id": "046af54f",
   "metadata": {
    "execution": {
     "iopub.execute_input": "2023-12-09T22:50:56.066327Z",
     "iopub.status.busy": "2023-12-09T22:50:56.065943Z",
     "iopub.status.idle": "2023-12-09T22:50:56.079726Z",
     "shell.execute_reply": "2023-12-09T22:50:56.078542Z"
    },
    "papermill": {
     "duration": 0.032192,
     "end_time": "2023-12-09T22:50:56.082058",
     "exception": false,
     "start_time": "2023-12-09T22:50:56.049866",
     "status": "completed"
    },
    "tags": []
   },
   "outputs": [
    {
     "name": "stdout",
     "output_type": "stream",
     "text": [
      "The largest Income is 2039784\n",
      "The smallest Income is  4000\n",
      "Income between 1 and 25000: Number of people 1967\n",
      "Income between 25001 and 50000: Number of people 10181\n",
      "Income between 50001 and 75000: Number of people 8522\n",
      "Income between 75001 and 100000: Number of people 4187\n",
      "Income between 100001 and inf: Number of people 3723\n"
     ]
    }
   ],
   "source": [
    "max_income = data['person_income'].max()\n",
    "min_income = data['person_income'].min()\n",
    "\n",
    "print(f\"The largest Income is {max_income}\")\n",
    "print(f\"The smallest Income is  {min_income}\")\n",
    "\n",
    "#people with an income between x and y\n",
    "def income_group(arr):\n",
    "    lenarr = len(arr)\n",
    "    for i in range(0,lenarr-1):\n",
    "        next = arr[i]+1\n",
    "        num_people = data['person_income'].between(next,arr[i+1]).sum()\n",
    "        print(f'Income between {next} and {arr[i+1]}: Number of people {num_people}')\n",
    "        \n",
    "income_group([0, 25000, 50000, 75000, 100000,float('inf')])"
   ]
  },
  {
   "cell_type": "code",
   "execution_count": 20,
   "id": "e5b2f87f",
   "metadata": {
    "execution": {
     "iopub.execute_input": "2023-12-09T22:50:56.113258Z",
     "iopub.status.busy": "2023-12-09T22:50:56.112850Z",
     "iopub.status.idle": "2023-12-09T22:50:56.122193Z",
     "shell.execute_reply": "2023-12-09T22:50:56.120966Z"
    },
    "papermill": {
     "duration": 0.027922,
     "end_time": "2023-12-09T22:50:56.124866",
     "exception": false,
     "start_time": "2023-12-09T22:50:56.096944",
     "status": "completed"
    },
    "tags": []
   },
   "outputs": [],
   "source": [
    "data['income_group'] = pd.cut(data['person_income'],\n",
    "                              bins=[0, 25000, 50000, 75000, 100000, float('inf')],\n",
    "                              labels=['low', 'low-middle', 'middle', 'high-middle', 'high'])\n"
   ]
  },
  {
   "cell_type": "code",
   "execution_count": 21,
   "id": "103dc38f",
   "metadata": {
    "execution": {
     "iopub.execute_input": "2023-12-09T22:50:56.157204Z",
     "iopub.status.busy": "2023-12-09T22:50:56.156505Z",
     "iopub.status.idle": "2023-12-09T22:50:56.166910Z",
     "shell.execute_reply": "2023-12-09T22:50:56.165839Z"
    },
    "papermill": {
     "duration": 0.029247,
     "end_time": "2023-12-09T22:50:56.168953",
     "exception": false,
     "start_time": "2023-12-09T22:50:56.139706",
     "status": "completed"
    },
    "tags": []
   },
   "outputs": [
    {
     "data": {
      "text/plain": [
       "0        middle\n",
       "1           low\n",
       "2           low\n",
       "3        middle\n",
       "4        middle\n",
       "          ...  \n",
       "32574    middle\n",
       "32575    middle\n",
       "32576    middle\n",
       "32577      high\n",
       "32579      high\n",
       "Name: income_group, Length: 28580, dtype: category\n",
       "Categories (5, object): ['low' < 'low-middle' < 'middle' < 'high-middle' < 'high']"
      ]
     },
     "execution_count": 21,
     "metadata": {},
     "output_type": "execute_result"
    }
   ],
   "source": [
    "data['income_group']"
   ]
  },
  {
   "cell_type": "markdown",
   "id": "f9244c92",
   "metadata": {
    "papermill": {
     "duration": 0.014462,
     "end_time": "2023-12-09T22:50:56.198374",
     "exception": false,
     "start_time": "2023-12-09T22:50:56.183912",
     "status": "completed"
    },
    "tags": []
   },
   "source": [
    "# **Checking and dealing with the loan ammount feature**"
   ]
  },
  {
   "cell_type": "code",
   "execution_count": 22,
   "id": "845c0aaa",
   "metadata": {
    "execution": {
     "iopub.execute_input": "2023-12-09T22:50:56.229765Z",
     "iopub.status.busy": "2023-12-09T22:50:56.229329Z",
     "iopub.status.idle": "2023-12-09T22:50:56.242236Z",
     "shell.execute_reply": "2023-12-09T22:50:56.240774Z"
    },
    "papermill": {
     "duration": 0.031726,
     "end_time": "2023-12-09T22:50:56.244851",
     "exception": false,
     "start_time": "2023-12-09T22:50:56.213125",
     "status": "completed"
    },
    "tags": []
   },
   "outputs": [
    {
     "name": "stdout",
     "output_type": "stream",
     "text": [
      "maximum Loan Amount 35000\n",
      "minimum Loan Amount 500\n",
      "Loan Amount between 1 and 5000: Number of people 8170\n",
      "Loan Amount between 5001 and 10000: Number of people 10592\n",
      "Loan Amount between 10001 and 15000: Number of people 5421\n",
      "Loan Amount between 15001 and inf: Number of people 4397\n"
     ]
    }
   ],
   "source": [
    "max_loan_amount = data['loan_amnt'].max()\n",
    "min_loan_amount = data['loan_amnt'].min()\n",
    "\n",
    "print(f\"maximum Loan Amount {max_loan_amount}\")\n",
    "print(f\"minimum Loan Amount {min_loan_amount}\")\n",
    "\n",
    "# people with an income between x and y\n",
    "def loan_amount_group(arr):\n",
    "    lenarr = len(arr)\n",
    "    for i in range(0,lenarr-1):\n",
    "        next = arr[i]+1\n",
    "        num_people = data['loan_amnt'].between(next,arr[i+1]).sum()\n",
    "        print(f'Loan Amount between {next} and {arr[i+1]}: Number of people {num_people}')\n",
    "        \n",
    "loan_amount_group([0, 5000, 10000, 15000, float('inf')])"
   ]
  },
  {
   "cell_type": "code",
   "execution_count": 23,
   "id": "c8401c44",
   "metadata": {
    "execution": {
     "iopub.execute_input": "2023-12-09T22:50:56.276728Z",
     "iopub.status.busy": "2023-12-09T22:50:56.276350Z",
     "iopub.status.idle": "2023-12-09T22:50:56.284814Z",
     "shell.execute_reply": "2023-12-09T22:50:56.283705Z"
    },
    "papermill": {
     "duration": 0.027077,
     "end_time": "2023-12-09T22:50:56.287254",
     "exception": false,
     "start_time": "2023-12-09T22:50:56.260177",
     "status": "completed"
    },
    "tags": []
   },
   "outputs": [],
   "source": [
    "data['loan_amount_group'] = pd.cut(data['loan_amnt'],\n",
    "                                   bins=[0, 5000, 10000, 15000, float('inf')],\n",
    "                                   labels=['small', 'medium', 'large', 'very large'])"
   ]
  },
  {
   "cell_type": "code",
   "execution_count": 24,
   "id": "fbc6f655",
   "metadata": {
    "execution": {
     "iopub.execute_input": "2023-12-09T22:50:56.318854Z",
     "iopub.status.busy": "2023-12-09T22:50:56.318421Z",
     "iopub.status.idle": "2023-12-09T22:50:56.328916Z",
     "shell.execute_reply": "2023-12-09T22:50:56.327710Z"
    },
    "papermill": {
     "duration": 0.029246,
     "end_time": "2023-12-09T22:50:56.331471",
     "exception": false,
     "start_time": "2023-12-09T22:50:56.302225",
     "status": "completed"
    },
    "tags": []
   },
   "outputs": [
    {
     "data": {
      "text/plain": [
       "0        very large\n",
       "1             small\n",
       "2            medium\n",
       "3        very large\n",
       "4        very large\n",
       "            ...    \n",
       "32574    very large\n",
       "32575         small\n",
       "32576        medium\n",
       "32577    very large\n",
       "32579         large\n",
       "Name: loan_amount_group, Length: 28580, dtype: category\n",
       "Categories (4, object): ['small' < 'medium' < 'large' < 'very large']"
      ]
     },
     "execution_count": 24,
     "metadata": {},
     "output_type": "execute_result"
    }
   ],
   "source": [
    "data['loan_amount_group']"
   ]
  },
  {
   "cell_type": "code",
   "execution_count": 25,
   "id": "a45e783e",
   "metadata": {
    "execution": {
     "iopub.execute_input": "2023-12-09T22:50:56.363989Z",
     "iopub.status.busy": "2023-12-09T22:50:56.363503Z",
     "iopub.status.idle": "2023-12-09T22:50:56.376390Z",
     "shell.execute_reply": "2023-12-09T22:50:56.375411Z"
    },
    "papermill": {
     "duration": 0.031589,
     "end_time": "2023-12-09T22:50:56.378536",
     "exception": false,
     "start_time": "2023-12-09T22:50:56.346947",
     "status": "completed"
    },
    "tags": []
   },
   "outputs": [
    {
     "data": {
      "text/plain": [
       "person_home_ownership\n",
       "RENT        14515\n",
       "MORTGAGE    11779\n",
       "OWN          2192\n",
       "OTHER          94\n",
       "Name: count, dtype: int64"
      ]
     },
     "execution_count": 25,
     "metadata": {},
     "output_type": "execute_result"
    }
   ],
   "source": [
    "data['person_home_ownership'].value_counts()"
   ]
  },
  {
   "cell_type": "code",
   "execution_count": 26,
   "id": "6d0ccd72",
   "metadata": {
    "execution": {
     "iopub.execute_input": "2023-12-09T22:50:56.411989Z",
     "iopub.status.busy": "2023-12-09T22:50:56.411521Z",
     "iopub.status.idle": "2023-12-09T22:50:56.434131Z",
     "shell.execute_reply": "2023-12-09T22:50:56.433029Z"
    },
    "papermill": {
     "duration": 0.042154,
     "end_time": "2023-12-09T22:50:56.436629",
     "exception": false,
     "start_time": "2023-12-09T22:50:56.394475",
     "status": "completed"
    },
    "tags": []
   },
   "outputs": [
    {
     "data": {
      "text/html": [
       "<div>\n",
       "<style scoped>\n",
       "    .dataframe tbody tr th:only-of-type {\n",
       "        vertical-align: middle;\n",
       "    }\n",
       "\n",
       "    .dataframe tbody tr th {\n",
       "        vertical-align: top;\n",
       "    }\n",
       "\n",
       "    .dataframe thead th {\n",
       "        text-align: right;\n",
       "    }\n",
       "</style>\n",
       "<table border=\"1\" class=\"dataframe\">\n",
       "  <thead>\n",
       "    <tr style=\"text-align: right;\">\n",
       "      <th></th>\n",
       "      <th>person_age</th>\n",
       "      <th>person_income</th>\n",
       "      <th>person_home_ownership</th>\n",
       "      <th>person_emp_length</th>\n",
       "      <th>loan_intent</th>\n",
       "      <th>loan_grade</th>\n",
       "      <th>loan_amnt</th>\n",
       "      <th>loan_int_rate</th>\n",
       "      <th>loan_status</th>\n",
       "      <th>loan_percent_income</th>\n",
       "      <th>cb_person_default_on_file</th>\n",
       "      <th>cb_person_cred_hist_length</th>\n",
       "      <th>age_group</th>\n",
       "      <th>income_group</th>\n",
       "      <th>loan_amount_group</th>\n",
       "    </tr>\n",
       "  </thead>\n",
       "  <tbody>\n",
       "    <tr>\n",
       "      <th>0</th>\n",
       "      <td>22</td>\n",
       "      <td>59000</td>\n",
       "      <td>RENT</td>\n",
       "      <td>123.0</td>\n",
       "      <td>PERSONAL</td>\n",
       "      <td>D</td>\n",
       "      <td>35000</td>\n",
       "      <td>16.02</td>\n",
       "      <td>1</td>\n",
       "      <td>0.59</td>\n",
       "      <td>Y</td>\n",
       "      <td>3</td>\n",
       "      <td>20-25</td>\n",
       "      <td>middle</td>\n",
       "      <td>very large</td>\n",
       "    </tr>\n",
       "    <tr>\n",
       "      <th>1</th>\n",
       "      <td>21</td>\n",
       "      <td>9600</td>\n",
       "      <td>OWN</td>\n",
       "      <td>5.0</td>\n",
       "      <td>EDUCATION</td>\n",
       "      <td>B</td>\n",
       "      <td>1000</td>\n",
       "      <td>11.14</td>\n",
       "      <td>0</td>\n",
       "      <td>0.10</td>\n",
       "      <td>N</td>\n",
       "      <td>2</td>\n",
       "      <td>20-25</td>\n",
       "      <td>low</td>\n",
       "      <td>small</td>\n",
       "    </tr>\n",
       "    <tr>\n",
       "      <th>2</th>\n",
       "      <td>25</td>\n",
       "      <td>9600</td>\n",
       "      <td>MORTGAGE</td>\n",
       "      <td>1.0</td>\n",
       "      <td>MEDICAL</td>\n",
       "      <td>C</td>\n",
       "      <td>5500</td>\n",
       "      <td>12.87</td>\n",
       "      <td>1</td>\n",
       "      <td>0.57</td>\n",
       "      <td>N</td>\n",
       "      <td>3</td>\n",
       "      <td>20-25</td>\n",
       "      <td>low</td>\n",
       "      <td>medium</td>\n",
       "    </tr>\n",
       "    <tr>\n",
       "      <th>3</th>\n",
       "      <td>23</td>\n",
       "      <td>65500</td>\n",
       "      <td>RENT</td>\n",
       "      <td>4.0</td>\n",
       "      <td>MEDICAL</td>\n",
       "      <td>C</td>\n",
       "      <td>35000</td>\n",
       "      <td>15.23</td>\n",
       "      <td>1</td>\n",
       "      <td>0.53</td>\n",
       "      <td>N</td>\n",
       "      <td>2</td>\n",
       "      <td>20-25</td>\n",
       "      <td>middle</td>\n",
       "      <td>very large</td>\n",
       "    </tr>\n",
       "    <tr>\n",
       "      <th>4</th>\n",
       "      <td>24</td>\n",
       "      <td>54400</td>\n",
       "      <td>RENT</td>\n",
       "      <td>8.0</td>\n",
       "      <td>MEDICAL</td>\n",
       "      <td>C</td>\n",
       "      <td>35000</td>\n",
       "      <td>14.27</td>\n",
       "      <td>1</td>\n",
       "      <td>0.55</td>\n",
       "      <td>Y</td>\n",
       "      <td>4</td>\n",
       "      <td>20-25</td>\n",
       "      <td>middle</td>\n",
       "      <td>very large</td>\n",
       "    </tr>\n",
       "  </tbody>\n",
       "</table>\n",
       "</div>"
      ],
      "text/plain": [
       "   person_age  person_income person_home_ownership  person_emp_length  \\\n",
       "0          22          59000                  RENT              123.0   \n",
       "1          21           9600                   OWN                5.0   \n",
       "2          25           9600              MORTGAGE                1.0   \n",
       "3          23          65500                  RENT                4.0   \n",
       "4          24          54400                  RENT                8.0   \n",
       "\n",
       "  loan_intent loan_grade  loan_amnt  loan_int_rate  loan_status  \\\n",
       "0    PERSONAL          D      35000          16.02            1   \n",
       "1   EDUCATION          B       1000          11.14            0   \n",
       "2     MEDICAL          C       5500          12.87            1   \n",
       "3     MEDICAL          C      35000          15.23            1   \n",
       "4     MEDICAL          C      35000          14.27            1   \n",
       "\n",
       "   loan_percent_income cb_person_default_on_file  cb_person_cred_hist_length  \\\n",
       "0                 0.59                         Y                           3   \n",
       "1                 0.10                         N                           2   \n",
       "2                 0.57                         N                           3   \n",
       "3                 0.53                         N                           2   \n",
       "4                 0.55                         Y                           4   \n",
       "\n",
       "  age_group income_group loan_amount_group  \n",
       "0     20-25       middle        very large  \n",
       "1     20-25          low             small  \n",
       "2     20-25          low            medium  \n",
       "3     20-25       middle        very large  \n",
       "4     20-25       middle        very large  "
      ]
     },
     "execution_count": 26,
     "metadata": {},
     "output_type": "execute_result"
    }
   ],
   "source": [
    "data.head()"
   ]
  }
 ],
 "metadata": {
  "kaggle": {
   "accelerator": "none",
   "dataSources": [
    {
     "datasetId": 4103569,
     "sourceId": 7115609,
     "sourceType": "datasetVersion"
    }
   ],
   "dockerImageVersionId": 30587,
   "isGpuEnabled": false,
   "isInternetEnabled": true,
   "language": "python",
   "sourceType": "notebook"
  },
  "kernelspec": {
   "display_name": "Python 3",
   "language": "python",
   "name": "python3"
  },
  "language_info": {
   "codemirror_mode": {
    "name": "ipython",
    "version": 3
   },
   "file_extension": ".py",
   "mimetype": "text/x-python",
   "name": "python",
   "nbconvert_exporter": "python",
   "pygments_lexer": "ipython3",
   "version": "3.10.12"
  },
  "papermill": {
   "default_parameters": {},
   "duration": 7.343452,
   "end_time": "2023-12-09T22:50:56.973424",
   "environment_variables": {},
   "exception": null,
   "input_path": "__notebook__.ipynb",
   "output_path": "__notebook__.ipynb",
   "parameters": {},
   "start_time": "2023-12-09T22:50:49.629972",
   "version": "2.4.0"
  }
 },
 "nbformat": 4,
 "nbformat_minor": 5
}
