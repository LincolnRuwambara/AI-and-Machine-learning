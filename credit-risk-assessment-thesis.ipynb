{
 "cells": [
  {
   "cell_type": "code",
   "execution_count": 1,
   "id": "189c81e1",
   "metadata": {
    "_cell_guid": "b1076dfc-b9ad-4769-8c92-a6c4dae69d19",
    "_uuid": "8f2839f25d086af736a60e9eeb907d3b93b6e0e5",
    "execution": {
     "iopub.execute_input": "2024-01-07T18:16:53.598855Z",
     "iopub.status.busy": "2024-01-07T18:16:53.598332Z",
     "iopub.status.idle": "2024-01-07T18:16:54.576979Z",
     "shell.execute_reply": "2024-01-07T18:16:54.575676Z"
    },
    "papermill": {
     "duration": 1.003694,
     "end_time": "2024-01-07T18:16:54.579613",
     "exception": false,
     "start_time": "2024-01-07T18:16:53.575919",
     "status": "completed"
    },
    "tags": []
   },
   "outputs": [
    {
     "name": "stdout",
     "output_type": "stream",
     "text": [
      "/kaggle/input/credit-risk/credit_risk_dataset.csv\n"
     ]
    }
   ],
   "source": [
    "# This Python 3 environment comes with many helpful analytics libraries installed\n",
    "# It is defined by the kaggle/python Docker image: https://github.com/kaggle/docker-python\n",
    "# For example, here's several helpful packages to load\n",
    "\n",
    "import numpy as np # linear algebra\n",
    "import pandas as pd # data processing, CSV file I/O (e.g. pd.read_csv)\n",
    "\n",
    "# Input data files are available in the read-only \"../input/\" directory\n",
    "# For example, running this (by clicking run or pressing Shift+Enter) will list all files under the input directory\n",
    "\n",
    "\n",
    "import os\n",
    "for dirname, _, filenames in os.walk('/kaggle/input'):\n",
    "    for filename in filenames:\n",
    "        print(os.path.join(dirname, filename))\n",
    "\n",
    "# You can write up to 20GB to the current directory (/kaggle/working/) that gets preserved as output when you create a version using \"Save & Run All\" \n",
    "# You can also write temporary files to /kaggle/temp/, but they won't be saved outside of the current session"
   ]
  },
  {
   "cell_type": "markdown",
   "id": "1e3b4c22",
   "metadata": {
    "papermill": {
     "duration": 0.021202,
     "end_time": "2024-01-07T18:16:54.621609",
     "exception": false,
     "start_time": "2024-01-07T18:16:54.600407",
     "status": "completed"
    },
    "tags": []
   },
   "source": [
    "# **Reading the Dataset**"
   ]
  },
  {
   "cell_type": "code",
   "execution_count": 2,
   "id": "affe725c",
   "metadata": {
    "execution": {
     "iopub.execute_input": "2024-01-07T18:16:54.665393Z",
     "iopub.status.busy": "2024-01-07T18:16:54.664561Z",
     "iopub.status.idle": "2024-01-07T18:16:54.856045Z",
     "shell.execute_reply": "2024-01-07T18:16:54.854874Z"
    },
    "papermill": {
     "duration": 0.216842,
     "end_time": "2024-01-07T18:16:54.858726",
     "exception": false,
     "start_time": "2024-01-07T18:16:54.641884",
     "status": "completed"
    },
    "tags": []
   },
   "outputs": [
    {
     "data": {
      "text/html": [
       "<div>\n",
       "<style scoped>\n",
       "    .dataframe tbody tr th:only-of-type {\n",
       "        vertical-align: middle;\n",
       "    }\n",
       "\n",
       "    .dataframe tbody tr th {\n",
       "        vertical-align: top;\n",
       "    }\n",
       "\n",
       "    .dataframe thead th {\n",
       "        text-align: right;\n",
       "    }\n",
       "</style>\n",
       "<table border=\"1\" class=\"dataframe\">\n",
       "  <thead>\n",
       "    <tr style=\"text-align: right;\">\n",
       "      <th></th>\n",
       "      <th>person_age</th>\n",
       "      <th>person_income</th>\n",
       "      <th>person_home_ownership</th>\n",
       "      <th>person_emp_length</th>\n",
       "      <th>loan_intent</th>\n",
       "      <th>loan_grade</th>\n",
       "      <th>loan_amnt</th>\n",
       "      <th>loan_int_rate</th>\n",
       "      <th>loan_status</th>\n",
       "      <th>loan_percent_income</th>\n",
       "      <th>cb_person_default_on_file</th>\n",
       "      <th>cb_person_cred_hist_length</th>\n",
       "    </tr>\n",
       "  </thead>\n",
       "  <tbody>\n",
       "    <tr>\n",
       "      <th>0</th>\n",
       "      <td>23</td>\n",
       "      <td>85000</td>\n",
       "      <td>RENT</td>\n",
       "      <td>5.0</td>\n",
       "      <td>EDUCATION</td>\n",
       "      <td>A</td>\n",
       "      <td>10000</td>\n",
       "      <td>6.17</td>\n",
       "      <td>0</td>\n",
       "      <td>0.12</td>\n",
       "      <td>N</td>\n",
       "      <td>3</td>\n",
       "    </tr>\n",
       "    <tr>\n",
       "      <th>1</th>\n",
       "      <td>29</td>\n",
       "      <td>85000</td>\n",
       "      <td>MORTGAGE</td>\n",
       "      <td>2.0</td>\n",
       "      <td>PERSONAL</td>\n",
       "      <td>A</td>\n",
       "      <td>10000</td>\n",
       "      <td>7.88</td>\n",
       "      <td>0</td>\n",
       "      <td>0.12</td>\n",
       "      <td>N</td>\n",
       "      <td>5</td>\n",
       "    </tr>\n",
       "    <tr>\n",
       "      <th>2</th>\n",
       "      <td>25</td>\n",
       "      <td>113000</td>\n",
       "      <td>MORTGAGE</td>\n",
       "      <td>4.0</td>\n",
       "      <td>DEBTCONSOLIDATION</td>\n",
       "      <td>D</td>\n",
       "      <td>5000</td>\n",
       "      <td>14.54</td>\n",
       "      <td>1</td>\n",
       "      <td>0.04</td>\n",
       "      <td>Y</td>\n",
       "      <td>2</td>\n",
       "    </tr>\n",
       "    <tr>\n",
       "      <th>3</th>\n",
       "      <td>23</td>\n",
       "      <td>28284</td>\n",
       "      <td>RENT</td>\n",
       "      <td>8.0</td>\n",
       "      <td>VENTURE</td>\n",
       "      <td>A</td>\n",
       "      <td>6000</td>\n",
       "      <td>7.66</td>\n",
       "      <td>0</td>\n",
       "      <td>0.21</td>\n",
       "      <td>N</td>\n",
       "      <td>4</td>\n",
       "    </tr>\n",
       "    <tr>\n",
       "      <th>4</th>\n",
       "      <td>29</td>\n",
       "      <td>12000</td>\n",
       "      <td>OWN</td>\n",
       "      <td>0.0</td>\n",
       "      <td>HOMEIMPROVEMENT</td>\n",
       "      <td>B</td>\n",
       "      <td>4500</td>\n",
       "      <td>11.14</td>\n",
       "      <td>1</td>\n",
       "      <td>0.38</td>\n",
       "      <td>N</td>\n",
       "      <td>6</td>\n",
       "    </tr>\n",
       "    <tr>\n",
       "      <th>5</th>\n",
       "      <td>34</td>\n",
       "      <td>80000</td>\n",
       "      <td>RENT</td>\n",
       "      <td>0.0</td>\n",
       "      <td>DEBTCONSOLIDATION</td>\n",
       "      <td>A</td>\n",
       "      <td>30000</td>\n",
       "      <td>6.62</td>\n",
       "      <td>1</td>\n",
       "      <td>0.38</td>\n",
       "      <td>N</td>\n",
       "      <td>5</td>\n",
       "    </tr>\n",
       "  </tbody>\n",
       "</table>\n",
       "</div>"
      ],
      "text/plain": [
       "   person_age  person_income person_home_ownership  person_emp_length  \\\n",
       "0          23          85000                  RENT                5.0   \n",
       "1          29          85000              MORTGAGE                2.0   \n",
       "2          25         113000              MORTGAGE                4.0   \n",
       "3          23          28284                  RENT                8.0   \n",
       "4          29          12000                   OWN                0.0   \n",
       "5          34          80000                  RENT                0.0   \n",
       "\n",
       "         loan_intent loan_grade  loan_amnt  loan_int_rate  loan_status  \\\n",
       "0          EDUCATION          A      10000           6.17            0   \n",
       "1           PERSONAL          A      10000           7.88            0   \n",
       "2  DEBTCONSOLIDATION          D       5000          14.54            1   \n",
       "3            VENTURE          A       6000           7.66            0   \n",
       "4    HOMEIMPROVEMENT          B       4500          11.14            1   \n",
       "5  DEBTCONSOLIDATION          A      30000           6.62            1   \n",
       "\n",
       "   loan_percent_income cb_person_default_on_file  cb_person_cred_hist_length  \n",
       "0                 0.12                         N                           3  \n",
       "1                 0.12                         N                           5  \n",
       "2                 0.04                         Y                           2  \n",
       "3                 0.21                         N                           4  \n",
       "4                 0.38                         N                           6  \n",
       "5                 0.38                         N                           5  "
      ]
     },
     "execution_count": 2,
     "metadata": {},
     "output_type": "execute_result"
    }
   ],
   "source": [
    "data_original = pd.read_csv('/kaggle/input/credit-risk/credit_risk_dataset.csv')\n",
    "data= pd.read_csv('/kaggle/input/credit-risk/credit_risk_dataset.csv')\n",
    "data.sample(6).reset_index(drop=True)"
   ]
  },
  {
   "cell_type": "markdown",
   "id": "3716b3b6",
   "metadata": {
    "papermill": {
     "duration": 0.020623,
     "end_time": "2024-01-07T18:16:54.900042",
     "exception": false,
     "start_time": "2024-01-07T18:16:54.879419",
     "status": "completed"
    },
    "tags": []
   },
   "source": [
    "# **Data set Description**\n",
    "* **person_age**: Age of the individual applying for the loan.\n",
    "* **person_income**: Annual income of the individual.\n",
    "* **person_home_ownership**: Type of home ownership of the individual.\n",
    "* **rent**: The individual is currently renting a property.\n",
    "* **mortgage**: The individual has a mortgage on the property they own.\n",
    "* **own**: The individual owns their home outright.\n",
    "* **other**: Other categories of home ownership that may be specific to the dataset.\n",
    "* **person_emp_length**: Employment length of the individual in years.\n",
    "* **loan_intent**: The intent behind the loan application.\n",
    "* **loan_grade**: The grade assigned to the loan based on the creditworthiness of the borrower.\n",
    "   * A: The borrower has a high creditworthiness, indicating low risk.\n",
    "   * B: The borrower is relatively low-risk, but not as creditworthy as Grade A.\n",
    "   * C: The borrower's creditworthiness is moderate.\n",
    "   * D: The borrower is considered to have higher risk compared to previous grades.\n",
    "   * E: The borrower's creditworthiness is lower, indicating a higher risk.\n",
    "   * F: The borrower poses a significant credit risk.\n",
    "   * G: The borrower's creditworthiness is the lowest, signifying the highest risk.\n",
    "* **loan_amnt**: The loan amount requested by the individual.\n",
    "* **loan_int_rate**: The interest rate associated with the loan.\n",
    "* **loan_status**: Loan status, where 0 indicates non-default and 1 indicates default.\n",
    "  * 0: Non-default - The borrower successfully repaid the loan as agreed, and there was no default.\n",
    "  * 1: Default - The borrower failed to repay the loan according to the agreed-upon terms and defaulted on the loan.\n",
    "* **loan_percent_income**: The percentage of income represented by the loan amount.\n",
    "* **cb_person_default_on_fil**e: Historical default of the individual as per credit bureau records.\n",
    "  * Y: The individual has a history of defaults on their credit file.\n",
    "  * N: The individual does not have any history of defaults.\n",
    "* **cb_preson_cred_hist_length**: The length of credit history for the individual.\n"
   ]
  },
  {
   "cell_type": "markdown",
   "id": "fd7dd9ed",
   "metadata": {
    "papermill": {
     "duration": 0.020496,
     "end_time": "2024-01-07T18:16:54.941189",
     "exception": false,
     "start_time": "2024-01-07T18:16:54.920693",
     "status": "completed"
    },
    "tags": []
   },
   "source": [
    "# **Exploring the data se**t"
   ]
  },
  {
   "cell_type": "code",
   "execution_count": 3,
   "id": "d180c07f",
   "metadata": {
    "execution": {
     "iopub.execute_input": "2024-01-07T18:16:54.984698Z",
     "iopub.status.busy": "2024-01-07T18:16:54.984307Z",
     "iopub.status.idle": "2024-01-07T18:16:55.003443Z",
     "shell.execute_reply": "2024-01-07T18:16:55.002040Z"
    },
    "papermill": {
     "duration": 0.044072,
     "end_time": "2024-01-07T18:16:55.006320",
     "exception": false,
     "start_time": "2024-01-07T18:16:54.962248",
     "status": "completed"
    },
    "tags": []
   },
   "outputs": [
    {
     "data": {
      "text/html": [
       "<div>\n",
       "<style scoped>\n",
       "    .dataframe tbody tr th:only-of-type {\n",
       "        vertical-align: middle;\n",
       "    }\n",
       "\n",
       "    .dataframe tbody tr th {\n",
       "        vertical-align: top;\n",
       "    }\n",
       "\n",
       "    .dataframe thead th {\n",
       "        text-align: right;\n",
       "    }\n",
       "</style>\n",
       "<table border=\"1\" class=\"dataframe\">\n",
       "  <thead>\n",
       "    <tr style=\"text-align: right;\">\n",
       "      <th></th>\n",
       "      <th>person_age</th>\n",
       "      <th>person_income</th>\n",
       "      <th>person_home_ownership</th>\n",
       "      <th>person_emp_length</th>\n",
       "      <th>loan_intent</th>\n",
       "      <th>loan_grade</th>\n",
       "      <th>loan_amnt</th>\n",
       "      <th>loan_int_rate</th>\n",
       "      <th>loan_status</th>\n",
       "      <th>loan_percent_income</th>\n",
       "      <th>cb_person_default_on_file</th>\n",
       "      <th>cb_person_cred_hist_length</th>\n",
       "    </tr>\n",
       "  </thead>\n",
       "  <tbody>\n",
       "    <tr>\n",
       "      <th>0</th>\n",
       "      <td>22</td>\n",
       "      <td>59000</td>\n",
       "      <td>RENT</td>\n",
       "      <td>123.0</td>\n",
       "      <td>PERSONAL</td>\n",
       "      <td>D</td>\n",
       "      <td>35000</td>\n",
       "      <td>16.02</td>\n",
       "      <td>1</td>\n",
       "      <td>0.59</td>\n",
       "      <td>Y</td>\n",
       "      <td>3</td>\n",
       "    </tr>\n",
       "    <tr>\n",
       "      <th>1</th>\n",
       "      <td>21</td>\n",
       "      <td>9600</td>\n",
       "      <td>OWN</td>\n",
       "      <td>5.0</td>\n",
       "      <td>EDUCATION</td>\n",
       "      <td>B</td>\n",
       "      <td>1000</td>\n",
       "      <td>11.14</td>\n",
       "      <td>0</td>\n",
       "      <td>0.10</td>\n",
       "      <td>N</td>\n",
       "      <td>2</td>\n",
       "    </tr>\n",
       "    <tr>\n",
       "      <th>2</th>\n",
       "      <td>25</td>\n",
       "      <td>9600</td>\n",
       "      <td>MORTGAGE</td>\n",
       "      <td>1.0</td>\n",
       "      <td>MEDICAL</td>\n",
       "      <td>C</td>\n",
       "      <td>5500</td>\n",
       "      <td>12.87</td>\n",
       "      <td>1</td>\n",
       "      <td>0.57</td>\n",
       "      <td>N</td>\n",
       "      <td>3</td>\n",
       "    </tr>\n",
       "    <tr>\n",
       "      <th>3</th>\n",
       "      <td>23</td>\n",
       "      <td>65500</td>\n",
       "      <td>RENT</td>\n",
       "      <td>4.0</td>\n",
       "      <td>MEDICAL</td>\n",
       "      <td>C</td>\n",
       "      <td>35000</td>\n",
       "      <td>15.23</td>\n",
       "      <td>1</td>\n",
       "      <td>0.53</td>\n",
       "      <td>N</td>\n",
       "      <td>2</td>\n",
       "    </tr>\n",
       "    <tr>\n",
       "      <th>4</th>\n",
       "      <td>24</td>\n",
       "      <td>54400</td>\n",
       "      <td>RENT</td>\n",
       "      <td>8.0</td>\n",
       "      <td>MEDICAL</td>\n",
       "      <td>C</td>\n",
       "      <td>35000</td>\n",
       "      <td>14.27</td>\n",
       "      <td>1</td>\n",
       "      <td>0.55</td>\n",
       "      <td>Y</td>\n",
       "      <td>4</td>\n",
       "    </tr>\n",
       "  </tbody>\n",
       "</table>\n",
       "</div>"
      ],
      "text/plain": [
       "   person_age  person_income person_home_ownership  person_emp_length  \\\n",
       "0          22          59000                  RENT              123.0   \n",
       "1          21           9600                   OWN                5.0   \n",
       "2          25           9600              MORTGAGE                1.0   \n",
       "3          23          65500                  RENT                4.0   \n",
       "4          24          54400                  RENT                8.0   \n",
       "\n",
       "  loan_intent loan_grade  loan_amnt  loan_int_rate  loan_status  \\\n",
       "0    PERSONAL          D      35000          16.02            1   \n",
       "1   EDUCATION          B       1000          11.14            0   \n",
       "2     MEDICAL          C       5500          12.87            1   \n",
       "3     MEDICAL          C      35000          15.23            1   \n",
       "4     MEDICAL          C      35000          14.27            1   \n",
       "\n",
       "   loan_percent_income cb_person_default_on_file  cb_person_cred_hist_length  \n",
       "0                 0.59                         Y                           3  \n",
       "1                 0.10                         N                           2  \n",
       "2                 0.57                         N                           3  \n",
       "3                 0.53                         N                           2  \n",
       "4                 0.55                         Y                           4  "
      ]
     },
     "execution_count": 3,
     "metadata": {},
     "output_type": "execute_result"
    }
   ],
   "source": [
    "data.head()"
   ]
  },
  {
   "cell_type": "code",
   "execution_count": 4,
   "id": "f814c54d",
   "metadata": {
    "execution": {
     "iopub.execute_input": "2024-01-07T18:16:55.050021Z",
     "iopub.status.busy": "2024-01-07T18:16:55.049604Z",
     "iopub.status.idle": "2024-01-07T18:16:55.067568Z",
     "shell.execute_reply": "2024-01-07T18:16:55.066318Z"
    },
    "papermill": {
     "duration": 0.042661,
     "end_time": "2024-01-07T18:16:55.069981",
     "exception": false,
     "start_time": "2024-01-07T18:16:55.027320",
     "status": "completed"
    },
    "tags": []
   },
   "outputs": [
    {
     "data": {
      "text/html": [
       "<div>\n",
       "<style scoped>\n",
       "    .dataframe tbody tr th:only-of-type {\n",
       "        vertical-align: middle;\n",
       "    }\n",
       "\n",
       "    .dataframe tbody tr th {\n",
       "        vertical-align: top;\n",
       "    }\n",
       "\n",
       "    .dataframe thead th {\n",
       "        text-align: right;\n",
       "    }\n",
       "</style>\n",
       "<table border=\"1\" class=\"dataframe\">\n",
       "  <thead>\n",
       "    <tr style=\"text-align: right;\">\n",
       "      <th></th>\n",
       "      <th>person_age</th>\n",
       "      <th>person_income</th>\n",
       "      <th>person_home_ownership</th>\n",
       "      <th>person_emp_length</th>\n",
       "      <th>loan_intent</th>\n",
       "      <th>loan_grade</th>\n",
       "      <th>loan_amnt</th>\n",
       "      <th>loan_int_rate</th>\n",
       "      <th>loan_status</th>\n",
       "      <th>loan_percent_income</th>\n",
       "      <th>cb_person_default_on_file</th>\n",
       "      <th>cb_person_cred_hist_length</th>\n",
       "    </tr>\n",
       "  </thead>\n",
       "  <tbody>\n",
       "    <tr>\n",
       "      <th>32576</th>\n",
       "      <td>57</td>\n",
       "      <td>53000</td>\n",
       "      <td>MORTGAGE</td>\n",
       "      <td>1.0</td>\n",
       "      <td>PERSONAL</td>\n",
       "      <td>C</td>\n",
       "      <td>5800</td>\n",
       "      <td>13.16</td>\n",
       "      <td>0</td>\n",
       "      <td>0.11</td>\n",
       "      <td>N</td>\n",
       "      <td>30</td>\n",
       "    </tr>\n",
       "    <tr>\n",
       "      <th>32577</th>\n",
       "      <td>54</td>\n",
       "      <td>120000</td>\n",
       "      <td>MORTGAGE</td>\n",
       "      <td>4.0</td>\n",
       "      <td>PERSONAL</td>\n",
       "      <td>A</td>\n",
       "      <td>17625</td>\n",
       "      <td>7.49</td>\n",
       "      <td>0</td>\n",
       "      <td>0.15</td>\n",
       "      <td>N</td>\n",
       "      <td>19</td>\n",
       "    </tr>\n",
       "    <tr>\n",
       "      <th>32578</th>\n",
       "      <td>65</td>\n",
       "      <td>76000</td>\n",
       "      <td>RENT</td>\n",
       "      <td>3.0</td>\n",
       "      <td>HOMEIMPROVEMENT</td>\n",
       "      <td>B</td>\n",
       "      <td>35000</td>\n",
       "      <td>10.99</td>\n",
       "      <td>1</td>\n",
       "      <td>0.46</td>\n",
       "      <td>N</td>\n",
       "      <td>28</td>\n",
       "    </tr>\n",
       "    <tr>\n",
       "      <th>32579</th>\n",
       "      <td>56</td>\n",
       "      <td>150000</td>\n",
       "      <td>MORTGAGE</td>\n",
       "      <td>5.0</td>\n",
       "      <td>PERSONAL</td>\n",
       "      <td>B</td>\n",
       "      <td>15000</td>\n",
       "      <td>11.48</td>\n",
       "      <td>0</td>\n",
       "      <td>0.10</td>\n",
       "      <td>N</td>\n",
       "      <td>26</td>\n",
       "    </tr>\n",
       "    <tr>\n",
       "      <th>32580</th>\n",
       "      <td>66</td>\n",
       "      <td>42000</td>\n",
       "      <td>RENT</td>\n",
       "      <td>2.0</td>\n",
       "      <td>MEDICAL</td>\n",
       "      <td>B</td>\n",
       "      <td>6475</td>\n",
       "      <td>9.99</td>\n",
       "      <td>0</td>\n",
       "      <td>0.15</td>\n",
       "      <td>N</td>\n",
       "      <td>30</td>\n",
       "    </tr>\n",
       "  </tbody>\n",
       "</table>\n",
       "</div>"
      ],
      "text/plain": [
       "       person_age  person_income person_home_ownership  person_emp_length  \\\n",
       "32576          57          53000              MORTGAGE                1.0   \n",
       "32577          54         120000              MORTGAGE                4.0   \n",
       "32578          65          76000                  RENT                3.0   \n",
       "32579          56         150000              MORTGAGE                5.0   \n",
       "32580          66          42000                  RENT                2.0   \n",
       "\n",
       "           loan_intent loan_grade  loan_amnt  loan_int_rate  loan_status  \\\n",
       "32576         PERSONAL          C       5800          13.16            0   \n",
       "32577         PERSONAL          A      17625           7.49            0   \n",
       "32578  HOMEIMPROVEMENT          B      35000          10.99            1   \n",
       "32579         PERSONAL          B      15000          11.48            0   \n",
       "32580          MEDICAL          B       6475           9.99            0   \n",
       "\n",
       "       loan_percent_income cb_person_default_on_file  \\\n",
       "32576                 0.11                         N   \n",
       "32577                 0.15                         N   \n",
       "32578                 0.46                         N   \n",
       "32579                 0.10                         N   \n",
       "32580                 0.15                         N   \n",
       "\n",
       "       cb_person_cred_hist_length  \n",
       "32576                          30  \n",
       "32577                          19  \n",
       "32578                          28  \n",
       "32579                          26  \n",
       "32580                          30  "
      ]
     },
     "execution_count": 4,
     "metadata": {},
     "output_type": "execute_result"
    }
   ],
   "source": [
    "data.tail()"
   ]
  },
  {
   "cell_type": "code",
   "execution_count": 5,
   "id": "e9aad156",
   "metadata": {
    "execution": {
     "iopub.execute_input": "2024-01-07T18:16:55.115022Z",
     "iopub.status.busy": "2024-01-07T18:16:55.114620Z",
     "iopub.status.idle": "2024-01-07T18:16:55.163036Z",
     "shell.execute_reply": "2024-01-07T18:16:55.162101Z"
    },
    "papermill": {
     "duration": 0.073868,
     "end_time": "2024-01-07T18:16:55.165671",
     "exception": false,
     "start_time": "2024-01-07T18:16:55.091803",
     "status": "completed"
    },
    "tags": []
   },
   "outputs": [
    {
     "data": {
      "text/html": [
       "<div>\n",
       "<style scoped>\n",
       "    .dataframe tbody tr th:only-of-type {\n",
       "        vertical-align: middle;\n",
       "    }\n",
       "\n",
       "    .dataframe tbody tr th {\n",
       "        vertical-align: top;\n",
       "    }\n",
       "\n",
       "    .dataframe thead th {\n",
       "        text-align: right;\n",
       "    }\n",
       "</style>\n",
       "<table border=\"1\" class=\"dataframe\">\n",
       "  <thead>\n",
       "    <tr style=\"text-align: right;\">\n",
       "      <th></th>\n",
       "      <th>person_age</th>\n",
       "      <th>person_income</th>\n",
       "      <th>person_emp_length</th>\n",
       "      <th>loan_amnt</th>\n",
       "      <th>loan_int_rate</th>\n",
       "      <th>loan_status</th>\n",
       "      <th>loan_percent_income</th>\n",
       "      <th>cb_person_cred_hist_length</th>\n",
       "    </tr>\n",
       "  </thead>\n",
       "  <tbody>\n",
       "    <tr>\n",
       "      <th>count</th>\n",
       "      <td>32581.000000</td>\n",
       "      <td>3.258100e+04</td>\n",
       "      <td>31686.000000</td>\n",
       "      <td>32581.000000</td>\n",
       "      <td>29465.000000</td>\n",
       "      <td>32581.000000</td>\n",
       "      <td>32581.000000</td>\n",
       "      <td>32581.000000</td>\n",
       "    </tr>\n",
       "    <tr>\n",
       "      <th>mean</th>\n",
       "      <td>27.734600</td>\n",
       "      <td>6.607485e+04</td>\n",
       "      <td>4.789686</td>\n",
       "      <td>9589.371106</td>\n",
       "      <td>11.011695</td>\n",
       "      <td>0.218164</td>\n",
       "      <td>0.170203</td>\n",
       "      <td>5.804211</td>\n",
       "    </tr>\n",
       "    <tr>\n",
       "      <th>std</th>\n",
       "      <td>6.348078</td>\n",
       "      <td>6.198312e+04</td>\n",
       "      <td>4.142630</td>\n",
       "      <td>6322.086646</td>\n",
       "      <td>3.240459</td>\n",
       "      <td>0.413006</td>\n",
       "      <td>0.106782</td>\n",
       "      <td>4.055001</td>\n",
       "    </tr>\n",
       "    <tr>\n",
       "      <th>min</th>\n",
       "      <td>20.000000</td>\n",
       "      <td>4.000000e+03</td>\n",
       "      <td>0.000000</td>\n",
       "      <td>500.000000</td>\n",
       "      <td>5.420000</td>\n",
       "      <td>0.000000</td>\n",
       "      <td>0.000000</td>\n",
       "      <td>2.000000</td>\n",
       "    </tr>\n",
       "    <tr>\n",
       "      <th>25%</th>\n",
       "      <td>23.000000</td>\n",
       "      <td>3.850000e+04</td>\n",
       "      <td>2.000000</td>\n",
       "      <td>5000.000000</td>\n",
       "      <td>7.900000</td>\n",
       "      <td>0.000000</td>\n",
       "      <td>0.090000</td>\n",
       "      <td>3.000000</td>\n",
       "    </tr>\n",
       "    <tr>\n",
       "      <th>50%</th>\n",
       "      <td>26.000000</td>\n",
       "      <td>5.500000e+04</td>\n",
       "      <td>4.000000</td>\n",
       "      <td>8000.000000</td>\n",
       "      <td>10.990000</td>\n",
       "      <td>0.000000</td>\n",
       "      <td>0.150000</td>\n",
       "      <td>4.000000</td>\n",
       "    </tr>\n",
       "    <tr>\n",
       "      <th>75%</th>\n",
       "      <td>30.000000</td>\n",
       "      <td>7.920000e+04</td>\n",
       "      <td>7.000000</td>\n",
       "      <td>12200.000000</td>\n",
       "      <td>13.470000</td>\n",
       "      <td>0.000000</td>\n",
       "      <td>0.230000</td>\n",
       "      <td>8.000000</td>\n",
       "    </tr>\n",
       "    <tr>\n",
       "      <th>max</th>\n",
       "      <td>144.000000</td>\n",
       "      <td>6.000000e+06</td>\n",
       "      <td>123.000000</td>\n",
       "      <td>35000.000000</td>\n",
       "      <td>23.220000</td>\n",
       "      <td>1.000000</td>\n",
       "      <td>0.830000</td>\n",
       "      <td>30.000000</td>\n",
       "    </tr>\n",
       "  </tbody>\n",
       "</table>\n",
       "</div>"
      ],
      "text/plain": [
       "         person_age  person_income  person_emp_length     loan_amnt  \\\n",
       "count  32581.000000   3.258100e+04       31686.000000  32581.000000   \n",
       "mean      27.734600   6.607485e+04           4.789686   9589.371106   \n",
       "std        6.348078   6.198312e+04           4.142630   6322.086646   \n",
       "min       20.000000   4.000000e+03           0.000000    500.000000   \n",
       "25%       23.000000   3.850000e+04           2.000000   5000.000000   \n",
       "50%       26.000000   5.500000e+04           4.000000   8000.000000   \n",
       "75%       30.000000   7.920000e+04           7.000000  12200.000000   \n",
       "max      144.000000   6.000000e+06         123.000000  35000.000000   \n",
       "\n",
       "       loan_int_rate   loan_status  loan_percent_income  \\\n",
       "count   29465.000000  32581.000000         32581.000000   \n",
       "mean       11.011695      0.218164             0.170203   \n",
       "std         3.240459      0.413006             0.106782   \n",
       "min         5.420000      0.000000             0.000000   \n",
       "25%         7.900000      0.000000             0.090000   \n",
       "50%        10.990000      0.000000             0.150000   \n",
       "75%        13.470000      0.000000             0.230000   \n",
       "max        23.220000      1.000000             0.830000   \n",
       "\n",
       "       cb_person_cred_hist_length  \n",
       "count                32581.000000  \n",
       "mean                     5.804211  \n",
       "std                      4.055001  \n",
       "min                      2.000000  \n",
       "25%                      3.000000  \n",
       "50%                      4.000000  \n",
       "75%                      8.000000  \n",
       "max                     30.000000  "
      ]
     },
     "execution_count": 5,
     "metadata": {},
     "output_type": "execute_result"
    }
   ],
   "source": [
    "data.describe()"
   ]
  },
  {
   "cell_type": "code",
   "execution_count": 6,
   "id": "4f10519c",
   "metadata": {
    "execution": {
     "iopub.execute_input": "2024-01-07T18:16:55.211513Z",
     "iopub.status.busy": "2024-01-07T18:16:55.211146Z",
     "iopub.status.idle": "2024-01-07T18:16:55.249129Z",
     "shell.execute_reply": "2024-01-07T18:16:55.247570Z"
    },
    "papermill": {
     "duration": 0.063999,
     "end_time": "2024-01-07T18:16:55.251958",
     "exception": false,
     "start_time": "2024-01-07T18:16:55.187959",
     "status": "completed"
    },
    "tags": []
   },
   "outputs": [
    {
     "name": "stdout",
     "output_type": "stream",
     "text": [
      "<class 'pandas.core.frame.DataFrame'>\n",
      "RangeIndex: 32581 entries, 0 to 32580\n",
      "Data columns (total 12 columns):\n",
      " #   Column                      Non-Null Count  Dtype  \n",
      "---  ------                      --------------  -----  \n",
      " 0   person_age                  32581 non-null  int64  \n",
      " 1   person_income               32581 non-null  int64  \n",
      " 2   person_home_ownership       32581 non-null  object \n",
      " 3   person_emp_length           31686 non-null  float64\n",
      " 4   loan_intent                 32581 non-null  object \n",
      " 5   loan_grade                  32581 non-null  object \n",
      " 6   loan_amnt                   32581 non-null  int64  \n",
      " 7   loan_int_rate               29465 non-null  float64\n",
      " 8   loan_status                 32581 non-null  int64  \n",
      " 9   loan_percent_income         32581 non-null  float64\n",
      " 10  cb_person_default_on_file   32581 non-null  object \n",
      " 11  cb_person_cred_hist_length  32581 non-null  int64  \n",
      "dtypes: float64(3), int64(5), object(4)\n",
      "memory usage: 3.0+ MB\n"
     ]
    }
   ],
   "source": [
    "data.info()"
   ]
  },
  {
   "cell_type": "markdown",
   "id": "670e8d80",
   "metadata": {
    "papermill": {
     "duration": 0.022848,
     "end_time": "2024-01-07T18:16:55.298160",
     "exception": false,
     "start_time": "2024-01-07T18:16:55.275312",
     "status": "completed"
    },
    "tags": []
   },
   "source": [
    "# **Checking the dataset for missing values and getting an overal count on the missing data**"
   ]
  },
  {
   "cell_type": "code",
   "execution_count": 7,
   "id": "22df6d75",
   "metadata": {
    "execution": {
     "iopub.execute_input": "2024-01-07T18:16:55.345672Z",
     "iopub.status.busy": "2024-01-07T18:16:55.345252Z",
     "iopub.status.idle": "2024-01-07T18:16:55.368156Z",
     "shell.execute_reply": "2024-01-07T18:16:55.367152Z"
    },
    "papermill": {
     "duration": 0.049538,
     "end_time": "2024-01-07T18:16:55.370728",
     "exception": false,
     "start_time": "2024-01-07T18:16:55.321190",
     "status": "completed"
    },
    "tags": []
   },
   "outputs": [
    {
     "data": {
      "text/plain": [
       "person_age                       0\n",
       "person_income                    0\n",
       "person_home_ownership            0\n",
       "person_emp_length              895\n",
       "loan_intent                      0\n",
       "loan_grade                       0\n",
       "loan_amnt                        0\n",
       "loan_int_rate                 3116\n",
       "loan_status                      0\n",
       "loan_percent_income              0\n",
       "cb_person_default_on_file        0\n",
       "cb_person_cred_hist_length       0\n",
       "dtype: int64"
      ]
     },
     "execution_count": 7,
     "metadata": {},
     "output_type": "execute_result"
    }
   ],
   "source": [
    "data.isnull().sum()"
   ]
  },
  {
   "cell_type": "markdown",
   "id": "23cc87ed",
   "metadata": {
    "papermill": {
     "duration": 0.022323,
     "end_time": "2024-01-07T18:16:55.477303",
     "exception": false,
     "start_time": "2024-01-07T18:16:55.454980",
     "status": "completed"
    },
    "tags": []
   },
   "source": [
    " **The misssing records where droped from the dataset**"
   ]
  },
  {
   "cell_type": "code",
   "execution_count": 8,
   "id": "e838d3ee",
   "metadata": {
    "execution": {
     "iopub.execute_input": "2024-01-07T18:16:55.526464Z",
     "iopub.status.busy": "2024-01-07T18:16:55.526040Z",
     "iopub.status.idle": "2024-01-07T18:16:55.549532Z",
     "shell.execute_reply": "2024-01-07T18:16:55.548154Z"
    },
    "papermill": {
     "duration": 0.051459,
     "end_time": "2024-01-07T18:16:55.552511",
     "exception": false,
     "start_time": "2024-01-07T18:16:55.501052",
     "status": "completed"
    },
    "tags": []
   },
   "outputs": [],
   "source": [
    "data.dropna(axis=0,inplace=True)"
   ]
  },
  {
   "cell_type": "code",
   "execution_count": 9,
   "id": "a249818a",
   "metadata": {
    "execution": {
     "iopub.execute_input": "2024-01-07T18:16:55.601430Z",
     "iopub.status.busy": "2024-01-07T18:16:55.600978Z",
     "iopub.status.idle": "2024-01-07T18:16:55.622659Z",
     "shell.execute_reply": "2024-01-07T18:16:55.621644Z"
    },
    "papermill": {
     "duration": 0.049315,
     "end_time": "2024-01-07T18:16:55.625239",
     "exception": false,
     "start_time": "2024-01-07T18:16:55.575924",
     "status": "completed"
    },
    "tags": []
   },
   "outputs": [
    {
     "data": {
      "text/plain": [
       "person_age                    0\n",
       "person_income                 0\n",
       "person_home_ownership         0\n",
       "person_emp_length             0\n",
       "loan_intent                   0\n",
       "loan_grade                    0\n",
       "loan_amnt                     0\n",
       "loan_int_rate                 0\n",
       "loan_status                   0\n",
       "loan_percent_income           0\n",
       "cb_person_default_on_file     0\n",
       "cb_person_cred_hist_length    0\n",
       "dtype: int64"
      ]
     },
     "execution_count": 9,
     "metadata": {},
     "output_type": "execute_result"
    }
   ],
   "source": [
    "data.isnull().sum()"
   ]
  },
  {
   "cell_type": "markdown",
   "id": "a1257fac",
   "metadata": {
    "papermill": {
     "duration": 0.022189,
     "end_time": "2024-01-07T18:16:55.670208",
     "exception": false,
     "start_time": "2024-01-07T18:16:55.648019",
     "status": "completed"
    },
    "tags": []
   },
   "source": [
    "**To obtain credile data it is necessery to chech for duplictes** "
   ]
  },
  {
   "cell_type": "code",
   "execution_count": 10,
   "id": "6b8b4898",
   "metadata": {
    "execution": {
     "iopub.execute_input": "2024-01-07T18:16:55.717443Z",
     "iopub.status.busy": "2024-01-07T18:16:55.716710Z",
     "iopub.status.idle": "2024-01-07T18:16:55.739993Z",
     "shell.execute_reply": "2024-01-07T18:16:55.739086Z"
    },
    "papermill": {
     "duration": 0.049166,
     "end_time": "2024-01-07T18:16:55.742299",
     "exception": false,
     "start_time": "2024-01-07T18:16:55.693133",
     "status": "completed"
    },
    "tags": []
   },
   "outputs": [
    {
     "data": {
      "text/plain": [
       "person_age                      57\n",
       "person_income                 3835\n",
       "person_home_ownership            4\n",
       "person_emp_length               36\n",
       "loan_intent                      6\n",
       "loan_grade                       7\n",
       "loan_amnt                      728\n",
       "loan_int_rate                  348\n",
       "loan_status                      2\n",
       "loan_percent_income             77\n",
       "cb_person_default_on_file        2\n",
       "cb_person_cred_hist_length      29\n",
       "dtype: int64"
      ]
     },
     "execution_count": 10,
     "metadata": {},
     "output_type": "execute_result"
    }
   ],
   "source": [
    "data.nunique()"
   ]
  },
  {
   "cell_type": "code",
   "execution_count": 11,
   "id": "c73a9eb3",
   "metadata": {
    "execution": {
     "iopub.execute_input": "2024-01-07T18:16:55.791439Z",
     "iopub.status.busy": "2024-01-07T18:16:55.790699Z",
     "iopub.status.idle": "2024-01-07T18:16:55.815732Z",
     "shell.execute_reply": "2024-01-07T18:16:55.814920Z"
    },
    "papermill": {
     "duration": 0.053302,
     "end_time": "2024-01-07T18:16:55.818246",
     "exception": false,
     "start_time": "2024-01-07T18:16:55.764944",
     "status": "completed"
    },
    "tags": []
   },
   "outputs": [
    {
     "data": {
      "text/plain": [
       "137"
      ]
     },
     "execution_count": 11,
     "metadata": {},
     "output_type": "execute_result"
    }
   ],
   "source": [
    "data.duplicated().sum()"
   ]
  },
  {
   "cell_type": "markdown",
   "id": "1ed1f1a1",
   "metadata": {
    "papermill": {
     "duration": 0.022756,
     "end_time": "2024-01-07T18:16:55.863837",
     "exception": false,
     "start_time": "2024-01-07T18:16:55.841081",
     "status": "completed"
    },
    "tags": []
   },
   "source": [
    "# **Looking for outliers and dealing with them**"
   ]
  },
  {
   "cell_type": "code",
   "execution_count": 12,
   "id": "04d4193e",
   "metadata": {
    "execution": {
     "iopub.execute_input": "2024-01-07T18:16:55.913407Z",
     "iopub.status.busy": "2024-01-07T18:16:55.911347Z",
     "iopub.status.idle": "2024-01-07T18:16:55.925869Z",
     "shell.execute_reply": "2024-01-07T18:16:55.924708Z"
    },
    "papermill": {
     "duration": 0.041434,
     "end_time": "2024-01-07T18:16:55.928437",
     "exception": false,
     "start_time": "2024-01-07T18:16:55.887003",
     "status": "completed"
    },
    "tags": []
   },
   "outputs": [
    {
     "name": "stdout",
     "output_type": "stream",
     "text": [
      "The maximum Age 144\n",
      "The minimum Age 20\n",
      "Peple with age between 1 and 18: 0\n",
      "Peple with age between 19 and 26: 15682\n",
      "Peple with age between 27 and 36: 10422\n",
      "Peple with age between 37 and 46: 2054\n",
      "Peple with age between 47 and 56: 372\n",
      "Peple with age between 57 and 66: 87\n"
     ]
    }
   ],
   "source": [
    "max_age = data['person_age'].max()\n",
    "min_age = data['person_age'].min()\n",
    "print(f\"The maximum Age {max_age}\")\n",
    "print(f\"The minimum Age {min_age}\")\n",
    "\n",
    "# people with an age between x and y\n",
    "def age_group(arr):\n",
    "    lenarr = len(arr)\n",
    "    for i in range(0,lenarr-1):\n",
    "        next = arr[i]+1\n",
    "        num_people = data['person_age'].between(next,arr[i+1]).sum()\n",
    "        print(f'Peple with age between {next} and {arr[i+1]}: {num_people}')\n",
    "        \n",
    "age_group([0 ,18, 26, 36, 46, 56, 66])\n"
   ]
  },
  {
   "cell_type": "code",
   "execution_count": 13,
   "id": "02ed7b6d",
   "metadata": {
    "execution": {
     "iopub.execute_input": "2024-01-07T18:16:55.978365Z",
     "iopub.status.busy": "2024-01-07T18:16:55.977352Z",
     "iopub.status.idle": "2024-01-07T18:16:56.426266Z",
     "shell.execute_reply": "2024-01-07T18:16:56.425173Z"
    },
    "papermill": {
     "duration": 0.476457,
     "end_time": "2024-01-07T18:16:56.429734",
     "exception": false,
     "start_time": "2024-01-07T18:16:55.953277",
     "status": "completed"
    },
    "tags": []
   },
   "outputs": [
    {
     "data": {
      "text/plain": [
       "<BarContainer object of 57 artists>"
      ]
     },
     "execution_count": 13,
     "metadata": {},
     "output_type": "execute_result"
    },
    {
     "data": {
      "image/png": "[encoded data removed]",
      "text/plain": [
       "<Figure size 1500x500 with 1 Axes>"
      ]
     },
     "metadata": {},
     "output_type": "display_data"
    }
   ],
   "source": [
    "import matplotlib.pyplot as plt \n",
    "verti = data['person_age'].value_counts().values\n",
    "hori = data['person_age'].value_counts().index\n",
    "fig = plt.figure(figsize = (15, 5))\n",
    "plt.bar(hori, verti)"
   ]
  },
  {
   "cell_type": "code",
   "execution_count": 14,
   "id": "4cd58740",
   "metadata": {
    "execution": {
     "iopub.execute_input": "2024-01-07T18:16:56.479100Z",
     "iopub.status.busy": "2024-01-07T18:16:56.478703Z",
     "iopub.status.idle": "2024-01-07T18:16:56.487202Z",
     "shell.execute_reply": "2024-01-07T18:16:56.486098Z"
    },
    "papermill": {
     "duration": 0.037465,
     "end_time": "2024-01-07T18:16:56.490488",
     "exception": false,
     "start_time": "2024-01-07T18:16:56.453023",
     "status": "completed"
    },
    "tags": []
   },
   "outputs": [
    {
     "data": {
      "text/plain": [
       "28"
      ]
     },
     "execution_count": 14,
     "metadata": {},
     "output_type": "execute_result"
    }
   ],
   "source": [
    "(data['person_age'].value_counts().values>60).sum()"
   ]
  },
  {
   "cell_type": "markdown",
   "id": "eac3cdb0",
   "metadata": {
    "papermill": {
     "duration": 0.023178,
     "end_time": "2024-01-07T18:16:56.538173",
     "exception": false,
     "start_time": "2024-01-07T18:16:56.514995",
     "status": "completed"
    },
    "tags": []
   },
   "source": [
    "**The above infromation casts a light on the age feature and shows that ages above 60 are outliers hence  the best way is to remove values with ages above 60**"
   ]
  },
  {
   "cell_type": "code",
   "execution_count": 15,
   "id": "7fb40775",
   "metadata": {
    "execution": {
     "iopub.execute_input": "2024-01-07T18:16:56.588034Z",
     "iopub.status.busy": "2024-01-07T18:16:56.587088Z",
     "iopub.status.idle": "2024-01-07T18:16:56.597924Z",
     "shell.execute_reply": "2024-01-07T18:16:56.596826Z"
    },
    "papermill": {
     "duration": 0.038749,
     "end_time": "2024-01-07T18:16:56.600811",
     "exception": false,
     "start_time": "2024-01-07T18:16:56.562062",
     "status": "completed"
    },
    "tags": []
   },
   "outputs": [],
   "source": [
    "data = data.drop(data[data['person_age'] > 60].index, axis=0)"
   ]
  },
  {
   "cell_type": "code",
   "execution_count": 16,
   "id": "39018f23",
   "metadata": {
    "execution": {
     "iopub.execute_input": "2024-01-07T18:16:56.651443Z",
     "iopub.status.busy": "2024-01-07T18:16:56.650039Z",
     "iopub.status.idle": "2024-01-07T18:16:56.659368Z",
     "shell.execute_reply": "2024-01-07T18:16:56.658437Z"
    },
    "papermill": {
     "duration": 0.036947,
     "end_time": "2024-01-07T18:16:56.661800",
     "exception": false,
     "start_time": "2024-01-07T18:16:56.624853",
     "status": "completed"
    },
    "tags": []
   },
   "outputs": [],
   "source": [
    "data['age_group'] = pd.cut(data['person_age'],\n",
    "                           bins=[20, 26, 36, 46, 56, 66],\n",
    "                           labels=['20-25', '26-35', '36-45', '46-55', '56-60'])"
   ]
  },
  {
   "cell_type": "code",
   "execution_count": 17,
   "id": "a79fabc6",
   "metadata": {
    "execution": {
     "iopub.execute_input": "2024-01-07T18:16:56.711094Z",
     "iopub.status.busy": "2024-01-07T18:16:56.710050Z",
     "iopub.status.idle": "2024-01-07T18:16:56.717044Z",
     "shell.execute_reply": "2024-01-07T18:16:56.715917Z"
    },
    "papermill": {
     "duration": 0.034201,
     "end_time": "2024-01-07T18:16:56.719340",
     "exception": false,
     "start_time": "2024-01-07T18:16:56.685139",
     "status": "completed"
    },
    "tags": []
   },
   "outputs": [
    {
     "data": {
      "text/plain": [
       "CategoricalDtype(categories=['20-25', '26-35', '36-45', '46-55', '56-60'], ordered=True)"
      ]
     },
     "execution_count": 17,
     "metadata": {},
     "output_type": "execute_result"
    }
   ],
   "source": [
    "data['age_group'].dtype"
   ]
  },
  {
   "cell_type": "code",
   "execution_count": 18,
   "id": "9854484d",
   "metadata": {
    "execution": {
     "iopub.execute_input": "2024-01-07T18:16:56.768769Z",
     "iopub.status.busy": "2024-01-07T18:16:56.768030Z",
     "iopub.status.idle": "2024-01-07T18:16:56.790208Z",
     "shell.execute_reply": "2024-01-07T18:16:56.789114Z"
    },
    "papermill": {
     "duration": 0.05045,
     "end_time": "2024-01-07T18:16:56.792968",
     "exception": false,
     "start_time": "2024-01-07T18:16:56.742518",
     "status": "completed"
    },
    "tags": []
   },
   "outputs": [
    {
     "data": {
      "text/html": [
       "<div>\n",
       "<style scoped>\n",
       "    .dataframe tbody tr th:only-of-type {\n",
       "        vertical-align: middle;\n",
       "    }\n",
       "\n",
       "    .dataframe tbody tr th {\n",
       "        vertical-align: top;\n",
       "    }\n",
       "\n",
       "    .dataframe thead th {\n",
       "        text-align: right;\n",
       "    }\n",
       "</style>\n",
       "<table border=\"1\" class=\"dataframe\">\n",
       "  <thead>\n",
       "    <tr style=\"text-align: right;\">\n",
       "      <th></th>\n",
       "      <th>person_age</th>\n",
       "      <th>person_income</th>\n",
       "      <th>person_home_ownership</th>\n",
       "      <th>person_emp_length</th>\n",
       "      <th>loan_intent</th>\n",
       "      <th>loan_grade</th>\n",
       "      <th>loan_amnt</th>\n",
       "      <th>loan_int_rate</th>\n",
       "      <th>loan_status</th>\n",
       "      <th>loan_percent_income</th>\n",
       "      <th>cb_person_default_on_file</th>\n",
       "      <th>cb_person_cred_hist_length</th>\n",
       "      <th>age_group</th>\n",
       "    </tr>\n",
       "  </thead>\n",
       "  <tbody>\n",
       "    <tr>\n",
       "      <th>0</th>\n",
       "      <td>22</td>\n",
       "      <td>59000</td>\n",
       "      <td>RENT</td>\n",
       "      <td>123.0</td>\n",
       "      <td>PERSONAL</td>\n",
       "      <td>D</td>\n",
       "      <td>35000</td>\n",
       "      <td>16.02</td>\n",
       "      <td>1</td>\n",
       "      <td>0.59</td>\n",
       "      <td>Y</td>\n",
       "      <td>3</td>\n",
       "      <td>20-25</td>\n",
       "    </tr>\n",
       "    <tr>\n",
       "      <th>1</th>\n",
       "      <td>21</td>\n",
       "      <td>9600</td>\n",
       "      <td>OWN</td>\n",
       "      <td>5.0</td>\n",
       "      <td>EDUCATION</td>\n",
       "      <td>B</td>\n",
       "      <td>1000</td>\n",
       "      <td>11.14</td>\n",
       "      <td>0</td>\n",
       "      <td>0.10</td>\n",
       "      <td>N</td>\n",
       "      <td>2</td>\n",
       "      <td>20-25</td>\n",
       "    </tr>\n",
       "    <tr>\n",
       "      <th>2</th>\n",
       "      <td>25</td>\n",
       "      <td>9600</td>\n",
       "      <td>MORTGAGE</td>\n",
       "      <td>1.0</td>\n",
       "      <td>MEDICAL</td>\n",
       "      <td>C</td>\n",
       "      <td>5500</td>\n",
       "      <td>12.87</td>\n",
       "      <td>1</td>\n",
       "      <td>0.57</td>\n",
       "      <td>N</td>\n",
       "      <td>3</td>\n",
       "      <td>20-25</td>\n",
       "    </tr>\n",
       "    <tr>\n",
       "      <th>3</th>\n",
       "      <td>23</td>\n",
       "      <td>65500</td>\n",
       "      <td>RENT</td>\n",
       "      <td>4.0</td>\n",
       "      <td>MEDICAL</td>\n",
       "      <td>C</td>\n",
       "      <td>35000</td>\n",
       "      <td>15.23</td>\n",
       "      <td>1</td>\n",
       "      <td>0.53</td>\n",
       "      <td>N</td>\n",
       "      <td>2</td>\n",
       "      <td>20-25</td>\n",
       "    </tr>\n",
       "    <tr>\n",
       "      <th>4</th>\n",
       "      <td>24</td>\n",
       "      <td>54400</td>\n",
       "      <td>RENT</td>\n",
       "      <td>8.0</td>\n",
       "      <td>MEDICAL</td>\n",
       "      <td>C</td>\n",
       "      <td>35000</td>\n",
       "      <td>14.27</td>\n",
       "      <td>1</td>\n",
       "      <td>0.55</td>\n",
       "      <td>Y</td>\n",
       "      <td>4</td>\n",
       "      <td>20-25</td>\n",
       "    </tr>\n",
       "  </tbody>\n",
       "</table>\n",
       "</div>"
      ],
      "text/plain": [
       "   person_age  person_income person_home_ownership  person_emp_length  \\\n",
       "0          22          59000                  RENT              123.0   \n",
       "1          21           9600                   OWN                5.0   \n",
       "2          25           9600              MORTGAGE                1.0   \n",
       "3          23          65500                  RENT                4.0   \n",
       "4          24          54400                  RENT                8.0   \n",
       "\n",
       "  loan_intent loan_grade  loan_amnt  loan_int_rate  loan_status  \\\n",
       "0    PERSONAL          D      35000          16.02            1   \n",
       "1   EDUCATION          B       1000          11.14            0   \n",
       "2     MEDICAL          C       5500          12.87            1   \n",
       "3     MEDICAL          C      35000          15.23            1   \n",
       "4     MEDICAL          C      35000          14.27            1   \n",
       "\n",
       "   loan_percent_income cb_person_default_on_file  cb_person_cred_hist_length  \\\n",
       "0                 0.59                         Y                           3   \n",
       "1                 0.10                         N                           2   \n",
       "2                 0.57                         N                           3   \n",
       "3                 0.53                         N                           2   \n",
       "4                 0.55                         Y                           4   \n",
       "\n",
       "  age_group  \n",
       "0     20-25  \n",
       "1     20-25  \n",
       "2     20-25  \n",
       "3     20-25  \n",
       "4     20-25  "
      ]
     },
     "execution_count": 18,
     "metadata": {},
     "output_type": "execute_result"
    }
   ],
   "source": [
    "data.head()"
   ]
  },
  {
   "cell_type": "markdown",
   "id": "9d4bc7ce",
   "metadata": {
    "papermill": {
     "duration": 0.024551,
     "end_time": "2024-01-07T18:16:56.842096",
     "exception": false,
     "start_time": "2024-01-07T18:16:56.817545",
     "status": "completed"
    },
    "tags": []
   },
   "source": [
    "**The next feature is the income field**"
   ]
  },
  {
   "cell_type": "code",
   "execution_count": 19,
   "id": "390dae29",
   "metadata": {
    "execution": {
     "iopub.execute_input": "2024-01-07T18:16:56.892759Z",
     "iopub.status.busy": "2024-01-07T18:16:56.891954Z",
     "iopub.status.idle": "2024-01-07T18:16:56.905212Z",
     "shell.execute_reply": "2024-01-07T18:16:56.903867Z"
    },
    "papermill": {
     "duration": 0.041295,
     "end_time": "2024-01-07T18:16:56.907585",
     "exception": false,
     "start_time": "2024-01-07T18:16:56.866290",
     "status": "completed"
    },
    "tags": []
   },
   "outputs": [
    {
     "name": "stdout",
     "output_type": "stream",
     "text": [
      "The largest Income is 2039784\n",
      "The smallest Income is  4000\n",
      "Income between 1 and 25000: Number of people 1967\n",
      "Income between 25001 and 50000: Number of people 10181\n",
      "Income between 50001 and 75000: Number of people 8522\n",
      "Income between 75001 and 100000: Number of people 4187\n",
      "Income between 100001 and inf: Number of people 3723\n"
     ]
    }
   ],
   "source": [
    "max_income = data['person_income'].max()\n",
    "min_income = data['person_income'].min()\n",
    "\n",
    "print(f\"The largest Income is {max_income}\")\n",
    "print(f\"The smallest Income is  {min_income}\")\n",
    "\n",
    "#people with an income between x and y\n",
    "def income_group(arr):\n",
    "    lenarr = len(arr)\n",
    "    for i in range(0,lenarr-1):\n",
    "        next = arr[i]+1\n",
    "        num_people = data['person_income'].between(next,arr[i+1]).sum()\n",
    "        print(f'Income between {next} and {arr[i+1]}: Number of people {num_people}')\n",
    "        \n",
    "income_group([0, 25000, 50000, 75000, 100000,float('inf')])"
   ]
  },
  {
   "cell_type": "code",
   "execution_count": 20,
   "id": "494cdad8",
   "metadata": {
    "execution": {
     "iopub.execute_input": "2024-01-07T18:16:56.958354Z",
     "iopub.status.busy": "2024-01-07T18:16:56.957548Z",
     "iopub.status.idle": "2024-01-07T18:16:56.966465Z",
     "shell.execute_reply": "2024-01-07T18:16:56.965445Z"
    },
    "papermill": {
     "duration": 0.037223,
     "end_time": "2024-01-07T18:16:56.969067",
     "exception": false,
     "start_time": "2024-01-07T18:16:56.931844",
     "status": "completed"
    },
    "tags": []
   },
   "outputs": [],
   "source": [
    "data['income_group'] = pd.cut(data['person_income'],\n",
    "                              bins=[0, 25000, 50000, 75000, 100000, float('inf')],\n",
    "                              labels=['low', 'low-middle', 'middle', 'high-middle', 'high'])\n"
   ]
  },
  {
   "cell_type": "code",
   "execution_count": 21,
   "id": "ade9113d",
   "metadata": {
    "execution": {
     "iopub.execute_input": "2024-01-07T18:16:57.020895Z",
     "iopub.status.busy": "2024-01-07T18:16:57.020140Z",
     "iopub.status.idle": "2024-01-07T18:16:57.030091Z",
     "shell.execute_reply": "2024-01-07T18:16:57.029225Z"
    },
    "papermill": {
     "duration": 0.038411,
     "end_time": "2024-01-07T18:16:57.032399",
     "exception": false,
     "start_time": "2024-01-07T18:16:56.993988",
     "status": "completed"
    },
    "tags": []
   },
   "outputs": [
    {
     "data": {
      "text/plain": [
       "0        middle\n",
       "1           low\n",
       "2           low\n",
       "3        middle\n",
       "4        middle\n",
       "          ...  \n",
       "32574    middle\n",
       "32575    middle\n",
       "32576    middle\n",
       "32577      high\n",
       "32579      high\n",
       "Name: income_group, Length: 28580, dtype: category\n",
       "Categories (5, object): ['low' < 'low-middle' < 'middle' < 'high-middle' < 'high']"
      ]
     },
     "execution_count": 21,
     "metadata": {},
     "output_type": "execute_result"
    }
   ],
   "source": [
    "data['income_group']"
   ]
  },
  {
   "cell_type": "markdown",
   "id": "6feb5cad",
   "metadata": {
    "papermill": {
     "duration": 0.023917,
     "end_time": "2024-01-07T18:16:57.080707",
     "exception": false,
     "start_time": "2024-01-07T18:16:57.056790",
     "status": "completed"
    },
    "tags": []
   },
   "source": [
    "**Checking and dealing with the loan ammount feature**"
   ]
  },
  {
   "cell_type": "code",
   "execution_count": 22,
   "id": "25f32efd",
   "metadata": {
    "execution": {
     "iopub.execute_input": "2024-01-07T18:16:57.130932Z",
     "iopub.status.busy": "2024-01-07T18:16:57.130492Z",
     "iopub.status.idle": "2024-01-07T18:16:57.142107Z",
     "shell.execute_reply": "2024-01-07T18:16:57.140833Z"
    },
    "papermill": {
     "duration": 0.039475,
     "end_time": "2024-01-07T18:16:57.144503",
     "exception": false,
     "start_time": "2024-01-07T18:16:57.105028",
     "status": "completed"
    },
    "tags": []
   },
   "outputs": [
    {
     "name": "stdout",
     "output_type": "stream",
     "text": [
      "maximum Loan Amount 35000\n",
      "minimum Loan Amount 500\n",
      "Loan Amount between 1 and 5000: Number of people 8170\n",
      "Loan Amount between 5001 and 10000: Number of people 10592\n",
      "Loan Amount between 10001 and 15000: Number of people 5421\n",
      "Loan Amount between 15001 and inf: Number of people 4397\n"
     ]
    }
   ],
   "source": [
    "max_loan_amount = data['loan_amnt'].max()\n",
    "min_loan_amount = data['loan_amnt'].min()\n",
    "\n",
    "print(f\"maximum Loan Amount {max_loan_amount}\")\n",
    "print(f\"minimum Loan Amount {min_loan_amount}\")\n",
    "\n",
    "# people with an income between x and y\n",
    "def loan_amount_group(arr):\n",
    "    lenarr = len(arr)\n",
    "    for i in range(0,lenarr-1):\n",
    "        next = arr[i]+1\n",
    "        num_people = data['loan_amnt'].between(next,arr[i+1]).sum()\n",
    "        print(f'Loan Amount between {next} and {arr[i+1]}: Number of people {num_people}')\n",
    "        \n",
    "loan_amount_group([0, 5000, 10000, 15000, float('inf')])"
   ]
  },
  {
   "cell_type": "code",
   "execution_count": 23,
   "id": "fdba5840",
   "metadata": {
    "execution": {
     "iopub.execute_input": "2024-01-07T18:16:57.198012Z",
     "iopub.status.busy": "2024-01-07T18:16:57.196786Z",
     "iopub.status.idle": "2024-01-07T18:16:57.205729Z",
     "shell.execute_reply": "2024-01-07T18:16:57.204826Z"
    },
    "papermill": {
     "duration": 0.038975,
     "end_time": "2024-01-07T18:16:57.208228",
     "exception": false,
     "start_time": "2024-01-07T18:16:57.169253",
     "status": "completed"
    },
    "tags": []
   },
   "outputs": [],
   "source": [
    "data['loan_amount_group'] = pd.cut(data['loan_amnt'],\n",
    "                                   bins=[0, 5000, 10000, 15000, float('inf')],\n",
    "                                   labels=['small', 'medium', 'large', 'very large'])"
   ]
  },
  {
   "cell_type": "code",
   "execution_count": 24,
   "id": "f269943c",
   "metadata": {
    "execution": {
     "iopub.execute_input": "2024-01-07T18:16:57.259177Z",
     "iopub.status.busy": "2024-01-07T18:16:57.257964Z",
     "iopub.status.idle": "2024-01-07T18:16:57.268536Z",
     "shell.execute_reply": "2024-01-07T18:16:57.267451Z"
    },
    "papermill": {
     "duration": 0.038604,
     "end_time": "2024-01-07T18:16:57.271156",
     "exception": false,
     "start_time": "2024-01-07T18:16:57.232552",
     "status": "completed"
    },
    "tags": []
   },
   "outputs": [
    {
     "data": {
      "text/plain": [
       "0        very large\n",
       "1             small\n",
       "2            medium\n",
       "3        very large\n",
       "4        very large\n",
       "            ...    \n",
       "32574    very large\n",
       "32575         small\n",
       "32576        medium\n",
       "32577    very large\n",
       "32579         large\n",
       "Name: loan_amount_group, Length: 28580, dtype: category\n",
       "Categories (4, object): ['small' < 'medium' < 'large' < 'very large']"
      ]
     },
     "execution_count": 24,
     "metadata": {},
     "output_type": "execute_result"
    }
   ],
   "source": [
    "data['loan_amount_group']"
   ]
  },
  {
   "cell_type": "code",
   "execution_count": 25,
   "id": "a66a082a",
   "metadata": {
    "execution": {
     "iopub.execute_input": "2024-01-07T18:16:57.322861Z",
     "iopub.status.busy": "2024-01-07T18:16:57.322115Z",
     "iopub.status.idle": "2024-01-07T18:16:57.335222Z",
     "shell.execute_reply": "2024-01-07T18:16:57.334078Z"
    },
    "papermill": {
     "duration": 0.041841,
     "end_time": "2024-01-07T18:16:57.337693",
     "exception": false,
     "start_time": "2024-01-07T18:16:57.295852",
     "status": "completed"
    },
    "tags": []
   },
   "outputs": [
    {
     "data": {
      "text/plain": [
       "person_home_ownership\n",
       "RENT        14515\n",
       "MORTGAGE    11779\n",
       "OWN          2192\n",
       "OTHER          94\n",
       "Name: count, dtype: int64"
      ]
     },
     "execution_count": 25,
     "metadata": {},
     "output_type": "execute_result"
    }
   ],
   "source": [
    "data['person_home_ownership'].value_counts()"
   ]
  },
  {
   "cell_type": "code",
   "execution_count": 26,
   "id": "d18589ea",
   "metadata": {
    "execution": {
     "iopub.execute_input": "2024-01-07T18:16:57.388775Z",
     "iopub.status.busy": "2024-01-07T18:16:57.388282Z",
     "iopub.status.idle": "2024-01-07T18:16:57.410349Z",
     "shell.execute_reply": "2024-01-07T18:16:57.409201Z"
    },
    "papermill": {
     "duration": 0.050665,
     "end_time": "2024-01-07T18:16:57.412917",
     "exception": false,
     "start_time": "2024-01-07T18:16:57.362252",
     "status": "completed"
    },
    "tags": []
   },
   "outputs": [
    {
     "data": {
      "text/html": [
       "<div>\n",
       "<style scoped>\n",
       "    .dataframe tbody tr th:only-of-type {\n",
       "        vertical-align: middle;\n",
       "    }\n",
       "\n",
       "    .dataframe tbody tr th {\n",
       "        vertical-align: top;\n",
       "    }\n",
       "\n",
       "    .dataframe thead th {\n",
       "        text-align: right;\n",
       "    }\n",
       "</style>\n",
       "<table border=\"1\" class=\"dataframe\">\n",
       "  <thead>\n",
       "    <tr style=\"text-align: right;\">\n",
       "      <th></th>\n",
       "      <th>person_age</th>\n",
       "      <th>person_income</th>\n",
       "      <th>person_home_ownership</th>\n",
       "      <th>person_emp_length</th>\n",
       "      <th>loan_intent</th>\n",
       "      <th>loan_grade</th>\n",
       "      <th>loan_amnt</th>\n",
       "      <th>loan_int_rate</th>\n",
       "      <th>loan_status</th>\n",
       "      <th>loan_percent_income</th>\n",
       "      <th>cb_person_default_on_file</th>\n",
       "      <th>cb_person_cred_hist_length</th>\n",
       "      <th>age_group</th>\n",
       "      <th>income_group</th>\n",
       "      <th>loan_amount_group</th>\n",
       "    </tr>\n",
       "  </thead>\n",
       "  <tbody>\n",
       "    <tr>\n",
       "      <th>0</th>\n",
       "      <td>22</td>\n",
       "      <td>59000</td>\n",
       "      <td>RENT</td>\n",
       "      <td>123.0</td>\n",
       "      <td>PERSONAL</td>\n",
       "      <td>D</td>\n",
       "      <td>35000</td>\n",
       "      <td>16.02</td>\n",
       "      <td>1</td>\n",
       "      <td>0.59</td>\n",
       "      <td>Y</td>\n",
       "      <td>3</td>\n",
       "      <td>20-25</td>\n",
       "      <td>middle</td>\n",
       "      <td>very large</td>\n",
       "    </tr>\n",
       "    <tr>\n",
       "      <th>1</th>\n",
       "      <td>21</td>\n",
       "      <td>9600</td>\n",
       "      <td>OWN</td>\n",
       "      <td>5.0</td>\n",
       "      <td>EDUCATION</td>\n",
       "      <td>B</td>\n",
       "      <td>1000</td>\n",
       "      <td>11.14</td>\n",
       "      <td>0</td>\n",
       "      <td>0.10</td>\n",
       "      <td>N</td>\n",
       "      <td>2</td>\n",
       "      <td>20-25</td>\n",
       "      <td>low</td>\n",
       "      <td>small</td>\n",
       "    </tr>\n",
       "    <tr>\n",
       "      <th>2</th>\n",
       "      <td>25</td>\n",
       "      <td>9600</td>\n",
       "      <td>MORTGAGE</td>\n",
       "      <td>1.0</td>\n",
       "      <td>MEDICAL</td>\n",
       "      <td>C</td>\n",
       "      <td>5500</td>\n",
       "      <td>12.87</td>\n",
       "      <td>1</td>\n",
       "      <td>0.57</td>\n",
       "      <td>N</td>\n",
       "      <td>3</td>\n",
       "      <td>20-25</td>\n",
       "      <td>low</td>\n",
       "      <td>medium</td>\n",
       "    </tr>\n",
       "    <tr>\n",
       "      <th>3</th>\n",
       "      <td>23</td>\n",
       "      <td>65500</td>\n",
       "      <td>RENT</td>\n",
       "      <td>4.0</td>\n",
       "      <td>MEDICAL</td>\n",
       "      <td>C</td>\n",
       "      <td>35000</td>\n",
       "      <td>15.23</td>\n",
       "      <td>1</td>\n",
       "      <td>0.53</td>\n",
       "      <td>N</td>\n",
       "      <td>2</td>\n",
       "      <td>20-25</td>\n",
       "      <td>middle</td>\n",
       "      <td>very large</td>\n",
       "    </tr>\n",
       "    <tr>\n",
       "      <th>4</th>\n",
       "      <td>24</td>\n",
       "      <td>54400</td>\n",
       "      <td>RENT</td>\n",
       "      <td>8.0</td>\n",
       "      <td>MEDICAL</td>\n",
       "      <td>C</td>\n",
       "      <td>35000</td>\n",
       "      <td>14.27</td>\n",
       "      <td>1</td>\n",
       "      <td>0.55</td>\n",
       "      <td>Y</td>\n",
       "      <td>4</td>\n",
       "      <td>20-25</td>\n",
       "      <td>middle</td>\n",
       "      <td>very large</td>\n",
       "    </tr>\n",
       "  </tbody>\n",
       "</table>\n",
       "</div>"
      ],
      "text/plain": [
       "   person_age  person_income person_home_ownership  person_emp_length  \\\n",
       "0          22          59000                  RENT              123.0   \n",
       "1          21           9600                   OWN                5.0   \n",
       "2          25           9600              MORTGAGE                1.0   \n",
       "3          23          65500                  RENT                4.0   \n",
       "4          24          54400                  RENT                8.0   \n",
       "\n",
       "  loan_intent loan_grade  loan_amnt  loan_int_rate  loan_status  \\\n",
       "0    PERSONAL          D      35000          16.02            1   \n",
       "1   EDUCATION          B       1000          11.14            0   \n",
       "2     MEDICAL          C       5500          12.87            1   \n",
       "3     MEDICAL          C      35000          15.23            1   \n",
       "4     MEDICAL          C      35000          14.27            1   \n",
       "\n",
       "   loan_percent_income cb_person_default_on_file  cb_person_cred_hist_length  \\\n",
       "0                 0.59                         Y                           3   \n",
       "1                 0.10                         N                           2   \n",
       "2                 0.57                         N                           3   \n",
       "3                 0.53                         N                           2   \n",
       "4                 0.55                         Y                           4   \n",
       "\n",
       "  age_group income_group loan_amount_group  \n",
       "0     20-25       middle        very large  \n",
       "1     20-25          low             small  \n",
       "2     20-25          low            medium  \n",
       "3     20-25       middle        very large  \n",
       "4     20-25       middle        very large  "
      ]
     },
     "execution_count": 26,
     "metadata": {},
     "output_type": "execute_result"
    }
   ],
   "source": [
    "data.head()"
   ]
  },
  {
   "cell_type": "code",
   "execution_count": 27,
   "id": "86587463",
   "metadata": {
    "execution": {
     "iopub.execute_input": "2024-01-07T18:16:57.464841Z",
     "iopub.status.busy": "2024-01-07T18:16:57.464203Z",
     "iopub.status.idle": "2024-01-07T18:16:57.470149Z",
     "shell.execute_reply": "2024-01-07T18:16:57.469387Z"
    },
    "papermill": {
     "duration": 0.034835,
     "end_time": "2024-01-07T18:16:57.472454",
     "exception": false,
     "start_time": "2024-01-07T18:16:57.437619",
     "status": "completed"
    },
    "tags": []
   },
   "outputs": [],
   "source": [
    "raw_data = data.copy()"
   ]
  },
  {
   "cell_type": "code",
   "execution_count": 28,
   "id": "52b2116a",
   "metadata": {
    "execution": {
     "iopub.execute_input": "2024-01-07T18:16:57.524415Z",
     "iopub.status.busy": "2024-01-07T18:16:57.523779Z",
     "iopub.status.idle": "2024-01-07T18:16:57.530798Z",
     "shell.execute_reply": "2024-01-07T18:16:57.529873Z"
    },
    "papermill": {
     "duration": 0.036145,
     "end_time": "2024-01-07T18:16:57.533334",
     "exception": false,
     "start_time": "2024-01-07T18:16:57.497189",
     "status": "completed"
    },
    "tags": []
   },
   "outputs": [],
   "source": [
    "col_list = ['person_age',#\n",
    " 'person_income',#\n",
    " 'person_home_ownership',#\n",
    " 'person_emp_length',#\n",
    " 'loan_intent', #\n",
    " 'loan_grade',#\n",
    " 'loan_amnt',#\n",
    " 'loan_int_rate',#\n",
    " 'loan_status',#\n",
    " 'loan_percent_income',#\n",
    " 'cb_person_default_on_file',#\n",
    " 'cb_person_cred_hist_length',\n",
    "'age_group','income_group','loan_amount_group']\n",
    "\n",
    "drop_colums = []\n",
    "scale_cols = ['person_income','person_age','person_emp_length', 'loan_amnt','loan_int_rate','cb_person_cred_hist_length','loan_percent_income','loan_to_income_ratio', 'loan_to_emp_length_ratio',\n",
    "       'int_rate_to_loan_amt_ratio']\n",
    "enc_colums = ['cb_person_default_on_file','loan_grade', 'person_home_ownership','loan_intent','income_group','age_group','loan_amount_group']\n",
    "le_colums = []"
   ]
  },
  {
   "cell_type": "markdown",
   "id": "bf4e8c8d",
   "metadata": {
    "papermill": {
     "duration": 0.026539,
     "end_time": "2024-01-07T18:16:57.584975",
     "exception": false,
     "start_time": "2024-01-07T18:16:57.558436",
     "status": "completed"
    },
    "tags": []
   },
   "source": [
    "# **Data Preprocessing**"
   ]
  },
  {
   "cell_type": "code",
   "execution_count": 29,
   "id": "c8d6b682",
   "metadata": {
    "execution": {
     "iopub.execute_input": "2024-01-07T18:16:57.640602Z",
     "iopub.status.busy": "2024-01-07T18:16:57.639956Z",
     "iopub.status.idle": "2024-01-07T18:16:57.649681Z",
     "shell.execute_reply": "2024-01-07T18:16:57.648833Z"
    },
    "papermill": {
     "duration": 0.040391,
     "end_time": "2024-01-07T18:16:57.652214",
     "exception": false,
     "start_time": "2024-01-07T18:16:57.611823",
     "status": "completed"
    },
    "tags": []
   },
   "outputs": [],
   "source": [
    "X = data.drop(['loan_status'], axis=1)\n",
    "Y = data['loan_status']"
   ]
  },
  {
   "cell_type": "code",
   "execution_count": 30,
   "id": "0db68653",
   "metadata": {
    "execution": {
     "iopub.execute_input": "2024-01-07T18:16:57.704919Z",
     "iopub.status.busy": "2024-01-07T18:16:57.704241Z",
     "iopub.status.idle": "2024-01-07T18:16:59.428931Z",
     "shell.execute_reply": "2024-01-07T18:16:59.427651Z"
    },
    "papermill": {
     "duration": 1.754126,
     "end_time": "2024-01-07T18:16:59.431995",
     "exception": false,
     "start_time": "2024-01-07T18:16:57.677869",
     "status": "completed"
    },
    "tags": []
   },
   "outputs": [],
   "source": [
    "from sklearn.model_selection import train_test_split\n",
    "x_train, x_test, y_train, y_test = train_test_split(X,Y,test_size=0.2,random_state=12)"
   ]
  },
  {
   "cell_type": "code",
   "execution_count": 31,
   "id": "53118c65",
   "metadata": {
    "execution": {
     "iopub.execute_input": "2024-01-07T18:16:59.484703Z",
     "iopub.status.busy": "2024-01-07T18:16:59.484285Z",
     "iopub.status.idle": "2024-01-07T18:16:59.490068Z",
     "shell.execute_reply": "2024-01-07T18:16:59.488955Z"
    },
    "papermill": {
     "duration": 0.035541,
     "end_time": "2024-01-07T18:16:59.493365",
     "exception": false,
     "start_time": "2024-01-07T18:16:59.457824",
     "status": "completed"
    },
    "tags": []
   },
   "outputs": [
    {
     "name": "stdout",
     "output_type": "stream",
     "text": [
      "(22864, 14) (5716, 14)\n"
     ]
    }
   ],
   "source": [
    "print(x_train.shape,x_test.shape)"
   ]
  },
  {
   "cell_type": "code",
   "execution_count": 32,
   "id": "a11e5dfe",
   "metadata": {
    "execution": {
     "iopub.execute_input": "2024-01-07T18:16:59.545063Z",
     "iopub.status.busy": "2024-01-07T18:16:59.544611Z",
     "iopub.status.idle": "2024-01-07T18:16:59.551369Z",
     "shell.execute_reply": "2024-01-07T18:16:59.550149Z"
    },
    "papermill": {
     "duration": 0.035508,
     "end_time": "2024-01-07T18:16:59.553790",
     "exception": false,
     "start_time": "2024-01-07T18:16:59.518282",
     "status": "completed"
    },
    "tags": []
   },
   "outputs": [],
   "source": [
    "x_train.reset_index(inplace = True)\n",
    "x_test.reset_index(inplace = True)"
   ]
  },
  {
   "cell_type": "code",
   "execution_count": 33,
   "id": "b4093c90",
   "metadata": {
    "execution": {
     "iopub.execute_input": "2024-01-07T18:16:59.607063Z",
     "iopub.status.busy": "2024-01-07T18:16:59.606628Z",
     "iopub.status.idle": "2024-01-07T18:16:59.615014Z",
     "shell.execute_reply": "2024-01-07T18:16:59.613731Z"
    },
    "papermill": {
     "duration": 0.038595,
     "end_time": "2024-01-07T18:16:59.617625",
     "exception": false,
     "start_time": "2024-01-07T18:16:59.579030",
     "status": "completed"
    },
    "tags": []
   },
   "outputs": [
    {
     "data": {
      "text/plain": [
       "Index(['index', 'person_age', 'person_income', 'person_home_ownership',\n",
       "       'person_emp_length', 'loan_intent', 'loan_grade', 'loan_amnt',\n",
       "       'loan_int_rate', 'loan_percent_income', 'cb_person_default_on_file',\n",
       "       'cb_person_cred_hist_length', 'age_group', 'income_group',\n",
       "       'loan_amount_group'],\n",
       "      dtype='object')"
      ]
     },
     "execution_count": 33,
     "metadata": {},
     "output_type": "execute_result"
    }
   ],
   "source": [
    "x_train.columns"
   ]
  },
  {
   "cell_type": "code",
   "execution_count": 34,
   "id": "d2e88205",
   "metadata": {
    "execution": {
     "iopub.execute_input": "2024-01-07T18:16:59.671097Z",
     "iopub.status.busy": "2024-01-07T18:16:59.670539Z",
     "iopub.status.idle": "2024-01-07T18:16:59.696073Z",
     "shell.execute_reply": "2024-01-07T18:16:59.694897Z"
    },
    "papermill": {
     "duration": 0.055482,
     "end_time": "2024-01-07T18:16:59.698939",
     "exception": false,
     "start_time": "2024-01-07T18:16:59.643457",
     "status": "completed"
    },
    "tags": []
   },
   "outputs": [
    {
     "data": {
      "text/html": [
       "<style>#sk-container-id-1 {color: black;background-color: white;}#sk-container-id-1 pre{padding: 0;}#sk-container-id-1 div.sk-toggleable {background-color: white;}#sk-container-id-1 label.sk-toggleable__label {cursor: pointer;display: block;width: 100%;margin-bottom: 0;padding: 0.3em;box-sizing: border-box;text-align: center;}#sk-container-id-1 label.sk-toggleable__label-arrow:before {content: \"▸\";float: left;margin-right: 0.25em;color: #696969;}#sk-container-id-1 label.sk-toggleable__label-arrow:hover:before {color: black;}#sk-container-id-1 div.sk-estimator:hover label.sk-toggleable__label-arrow:before {color: black;}#sk-container-id-1 div.sk-toggleable__content {max-height: 0;max-width: 0;overflow: hidden;text-align: left;background-color: #f0f8ff;}#sk-container-id-1 div.sk-toggleable__content pre {margin: 0.2em;color: black;border-radius: 0.25em;background-color: #f0f8ff;}#sk-container-id-1 input.sk-toggleable__control:checked~div.sk-toggleable__content {max-height: 200px;max-width: 100%;overflow: auto;}#sk-container-id-1 input.sk-toggleable__control:checked~label.sk-toggleable__label-arrow:before {content: \"▾\";}#sk-container-id-1 div.sk-estimator input.sk-toggleable__control:checked~label.sk-toggleable__label {background-color: #d4ebff;}#sk-container-id-1 div.sk-label input.sk-toggleable__control:checked~label.sk-toggleable__label {background-color: #d4ebff;}#sk-container-id-1 input.sk-hidden--visually {border: 0;clip: rect(1px 1px 1px 1px);clip: rect(1px, 1px, 1px, 1px);height: 1px;margin: -1px;overflow: hidden;padding: 0;position: absolute;width: 1px;}#sk-container-id-1 div.sk-estimator {font-family: monospace;background-color: #f0f8ff;border: 1px dotted black;border-radius: 0.25em;box-sizing: border-box;margin-bottom: 0.5em;}#sk-container-id-1 div.sk-estimator:hover {background-color: #d4ebff;}#sk-container-id-1 div.sk-parallel-item::after {content: \"\";width: 100%;border-bottom: 1px solid gray;flex-grow: 1;}#sk-container-id-1 div.sk-label:hover label.sk-toggleable__label {background-color: #d4ebff;}#sk-container-id-1 div.sk-serial::before {content: \"\";position: absolute;border-left: 1px solid gray;box-sizing: border-box;top: 0;bottom: 0;left: 50%;z-index: 0;}#sk-container-id-1 div.sk-serial {display: flex;flex-direction: column;align-items: center;background-color: white;padding-right: 0.2em;padding-left: 0.2em;position: relative;}#sk-container-id-1 div.sk-item {position: relative;z-index: 1;}#sk-container-id-1 div.sk-parallel {display: flex;align-items: stretch;justify-content: center;background-color: white;position: relative;}#sk-container-id-1 div.sk-item::before, #sk-container-id-1 div.sk-parallel-item::before {content: \"\";position: absolute;border-left: 1px solid gray;box-sizing: border-box;top: 0;bottom: 0;left: 50%;z-index: -1;}#sk-container-id-1 div.sk-parallel-item {display: flex;flex-direction: column;z-index: 1;position: relative;background-color: white;}#sk-container-id-1 div.sk-parallel-item:first-child::after {align-self: flex-end;width: 50%;}#sk-container-id-1 div.sk-parallel-item:last-child::after {align-self: flex-start;width: 50%;}#sk-container-id-1 div.sk-parallel-item:only-child::after {width: 0;}#sk-container-id-1 div.sk-dashed-wrapped {border: 1px dashed gray;margin: 0 0.4em 0.5em 0.4em;box-sizing: border-box;padding-bottom: 0.4em;background-color: white;}#sk-container-id-1 div.sk-label label {font-family: monospace;font-weight: bold;display: inline-block;line-height: 1.2em;}#sk-container-id-1 div.sk-label-container {text-align: center;}#sk-container-id-1 div.sk-container {/* jupyter's `normalize.less` sets `[hidden] { display: none; }` but bootstrap.min.css set `[hidden] { display: none !important; }` so we also need the `!important` here to be able to override the default hidden behavior on the sphinx rendered scikit-learn.org. See: https://github.com/scikit-learn/scikit-learn/issues/21755 */display: inline-block !important;position: relative;}#sk-container-id-1 div.sk-text-repr-fallback {display: none;}</style><div id=\"sk-container-id-1\" class=\"sk-top-container\"><div class=\"sk-text-repr-fallback\"><pre>OneHotEncoder()</pre><b>In a Jupyter environment, please rerun this cell to show the HTML representation or trust the notebook. <br />On GitHub, the HTML representation is unable to render, please try loading this page with nbviewer.org.</b></div><div class=\"sk-container\" hidden><div class=\"sk-item\"><div class=\"sk-estimator sk-toggleable\"><input class=\"sk-toggleable__control sk-hidden--visually\" id=\"sk-estimator-id-1\" type=\"checkbox\" checked><label for=\"sk-estimator-id-1\" class=\"sk-toggleable__label sk-toggleable__label-arrow\">OneHotEncoder</label><div class=\"sk-toggleable__content\"><pre>OneHotEncoder()</pre></div></div></div></div></div>"
      ],
      "text/plain": [
       "OneHotEncoder()"
      ]
     },
     "execution_count": 34,
     "metadata": {},
     "output_type": "execute_result"
    }
   ],
   "source": [
    "from sklearn.preprocessing import OneHotEncoder\n",
    "enc = OneHotEncoder()\n",
    "enc.fit(x_train[enc_colums])"
   ]
  },
  {
   "cell_type": "code",
   "execution_count": 35,
   "id": "828cc3de",
   "metadata": {
    "execution": {
     "iopub.execute_input": "2024-01-07T18:16:59.753922Z",
     "iopub.status.busy": "2024-01-07T18:16:59.753427Z",
     "iopub.status.idle": "2024-01-07T18:16:59.761487Z",
     "shell.execute_reply": "2024-01-07T18:16:59.760076Z"
    },
    "papermill": {
     "duration": 0.038717,
     "end_time": "2024-01-07T18:16:59.764119",
     "exception": false,
     "start_time": "2024-01-07T18:16:59.725402",
     "status": "completed"
    },
    "tags": []
   },
   "outputs": [
    {
     "data": {
      "text/plain": [
       "[array(['N', 'Y'], dtype=object),\n",
       " array(['A', 'B', 'C', 'D', 'E', 'F', 'G'], dtype=object),\n",
       " array(['MORTGAGE', 'OTHER', 'OWN', 'RENT'], dtype=object),\n",
       " array(['DEBTCONSOLIDATION', 'EDUCATION', 'HOMEIMPROVEMENT', 'MEDICAL',\n",
       "        'PERSONAL', 'VENTURE'], dtype=object),\n",
       " array(['high', 'high-middle', 'low', 'low-middle', 'middle'], dtype=object),\n",
       " array(['20-25', '26-35', '36-45', '46-55', '56-60', nan], dtype=object),\n",
       " array(['large', 'medium', 'small', 'very large'], dtype=object)]"
      ]
     },
     "execution_count": 35,
     "metadata": {},
     "output_type": "execute_result"
    }
   ],
   "source": [
    "enc.categories_"
   ]
  },
  {
   "cell_type": "code",
   "execution_count": 36,
   "id": "a4dd9bfe",
   "metadata": {
    "execution": {
     "iopub.execute_input": "2024-01-07T18:16:59.820862Z",
     "iopub.status.busy": "2024-01-07T18:16:59.820396Z",
     "iopub.status.idle": "2024-01-07T18:16:59.826970Z",
     "shell.execute_reply": "2024-01-07T18:16:59.825656Z"
    },
    "papermill": {
     "duration": 0.037391,
     "end_time": "2024-01-07T18:16:59.829685",
     "exception": false,
     "start_time": "2024-01-07T18:16:59.792294",
     "status": "completed"
    },
    "tags": []
   },
   "outputs": [],
   "source": [
    "merge_enc_col = np.concatenate((enc.categories_[0], \n",
    "                enc.categories_[1],\n",
    "                enc.categories_[2],\n",
    "                enc.categories_[3],\n",
    "                enc.categories_[4],\n",
    "                enc.categories_[5],\n",
    "                enc.categories_[6],))"
   ]
  },
  {
   "cell_type": "code",
   "execution_count": 37,
   "id": "977d89c4",
   "metadata": {
    "execution": {
     "iopub.execute_input": "2024-01-07T18:16:59.884576Z",
     "iopub.status.busy": "2024-01-07T18:16:59.883497Z",
     "iopub.status.idle": "2024-01-07T18:16:59.891144Z",
     "shell.execute_reply": "2024-01-07T18:16:59.889862Z"
    },
    "papermill": {
     "duration": 0.037652,
     "end_time": "2024-01-07T18:16:59.893692",
     "exception": false,
     "start_time": "2024-01-07T18:16:59.856040",
     "status": "completed"
    },
    "tags": []
   },
   "outputs": [
    {
     "data": {
      "text/plain": [
       "array(['N', 'Y', 'A', 'B', 'C', 'D', 'E', 'F', 'G', 'MORTGAGE', 'OTHER',\n",
       "       'OWN', 'RENT', 'DEBTCONSOLIDATION', 'EDUCATION', 'HOMEIMPROVEMENT',\n",
       "       'MEDICAL', 'PERSONAL', 'VENTURE', 'high', 'high-middle', 'low',\n",
       "       'low-middle', 'middle', '20-25', '26-35', '36-45', '46-55',\n",
       "       '56-60', nan, 'large', 'medium', 'small', 'very large'],\n",
       "      dtype=object)"
      ]
     },
     "execution_count": 37,
     "metadata": {},
     "output_type": "execute_result"
    }
   ],
   "source": [
    "merge_enc_col"
   ]
  },
  {
   "cell_type": "code",
   "execution_count": 38,
   "id": "9e10f054",
   "metadata": {
    "execution": {
     "iopub.execute_input": "2024-01-07T18:16:59.948174Z",
     "iopub.status.busy": "2024-01-07T18:16:59.947242Z",
     "iopub.status.idle": "2024-01-07T18:17:00.044095Z",
     "shell.execute_reply": "2024-01-07T18:17:00.042917Z"
    },
    "papermill": {
     "duration": 0.127207,
     "end_time": "2024-01-07T18:17:00.047131",
     "exception": false,
     "start_time": "2024-01-07T18:16:59.919924",
     "status": "completed"
    },
    "tags": []
   },
   "outputs": [],
   "source": [
    "enc_data = pd.DataFrame(enc.transform(x_train[enc_colums]).toarray(), columns=merge_enc_col)\n",
    "enc_data2 = pd.DataFrame(enc.transform(x_test[enc_colums]).toarray(),columns=merge_enc_col)"
   ]
  },
  {
   "cell_type": "code",
   "execution_count": 39,
   "id": "2e09f7c1",
   "metadata": {
    "execution": {
     "iopub.execute_input": "2024-01-07T18:17:00.104276Z",
     "iopub.status.busy": "2024-01-07T18:17:00.103476Z",
     "iopub.status.idle": "2024-01-07T18:17:00.132025Z",
     "shell.execute_reply": "2024-01-07T18:17:00.130592Z"
    },
    "papermill": {
     "duration": 0.060527,
     "end_time": "2024-01-07T18:17:00.134959",
     "exception": false,
     "start_time": "2024-01-07T18:17:00.074432",
     "status": "completed"
    },
    "tags": []
   },
   "outputs": [],
   "source": [
    "X_new = pd.concat([enc_data, x_train], axis=1)\n",
    "X_new = X_new.drop(enc_colums, axis=1)\n",
    "\n",
    "\n",
    "X_new_test = pd.concat([enc_data2, x_test], axis=1)\n",
    "X_new_test = X_new_test.drop(enc_colums, axis=1)"
   ]
  },
  {
   "cell_type": "code",
   "execution_count": 40,
   "id": "52e84379",
   "metadata": {
    "execution": {
     "iopub.execute_input": "2024-01-07T18:17:00.190207Z",
     "iopub.status.busy": "2024-01-07T18:17:00.189817Z",
     "iopub.status.idle": "2024-01-07T18:17:00.197232Z",
     "shell.execute_reply": "2024-01-07T18:17:00.196088Z"
    },
    "papermill": {
     "duration": 0.038245,
     "end_time": "2024-01-07T18:17:00.199872",
     "exception": false,
     "start_time": "2024-01-07T18:17:00.161627",
     "status": "completed"
    },
    "tags": []
   },
   "outputs": [
    {
     "data": {
      "text/plain": [
       "(22864, 42)"
      ]
     },
     "execution_count": 40,
     "metadata": {},
     "output_type": "execute_result"
    }
   ],
   "source": [
    "X_new.head()\n",
    "X_new.shape"
   ]
  },
  {
   "cell_type": "code",
   "execution_count": 41,
   "id": "78e0e1c1",
   "metadata": {
    "execution": {
     "iopub.execute_input": "2024-01-07T18:17:00.255725Z",
     "iopub.status.busy": "2024-01-07T18:17:00.255279Z",
     "iopub.status.idle": "2024-01-07T18:17:00.292540Z",
     "shell.execute_reply": "2024-01-07T18:17:00.291223Z"
    },
    "papermill": {
     "duration": 0.069389,
     "end_time": "2024-01-07T18:17:00.295702",
     "exception": false,
     "start_time": "2024-01-07T18:17:00.226313",
     "status": "completed"
    },
    "tags": []
   },
   "outputs": [
    {
     "data": {
      "text/html": [
       "<div>\n",
       "<style scoped>\n",
       "    .dataframe tbody tr th:only-of-type {\n",
       "        vertical-align: middle;\n",
       "    }\n",
       "\n",
       "    .dataframe tbody tr th {\n",
       "        vertical-align: top;\n",
       "    }\n",
       "\n",
       "    .dataframe thead th {\n",
       "        text-align: right;\n",
       "    }\n",
       "</style>\n",
       "<table border=\"1\" class=\"dataframe\">\n",
       "  <thead>\n",
       "    <tr style=\"text-align: right;\">\n",
       "      <th></th>\n",
       "      <th>N</th>\n",
       "      <th>Y</th>\n",
       "      <th>A</th>\n",
       "      <th>B</th>\n",
       "      <th>C</th>\n",
       "      <th>D</th>\n",
       "      <th>E</th>\n",
       "      <th>F</th>\n",
       "      <th>G</th>\n",
       "      <th>MORTGAGE</th>\n",
       "      <th>...</th>\n",
       "      <th>small</th>\n",
       "      <th>very large</th>\n",
       "      <th>index</th>\n",
       "      <th>person_age</th>\n",
       "      <th>person_income</th>\n",
       "      <th>person_emp_length</th>\n",
       "      <th>loan_amnt</th>\n",
       "      <th>loan_int_rate</th>\n",
       "      <th>loan_percent_income</th>\n",
       "      <th>cb_person_cred_hist_length</th>\n",
       "    </tr>\n",
       "  </thead>\n",
       "  <tbody>\n",
       "    <tr>\n",
       "      <th>0</th>\n",
       "      <td>1.0</td>\n",
       "      <td>0.0</td>\n",
       "      <td>0.0</td>\n",
       "      <td>0.0</td>\n",
       "      <td>0.0</td>\n",
       "      <td>1.0</td>\n",
       "      <td>0.0</td>\n",
       "      <td>0.0</td>\n",
       "      <td>0.0</td>\n",
       "      <td>0.0</td>\n",
       "      <td>...</td>\n",
       "      <td>0.0</td>\n",
       "      <td>0.0</td>\n",
       "      <td>23717</td>\n",
       "      <td>29</td>\n",
       "      <td>32000</td>\n",
       "      <td>10.0</td>\n",
       "      <td>9250</td>\n",
       "      <td>15.65</td>\n",
       "      <td>0.29</td>\n",
       "      <td>7</td>\n",
       "    </tr>\n",
       "    <tr>\n",
       "      <th>1</th>\n",
       "      <td>0.0</td>\n",
       "      <td>1.0</td>\n",
       "      <td>0.0</td>\n",
       "      <td>0.0</td>\n",
       "      <td>0.0</td>\n",
       "      <td>1.0</td>\n",
       "      <td>0.0</td>\n",
       "      <td>0.0</td>\n",
       "      <td>0.0</td>\n",
       "      <td>1.0</td>\n",
       "      <td>...</td>\n",
       "      <td>0.0</td>\n",
       "      <td>0.0</td>\n",
       "      <td>22127</td>\n",
       "      <td>30</td>\n",
       "      <td>52000</td>\n",
       "      <td>9.0</td>\n",
       "      <td>9000</td>\n",
       "      <td>12.49</td>\n",
       "      <td>0.17</td>\n",
       "      <td>6</td>\n",
       "    </tr>\n",
       "    <tr>\n",
       "      <th>2</th>\n",
       "      <td>0.0</td>\n",
       "      <td>1.0</td>\n",
       "      <td>0.0</td>\n",
       "      <td>0.0</td>\n",
       "      <td>1.0</td>\n",
       "      <td>0.0</td>\n",
       "      <td>0.0</td>\n",
       "      <td>0.0</td>\n",
       "      <td>0.0</td>\n",
       "      <td>1.0</td>\n",
       "      <td>...</td>\n",
       "      <td>0.0</td>\n",
       "      <td>0.0</td>\n",
       "      <td>15684</td>\n",
       "      <td>25</td>\n",
       "      <td>154000</td>\n",
       "      <td>2.0</td>\n",
       "      <td>9200</td>\n",
       "      <td>12.61</td>\n",
       "      <td>0.06</td>\n",
       "      <td>4</td>\n",
       "    </tr>\n",
       "    <tr>\n",
       "      <th>3</th>\n",
       "      <td>1.0</td>\n",
       "      <td>0.0</td>\n",
       "      <td>1.0</td>\n",
       "      <td>0.0</td>\n",
       "      <td>0.0</td>\n",
       "      <td>0.0</td>\n",
       "      <td>0.0</td>\n",
       "      <td>0.0</td>\n",
       "      <td>0.0</td>\n",
       "      <td>1.0</td>\n",
       "      <td>...</td>\n",
       "      <td>0.0</td>\n",
       "      <td>0.0</td>\n",
       "      <td>10267</td>\n",
       "      <td>23</td>\n",
       "      <td>66000</td>\n",
       "      <td>0.0</td>\n",
       "      <td>7800</td>\n",
       "      <td>7.88</td>\n",
       "      <td>0.12</td>\n",
       "      <td>3</td>\n",
       "    </tr>\n",
       "    <tr>\n",
       "      <th>4</th>\n",
       "      <td>1.0</td>\n",
       "      <td>0.0</td>\n",
       "      <td>1.0</td>\n",
       "      <td>0.0</td>\n",
       "      <td>0.0</td>\n",
       "      <td>0.0</td>\n",
       "      <td>0.0</td>\n",
       "      <td>0.0</td>\n",
       "      <td>0.0</td>\n",
       "      <td>0.0</td>\n",
       "      <td>...</td>\n",
       "      <td>1.0</td>\n",
       "      <td>0.0</td>\n",
       "      <td>2570</td>\n",
       "      <td>25</td>\n",
       "      <td>32000</td>\n",
       "      <td>3.0</td>\n",
       "      <td>3000</td>\n",
       "      <td>8.94</td>\n",
       "      <td>0.09</td>\n",
       "      <td>3</td>\n",
       "    </tr>\n",
       "  </tbody>\n",
       "</table>\n",
       "<p>5 rows × 42 columns</p>\n",
       "</div>"
      ],
      "text/plain": [
       "     N    Y    A    B    C    D    E    F    G  MORTGAGE  ...  small  \\\n",
       "0  1.0  0.0  0.0  0.0  0.0  1.0  0.0  0.0  0.0       0.0  ...    0.0   \n",
       "1  0.0  1.0  0.0  0.0  0.0  1.0  0.0  0.0  0.0       1.0  ...    0.0   \n",
       "2  0.0  1.0  0.0  0.0  1.0  0.0  0.0  0.0  0.0       1.0  ...    0.0   \n",
       "3  1.0  0.0  1.0  0.0  0.0  0.0  0.0  0.0  0.0       1.0  ...    0.0   \n",
       "4  1.0  0.0  1.0  0.0  0.0  0.0  0.0  0.0  0.0       0.0  ...    1.0   \n",
       "\n",
       "   very large  index  person_age  person_income  person_emp_length  loan_amnt  \\\n",
       "0         0.0  23717          29          32000               10.0       9250   \n",
       "1         0.0  22127          30          52000                9.0       9000   \n",
       "2         0.0  15684          25         154000                2.0       9200   \n",
       "3         0.0  10267          23          66000                0.0       7800   \n",
       "4         0.0   2570          25          32000                3.0       3000   \n",
       "\n",
       "   loan_int_rate  loan_percent_income  cb_person_cred_hist_length  \n",
       "0          15.65                 0.29                           7  \n",
       "1          12.49                 0.17                           6  \n",
       "2          12.61                 0.06                           4  \n",
       "3           7.88                 0.12                           3  \n",
       "4           8.94                 0.09                           3  \n",
       "\n",
       "[5 rows x 42 columns]"
      ]
     },
     "execution_count": 41,
     "metadata": {},
     "output_type": "execute_result"
    }
   ],
   "source": [
    "X_new_test.head()"
   ]
  },
  {
   "cell_type": "markdown",
   "id": "bf9a4a93",
   "metadata": {
    "papermill": {
     "duration": 0.027406,
     "end_time": "2024-01-07T18:17:00.350520",
     "exception": false,
     "start_time": "2024-01-07T18:17:00.323114",
     "status": "completed"
    },
    "tags": []
   },
   "source": [
    "# **ML Classification Models**"
   ]
  },
  {
   "cell_type": "code",
   "execution_count": 42,
   "id": "6c9d2544",
   "metadata": {
    "execution": {
     "iopub.execute_input": "2024-01-07T18:17:00.410937Z",
     "iopub.status.busy": "2024-01-07T18:17:00.410520Z",
     "iopub.status.idle": "2024-01-07T18:17:00.939380Z",
     "shell.execute_reply": "2024-01-07T18:17:00.938084Z"
    },
    "papermill": {
     "duration": 0.564313,
     "end_time": "2024-01-07T18:17:00.942538",
     "exception": false,
     "start_time": "2024-01-07T18:17:00.378225",
     "status": "completed"
    },
    "tags": []
   },
   "outputs": [],
   "source": [
    "from sklearn.linear_model import LinearRegression\n",
    "from sklearn.linear_model import LogisticRegression\n",
    "from sklearn.svm import SVC\n",
    "from xgboost import XGBClassifier\n",
    "from sklearn.ensemble import RandomForestClassifier"
   ]
  },
  {
   "cell_type": "code",
   "execution_count": 43,
   "id": "0db209e6",
   "metadata": {
    "execution": {
     "iopub.execute_input": "2024-01-07T18:17:00.997781Z",
     "iopub.status.busy": "2024-01-07T18:17:00.997347Z",
     "iopub.status.idle": "2024-01-07T18:17:01.003301Z",
     "shell.execute_reply": "2024-01-07T18:17:01.002013Z"
    },
    "papermill": {
     "duration": 0.036146,
     "end_time": "2024-01-07T18:17:01.005932",
     "exception": false,
     "start_time": "2024-01-07T18:17:00.969786",
     "status": "completed"
    },
    "tags": []
   },
   "outputs": [],
   "source": [
    "svc = SVC()\n",
    "rfc = RandomForestClassifier()\n",
    "lrc = LogisticRegression()\n",
    "xgb = XGBClassifier()"
   ]
  },
  {
   "cell_type": "code",
   "execution_count": 44,
   "id": "cad2ac36",
   "metadata": {
    "execution": {
     "iopub.execute_input": "2024-01-07T18:17:01.061741Z",
     "iopub.status.busy": "2024-01-07T18:17:01.061097Z",
     "iopub.status.idle": "2024-01-07T18:17:01.065931Z",
     "shell.execute_reply": "2024-01-07T18:17:01.064823Z"
    },
    "papermill": {
     "duration": 0.035707,
     "end_time": "2024-01-07T18:17:01.068528",
     "exception": false,
     "start_time": "2024-01-07T18:17:01.032821",
     "status": "completed"
    },
    "tags": []
   },
   "outputs": [],
   "source": [
    "clf = {\n",
    "    'svc':svc,\n",
    "    'xgb':xgb,\n",
    "    'RF': rfc,\n",
    "    'LR': lrc\n",
    "}"
   ]
  },
  {
   "cell_type": "code",
   "execution_count": 45,
   "id": "1b753af1",
   "metadata": {
    "execution": {
     "iopub.execute_input": "2024-01-07T18:17:01.124718Z",
     "iopub.status.busy": "2024-01-07T18:17:01.123474Z",
     "iopub.status.idle": "2024-01-07T18:17:01.131830Z",
     "shell.execute_reply": "2024-01-07T18:17:01.130854Z"
    },
    "papermill": {
     "duration": 0.038905,
     "end_time": "2024-01-07T18:17:01.134427",
     "exception": false,
     "start_time": "2024-01-07T18:17:01.095522",
     "status": "completed"
    },
    "tags": []
   },
   "outputs": [],
   "source": [
    "from sklearn.metrics import precision_score, accuracy_score, recall_score, confusion_matrix\n",
    "\n",
    "def train_classifier(clf, X_train, y_train, X_test, y_test):\n",
    "    clf.fit(X_train, y_train)\n",
    "    y_pred = clf.predict(X_test)\n",
    "    \n",
    "    accuracy = accuracy_score(y_test, y_pred)\n",
    "    precision = precision_score(y_test, y_pred)\n",
    "    recall = recall_score(y_test, y_pred)\n",
    "    \n",
    "    # Calculate confusion matrix to get TN and FP for specificity\n",
    "    tn, fp, fn, tp = confusion_matrix(y_test, y_pred).ravel()\n",
    "    specificity = tn / (tn + fp)\n",
    "    \n",
    "    return accuracy, precision, recall, specificity\n",
    "\n",
    "# Usage\n",
    "# accuracy, precision, recall, specificity = train_classifier(clf, x_train, y_train, X_test, y_test)\n",
    "# print(\"Accuracy:\", accuracy)\n",
    "# print(\"Precision:\", precision)\n",
    "# print(\"Recall:\", recall)\n",
    "# print(\"Specificity:\", specificity)"
   ]
  },
  {
   "cell_type": "code",
   "execution_count": 46,
   "id": "1ec2393e",
   "metadata": {
    "execution": {
     "iopub.execute_input": "2024-01-07T18:17:01.191034Z",
     "iopub.status.busy": "2024-01-07T18:17:01.190076Z",
     "iopub.status.idle": "2024-01-07T18:17:01.204670Z",
     "shell.execute_reply": "2024-01-07T18:17:01.203579Z"
    },
    "papermill": {
     "duration": 0.046099,
     "end_time": "2024-01-07T18:17:01.207369",
     "exception": false,
     "start_time": "2024-01-07T18:17:01.161270",
     "status": "completed"
    },
    "tags": []
   },
   "outputs": [],
   "source": [
    "X_new = X_new.drop(columns=[col for col in X_new.columns if pd.isna(col)], axis=1)\n",
    "X_new_test = X_new_test.drop(columns=[col for col in X_new_test.columns if pd.isna(col)], axis=1)"
   ]
  },
  {
   "cell_type": "code",
   "execution_count": 47,
   "id": "011abb71",
   "metadata": {
    "execution": {
     "iopub.execute_input": "2024-01-07T18:17:01.263129Z",
     "iopub.status.busy": "2024-01-07T18:17:01.262740Z",
     "iopub.status.idle": "2024-01-07T18:17:31.864125Z",
     "shell.execute_reply": "2024-01-07T18:17:31.853292Z"
    },
    "papermill": {
     "duration": 30.687415,
     "end_time": "2024-01-07T18:17:31.921786",
     "exception": false,
     "start_time": "2024-01-07T18:17:01.234371",
     "status": "completed"
    },
    "tags": []
   },
   "outputs": [
    {
     "name": "stdout",
     "output_type": "stream",
     "text": [
      "For  svc\n",
      "Accuracy -  0.8147305808257522\n",
      "Precision -  0.8290155440414507\n",
      "Recall -  0.13490725126475547\n",
      "Specificity -  0.9927152317880795\n",
      "\n",
      "For  xgb\n",
      "Accuracy -  0.9413925822253324\n",
      "Precision -  0.9531416400425985\n",
      "Recall -  0.7546374367622259\n",
      "Specificity -  0.9902869757174393\n",
      "\n",
      "For  RF\n",
      "Accuracy -  0.9277466759972008\n",
      "Precision -  0.9387060158910329\n",
      "Recall -  0.6973018549747049\n",
      "Specificity -  0.9880794701986755\n",
      "\n",
      "For  LR\n",
      "Accuracy -  0.8082575227431771\n",
      "Precision -  0.6829268292682927\n",
      "Recall -  0.14165261382799327\n",
      "Specificity -  0.9827814569536424\n",
      "\n"
     ]
    }
   ],
   "source": [
    "accuracy_scores = []\n",
    "precision_scores = []\n",
    "recall_scores = []\n",
    "specificity_scores = []\n",
    "\n",
    "for name,clf in clf.items():\n",
    "    \n",
    "    current_accuracy,current_precision, current_recall, current_specificity = train_classifier(clf, X_new,y_train,X_new_test,y_test)\n",
    "    \n",
    "    print(\"For \",name)\n",
    "    print(\"Accuracy - \",current_accuracy)\n",
    "    print(\"Precision - \",current_precision)\n",
    "    print(\"Recall - \",current_recall)\n",
    "    print(\"Specificity - \",current_specificity)\n",
    "    print()\n",
    "    \n",
    "    accuracy_scores.append(current_accuracy)\n",
    "    precision_scores.append(current_precision)\n",
    "    recall_scores.append(current_recall)\n",
    "    specificity_scores.append(current_specificity)"
   ]
  },
  {
   "cell_type": "markdown",
   "id": "e9455d3b",
   "metadata": {
    "papermill": {
     "duration": 0.026352,
     "end_time": "2024-01-07T18:17:31.990436",
     "exception": false,
     "start_time": "2024-01-07T18:17:31.964084",
     "status": "completed"
    },
    "tags": []
   },
   "source": [
    "In the context of loan default prediction, two key factors come into play: the potential financial impact of missed loan defaults and the risk of denying loans to trustworthy applicants.\n",
    "\n",
    "1- Recall (Sensitivity): Recall measures how well the model identifies actual loan defaults. For lenders, missing a loan that eventually defaults can lead to significant financial losses. Thus, achieving a high Recall is essential because it ensures that most potential default cases are detected, minimizing the risk of financial setbacks.\n",
    "\n",
    "2- Specificity: Specificity gauges the model's accuracy in identifying loans that won't default. Misclassifying a reliable borrower as a potential defaulter (false positive) can result in lost business opportunities. By emphasizing high Specificity, the model aims to avoid misclassifications that could deny loans to credible applicants.\n",
    "\n",
    "3- Precision: Precision is a key metric as it evaluates the accuracy of positive predictions. Lenders need to avoid false positives (incorrectly predicting defaults) to prevent unwarranted actions. Maintaining high Precision ensures that when the model predicts a default, it's highly likely to be accurate. This protects the lender from unnecessary costs and safeguards borrower relationships."
   ]
  },
  {
   "cell_type": "markdown",
   "id": "ae0bc3bf",
   "metadata": {
    "papermill": {
     "duration": 0.026449,
     "end_time": "2024-01-07T18:17:32.044190",
     "exception": false,
     "start_time": "2024-01-07T18:17:32.017741",
     "status": "completed"
    },
    "tags": []
   },
   "source": [
    "# **Using Pycaret for Final Models**"
   ]
  },
  {
   "cell_type": "code",
   "execution_count": 48,
   "id": "9935cb33",
   "metadata": {
    "execution": {
     "iopub.execute_input": "2024-01-07T18:17:32.099154Z",
     "iopub.status.busy": "2024-01-07T18:17:32.098763Z",
     "iopub.status.idle": "2024-01-07T18:17:53.686598Z",
     "shell.execute_reply": "2024-01-07T18:17:53.684946Z"
    },
    "papermill": {
     "duration": 21.618546,
     "end_time": "2024-01-07T18:17:53.689558",
     "exception": false,
     "start_time": "2024-01-07T18:17:32.071012",
     "status": "completed"
    },
    "tags": []
   },
   "outputs": [
    {
     "name": "stdout",
     "output_type": "stream",
     "text": [
      "  \u001b[1;31merror\u001b[0m: \u001b[1msubprocess-exited-with-error\u001b[0m\r\n",
      "  \r\n",
      "  \u001b[31m×\u001b[0m \u001b[32mGetting requirements to build wheel\u001b[0m did not run successfully.\r\n",
      "  \u001b[31m│\u001b[0m exit code: \u001b[1;36m1\u001b[0m\r\n",
      "  \u001b[31m╰─>\u001b[0m \u001b[31m[48 lines of output]\u001b[0m\r\n",
      "  \u001b[31m   \u001b[0m running egg_info\r\n",
      "  \u001b[31m   \u001b[0m writing lib3/PyYAML.egg-info/PKG-INFO\r\n",
      "  \u001b[31m   \u001b[0m writing dependency_links to lib3/PyYAML.egg-info/dependency_links.txt\r\n",
      "  \u001b[31m   \u001b[0m writing top-level names to lib3/PyYAML.egg-info/top_level.txt\r\n",
      "  \u001b[31m   \u001b[0m Traceback (most recent call last):\r\n",
      "  \u001b[31m   \u001b[0m   File \"/opt/conda/lib/python3.10/site-packages/pip/_vendor/pyproject_hooks/_in_process/_in_process.py\", line 353, in <module>\r\n",
      "  \u001b[31m   \u001b[0m     main()\r\n",
      "  \u001b[31m   \u001b[0m   File \"/opt/conda/lib/python3.10/site-packages/pip/_vendor/pyproject_hooks/_in_process/_in_process.py\", line 335, in main\r\n",
      "  \u001b[31m   \u001b[0m     json_out['return_val'] = hook(**hook_input['kwargs'])\r\n",
      "  \u001b[31m   \u001b[0m   File \"/opt/conda/lib/python3.10/site-packages/pip/_vendor/pyproject_hooks/_in_process/_in_process.py\", line 118, in get_requires_for_build_wheel\r\n",
      "  \u001b[31m   \u001b[0m     return hook(config_settings)\r\n",
      "  \u001b[31m   \u001b[0m   File \"/tmp/pip-build-env-nja08h7j/overlay/lib/python3.10/site-packages/setuptools/build_meta.py\", line 325, in get_requires_for_build_wheel\r\n",
      "  \u001b[31m   \u001b[0m     return self._get_build_requires(config_settings, requirements=['wheel'])\r\n",
      "  \u001b[31m   \u001b[0m   File \"/tmp/pip-build-env-nja08h7j/overlay/lib/python3.10/site-packages/setuptools/build_meta.py\", line 295, in _get_build_requires\r\n",
      "  \u001b[31m   \u001b[0m     self.run_setup()\r\n",
      "  \u001b[31m   \u001b[0m   File \"/tmp/pip-build-env-nja08h7j/overlay/lib/python3.10/site-packages/setuptools/build_meta.py\", line 311, in run_setup\r\n",
      "  \u001b[31m   \u001b[0m     exec(code, locals())\r\n",
      "  \u001b[31m   \u001b[0m   File \"<string>\", line 271, in <module>\r\n",
      "  \u001b[31m   \u001b[0m   File \"/tmp/pip-build-env-nja08h7j/overlay/lib/python3.10/site-packages/setuptools/__init__.py\", line 103, in setup\r\n",
      "  \u001b[31m   \u001b[0m     return distutils.core.setup(**attrs)\r\n",
      "  \u001b[31m   \u001b[0m   File \"/tmp/pip-build-env-nja08h7j/overlay/lib/python3.10/site-packages/setuptools/_distutils/core.py\", line 185, in setup\r\n",
      "  \u001b[31m   \u001b[0m     return run_commands(dist)\r\n",
      "  \u001b[31m   \u001b[0m   File \"/tmp/pip-build-env-nja08h7j/overlay/lib/python3.10/site-packages/setuptools/_distutils/core.py\", line 201, in run_commands\r\n",
      "  \u001b[31m   \u001b[0m     dist.run_commands()\r\n",
      "  \u001b[31m   \u001b[0m   File \"/tmp/pip-build-env-nja08h7j/overlay/lib/python3.10/site-packages/setuptools/_distutils/dist.py\", line 969, in run_commands\r\n",
      "  \u001b[31m   \u001b[0m     self.run_command(cmd)\r\n",
      "  \u001b[31m   \u001b[0m   File \"/tmp/pip-build-env-nja08h7j/overlay/lib/python3.10/site-packages/setuptools/dist.py\", line 963, in run_command\r\n",
      "  \u001b[31m   \u001b[0m     super().run_command(command)\r\n",
      "  \u001b[31m   \u001b[0m   File \"/tmp/pip-build-env-nja08h7j/overlay/lib/python3.10/site-packages/setuptools/_distutils/dist.py\", line 988, in run_command\r\n",
      "  \u001b[31m   \u001b[0m     cmd_obj.run()\r\n",
      "  \u001b[31m   \u001b[0m   File \"/tmp/pip-build-env-nja08h7j/overlay/lib/python3.10/site-packages/setuptools/command/egg_info.py\", line 321, in run\r\n",
      "  \u001b[31m   \u001b[0m     self.find_sources()\r\n",
      "  \u001b[31m   \u001b[0m   File \"/tmp/pip-build-env-nja08h7j/overlay/lib/python3.10/site-packages/setuptools/command/egg_info.py\", line 329, in find_sources\r\n",
      "  \u001b[31m   \u001b[0m     mm.run()\r\n",
      "  \u001b[31m   \u001b[0m   File \"/tmp/pip-build-env-nja08h7j/overlay/lib/python3.10/site-packages/setuptools/command/egg_info.py\", line 551, in run\r\n",
      "  \u001b[31m   \u001b[0m     self.add_defaults()\r\n",
      "  \u001b[31m   \u001b[0m   File \"/tmp/pip-build-env-nja08h7j/overlay/lib/python3.10/site-packages/setuptools/command/egg_info.py\", line 589, in add_defaults\r\n",
      "  \u001b[31m   \u001b[0m     sdist.add_defaults(self)\r\n",
      "  \u001b[31m   \u001b[0m   File \"/tmp/pip-build-env-nja08h7j/overlay/lib/python3.10/site-packages/setuptools/command/sdist.py\", line 112, in add_defaults\r\n",
      "  \u001b[31m   \u001b[0m     super().add_defaults()\r\n",
      "  \u001b[31m   \u001b[0m   File \"/tmp/pip-build-env-nja08h7j/overlay/lib/python3.10/site-packages/setuptools/_distutils/command/sdist.py\", line 251, in add_defaults\r\n",
      "  \u001b[31m   \u001b[0m     self._add_defaults_ext()\r\n",
      "  \u001b[31m   \u001b[0m   File \"/tmp/pip-build-env-nja08h7j/overlay/lib/python3.10/site-packages/setuptools/_distutils/command/sdist.py\", line 336, in _add_defaults_ext\r\n",
      "  \u001b[31m   \u001b[0m     self.filelist.extend(build_ext.get_source_files())\r\n",
      "  \u001b[31m   \u001b[0m   File \"<string>\", line 201, in get_source_files\r\n",
      "  \u001b[31m   \u001b[0m   File \"/tmp/pip-build-env-nja08h7j/overlay/lib/python3.10/site-packages/setuptools/_distutils/cmd.py\", line 107, in __getattr__\r\n",
      "  \u001b[31m   \u001b[0m     raise AttributeError(attr)\r\n",
      "  \u001b[31m   \u001b[0m AttributeError: cython_sources\r\n",
      "  \u001b[31m   \u001b[0m \u001b[31m[end of output]\u001b[0m\r\n",
      "  \r\n",
      "  \u001b[1;35mnote\u001b[0m: This error originates from a subprocess, and is likely not a problem with pip.\r\n",
      "\u001b[1;31merror\u001b[0m: \u001b[1msubprocess-exited-with-error\u001b[0m\r\n",
      "\r\n",
      "\u001b[31m×\u001b[0m \u001b[32mGetting requirements to build wheel\u001b[0m did not run successfully.\r\n",
      "\u001b[31m│\u001b[0m exit code: \u001b[1;36m1\u001b[0m\r\n",
      "\u001b[31m╰─>\u001b[0m See above for output.\r\n",
      "\r\n",
      "\u001b[1;35mnote\u001b[0m: This error originates from a subprocess, and is likely not a problem with pip.\r\n"
     ]
    }
   ],
   "source": [
    "!pip install pycaret==2.3.10 markupsafe==2.0.1 pyyaml==5.4.1 -qq"
   ]
  },
  {
   "cell_type": "code",
   "execution_count": 49,
   "id": "2460bb42",
   "metadata": {
    "execution": {
     "iopub.execute_input": "2024-01-07T18:17:53.748054Z",
     "iopub.status.busy": "2024-01-07T18:17:53.747274Z",
     "iopub.status.idle": "2024-01-07T18:17:53.752583Z",
     "shell.execute_reply": "2024-01-07T18:17:53.751735Z"
    },
    "papermill": {
     "duration": 0.037448,
     "end_time": "2024-01-07T18:17:53.755077",
     "exception": false,
     "start_time": "2024-01-07T18:17:53.717629",
     "status": "completed"
    },
    "tags": []
   },
   "outputs": [],
   "source": [
    "#from pycaret.classification import *"
   ]
  },
  {
   "cell_type": "code",
   "execution_count": 50,
   "id": "cfd5b85f",
   "metadata": {
    "execution": {
     "iopub.execute_input": "2024-01-07T18:17:53.812186Z",
     "iopub.status.busy": "2024-01-07T18:17:53.811499Z",
     "iopub.status.idle": "2024-01-07T18:17:53.816074Z",
     "shell.execute_reply": "2024-01-07T18:17:53.815176Z"
    },
    "papermill": {
     "duration": 0.035539,
     "end_time": "2024-01-07T18:17:53.818383",
     "exception": false,
     "start_time": "2024-01-07T18:17:53.782844",
     "status": "completed"
    },
    "tags": []
   },
   "outputs": [],
   "source": [
    "#raw_data.head()"
   ]
  },
  {
   "cell_type": "code",
   "execution_count": 51,
   "id": "45e1b38d",
   "metadata": {
    "execution": {
     "iopub.execute_input": "2024-01-07T18:17:53.877445Z",
     "iopub.status.busy": "2024-01-07T18:17:53.876800Z",
     "iopub.status.idle": "2024-01-07T18:17:53.881427Z",
     "shell.execute_reply": "2024-01-07T18:17:53.880536Z"
    },
    "papermill": {
     "duration": 0.036526,
     "end_time": "2024-01-07T18:17:53.883760",
     "exception": false,
     "start_time": "2024-01-07T18:17:53.847234",
     "status": "completed"
    },
    "tags": []
   },
   "outputs": [],
   "source": [
    "#model = setup(data = raw_data, target = 'loan_status', session_id=123) "
   ]
  },
  {
   "cell_type": "code",
   "execution_count": 52,
   "id": "404125e0",
   "metadata": {
    "execution": {
     "iopub.execute_input": "2024-01-07T18:17:53.940587Z",
     "iopub.status.busy": "2024-01-07T18:17:53.940157Z",
     "iopub.status.idle": "2024-01-07T18:17:53.945120Z",
     "shell.execute_reply": "2024-01-07T18:17:53.943951Z"
    },
    "papermill": {
     "duration": 0.036424,
     "end_time": "2024-01-07T18:17:53.947486",
     "exception": false,
     "start_time": "2024-01-07T18:17:53.911062",
     "status": "completed"
    },
    "tags": []
   },
   "outputs": [],
   "source": [
    "#compare_models()"
   ]
  },
  {
   "cell_type": "code",
   "execution_count": 53,
   "id": "7e911d1c",
   "metadata": {
    "execution": {
     "iopub.execute_input": "2024-01-07T18:17:54.007448Z",
     "iopub.status.busy": "2024-01-07T18:17:54.006158Z",
     "iopub.status.idle": "2024-01-07T18:17:54.011218Z",
     "shell.execute_reply": "2024-01-07T18:17:54.010437Z"
    },
    "papermill": {
     "duration": 0.037554,
     "end_time": "2024-01-07T18:17:54.013547",
     "exception": false,
     "start_time": "2024-01-07T18:17:53.975993",
     "status": "completed"
    },
    "tags": []
   },
   "outputs": [],
   "source": [
    "#model = setup(data = data_original, target = 'loan_status', session_id=123) "
   ]
  },
  {
   "cell_type": "code",
   "execution_count": 54,
   "id": "8f74d3f3",
   "metadata": {
    "execution": {
     "iopub.execute_input": "2024-01-07T18:17:54.070956Z",
     "iopub.status.busy": "2024-01-07T18:17:54.070508Z",
     "iopub.status.idle": "2024-01-07T18:17:54.075415Z",
     "shell.execute_reply": "2024-01-07T18:17:54.074060Z"
    },
    "papermill": {
     "duration": 0.035874,
     "end_time": "2024-01-07T18:17:54.077663",
     "exception": false,
     "start_time": "2024-01-07T18:17:54.041789",
     "status": "completed"
    },
    "tags": []
   },
   "outputs": [],
   "source": [
    "#best = compare_models()"
   ]
  },
  {
   "cell_type": "code",
   "execution_count": 55,
   "id": "c656516a",
   "metadata": {
    "execution": {
     "iopub.execute_input": "2024-01-07T18:17:54.134382Z",
     "iopub.status.busy": "2024-01-07T18:17:54.133953Z",
     "iopub.status.idle": "2024-01-07T18:17:54.139077Z",
     "shell.execute_reply": "2024-01-07T18:17:54.137854Z"
    },
    "papermill": {
     "duration": 0.036393,
     "end_time": "2024-01-07T18:17:54.141494",
     "exception": false,
     "start_time": "2024-01-07T18:17:54.105101",
     "status": "completed"
    },
    "tags": []
   },
   "outputs": [],
   "source": [
    "#pred_holdout = predict_model(best)"
   ]
  },
  {
   "cell_type": "code",
   "execution_count": 56,
   "id": "f87a48c4",
   "metadata": {
    "execution": {
     "iopub.execute_input": "2024-01-07T18:17:54.197130Z",
     "iopub.status.busy": "2024-01-07T18:17:54.196694Z",
     "iopub.status.idle": "2024-01-07T18:17:54.201461Z",
     "shell.execute_reply": "2024-01-07T18:17:54.200252Z"
    },
    "papermill": {
     "duration": 0.035248,
     "end_time": "2024-01-07T18:17:54.203628",
     "exception": false,
     "start_time": "2024-01-07T18:17:54.168380",
     "status": "completed"
    },
    "tags": []
   },
   "outputs": [],
   "source": [
    "# save pipeline\n",
    "#save_model(best, 'my_pipeline')"
   ]
  },
  {
   "cell_type": "code",
   "execution_count": null,
   "id": "01ea6997",
   "metadata": {
    "papermill": {
     "duration": 0.026379,
     "end_time": "2024-01-07T18:17:54.256844",
     "exception": false,
     "start_time": "2024-01-07T18:17:54.230465",
     "status": "completed"
    },
    "tags": []
   },
   "outputs": [],
   "source": []
  }
 ],
 "metadata": {
  "kaggle": {
   "accelerator": "none",
   "dataSources": [
    {
     "datasetId": 4103569,
     "sourceId": 7115609,
     "sourceType": "datasetVersion"
    }
   ],
   "dockerImageVersionId": 30587,
   "isGpuEnabled": false,
   "isInternetEnabled": true,
   "language": "python",
   "sourceType": "notebook"
  },
  "kernelspec": {
   "display_name": "Python 3",
   "language": "python",
   "name": "python3"
  },
  "language_info": {
   "codemirror_mode": {
    "name": "ipython",
    "version": 3
   },
   "file_extension": ".py",
   "mimetype": "text/x-python",
   "name": "python",
   "nbconvert_exporter": "python",
   "pygments_lexer": "ipython3",
   "version": "3.10.12"
  },
  "papermill": {
   "default_parameters": {},
   "duration": 65.334366,
   "end_time": "2024-01-07T18:17:55.004699",
   "environment_variables": {},
   "exception": null,
   "input_path": "__notebook__.ipynb",
   "output_path": "__notebook__.ipynb",
   "parameters": {},
   "start_time": "2024-01-07T18:16:49.670333",
   "version": "2.4.0"
  }
 },
 "nbformat": 4,
 "nbformat_minor": 5
}
