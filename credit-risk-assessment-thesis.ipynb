{
 "cells": [
  {
   "cell_type": "code",
   "execution_count": 1,
   "id": "c372822f",
   "metadata": {
    "_cell_guid": "b1076dfc-b9ad-4769-8c92-a6c4dae69d19",
    "_uuid": "8f2839f25d086af736a60e9eeb907d3b93b6e0e5",
    "execution": {
     "iopub.execute_input": "2023-12-09T18:20:53.217812Z",
     "iopub.status.busy": "2023-12-09T18:20:53.216431Z",
     "iopub.status.idle": "2023-12-09T18:20:54.235837Z",
     "shell.execute_reply": "2023-12-09T18:20:54.234831Z"
    },
    "papermill": {
     "duration": 1.030836,
     "end_time": "2023-12-09T18:20:54.238732",
     "exception": false,
     "start_time": "2023-12-09T18:20:53.207896",
     "status": "completed"
    },
    "tags": []
   },
   "outputs": [
    {
     "name": "stdout",
     "output_type": "stream",
     "text": [
      "/kaggle/input/credit-risk/credit_risk_dataset.csv\n"
     ]
    }
   ],
   "source": [
    "# This Python 3 environment comes with many helpful analytics libraries installed\n",
    "# It is defined by the kaggle/python Docker image: https://github.com/kaggle/docker-python\n",
    "# For example, here's several helpful packages to load\n",
    "\n",
    "import numpy as np # linear algebra\n",
    "import pandas as pd # data processing, CSV file I/O (e.g. pd.read_csv)\n",
    "\n",
    "# Input data files are available in the read-only \"../input/\" directory\n",
    "# For example, running this (by clicking run or pressing Shift+Enter) will list all files under the input directory\n",
    "\n",
    "\n",
    "import os\n",
    "for dirname, _, filenames in os.walk('/kaggle/input'):\n",
    "    for filename in filenames:\n",
    "        print(os.path.join(dirname, filename))\n",
    "\n",
    "# You can write up to 20GB to the current directory (/kaggle/working/) that gets preserved as output when you create a version using \"Save & Run All\" \n",
    "# You can also write temporary files to /kaggle/temp/, but they won't be saved outside of the current session"
   ]
  },
  {
   "cell_type": "markdown",
   "id": "68cb9b0d",
   "metadata": {
    "papermill": {
     "duration": 0.006254,
     "end_time": "2023-12-09T18:20:54.255055",
     "exception": false,
     "start_time": "2023-12-09T18:20:54.248801",
     "status": "completed"
    },
    "tags": []
   },
   "source": [
    "# **Reading the Dataset**"
   ]
  },
  {
   "cell_type": "code",
   "execution_count": 2,
   "id": "d50538de",
   "metadata": {
    "execution": {
     "iopub.execute_input": "2023-12-09T18:20:54.269464Z",
     "iopub.status.busy": "2023-12-09T18:20:54.268618Z",
     "iopub.status.idle": "2023-12-09T18:20:54.497984Z",
     "shell.execute_reply": "2023-12-09T18:20:54.496804Z"
    },
    "papermill": {
     "duration": 0.240065,
     "end_time": "2023-12-09T18:20:54.501233",
     "exception": false,
     "start_time": "2023-12-09T18:20:54.261168",
     "status": "completed"
    },
    "tags": []
   },
   "outputs": [
    {
     "data": {
      "text/html": [
       "<style type=\"text/css\">\n",
       "#T_60803_row0_col0, #T_60803_row0_col1, #T_60803_row0_col2, #T_60803_row0_col3, #T_60803_row0_col4, #T_60803_row0_col5, #T_60803_row0_col6, #T_60803_row0_col7, #T_60803_row0_col8, #T_60803_row0_col9, #T_60803_row0_col10, #T_60803_row0_col11, #T_60803_row1_col0, #T_60803_row1_col1, #T_60803_row1_col2, #T_60803_row1_col3, #T_60803_row1_col4, #T_60803_row1_col5, #T_60803_row1_col6, #T_60803_row1_col7, #T_60803_row1_col8, #T_60803_row1_col9, #T_60803_row1_col10, #T_60803_row1_col11, #T_60803_row2_col0, #T_60803_row2_col1, #T_60803_row2_col2, #T_60803_row2_col3, #T_60803_row2_col4, #T_60803_row2_col5, #T_60803_row2_col6, #T_60803_row2_col7, #T_60803_row2_col8, #T_60803_row2_col9, #T_60803_row2_col10, #T_60803_row2_col11, #T_60803_row3_col0, #T_60803_row3_col1, #T_60803_row3_col2, #T_60803_row3_col3, #T_60803_row3_col4, #T_60803_row3_col5, #T_60803_row3_col6, #T_60803_row3_col7, #T_60803_row3_col8, #T_60803_row3_col9, #T_60803_row3_col10, #T_60803_row3_col11, #T_60803_row4_col0, #T_60803_row4_col1, #T_60803_row4_col2, #T_60803_row4_col3, #T_60803_row4_col4, #T_60803_row4_col5, #T_60803_row4_col6, #T_60803_row4_col7, #T_60803_row4_col8, #T_60803_row4_col9, #T_60803_row4_col10, #T_60803_row4_col11, #T_60803_row5_col0, #T_60803_row5_col1, #T_60803_row5_col2, #T_60803_row5_col3, #T_60803_row5_col4, #T_60803_row5_col5, #T_60803_row5_col6, #T_60803_row5_col7, #T_60803_row5_col8, #T_60803_row5_col9, #T_60803_row5_col10, #T_60803_row5_col11 {\n",
       "  background-color: #daefdd;\n",
       "  color: black;\n",
       "  border-color: #8b8c8c;\n",
       "}\n",
       "</style>\n",
       "<table id=\"T_60803\">\n",
       "  <thead>\n",
       "    <tr>\n",
       "      <th class=\"blank level0\" >&nbsp;</th>\n",
       "      <th id=\"T_60803_level0_col0\" class=\"col_heading level0 col0\" >person_age</th>\n",
       "      <th id=\"T_60803_level0_col1\" class=\"col_heading level0 col1\" >person_income</th>\n",
       "      <th id=\"T_60803_level0_col2\" class=\"col_heading level0 col2\" >person_home_ownership</th>\n",
       "      <th id=\"T_60803_level0_col3\" class=\"col_heading level0 col3\" >person_emp_length</th>\n",
       "      <th id=\"T_60803_level0_col4\" class=\"col_heading level0 col4\" >loan_intent</th>\n",
       "      <th id=\"T_60803_level0_col5\" class=\"col_heading level0 col5\" >loan_grade</th>\n",
       "      <th id=\"T_60803_level0_col6\" class=\"col_heading level0 col6\" >loan_amnt</th>\n",
       "      <th id=\"T_60803_level0_col7\" class=\"col_heading level0 col7\" >loan_int_rate</th>\n",
       "      <th id=\"T_60803_level0_col8\" class=\"col_heading level0 col8\" >loan_status</th>\n",
       "      <th id=\"T_60803_level0_col9\" class=\"col_heading level0 col9\" >loan_percent_income</th>\n",
       "      <th id=\"T_60803_level0_col10\" class=\"col_heading level0 col10\" >cb_person_default_on_file</th>\n",
       "      <th id=\"T_60803_level0_col11\" class=\"col_heading level0 col11\" >cb_person_cred_hist_length</th>\n",
       "    </tr>\n",
       "  </thead>\n",
       "  <tbody>\n",
       "    <tr>\n",
       "      <th id=\"T_60803_level0_row0\" class=\"row_heading level0 row0\" >0</th>\n",
       "      <td id=\"T_60803_row0_col0\" class=\"data row0 col0\" >29</td>\n",
       "      <td id=\"T_60803_row0_col1\" class=\"data row0 col1\" >78300</td>\n",
       "      <td id=\"T_60803_row0_col2\" class=\"data row0 col2\" >MORTGAGE</td>\n",
       "      <td id=\"T_60803_row0_col3\" class=\"data row0 col3\" >1.000000</td>\n",
       "      <td id=\"T_60803_row0_col4\" class=\"data row0 col4\" >VENTURE</td>\n",
       "      <td id=\"T_60803_row0_col5\" class=\"data row0 col5\" >F</td>\n",
       "      <td id=\"T_60803_row0_col6\" class=\"data row0 col6\" >10000</td>\n",
       "      <td id=\"T_60803_row0_col7\" class=\"data row0 col7\" >18.090000</td>\n",
       "      <td id=\"T_60803_row0_col8\" class=\"data row0 col8\" >0</td>\n",
       "      <td id=\"T_60803_row0_col9\" class=\"data row0 col9\" >0.130000</td>\n",
       "      <td id=\"T_60803_row0_col10\" class=\"data row0 col10\" >Y</td>\n",
       "      <td id=\"T_60803_row0_col11\" class=\"data row0 col11\" >9</td>\n",
       "    </tr>\n",
       "    <tr>\n",
       "      <th id=\"T_60803_level0_row1\" class=\"row_heading level0 row1\" >1</th>\n",
       "      <td id=\"T_60803_row1_col0\" class=\"data row1 col0\" >29</td>\n",
       "      <td id=\"T_60803_row1_col1\" class=\"data row1 col1\" >56000</td>\n",
       "      <td id=\"T_60803_row1_col2\" class=\"data row1 col2\" >RENT</td>\n",
       "      <td id=\"T_60803_row1_col3\" class=\"data row1 col3\" >0.000000</td>\n",
       "      <td id=\"T_60803_row1_col4\" class=\"data row1 col4\" >PERSONAL</td>\n",
       "      <td id=\"T_60803_row1_col5\" class=\"data row1 col5\" >D</td>\n",
       "      <td id=\"T_60803_row1_col6\" class=\"data row1 col6\" >8000</td>\n",
       "      <td id=\"T_60803_row1_col7\" class=\"data row1 col7\" >nan</td>\n",
       "      <td id=\"T_60803_row1_col8\" class=\"data row1 col8\" >1</td>\n",
       "      <td id=\"T_60803_row1_col9\" class=\"data row1 col9\" >0.140000</td>\n",
       "      <td id=\"T_60803_row1_col10\" class=\"data row1 col10\" >Y</td>\n",
       "      <td id=\"T_60803_row1_col11\" class=\"data row1 col11\" >5</td>\n",
       "    </tr>\n",
       "    <tr>\n",
       "      <th id=\"T_60803_level0_row2\" class=\"row_heading level0 row2\" >2</th>\n",
       "      <td id=\"T_60803_row2_col0\" class=\"data row2 col0\" >42</td>\n",
       "      <td id=\"T_60803_row2_col1\" class=\"data row2 col1\" >57000</td>\n",
       "      <td id=\"T_60803_row2_col2\" class=\"data row2 col2\" >RENT</td>\n",
       "      <td id=\"T_60803_row2_col3\" class=\"data row2 col3\" >4.000000</td>\n",
       "      <td id=\"T_60803_row2_col4\" class=\"data row2 col4\" >MEDICAL</td>\n",
       "      <td id=\"T_60803_row2_col5\" class=\"data row2 col5\" >C</td>\n",
       "      <td id=\"T_60803_row2_col6\" class=\"data row2 col6\" >15000</td>\n",
       "      <td id=\"T_60803_row2_col7\" class=\"data row2 col7\" >13.430000</td>\n",
       "      <td id=\"T_60803_row2_col8\" class=\"data row2 col8\" >0</td>\n",
       "      <td id=\"T_60803_row2_col9\" class=\"data row2 col9\" >0.260000</td>\n",
       "      <td id=\"T_60803_row2_col10\" class=\"data row2 col10\" >Y</td>\n",
       "      <td id=\"T_60803_row2_col11\" class=\"data row2 col11\" >12</td>\n",
       "    </tr>\n",
       "    <tr>\n",
       "      <th id=\"T_60803_level0_row3\" class=\"row_heading level0 row3\" >3</th>\n",
       "      <td id=\"T_60803_row3_col0\" class=\"data row3 col0\" >22</td>\n",
       "      <td id=\"T_60803_row3_col1\" class=\"data row3 col1\" >43000</td>\n",
       "      <td id=\"T_60803_row3_col2\" class=\"data row3 col2\" >RENT</td>\n",
       "      <td id=\"T_60803_row3_col3\" class=\"data row3 col3\" >5.000000</td>\n",
       "      <td id=\"T_60803_row3_col4\" class=\"data row3 col4\" >VENTURE</td>\n",
       "      <td id=\"T_60803_row3_col5\" class=\"data row3 col5\" >B</td>\n",
       "      <td id=\"T_60803_row3_col6\" class=\"data row3 col6\" >2400</td>\n",
       "      <td id=\"T_60803_row3_col7\" class=\"data row3 col7\" >10.990000</td>\n",
       "      <td id=\"T_60803_row3_col8\" class=\"data row3 col8\" >0</td>\n",
       "      <td id=\"T_60803_row3_col9\" class=\"data row3 col9\" >0.060000</td>\n",
       "      <td id=\"T_60803_row3_col10\" class=\"data row3 col10\" >N</td>\n",
       "      <td id=\"T_60803_row3_col11\" class=\"data row3 col11\" >3</td>\n",
       "    </tr>\n",
       "    <tr>\n",
       "      <th id=\"T_60803_level0_row4\" class=\"row_heading level0 row4\" >4</th>\n",
       "      <td id=\"T_60803_row4_col0\" class=\"data row4 col0\" >25</td>\n",
       "      <td id=\"T_60803_row4_col1\" class=\"data row4 col1\" >68000</td>\n",
       "      <td id=\"T_60803_row4_col2\" class=\"data row4 col2\" >OWN</td>\n",
       "      <td id=\"T_60803_row4_col3\" class=\"data row4 col3\" >8.000000</td>\n",
       "      <td id=\"T_60803_row4_col4\" class=\"data row4 col4\" >HOMEIMPROVEMENT</td>\n",
       "      <td id=\"T_60803_row4_col5\" class=\"data row4 col5\" >B</td>\n",
       "      <td id=\"T_60803_row4_col6\" class=\"data row4 col6\" >6000</td>\n",
       "      <td id=\"T_60803_row4_col7\" class=\"data row4 col7\" >12.420000</td>\n",
       "      <td id=\"T_60803_row4_col8\" class=\"data row4 col8\" >0</td>\n",
       "      <td id=\"T_60803_row4_col9\" class=\"data row4 col9\" >0.090000</td>\n",
       "      <td id=\"T_60803_row4_col10\" class=\"data row4 col10\" >N</td>\n",
       "      <td id=\"T_60803_row4_col11\" class=\"data row4 col11\" >4</td>\n",
       "    </tr>\n",
       "    <tr>\n",
       "      <th id=\"T_60803_level0_row5\" class=\"row_heading level0 row5\" >5</th>\n",
       "      <td id=\"T_60803_row5_col0\" class=\"data row5 col0\" >29</td>\n",
       "      <td id=\"T_60803_row5_col1\" class=\"data row5 col1\" >136000</td>\n",
       "      <td id=\"T_60803_row5_col2\" class=\"data row5 col2\" >MORTGAGE</td>\n",
       "      <td id=\"T_60803_row5_col3\" class=\"data row5 col3\" >4.000000</td>\n",
       "      <td id=\"T_60803_row5_col4\" class=\"data row5 col4\" >DEBTCONSOLIDATION</td>\n",
       "      <td id=\"T_60803_row5_col5\" class=\"data row5 col5\" >D</td>\n",
       "      <td id=\"T_60803_row5_col6\" class=\"data row5 col6\" >7775</td>\n",
       "      <td id=\"T_60803_row5_col7\" class=\"data row5 col7\" >14.960000</td>\n",
       "      <td id=\"T_60803_row5_col8\" class=\"data row5 col8\" >1</td>\n",
       "      <td id=\"T_60803_row5_col9\" class=\"data row5 col9\" >0.060000</td>\n",
       "      <td id=\"T_60803_row5_col10\" class=\"data row5 col10\" >Y</td>\n",
       "      <td id=\"T_60803_row5_col11\" class=\"data row5 col11\" >5</td>\n",
       "    </tr>\n",
       "  </tbody>\n",
       "</table>\n"
      ],
      "text/plain": [
       "<pandas.io.formats.style.Styler at 0x7a50015f5750>"
      ]
     },
     "execution_count": 2,
     "metadata": {},
     "output_type": "execute_result"
    }
   ],
   "source": [
    "data= pd.read_csv('/kaggle/input/credit-risk/credit_risk_dataset.csv')\n",
    "data.sample(6).reset_index(drop=True).style.set_properties(**{'background-color': '#daefdd','color': 'black','border-color': '#8b8c8c'})"
   ]
  },
  {
   "cell_type": "markdown",
   "id": "21ec90f7",
   "metadata": {
    "papermill": {
     "duration": 0.005982,
     "end_time": "2023-12-09T18:20:54.514076",
     "exception": false,
     "start_time": "2023-12-09T18:20:54.508094",
     "status": "completed"
    },
    "tags": []
   },
   "source": [
    "# **Data set Description**\n",
    "* **person_age**: Age of the individual applying for the loan.\n",
    "* **person_income**: Annual income of the individual.\n",
    "* **person_home_ownership**: Type of home ownership of the individual.\n",
    "* **rent**: The individual is currently renting a property.\n",
    "* **mortgage**: The individual has a mortgage on the property they own.\n",
    "* **own**: The individual owns their home outright.\n",
    "* **other**: Other categories of home ownership that may be specific to the dataset.\n",
    "* **person_emp_length**: Employment length of the individual in years.\n",
    "* **loan_intent**: The intent behind the loan application.\n",
    "* **loan_grade**: The grade assigned to the loan based on the creditworthiness of the borrower.\n",
    "   * A: The borrower has a high creditworthiness, indicating low risk.\n",
    "   * B: The borrower is relatively low-risk, but not as creditworthy as Grade A.\n",
    "   * C: The borrower's creditworthiness is moderate.\n",
    "   * D: The borrower is considered to have higher risk compared to previous grades.\n",
    "   * E: The borrower's creditworthiness is lower, indicating a higher risk.\n",
    "   * F: The borrower poses a significant credit risk.\n",
    "   * G: The borrower's creditworthiness is the lowest, signifying the highest risk.\n",
    "* **loan_amnt**: The loan amount requested by the individual.\n",
    "* **loan_int_rate**: The interest rate associated with the loan.\n",
    "* **loan_status**: Loan status, where 0 indicates non-default and 1 indicates default.\n",
    "  * 0: Non-default - The borrower successfully repaid the loan as agreed, and there was no default.\n",
    "  * 1: Default - The borrower failed to repay the loan according to the agreed-upon terms and defaulted on the loan.\n",
    "* **loan_percent_income**: The percentage of income represented by the loan amount.\n",
    "* **cb_person_default_on_fil**e: Historical default of the individual as per credit bureau records.\n",
    "  * Y: The individual has a history of defaults on their credit file.\n",
    "  * N: The individual does not have any history of defaults.\n",
    "* **cb_preson_cred_hist_length**: The length of credit history for the individual.\n"
   ]
  },
  {
   "cell_type": "markdown",
   "id": "8049f666",
   "metadata": {
    "papermill": {
     "duration": 0.005923,
     "end_time": "2023-12-09T18:20:54.526259",
     "exception": false,
     "start_time": "2023-12-09T18:20:54.520336",
     "status": "completed"
    },
    "tags": []
   },
   "source": [
    "# **Exploring the data se**t"
   ]
  },
  {
   "cell_type": "code",
   "execution_count": 3,
   "id": "ccf5073c",
   "metadata": {
    "execution": {
     "iopub.execute_input": "2023-12-09T18:20:54.542187Z",
     "iopub.status.busy": "2023-12-09T18:20:54.540854Z",
     "iopub.status.idle": "2023-12-09T18:20:54.567394Z",
     "shell.execute_reply": "2023-12-09T18:20:54.566005Z"
    },
    "papermill": {
     "duration": 0.037636,
     "end_time": "2023-12-09T18:20:54.570267",
     "exception": false,
     "start_time": "2023-12-09T18:20:54.532631",
     "status": "completed"
    },
    "tags": []
   },
   "outputs": [
    {
     "data": {
      "text/html": [
       "<div>\n",
       "<style scoped>\n",
       "    .dataframe tbody tr th:only-of-type {\n",
       "        vertical-align: middle;\n",
       "    }\n",
       "\n",
       "    .dataframe tbody tr th {\n",
       "        vertical-align: top;\n",
       "    }\n",
       "\n",
       "    .dataframe thead th {\n",
       "        text-align: right;\n",
       "    }\n",
       "</style>\n",
       "<table border=\"1\" class=\"dataframe\">\n",
       "  <thead>\n",
       "    <tr style=\"text-align: right;\">\n",
       "      <th></th>\n",
       "      <th>person_age</th>\n",
       "      <th>person_income</th>\n",
       "      <th>person_home_ownership</th>\n",
       "      <th>person_emp_length</th>\n",
       "      <th>loan_intent</th>\n",
       "      <th>loan_grade</th>\n",
       "      <th>loan_amnt</th>\n",
       "      <th>loan_int_rate</th>\n",
       "      <th>loan_status</th>\n",
       "      <th>loan_percent_income</th>\n",
       "      <th>cb_person_default_on_file</th>\n",
       "      <th>cb_person_cred_hist_length</th>\n",
       "    </tr>\n",
       "  </thead>\n",
       "  <tbody>\n",
       "    <tr>\n",
       "      <th>0</th>\n",
       "      <td>22</td>\n",
       "      <td>59000</td>\n",
       "      <td>RENT</td>\n",
       "      <td>123.0</td>\n",
       "      <td>PERSONAL</td>\n",
       "      <td>D</td>\n",
       "      <td>35000</td>\n",
       "      <td>16.02</td>\n",
       "      <td>1</td>\n",
       "      <td>0.59</td>\n",
       "      <td>Y</td>\n",
       "      <td>3</td>\n",
       "    </tr>\n",
       "    <tr>\n",
       "      <th>1</th>\n",
       "      <td>21</td>\n",
       "      <td>9600</td>\n",
       "      <td>OWN</td>\n",
       "      <td>5.0</td>\n",
       "      <td>EDUCATION</td>\n",
       "      <td>B</td>\n",
       "      <td>1000</td>\n",
       "      <td>11.14</td>\n",
       "      <td>0</td>\n",
       "      <td>0.10</td>\n",
       "      <td>N</td>\n",
       "      <td>2</td>\n",
       "    </tr>\n",
       "    <tr>\n",
       "      <th>2</th>\n",
       "      <td>25</td>\n",
       "      <td>9600</td>\n",
       "      <td>MORTGAGE</td>\n",
       "      <td>1.0</td>\n",
       "      <td>MEDICAL</td>\n",
       "      <td>C</td>\n",
       "      <td>5500</td>\n",
       "      <td>12.87</td>\n",
       "      <td>1</td>\n",
       "      <td>0.57</td>\n",
       "      <td>N</td>\n",
       "      <td>3</td>\n",
       "    </tr>\n",
       "    <tr>\n",
       "      <th>3</th>\n",
       "      <td>23</td>\n",
       "      <td>65500</td>\n",
       "      <td>RENT</td>\n",
       "      <td>4.0</td>\n",
       "      <td>MEDICAL</td>\n",
       "      <td>C</td>\n",
       "      <td>35000</td>\n",
       "      <td>15.23</td>\n",
       "      <td>1</td>\n",
       "      <td>0.53</td>\n",
       "      <td>N</td>\n",
       "      <td>2</td>\n",
       "    </tr>\n",
       "    <tr>\n",
       "      <th>4</th>\n",
       "      <td>24</td>\n",
       "      <td>54400</td>\n",
       "      <td>RENT</td>\n",
       "      <td>8.0</td>\n",
       "      <td>MEDICAL</td>\n",
       "      <td>C</td>\n",
       "      <td>35000</td>\n",
       "      <td>14.27</td>\n",
       "      <td>1</td>\n",
       "      <td>0.55</td>\n",
       "      <td>Y</td>\n",
       "      <td>4</td>\n",
       "    </tr>\n",
       "  </tbody>\n",
       "</table>\n",
       "</div>"
      ],
      "text/plain": [
       "   person_age  person_income person_home_ownership  person_emp_length  \\\n",
       "0          22          59000                  RENT              123.0   \n",
       "1          21           9600                   OWN                5.0   \n",
       "2          25           9600              MORTGAGE                1.0   \n",
       "3          23          65500                  RENT                4.0   \n",
       "4          24          54400                  RENT                8.0   \n",
       "\n",
       "  loan_intent loan_grade  loan_amnt  loan_int_rate  loan_status  \\\n",
       "0    PERSONAL          D      35000          16.02            1   \n",
       "1   EDUCATION          B       1000          11.14            0   \n",
       "2     MEDICAL          C       5500          12.87            1   \n",
       "3     MEDICAL          C      35000          15.23            1   \n",
       "4     MEDICAL          C      35000          14.27            1   \n",
       "\n",
       "   loan_percent_income cb_person_default_on_file  cb_person_cred_hist_length  \n",
       "0                 0.59                         Y                           3  \n",
       "1                 0.10                         N                           2  \n",
       "2                 0.57                         N                           3  \n",
       "3                 0.53                         N                           2  \n",
       "4                 0.55                         Y                           4  "
      ]
     },
     "execution_count": 3,
     "metadata": {},
     "output_type": "execute_result"
    }
   ],
   "source": [
    "data.head()"
   ]
  },
  {
   "cell_type": "code",
   "execution_count": 4,
   "id": "c187f835",
   "metadata": {
    "execution": {
     "iopub.execute_input": "2023-12-09T18:20:54.588326Z",
     "iopub.status.busy": "2023-12-09T18:20:54.587108Z",
     "iopub.status.idle": "2023-12-09T18:20:54.607819Z",
     "shell.execute_reply": "2023-12-09T18:20:54.606579Z"
    },
    "papermill": {
     "duration": 0.032441,
     "end_time": "2023-12-09T18:20:54.610439",
     "exception": false,
     "start_time": "2023-12-09T18:20:54.577998",
     "status": "completed"
    },
    "tags": []
   },
   "outputs": [
    {
     "data": {
      "text/html": [
       "<div>\n",
       "<style scoped>\n",
       "    .dataframe tbody tr th:only-of-type {\n",
       "        vertical-align: middle;\n",
       "    }\n",
       "\n",
       "    .dataframe tbody tr th {\n",
       "        vertical-align: top;\n",
       "    }\n",
       "\n",
       "    .dataframe thead th {\n",
       "        text-align: right;\n",
       "    }\n",
       "</style>\n",
       "<table border=\"1\" class=\"dataframe\">\n",
       "  <thead>\n",
       "    <tr style=\"text-align: right;\">\n",
       "      <th></th>\n",
       "      <th>person_age</th>\n",
       "      <th>person_income</th>\n",
       "      <th>person_home_ownership</th>\n",
       "      <th>person_emp_length</th>\n",
       "      <th>loan_intent</th>\n",
       "      <th>loan_grade</th>\n",
       "      <th>loan_amnt</th>\n",
       "      <th>loan_int_rate</th>\n",
       "      <th>loan_status</th>\n",
       "      <th>loan_percent_income</th>\n",
       "      <th>cb_person_default_on_file</th>\n",
       "      <th>cb_person_cred_hist_length</th>\n",
       "    </tr>\n",
       "  </thead>\n",
       "  <tbody>\n",
       "    <tr>\n",
       "      <th>32576</th>\n",
       "      <td>57</td>\n",
       "      <td>53000</td>\n",
       "      <td>MORTGAGE</td>\n",
       "      <td>1.0</td>\n",
       "      <td>PERSONAL</td>\n",
       "      <td>C</td>\n",
       "      <td>5800</td>\n",
       "      <td>13.16</td>\n",
       "      <td>0</td>\n",
       "      <td>0.11</td>\n",
       "      <td>N</td>\n",
       "      <td>30</td>\n",
       "    </tr>\n",
       "    <tr>\n",
       "      <th>32577</th>\n",
       "      <td>54</td>\n",
       "      <td>120000</td>\n",
       "      <td>MORTGAGE</td>\n",
       "      <td>4.0</td>\n",
       "      <td>PERSONAL</td>\n",
       "      <td>A</td>\n",
       "      <td>17625</td>\n",
       "      <td>7.49</td>\n",
       "      <td>0</td>\n",
       "      <td>0.15</td>\n",
       "      <td>N</td>\n",
       "      <td>19</td>\n",
       "    </tr>\n",
       "    <tr>\n",
       "      <th>32578</th>\n",
       "      <td>65</td>\n",
       "      <td>76000</td>\n",
       "      <td>RENT</td>\n",
       "      <td>3.0</td>\n",
       "      <td>HOMEIMPROVEMENT</td>\n",
       "      <td>B</td>\n",
       "      <td>35000</td>\n",
       "      <td>10.99</td>\n",
       "      <td>1</td>\n",
       "      <td>0.46</td>\n",
       "      <td>N</td>\n",
       "      <td>28</td>\n",
       "    </tr>\n",
       "    <tr>\n",
       "      <th>32579</th>\n",
       "      <td>56</td>\n",
       "      <td>150000</td>\n",
       "      <td>MORTGAGE</td>\n",
       "      <td>5.0</td>\n",
       "      <td>PERSONAL</td>\n",
       "      <td>B</td>\n",
       "      <td>15000</td>\n",
       "      <td>11.48</td>\n",
       "      <td>0</td>\n",
       "      <td>0.10</td>\n",
       "      <td>N</td>\n",
       "      <td>26</td>\n",
       "    </tr>\n",
       "    <tr>\n",
       "      <th>32580</th>\n",
       "      <td>66</td>\n",
       "      <td>42000</td>\n",
       "      <td>RENT</td>\n",
       "      <td>2.0</td>\n",
       "      <td>MEDICAL</td>\n",
       "      <td>B</td>\n",
       "      <td>6475</td>\n",
       "      <td>9.99</td>\n",
       "      <td>0</td>\n",
       "      <td>0.15</td>\n",
       "      <td>N</td>\n",
       "      <td>30</td>\n",
       "    </tr>\n",
       "  </tbody>\n",
       "</table>\n",
       "</div>"
      ],
      "text/plain": [
       "       person_age  person_income person_home_ownership  person_emp_length  \\\n",
       "32576          57          53000              MORTGAGE                1.0   \n",
       "32577          54         120000              MORTGAGE                4.0   \n",
       "32578          65          76000                  RENT                3.0   \n",
       "32579          56         150000              MORTGAGE                5.0   \n",
       "32580          66          42000                  RENT                2.0   \n",
       "\n",
       "           loan_intent loan_grade  loan_amnt  loan_int_rate  loan_status  \\\n",
       "32576         PERSONAL          C       5800          13.16            0   \n",
       "32577         PERSONAL          A      17625           7.49            0   \n",
       "32578  HOMEIMPROVEMENT          B      35000          10.99            1   \n",
       "32579         PERSONAL          B      15000          11.48            0   \n",
       "32580          MEDICAL          B       6475           9.99            0   \n",
       "\n",
       "       loan_percent_income cb_person_default_on_file  \\\n",
       "32576                 0.11                         N   \n",
       "32577                 0.15                         N   \n",
       "32578                 0.46                         N   \n",
       "32579                 0.10                         N   \n",
       "32580                 0.15                         N   \n",
       "\n",
       "       cb_person_cred_hist_length  \n",
       "32576                          30  \n",
       "32577                          19  \n",
       "32578                          28  \n",
       "32579                          26  \n",
       "32580                          30  "
      ]
     },
     "execution_count": 4,
     "metadata": {},
     "output_type": "execute_result"
    }
   ],
   "source": [
    "data.tail()"
   ]
  },
  {
   "cell_type": "code",
   "execution_count": 5,
   "id": "cbbc9c58",
   "metadata": {
    "execution": {
     "iopub.execute_input": "2023-12-09T18:20:54.627976Z",
     "iopub.status.busy": "2023-12-09T18:20:54.627135Z",
     "iopub.status.idle": "2023-12-09T18:20:54.677365Z",
     "shell.execute_reply": "2023-12-09T18:20:54.676119Z"
    },
    "papermill": {
     "duration": 0.062427,
     "end_time": "2023-12-09T18:20:54.680043",
     "exception": false,
     "start_time": "2023-12-09T18:20:54.617616",
     "status": "completed"
    },
    "tags": []
   },
   "outputs": [
    {
     "data": {
      "text/html": [
       "<div>\n",
       "<style scoped>\n",
       "    .dataframe tbody tr th:only-of-type {\n",
       "        vertical-align: middle;\n",
       "    }\n",
       "\n",
       "    .dataframe tbody tr th {\n",
       "        vertical-align: top;\n",
       "    }\n",
       "\n",
       "    .dataframe thead th {\n",
       "        text-align: right;\n",
       "    }\n",
       "</style>\n",
       "<table border=\"1\" class=\"dataframe\">\n",
       "  <thead>\n",
       "    <tr style=\"text-align: right;\">\n",
       "      <th></th>\n",
       "      <th>person_age</th>\n",
       "      <th>person_income</th>\n",
       "      <th>person_emp_length</th>\n",
       "      <th>loan_amnt</th>\n",
       "      <th>loan_int_rate</th>\n",
       "      <th>loan_status</th>\n",
       "      <th>loan_percent_income</th>\n",
       "      <th>cb_person_cred_hist_length</th>\n",
       "    </tr>\n",
       "  </thead>\n",
       "  <tbody>\n",
       "    <tr>\n",
       "      <th>count</th>\n",
       "      <td>32581.000000</td>\n",
       "      <td>3.258100e+04</td>\n",
       "      <td>31686.000000</td>\n",
       "      <td>32581.000000</td>\n",
       "      <td>29465.000000</td>\n",
       "      <td>32581.000000</td>\n",
       "      <td>32581.000000</td>\n",
       "      <td>32581.000000</td>\n",
       "    </tr>\n",
       "    <tr>\n",
       "      <th>mean</th>\n",
       "      <td>27.734600</td>\n",
       "      <td>6.607485e+04</td>\n",
       "      <td>4.789686</td>\n",
       "      <td>9589.371106</td>\n",
       "      <td>11.011695</td>\n",
       "      <td>0.218164</td>\n",
       "      <td>0.170203</td>\n",
       "      <td>5.804211</td>\n",
       "    </tr>\n",
       "    <tr>\n",
       "      <th>std</th>\n",
       "      <td>6.348078</td>\n",
       "      <td>6.198312e+04</td>\n",
       "      <td>4.142630</td>\n",
       "      <td>6322.086646</td>\n",
       "      <td>3.240459</td>\n",
       "      <td>0.413006</td>\n",
       "      <td>0.106782</td>\n",
       "      <td>4.055001</td>\n",
       "    </tr>\n",
       "    <tr>\n",
       "      <th>min</th>\n",
       "      <td>20.000000</td>\n",
       "      <td>4.000000e+03</td>\n",
       "      <td>0.000000</td>\n",
       "      <td>500.000000</td>\n",
       "      <td>5.420000</td>\n",
       "      <td>0.000000</td>\n",
       "      <td>0.000000</td>\n",
       "      <td>2.000000</td>\n",
       "    </tr>\n",
       "    <tr>\n",
       "      <th>25%</th>\n",
       "      <td>23.000000</td>\n",
       "      <td>3.850000e+04</td>\n",
       "      <td>2.000000</td>\n",
       "      <td>5000.000000</td>\n",
       "      <td>7.900000</td>\n",
       "      <td>0.000000</td>\n",
       "      <td>0.090000</td>\n",
       "      <td>3.000000</td>\n",
       "    </tr>\n",
       "    <tr>\n",
       "      <th>50%</th>\n",
       "      <td>26.000000</td>\n",
       "      <td>5.500000e+04</td>\n",
       "      <td>4.000000</td>\n",
       "      <td>8000.000000</td>\n",
       "      <td>10.990000</td>\n",
       "      <td>0.000000</td>\n",
       "      <td>0.150000</td>\n",
       "      <td>4.000000</td>\n",
       "    </tr>\n",
       "    <tr>\n",
       "      <th>75%</th>\n",
       "      <td>30.000000</td>\n",
       "      <td>7.920000e+04</td>\n",
       "      <td>7.000000</td>\n",
       "      <td>12200.000000</td>\n",
       "      <td>13.470000</td>\n",
       "      <td>0.000000</td>\n",
       "      <td>0.230000</td>\n",
       "      <td>8.000000</td>\n",
       "    </tr>\n",
       "    <tr>\n",
       "      <th>max</th>\n",
       "      <td>144.000000</td>\n",
       "      <td>6.000000e+06</td>\n",
       "      <td>123.000000</td>\n",
       "      <td>35000.000000</td>\n",
       "      <td>23.220000</td>\n",
       "      <td>1.000000</td>\n",
       "      <td>0.830000</td>\n",
       "      <td>30.000000</td>\n",
       "    </tr>\n",
       "  </tbody>\n",
       "</table>\n",
       "</div>"
      ],
      "text/plain": [
       "         person_age  person_income  person_emp_length     loan_amnt  \\\n",
       "count  32581.000000   3.258100e+04       31686.000000  32581.000000   \n",
       "mean      27.734600   6.607485e+04           4.789686   9589.371106   \n",
       "std        6.348078   6.198312e+04           4.142630   6322.086646   \n",
       "min       20.000000   4.000000e+03           0.000000    500.000000   \n",
       "25%       23.000000   3.850000e+04           2.000000   5000.000000   \n",
       "50%       26.000000   5.500000e+04           4.000000   8000.000000   \n",
       "75%       30.000000   7.920000e+04           7.000000  12200.000000   \n",
       "max      144.000000   6.000000e+06         123.000000  35000.000000   \n",
       "\n",
       "       loan_int_rate   loan_status  loan_percent_income  \\\n",
       "count   29465.000000  32581.000000         32581.000000   \n",
       "mean       11.011695      0.218164             0.170203   \n",
       "std         3.240459      0.413006             0.106782   \n",
       "min         5.420000      0.000000             0.000000   \n",
       "25%         7.900000      0.000000             0.090000   \n",
       "50%        10.990000      0.000000             0.150000   \n",
       "75%        13.470000      0.000000             0.230000   \n",
       "max        23.220000      1.000000             0.830000   \n",
       "\n",
       "       cb_person_cred_hist_length  \n",
       "count                32581.000000  \n",
       "mean                     5.804211  \n",
       "std                      4.055001  \n",
       "min                      2.000000  \n",
       "25%                      3.000000  \n",
       "50%                      4.000000  \n",
       "75%                      8.000000  \n",
       "max                     30.000000  "
      ]
     },
     "execution_count": 5,
     "metadata": {},
     "output_type": "execute_result"
    }
   ],
   "source": [
    "data.describe()"
   ]
  },
  {
   "cell_type": "code",
   "execution_count": 6,
   "id": "ea4f75a0",
   "metadata": {
    "execution": {
     "iopub.execute_input": "2023-12-09T18:20:54.696813Z",
     "iopub.status.busy": "2023-12-09T18:20:54.696393Z",
     "iopub.status.idle": "2023-12-09T18:20:54.739339Z",
     "shell.execute_reply": "2023-12-09T18:20:54.738320Z"
    },
    "papermill": {
     "duration": 0.054869,
     "end_time": "2023-12-09T18:20:54.742431",
     "exception": false,
     "start_time": "2023-12-09T18:20:54.687562",
     "status": "completed"
    },
    "tags": []
   },
   "outputs": [
    {
     "name": "stdout",
     "output_type": "stream",
     "text": [
      "<class 'pandas.core.frame.DataFrame'>\n",
      "RangeIndex: 32581 entries, 0 to 32580\n",
      "Data columns (total 12 columns):\n",
      " #   Column                      Non-Null Count  Dtype  \n",
      "---  ------                      --------------  -----  \n",
      " 0   person_age                  32581 non-null  int64  \n",
      " 1   person_income               32581 non-null  int64  \n",
      " 2   person_home_ownership       32581 non-null  object \n",
      " 3   person_emp_length           31686 non-null  float64\n",
      " 4   loan_intent                 32581 non-null  object \n",
      " 5   loan_grade                  32581 non-null  object \n",
      " 6   loan_amnt                   32581 non-null  int64  \n",
      " 7   loan_int_rate               29465 non-null  float64\n",
      " 8   loan_status                 32581 non-null  int64  \n",
      " 9   loan_percent_income         32581 non-null  float64\n",
      " 10  cb_person_default_on_file   32581 non-null  object \n",
      " 11  cb_person_cred_hist_length  32581 non-null  int64  \n",
      "dtypes: float64(3), int64(5), object(4)\n",
      "memory usage: 3.0+ MB\n"
     ]
    }
   ],
   "source": [
    "data.info()"
   ]
  },
  {
   "cell_type": "code",
   "execution_count": 7,
   "id": "40c8a52d",
   "metadata": {
    "execution": {
     "iopub.execute_input": "2023-12-09T18:20:54.760650Z",
     "iopub.status.busy": "2023-12-09T18:20:54.759421Z",
     "iopub.status.idle": "2023-12-09T18:20:54.785716Z",
     "shell.execute_reply": "2023-12-09T18:20:54.784512Z"
    },
    "papermill": {
     "duration": 0.03822,
     "end_time": "2023-12-09T18:20:54.788616",
     "exception": false,
     "start_time": "2023-12-09T18:20:54.750396",
     "status": "completed"
    },
    "tags": []
   },
   "outputs": [
    {
     "data": {
      "text/plain": [
       "person_age                       0\n",
       "person_income                    0\n",
       "person_home_ownership            0\n",
       "person_emp_length              895\n",
       "loan_intent                      0\n",
       "loan_grade                       0\n",
       "loan_amnt                        0\n",
       "loan_int_rate                 3116\n",
       "loan_status                      0\n",
       "loan_percent_income              0\n",
       "cb_person_default_on_file        0\n",
       "cb_person_cred_hist_length       0\n",
       "dtype: int64"
      ]
     },
     "execution_count": 7,
     "metadata": {},
     "output_type": "execute_result"
    }
   ],
   "source": [
    "data.isnull().sum()"
   ]
  },
  {
   "cell_type": "code",
   "execution_count": 8,
   "id": "f6ca546a",
   "metadata": {
    "execution": {
     "iopub.execute_input": "2023-12-09T18:20:54.807353Z",
     "iopub.status.busy": "2023-12-09T18:20:54.806923Z",
     "iopub.status.idle": "2023-12-09T18:20:54.833862Z",
     "shell.execute_reply": "2023-12-09T18:20:54.832600Z"
    },
    "papermill": {
     "duration": 0.039787,
     "end_time": "2023-12-09T18:20:54.836984",
     "exception": false,
     "start_time": "2023-12-09T18:20:54.797197",
     "status": "completed"
    },
    "tags": []
   },
   "outputs": [
    {
     "data": {
      "text/plain": [
       "person_age                      58\n",
       "person_income                 4295\n",
       "person_home_ownership            4\n",
       "person_emp_length               36\n",
       "loan_intent                      6\n",
       "loan_grade                       7\n",
       "loan_amnt                      753\n",
       "loan_int_rate                  348\n",
       "loan_status                      2\n",
       "loan_percent_income             77\n",
       "cb_person_default_on_file        2\n",
       "cb_person_cred_hist_length      29\n",
       "dtype: int64"
      ]
     },
     "execution_count": 8,
     "metadata": {},
     "output_type": "execute_result"
    }
   ],
   "source": [
    "data.nunique()"
   ]
  },
  {
   "cell_type": "code",
   "execution_count": 9,
   "id": "8dd6dab5",
   "metadata": {
    "execution": {
     "iopub.execute_input": "2023-12-09T18:20:54.855275Z",
     "iopub.status.busy": "2023-12-09T18:20:54.854867Z",
     "iopub.status.idle": "2023-12-09T18:20:54.884758Z",
     "shell.execute_reply": "2023-12-09T18:20:54.883554Z"
    },
    "papermill": {
     "duration": 0.041846,
     "end_time": "2023-12-09T18:20:54.887274",
     "exception": false,
     "start_time": "2023-12-09T18:20:54.845428",
     "status": "completed"
    },
    "tags": []
   },
   "outputs": [
    {
     "data": {
      "text/plain": [
       "165"
      ]
     },
     "execution_count": 9,
     "metadata": {},
     "output_type": "execute_result"
    }
   ],
   "source": [
    "data.duplicated().sum()"
   ]
  },
  {
   "cell_type": "code",
   "execution_count": 10,
   "id": "d0184fbe",
   "metadata": {
    "execution": {
     "iopub.execute_input": "2023-12-09T18:20:54.905283Z",
     "iopub.status.busy": "2023-12-09T18:20:54.904616Z",
     "iopub.status.idle": "2023-12-09T18:20:54.926370Z",
     "shell.execute_reply": "2023-12-09T18:20:54.925437Z"
    },
    "papermill": {
     "duration": 0.033982,
     "end_time": "2023-12-09T18:20:54.929112",
     "exception": false,
     "start_time": "2023-12-09T18:20:54.895130",
     "status": "completed"
    },
    "tags": []
   },
   "outputs": [],
   "source": [
    "data.dropna(axis=0,inplace=True)"
   ]
  },
  {
   "cell_type": "code",
   "execution_count": 11,
   "id": "376b3dd2",
   "metadata": {
    "execution": {
     "iopub.execute_input": "2023-12-09T18:20:54.947755Z",
     "iopub.status.busy": "2023-12-09T18:20:54.946616Z",
     "iopub.status.idle": "2023-12-09T18:20:54.970597Z",
     "shell.execute_reply": "2023-12-09T18:20:54.968931Z"
    },
    "papermill": {
     "duration": 0.036328,
     "end_time": "2023-12-09T18:20:54.973637",
     "exception": false,
     "start_time": "2023-12-09T18:20:54.937309",
     "status": "completed"
    },
    "tags": []
   },
   "outputs": [
    {
     "data": {
      "text/plain": [
       "person_age                    0\n",
       "person_income                 0\n",
       "person_home_ownership         0\n",
       "person_emp_length             0\n",
       "loan_intent                   0\n",
       "loan_grade                    0\n",
       "loan_amnt                     0\n",
       "loan_int_rate                 0\n",
       "loan_status                   0\n",
       "loan_percent_income           0\n",
       "cb_person_default_on_file     0\n",
       "cb_person_cred_hist_length    0\n",
       "dtype: int64"
      ]
     },
     "execution_count": 11,
     "metadata": {},
     "output_type": "execute_result"
    }
   ],
   "source": [
    "data.isnull().sum()"
   ]
  },
  {
   "cell_type": "markdown",
   "id": "20ef5ac3",
   "metadata": {
    "papermill": {
     "duration": 0.007832,
     "end_time": "2023-12-09T18:20:54.989968",
     "exception": false,
     "start_time": "2023-12-09T18:20:54.982136",
     "status": "completed"
    },
    "tags": []
   },
   "source": [
    "# **Looking for outliers and dealing with them**"
   ]
  },
  {
   "cell_type": "code",
   "execution_count": 12,
   "id": "d863b55b",
   "metadata": {
    "execution": {
     "iopub.execute_input": "2023-12-09T18:20:55.009335Z",
     "iopub.status.busy": "2023-12-09T18:20:55.008931Z",
     "iopub.status.idle": "2023-12-09T18:20:55.024046Z",
     "shell.execute_reply": "2023-12-09T18:20:55.022509Z"
    },
    "papermill": {
     "duration": 0.028529,
     "end_time": "2023-12-09T18:20:55.026608",
     "exception": false,
     "start_time": "2023-12-09T18:20:54.998079",
     "status": "completed"
    },
    "tags": []
   },
   "outputs": [
    {
     "name": "stdout",
     "output_type": "stream",
     "text": [
      "The maximum Age 144\n",
      "The minimum Age 20\n",
      "Peple with age between 1 and 18: 0\n",
      "Peple with age between 19 and 26: 15682\n",
      "Peple with age between 27 and 36: 10422\n",
      "Peple with age between 37 and 46: 2054\n",
      "Peple with age between 47 and 56: 372\n",
      "Peple with age between 57 and 66: 87\n"
     ]
    }
   ],
   "source": [
    "max_age = data['person_age'].max()\n",
    "min_age = data['person_age'].min()\n",
    "print(f\"The maximum Age {max_age}\")\n",
    "print(f\"The minimum Age {min_age}\")\n",
    "\n",
    "# people with an age between x and y\n",
    "def age_group(arr):\n",
    "    lenarr = len(arr)\n",
    "    for i in range(0,lenarr-1):\n",
    "        next = arr[i]+1\n",
    "        num_people = data['person_age'].between(next,arr[i+1]).sum()\n",
    "        print(f'Peple with age between {next} and {arr[i+1]}: {num_people}')\n",
    "        \n",
    "age_group([0 ,18, 26, 36, 46, 56, 66])\n"
   ]
  }
 ],
 "metadata": {
  "kaggle": {
   "accelerator": "none",
   "dataSources": [
    {
     "datasetId": 4103569,
     "sourceId": 7115609,
     "sourceType": "datasetVersion"
    }
   ],
   "dockerImageVersionId": 30587,
   "isGpuEnabled": false,
   "isInternetEnabled": true,
   "language": "python",
   "sourceType": "notebook"
  },
  "kernelspec": {
   "display_name": "Python 3",
   "language": "python",
   "name": "python3"
  },
  "language_info": {
   "codemirror_mode": {
    "name": "ipython",
    "version": 3
   },
   "file_extension": ".py",
   "mimetype": "text/x-python",
   "name": "python",
   "nbconvert_exporter": "python",
   "pygments_lexer": "ipython3",
   "version": "3.10.12"
  },
  "papermill": {
   "default_parameters": {},
   "duration": 6.468039,
   "end_time": "2023-12-09T18:20:55.557762",
   "environment_variables": {},
   "exception": null,
   "input_path": "__notebook__.ipynb",
   "output_path": "__notebook__.ipynb",
   "parameters": {},
   "start_time": "2023-12-09T18:20:49.089723",
   "version": "2.4.0"
  }
 },
 "nbformat": 4,
 "nbformat_minor": 5
}
